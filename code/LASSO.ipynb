{
 "cells": [
  {
   "cell_type": "code",
   "execution_count": 2,
   "id": "066af437-b058-482d-8a48-f91d8a8f5e5e",
   "metadata": {},
   "outputs": [],
   "source": [
    "from sklearn.model_selection import train_test_split\n",
    "from sklearn.linear_model import LassoCV\n",
    "from sklearn.metrics import mean_squared_error\n",
    "import numpy as np\n",
    "import pandas as pd"
   ]
  },
  {
   "cell_type": "code",
   "execution_count": null,
   "id": "2f99e2c0-2568-4e8a-8dfa-c31e19dbad7e",
   "metadata": {},
   "outputs": [],
   "source": [
    "data = pd.read_csv('C:/Users/hongz/Downloads/choices13k-main/problems.csv')\n",
    "\n",
    "# Assuming 'data' is the DataFrame containing the dataset\n",
    "# Extracting the Y variable ('errors') and X variables (from 'State' to 'ProbDiffSqr')\n",
    "Y = data['errors']\n",
    "X = data.loc[:, 'State':'ProbDiffSqr']"
   ]
  },
  {
   "cell_type": "code",
   "execution_count": null,
   "id": "0552313b-4bb6-4077-b47a-0455bebf2c83",
   "metadata": {},
   "outputs": [],
   "source": [
    "# Check for infinite values\n",
    "if np.any(np.isinf(X)) or np.any(np.isnan(X)):\n",
    "    print(\"Data contains infinite or NaN values\")"
   ]
  },
  {
   "cell_type": "code",
   "execution_count": 3,
   "id": "5c397d2b-4dc7-456e-a87c-4b3449bbdfcb",
   "metadata": {},
   "outputs": [
    {
     "name": "stdout",
     "output_type": "stream",
     "text": [
      "Data is clean\n"
     ]
    }
   ],
   "source": [
    "# Replace infinite values with nan\n",
    "X = np.where(np.isinf(X), np.nan, X)\n",
    "\n",
    "# Option 1: Remove rows with NaN values\n",
    "X_cleaned = X[~np.isnan(X).any(axis=1)]\n",
    "\n",
    "# Option 2: Replace NaN values with the mean of each column\n",
    "col_mean = np.nanmean(X, axis=0)\n",
    "inds = np.where(np.isnan(X))\n",
    "X[inds] = np.take(col_mean, inds[1])\n",
    "\n",
    "if not np.any(np.isinf(X)) and not np.any(np.isnan(X)):\n",
    "    print(\"Data is clean\")"
   ]
  },
  {
   "cell_type": "code",
   "execution_count": 23,
   "id": "af8eb2f3-80fd-4790-b30c-b07f4ef4a7f6",
   "metadata": {},
   "outputs": [],
   "source": [
    "X_train.to_csv('kdjd.csv')"
   ]
  },
  {
   "cell_type": "code",
   "execution_count": 24,
   "id": "784887a8-dab6-43ad-9806-5b2f915a3877",
   "metadata": {},
   "outputs": [],
   "source": [
    "Y_train.to_csv('kdd.csv')"
   ]
  },
  {
   "cell_type": "code",
   "execution_count": 25,
   "id": "24a99d2f-4d13-4b06-9c60-fe3f4e9926ec",
   "metadata": {},
   "outputs": [],
   "source": [
    "X_test.to_csv('kjd.csv')"
   ]
  },
  {
   "cell_type": "code",
   "execution_count": 26,
   "id": "3d40cbf1-33ed-4afe-a470-e452488fa115",
   "metadata": {},
   "outputs": [],
   "source": [
    "Y_test.to_csv('kd.csv')"
   ]
  },
  {
   "cell_type": "code",
   "execution_count": null,
   "id": "6808e534-e071-4bcc-8faf-cf1e220179d8",
   "metadata": {},
   "outputs": [],
   "source": []
  },
  {
   "cell_type": "code",
   "execution_count": 14,
   "id": "198e2fd0-de98-4a33-8dba-096b1aa3f821",
   "metadata": {},
   "outputs": [
    {
     "name": "stdout",
     "output_type": "stream",
     "text": [
      "Best alpha using LassoCV: 1040.2228252828427\n",
      "Lasso coefficients: [ 0.00000000e+00  0.00000000e+00  0.00000000e+00 -0.00000000e+00\n",
      " -0.00000000e+00  0.00000000e+00  0.00000000e+00  0.00000000e+00\n",
      " -0.00000000e+00  0.00000000e+00  0.00000000e+00  0.00000000e+00\n",
      "  0.00000000e+00  0.00000000e+00  0.00000000e+00  0.00000000e+00\n",
      "  0.00000000e+00  0.00000000e+00  0.00000000e+00  0.00000000e+00\n",
      "  0.00000000e+00  0.00000000e+00  0.00000000e+00  0.00000000e+00\n",
      "  0.00000000e+00  6.09333185e-09  0.00000000e+00  0.00000000e+00\n",
      "  0.00000000e+00  0.00000000e+00  0.00000000e+00  4.04883662e-09\n",
      " -0.00000000e+00 -0.00000000e+00  0.00000000e+00  0.00000000e+00\n",
      "  0.00000000e+00  0.00000000e+00  0.00000000e+00  0.00000000e+00\n",
      "  0.00000000e+00  0.00000000e+00  0.00000000e+00  0.00000000e+00\n",
      "  0.00000000e+00  0.00000000e+00  0.00000000e+00  0.00000000e+00\n",
      "  0.00000000e+00  0.00000000e+00  0.00000000e+00  0.00000000e+00\n",
      "  0.00000000e+00  0.00000000e+00]\n",
      "Mean Squared Error on Test Set: 0.032281742358297255\n"
     ]
    }
   ],
   "source": [
    "# Splitting the data into a train set (75%) and a test set (25%)\n",
    "X_train, X_test, Y_train, Y_test = train_test_split(X, Y, test_size=0.25, random_state=42)\n",
    "\n",
    "# Using LassoCV to find the best alpha (penalty parameter) that minimizes the mean squared error\n",
    "lasso = LassoCV(cv=5, random_state=42).fit(X_train, Y_train)\n",
    "\n",
    "# Display the best alpha value found\n",
    "print(f\"Best alpha using LassoCV: {lasso.alpha_}\")\n",
    "\n",
    "# Coefficients of the model\n",
    "print(f\"Lasso coefficients: {lasso.coef_}\")\n",
    "\n",
    "# Predicting on the test set\n",
    "Y_pred = lasso.predict(X_test)\n",
    "\n",
    "# Calculating the mean squared error on the test set\n",
    "mse = mean_squared_error(Y_test, Y_pred)\n",
    "print(f\"Mean Squared Error on Test Set: {mse}\")\n",
    "\n",
    "# Identifying non-zero coefficients (features) - ensuring X is treated as DataFrame\n",
    "non_zero_indices = lasso.coef_ != 0  # This creates a boolean mask\n"
   ]
  },
  {
   "cell_type": "code",
   "execution_count": 22,
   "id": "50aea758-b64c-4be3-bb93-c6527add99ab",
   "metadata": {},
   "outputs": [
    {
     "name": "stdout",
     "output_type": "stream",
     "text": [
      "Features with non-zero coefficients: [25, 31]\n"
     ]
    }
   ],
   "source": [
    "X_train = pd.DataFrame(X_train)\n",
    "X_test = pd.DataFrame(X_test)\n",
    "non_zero_features = X_train.columns[non_zero_indices]  # Apply the mask to the columns of the training DataFrame\n",
    "print(f\"Features with non-zero coefficients: {list(non_zero_features)}\")"
   ]
  },
  {
   "cell_type": "code",
   "execution_count": 16,
   "id": "0e7e47cf-d6d5-4746-a3c1-2bc810d73980",
   "metadata": {},
   "outputs": [
    {
     "name": "stdout",
     "output_type": "stream",
     "text": [
      "Explained Variance Score: 0.03611752861407891\n"
     ]
    }
   ],
   "source": [
    "from sklearn.metrics import explained_variance_score\n",
    "\n",
    "# Calculating the explained variance score\n",
    "explained_variance = explained_variance_score(Y_test, Y_pred)\n",
    "\n",
    "print(f\"Explained Variance Score: {explained_variance}\")\n"
   ]
  },
  {
   "cell_type": "code",
   "execution_count": 29,
   "id": "c755fe0a-297f-406c-bd9d-8df9a289fd86",
   "metadata": {},
   "outputs": [
    {
     "data": {
      "text/plain": [
       "0.026105723322867425"
      ]
     },
     "execution_count": 29,
     "metadata": {},
     "output_type": "execute_result"
    }
   ],
   "source": [
    "lasso.score(X_train,Y_train)"
   ]
  },
  {
   "cell_type": "code",
   "execution_count": null,
   "id": "4a66be29-2557-4065-89d2-3cc82f998467",
   "metadata": {},
   "outputs": [],
   "source": []
  },
  {
   "cell_type": "code",
   "execution_count": 34,
   "id": "9773deca-0d97-4fd0-85e2-472edc05f2b2",
   "metadata": {},
   "outputs": [
    {
     "ename": "AttributeError",
     "evalue": "'LinearRegression' object has no attribute 'summary'",
     "output_type": "error",
     "traceback": [
      "\u001b[1;31m---------------------------------------------------------------------------\u001b[0m",
      "\u001b[1;31mAttributeError\u001b[0m                            Traceback (most recent call last)",
      "Cell \u001b[1;32mIn[34], line 8\u001b[0m\n\u001b[0;32m      4\u001b[0m results \u001b[38;5;241m=\u001b[39m model\u001b[38;5;241m.\u001b[39mfit(X,Y)\n\u001b[0;32m      6\u001b[0m beta_coeffs \u001b[38;5;241m=\u001b[39m model\u001b[38;5;241m.\u001b[39mcoef_\n\u001b[1;32m----> 8\u001b[0m \u001b[38;5;28mprint\u001b[39m(\u001b[43mresults\u001b[49m\u001b[38;5;241;43m.\u001b[39;49m\u001b[43msummary\u001b[49m())\n",
      "\u001b[1;31mAttributeError\u001b[0m: 'LinearRegression' object has no attribute 'summary'"
     ]
    }
   ],
   "source": [
    "from sklearn.linear_model import LinearRegression\n",
    "\n",
    "model = LinearRegression()\n",
    "results = model.fit(X,Y)\n",
    "\n",
    "beta_coeffs = model.coef_\n",
    "\n",
    "print(results.summary())"
   ]
  },
  {
   "cell_type": "code",
   "execution_count": 35,
   "id": "7402209a-0109-4fd2-b362-2e1216cdff68",
   "metadata": {},
   "outputs": [
    {
     "name": "stdout",
     "output_type": "stream",
     "text": [
      "                            OLS Regression Results                            \n",
      "==============================================================================\n",
      "Dep. Variable:                 errors   R-squared:                       0.215\n",
      "Model:                            OLS   Adj. R-squared:                  0.213\n",
      "Method:                 Least Squares   F-statistic:                     82.97\n",
      "Date:                Thu, 04 Apr 2024   Prob (F-statistic):               0.00\n",
      "Time:                        16:45:06   Log-Likelihood:                 5878.2\n",
      "No. Observations:               14568   AIC:                        -1.166e+04\n",
      "Df Residuals:                   14519   BIC:                        -1.129e+04\n",
      "Df Model:                          48                                         \n",
      "Covariance Type:            nonrobust                                         \n",
      "==============================================================================\n",
      "                 coef    std err          t      P>|t|      [0.025      0.975]\n",
      "------------------------------------------------------------------------------\n",
      "x1            -0.0018      0.013     -0.139      0.889      -0.027       0.024\n",
      "const          0.0219      0.026      0.846      0.397      -0.029       0.072\n",
      "x2            -0.0237      0.014     -1.718      0.086      -0.051       0.003\n",
      "x3             0.0088      0.006      1.530      0.126      -0.002       0.020\n",
      "x4            -0.0070      0.007     -0.967      0.333      -0.021       0.007\n",
      "x5             0.0092      0.006      1.621      0.105      -0.002       0.020\n",
      "x6         -6.227e-05      0.001     -0.117      0.907      -0.001       0.001\n",
      "x7          6.599e-06   1.68e-05      0.392      0.695   -2.64e-05    3.96e-05\n",
      "x8            -0.4629      0.418     -1.108      0.268      -1.282       0.356\n",
      "x9             0.0007      0.001      0.719      0.472      -0.001       0.002\n",
      "x10           -0.0288      0.032     -0.897      0.370      -0.092       0.034\n",
      "x11            0.0045      0.001      4.146      0.000       0.002       0.007\n",
      "x12         2.258e-05   1.25e-05      1.805      0.071   -1.94e-06    4.71e-05\n",
      "x13           -0.4665      0.241     -1.940      0.052      -0.938       0.005\n",
      "x14           -0.0032      0.003     -1.046      0.296      -0.009       0.003\n",
      "x15           -0.0118      0.004     -2.710      0.007      -0.020      -0.003\n",
      "x16            0.0351      0.005      7.406      0.000       0.026       0.044\n",
      "x17            0.0009      0.001      1.401      0.161      -0.000       0.002\n",
      "x18            0.0725      0.029      2.509      0.012       0.016       0.129\n",
      "x19            0.0059      0.004      1.529      0.126      -0.002       0.014\n",
      "x20            0.0021      0.000      4.488      0.000       0.001       0.003\n",
      "x21           -0.0088      0.065     -0.135      0.893      -0.136       0.119\n",
      "x22         2.437e-14   8.39e-15      2.905      0.004    7.92e-15    4.08e-14\n",
      "x23        -8.293e-14   7.12e-14     -1.164      0.244   -2.23e-13    5.67e-14\n",
      "x24            0.1113      0.051      2.174      0.030       0.011       0.212\n",
      "x25         -1.82e-08   5.02e-09     -3.626      0.000    -2.8e-08   -8.36e-09\n",
      "x26            0.2373      0.024      9.839      0.000       0.190       0.285\n",
      "x27        -5.134e-06   1.87e-06     -2.751      0.006   -8.79e-06   -1.48e-06\n",
      "x28           -0.0144      0.011     -1.257      0.209      -0.037       0.008\n",
      "x29         1.648e-08    5.1e-09      3.232      0.001    6.49e-09    2.65e-08\n",
      "x30           -0.1287      0.011    -11.548      0.000      -0.151      -0.107\n",
      "x31         7.583e-09   2.95e-09      2.574      0.010    1.81e-09    1.34e-08\n",
      "x32           -0.0020      0.008     -0.264      0.792      -0.017       0.013\n",
      "x33           -1.7082      1.248     -1.368      0.171      -4.155       0.739\n",
      "x34            0.1546      0.025      6.077      0.000       0.105       0.205\n",
      "x35         1.156e-06   7.85e-06      0.147      0.883   -1.42e-05    1.66e-05\n",
      "x36            0.0259      0.019      1.327      0.185      -0.012       0.064\n",
      "x37            0.3411      0.368      0.926      0.354      -0.381       1.063\n",
      "x38            0.0074      0.007      1.021      0.307      -0.007       0.022\n",
      "x39         1.448e-05      0.000      0.106      0.916      -0.000       0.000\n",
      "x40           -0.0546      0.025     -2.151      0.031      -0.104      -0.005\n",
      "x41            0.0091      0.009      1.014      0.310      -0.008       0.027\n",
      "x42            0.0315      0.006      4.994      0.000       0.019       0.044\n",
      "x43            0.0006      0.000      2.221      0.026    6.69e-05       0.001\n",
      "x44            0.0526      0.012      4.459      0.000       0.029       0.076\n",
      "x45           -0.0026      0.001     -5.180      0.000      -0.004      -0.002\n",
      "x46           -0.0964      0.007    -14.134      0.000      -0.110      -0.083\n",
      "x47        -3.768e-05   1.06e-05     -3.549      0.000   -5.85e-05   -1.69e-05\n",
      "x48        -6.593e-05      0.001     -0.074      0.941      -0.002       0.002\n",
      "x49        -2.132e-05   1.15e-05     -1.848      0.065   -4.39e-05     1.3e-06\n",
      "x50           -0.0257      0.007     -3.509      0.000      -0.040      -0.011\n",
      "x51        -6.909e-06   4.92e-06     -1.404      0.160   -1.66e-05    2.74e-06\n",
      "x52            0.0499      0.014      3.608      0.000       0.023       0.077\n",
      "x53            0.0075      0.021      0.356      0.722      -0.034       0.049\n",
      "==============================================================================\n",
      "Omnibus:                      443.185   Durbin-Watson:                   1.866\n",
      "Prob(Omnibus):                  0.000   Jarque-Bera (JB):              485.535\n",
      "Skew:                           0.432   Prob(JB):                    3.69e-106\n",
      "Kurtosis:                       3.231   Cond. No.                     1.08e+16\n",
      "==============================================================================\n",
      "\n",
      "Notes:\n",
      "[1] Standard Errors assume that the covariance matrix of the errors is correctly specified.\n",
      "[2] The smallest eigenvalue is 4.18e-15. This might indicate that there are\n",
      "strong multicollinearity problems or that the design matrix is singular.\n"
     ]
    }
   ],
   "source": [
    "import statsmodels.api as sm\n",
    "\n",
    "# Adding a constant term for the intercept\n",
    "X_with_constant = sm.add_constant(X)\n",
    "\n",
    "# Fitting the model\n",
    "model = sm.OLS(Y, X_with_constant)\n",
    "results = model.fit()\n",
    "\n",
    "# Printing the summary\n",
    "print(results.summary())\n"
   ]
  },
  {
   "cell_type": "code",
   "execution_count": null,
   "id": "85a4c217-35d4-4c62-be35-14c205d45707",
   "metadata": {},
   "outputs": [],
   "source": []
  }
 ],
 "metadata": {
  "kernelspec": {
   "display_name": "Python 3 (ipykernel)",
   "language": "python",
   "name": "python3"
  },
  "language_info": {
   "codemirror_mode": {
    "name": "ipython",
    "version": 3
   },
   "file_extension": ".py",
   "mimetype": "text/x-python",
   "name": "python",
   "nbconvert_exporter": "python",
   "pygments_lexer": "ipython3",
   "version": "3.9.12"
  }
 },
 "nbformat": 4,
 "nbformat_minor": 5
}
