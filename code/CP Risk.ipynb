{
 "cells": [
  {
   "cell_type": "code",
   "execution_count": 57,
   "id": "080de1f7-1ed0-45f8-806c-09849a508ed6",
   "metadata": {},
   "outputs": [],
   "source": [
    "import numpy as np\n",
    "import pandas as pd\n",
    "from sklearn.linear_model import LinearRegression, LassoCV\n",
    "from sklearn.model_selection import GroupKFold\n",
    "from sklearn.model_selection import train_test_split, KFold, cross_val_score\n",
    "from sklearn.preprocessing import StandardScaler\n",
    "from sklearn.pipeline import Pipeline\n",
    "from sklearn.metrics import r2_score, mean_squared_error\n",
    "\n",
    "import warnings\n",
    "warnings.filterwarnings('ignore')"
   ]
  },
  {
   "cell_type": "code",
   "execution_count": 58,
   "id": "1d8b0924-42e9-46d2-b49c-79d660337909",
   "metadata": {},
   "outputs": [
    {
     "data": {
      "text/html": [
       "<div>\n",
       "<style scoped>\n",
       "    .dataframe tbody tr th:only-of-type {\n",
       "        vertical-align: middle;\n",
       "    }\n",
       "\n",
       "    .dataframe tbody tr th {\n",
       "        vertical-align: top;\n",
       "    }\n",
       "\n",
       "    .dataframe thead th {\n",
       "        text-align: right;\n",
       "    }\n",
       "</style>\n",
       "<table border=\"1\" class=\"dataframe\">\n",
       "  <thead>\n",
       "    <tr style=\"text-align: right;\">\n",
       "      <th></th>\n",
       "      <th>subject_id</th>\n",
       "      <th>graph_id</th>\n",
       "      <th>time</th>\n",
       "      <th>click</th>\n",
       "      <th>risk</th>\n",
       "      <th>forecast</th>\n",
       "      <th>confidence</th>\n",
       "      <th>investment</th>\n",
       "      <th>reason_risky</th>\n",
       "      <th>reason_confidence</th>\n",
       "      <th>...</th>\n",
       "      <th>gender_ind</th>\n",
       "      <th>employment_ind</th>\n",
       "      <th>education_ind</th>\n",
       "      <th>income_ind</th>\n",
       "      <th>statistics_ind</th>\n",
       "      <th>risk-taking_ind</th>\n",
       "      <th>stock knowledge_ind</th>\n",
       "      <th>frequency _ind</th>\n",
       "      <th>history_ind</th>\n",
       "      <th>technical_ind</th>\n",
       "    </tr>\n",
       "  </thead>\n",
       "  <tbody>\n",
       "    <tr>\n",
       "      <th>0</th>\n",
       "      <td>5fbb4426e47b46c3e2eeb544</td>\n",
       "      <td>156</td>\n",
       "      <td>11.550</td>\n",
       "      <td>6</td>\n",
       "      <td>6</td>\n",
       "      <td>112</td>\n",
       "      <td>62</td>\n",
       "      <td>59</td>\n",
       "      <td>NaN</td>\n",
       "      <td>NaN</td>\n",
       "      <td>...</td>\n",
       "      <td>0</td>\n",
       "      <td>0</td>\n",
       "      <td>1</td>\n",
       "      <td>1</td>\n",
       "      <td>0</td>\n",
       "      <td>0</td>\n",
       "      <td>0</td>\n",
       "      <td>0</td>\n",
       "      <td>0</td>\n",
       "      <td>0</td>\n",
       "    </tr>\n",
       "    <tr>\n",
       "      <th>1</th>\n",
       "      <td>65981b2c1df3be0020afa351</td>\n",
       "      <td>154</td>\n",
       "      <td>57.601</td>\n",
       "      <td>10</td>\n",
       "      <td>8</td>\n",
       "      <td>95</td>\n",
       "      <td>14</td>\n",
       "      <td>9</td>\n",
       "      <td>The ones that had big dips in them.</td>\n",
       "      <td>A lot of them. Only because I'm slowly trying ...</td>\n",
       "      <td>...</td>\n",
       "      <td>0</td>\n",
       "      <td>1</td>\n",
       "      <td>0</td>\n",
       "      <td>0</td>\n",
       "      <td>1</td>\n",
       "      <td>1</td>\n",
       "      <td>0</td>\n",
       "      <td>1</td>\n",
       "      <td>0</td>\n",
       "      <td>0</td>\n",
       "    </tr>\n",
       "    <tr>\n",
       "      <th>2</th>\n",
       "      <td>655791684bb1c5db02826d17</td>\n",
       "      <td>192</td>\n",
       "      <td>48.958</td>\n",
       "      <td>16</td>\n",
       "      <td>7</td>\n",
       "      <td>91</td>\n",
       "      <td>100</td>\n",
       "      <td>51</td>\n",
       "      <td>If it fluctuates more than 20% within 12 months.</td>\n",
       "      <td>With a $3 investment I do not feel unconfident...</td>\n",
       "      <td>...</td>\n",
       "      <td>0</td>\n",
       "      <td>1</td>\n",
       "      <td>1</td>\n",
       "      <td>1</td>\n",
       "      <td>0</td>\n",
       "      <td>1</td>\n",
       "      <td>0</td>\n",
       "      <td>1</td>\n",
       "      <td>1</td>\n",
       "      <td>0</td>\n",
       "    </tr>\n",
       "    <tr>\n",
       "      <th>3</th>\n",
       "      <td>62ddbd7eb3e9431e49b46ec1</td>\n",
       "      <td>182</td>\n",
       "      <td>49.950</td>\n",
       "      <td>11</td>\n",
       "      <td>8</td>\n",
       "      <td>115</td>\n",
       "      <td>79</td>\n",
       "      <td>60</td>\n",
       "      <td>NaN</td>\n",
       "      <td>NaN</td>\n",
       "      <td>...</td>\n",
       "      <td>1</td>\n",
       "      <td>1</td>\n",
       "      <td>1</td>\n",
       "      <td>0</td>\n",
       "      <td>1</td>\n",
       "      <td>1</td>\n",
       "      <td>0</td>\n",
       "      <td>0</td>\n",
       "      <td>0</td>\n",
       "      <td>0</td>\n",
       "    </tr>\n",
       "    <tr>\n",
       "      <th>4</th>\n",
       "      <td>5fb13091b87dfd5888f73e05</td>\n",
       "      <td>180</td>\n",
       "      <td>45.070</td>\n",
       "      <td>8</td>\n",
       "      <td>5</td>\n",
       "      <td>93</td>\n",
       "      <td>20</td>\n",
       "      <td>0</td>\n",
       "      <td>Those that have big drops.</td>\n",
       "      <td>When they are inconsistent and up and down on ...</td>\n",
       "      <td>...</td>\n",
       "      <td>0</td>\n",
       "      <td>0</td>\n",
       "      <td>0</td>\n",
       "      <td>0</td>\n",
       "      <td>0</td>\n",
       "      <td>1</td>\n",
       "      <td>0</td>\n",
       "      <td>1</td>\n",
       "      <td>1</td>\n",
       "      <td>0</td>\n",
       "    </tr>\n",
       "  </tbody>\n",
       "</table>\n",
       "<p>5 rows × 106 columns</p>\n",
       "</div>"
      ],
      "text/plain": [
       "                 subject_id  graph_id    time  click  risk  forecast  \\\n",
       "0  5fbb4426e47b46c3e2eeb544       156  11.550      6     6       112   \n",
       "1  65981b2c1df3be0020afa351       154  57.601     10     8        95   \n",
       "2  655791684bb1c5db02826d17       192  48.958     16     7        91   \n",
       "3  62ddbd7eb3e9431e49b46ec1       182  49.950     11     8       115   \n",
       "4  5fb13091b87dfd5888f73e05       180  45.070      8     5        93   \n",
       "\n",
       "   confidence  investment                                      reason_risky  \\\n",
       "0          62          59                                               NaN   \n",
       "1          14           9               The ones that had big dips in them.   \n",
       "2         100          51  If it fluctuates more than 20% within 12 months.   \n",
       "3          79          60                                               NaN   \n",
       "4          20           0                        Those that have big drops.   \n",
       "\n",
       "                                   reason_confidence  ...  gender_ind  \\\n",
       "0                                                NaN  ...           0   \n",
       "1  A lot of them. Only because I'm slowly trying ...  ...           0   \n",
       "2  With a $3 investment I do not feel unconfident...  ...           0   \n",
       "3                                                NaN  ...           1   \n",
       "4  When they are inconsistent and up and down on ...  ...           0   \n",
       "\n",
       "   employment_ind  education_ind  income_ind  statistics_ind  risk-taking_ind  \\\n",
       "0               0              1           1               0                0   \n",
       "1               1              0           0               1                1   \n",
       "2               1              1           1               0                1   \n",
       "3               1              1           0               1                1   \n",
       "4               0              0           0               0                1   \n",
       "\n",
       "   stock knowledge_ind  frequency _ind  history_ind  technical_ind  \n",
       "0                    0               0            0              0  \n",
       "1                    0               1            0              0  \n",
       "2                    0               1            1              0  \n",
       "3                    0               0            0              0  \n",
       "4                    0               1            1              0  \n",
       "\n",
       "[5 rows x 106 columns]"
      ]
     },
     "execution_count": 58,
     "metadata": {},
     "output_type": "execute_result"
    }
   ],
   "source": [
    "data = pd.read_csv(\"C:/Users/hongz/Downloads/choices13k-main/reg_data_main2.csv\")\n",
    "# Modify graph_id as specified\n",
    "data['graph_id'] = data['graph_id'] + 100 * data['reshuffle_ind']\n",
    "data.head()"
   ]
  },
  {
   "cell_type": "markdown",
   "id": "6498d5a9-bb3d-4ecc-81e0-3ca037022d8b",
   "metadata": {},
   "source": [
    "## Transforming subject_id"
   ]
  },
  {
   "cell_type": "code",
   "execution_count": 59,
   "id": "117d8524-0039-4bec-96dc-788d62cf9b67",
   "metadata": {},
   "outputs": [
    {
     "data": {
      "text/html": [
       "<div>\n",
       "<style scoped>\n",
       "    .dataframe tbody tr th:only-of-type {\n",
       "        vertical-align: middle;\n",
       "    }\n",
       "\n",
       "    .dataframe tbody tr th {\n",
       "        vertical-align: top;\n",
       "    }\n",
       "\n",
       "    .dataframe thead th {\n",
       "        text-align: right;\n",
       "    }\n",
       "</style>\n",
       "<table border=\"1\" class=\"dataframe\">\n",
       "  <thead>\n",
       "    <tr style=\"text-align: right;\">\n",
       "      <th></th>\n",
       "      <th>subject_id</th>\n",
       "      <th>graph_id</th>\n",
       "      <th>time</th>\n",
       "      <th>click</th>\n",
       "      <th>risk</th>\n",
       "      <th>forecast</th>\n",
       "      <th>confidence</th>\n",
       "      <th>investment</th>\n",
       "      <th>reason_risky</th>\n",
       "      <th>reason_confidence</th>\n",
       "      <th>...</th>\n",
       "      <th>employment_ind</th>\n",
       "      <th>education_ind</th>\n",
       "      <th>income_ind</th>\n",
       "      <th>statistics_ind</th>\n",
       "      <th>risk-taking_ind</th>\n",
       "      <th>stock knowledge_ind</th>\n",
       "      <th>frequency _ind</th>\n",
       "      <th>history_ind</th>\n",
       "      <th>technical_ind</th>\n",
       "      <th>subject_id_encoded</th>\n",
       "    </tr>\n",
       "  </thead>\n",
       "  <tbody>\n",
       "    <tr>\n",
       "      <th>0</th>\n",
       "      <td>5fbb4426e47b46c3e2eeb544</td>\n",
       "      <td>156</td>\n",
       "      <td>11.550</td>\n",
       "      <td>6</td>\n",
       "      <td>6</td>\n",
       "      <td>112</td>\n",
       "      <td>62</td>\n",
       "      <td>59</td>\n",
       "      <td>NaN</td>\n",
       "      <td>NaN</td>\n",
       "      <td>...</td>\n",
       "      <td>0</td>\n",
       "      <td>1</td>\n",
       "      <td>1</td>\n",
       "      <td>0</td>\n",
       "      <td>0</td>\n",
       "      <td>0</td>\n",
       "      <td>0</td>\n",
       "      <td>0</td>\n",
       "      <td>0</td>\n",
       "      <td>185</td>\n",
       "    </tr>\n",
       "    <tr>\n",
       "      <th>1</th>\n",
       "      <td>65981b2c1df3be0020afa351</td>\n",
       "      <td>154</td>\n",
       "      <td>57.601</td>\n",
       "      <td>10</td>\n",
       "      <td>8</td>\n",
       "      <td>95</td>\n",
       "      <td>14</td>\n",
       "      <td>9</td>\n",
       "      <td>The ones that had big dips in them.</td>\n",
       "      <td>A lot of them. Only because I'm slowly trying ...</td>\n",
       "      <td>...</td>\n",
       "      <td>1</td>\n",
       "      <td>0</td>\n",
       "      <td>0</td>\n",
       "      <td>1</td>\n",
       "      <td>1</td>\n",
       "      <td>0</td>\n",
       "      <td>1</td>\n",
       "      <td>0</td>\n",
       "      <td>0</td>\n",
       "      <td>461</td>\n",
       "    </tr>\n",
       "    <tr>\n",
       "      <th>2</th>\n",
       "      <td>655791684bb1c5db02826d17</td>\n",
       "      <td>192</td>\n",
       "      <td>48.958</td>\n",
       "      <td>16</td>\n",
       "      <td>7</td>\n",
       "      <td>91</td>\n",
       "      <td>100</td>\n",
       "      <td>51</td>\n",
       "      <td>If it fluctuates more than 20% within 12 months.</td>\n",
       "      <td>With a $3 investment I do not feel unconfident...</td>\n",
       "      <td>...</td>\n",
       "      <td>1</td>\n",
       "      <td>1</td>\n",
       "      <td>1</td>\n",
       "      <td>0</td>\n",
       "      <td>1</td>\n",
       "      <td>0</td>\n",
       "      <td>1</td>\n",
       "      <td>1</td>\n",
       "      <td>0</td>\n",
       "      <td>438</td>\n",
       "    </tr>\n",
       "    <tr>\n",
       "      <th>3</th>\n",
       "      <td>62ddbd7eb3e9431e49b46ec1</td>\n",
       "      <td>182</td>\n",
       "      <td>49.950</td>\n",
       "      <td>11</td>\n",
       "      <td>8</td>\n",
       "      <td>115</td>\n",
       "      <td>79</td>\n",
       "      <td>60</td>\n",
       "      <td>NaN</td>\n",
       "      <td>NaN</td>\n",
       "      <td>...</td>\n",
       "      <td>1</td>\n",
       "      <td>1</td>\n",
       "      <td>0</td>\n",
       "      <td>1</td>\n",
       "      <td>1</td>\n",
       "      <td>0</td>\n",
       "      <td>0</td>\n",
       "      <td>0</td>\n",
       "      <td>0</td>\n",
       "      <td>307</td>\n",
       "    </tr>\n",
       "    <tr>\n",
       "      <th>4</th>\n",
       "      <td>5fb13091b87dfd5888f73e05</td>\n",
       "      <td>180</td>\n",
       "      <td>45.070</td>\n",
       "      <td>8</td>\n",
       "      <td>5</td>\n",
       "      <td>93</td>\n",
       "      <td>20</td>\n",
       "      <td>0</td>\n",
       "      <td>Those that have big drops.</td>\n",
       "      <td>When they are inconsistent and up and down on ...</td>\n",
       "      <td>...</td>\n",
       "      <td>0</td>\n",
       "      <td>0</td>\n",
       "      <td>0</td>\n",
       "      <td>0</td>\n",
       "      <td>1</td>\n",
       "      <td>0</td>\n",
       "      <td>1</td>\n",
       "      <td>1</td>\n",
       "      <td>0</td>\n",
       "      <td>183</td>\n",
       "    </tr>\n",
       "  </tbody>\n",
       "</table>\n",
       "<p>5 rows × 107 columns</p>\n",
       "</div>"
      ],
      "text/plain": [
       "                 subject_id  graph_id    time  click  risk  forecast  \\\n",
       "0  5fbb4426e47b46c3e2eeb544       156  11.550      6     6       112   \n",
       "1  65981b2c1df3be0020afa351       154  57.601     10     8        95   \n",
       "2  655791684bb1c5db02826d17       192  48.958     16     7        91   \n",
       "3  62ddbd7eb3e9431e49b46ec1       182  49.950     11     8       115   \n",
       "4  5fb13091b87dfd5888f73e05       180  45.070      8     5        93   \n",
       "\n",
       "   confidence  investment                                      reason_risky  \\\n",
       "0          62          59                                               NaN   \n",
       "1          14           9               The ones that had big dips in them.   \n",
       "2         100          51  If it fluctuates more than 20% within 12 months.   \n",
       "3          79          60                                               NaN   \n",
       "4          20           0                        Those that have big drops.   \n",
       "\n",
       "                                   reason_confidence  ...  employment_ind  \\\n",
       "0                                                NaN  ...               0   \n",
       "1  A lot of them. Only because I'm slowly trying ...  ...               1   \n",
       "2  With a $3 investment I do not feel unconfident...  ...               1   \n",
       "3                                                NaN  ...               1   \n",
       "4  When they are inconsistent and up and down on ...  ...               0   \n",
       "\n",
       "   education_ind  income_ind  statistics_ind  risk-taking_ind  \\\n",
       "0              1           1               0                0   \n",
       "1              0           0               1                1   \n",
       "2              1           1               0                1   \n",
       "3              1           0               1                1   \n",
       "4              0           0               0                1   \n",
       "\n",
       "   stock knowledge_ind  frequency _ind  history_ind  technical_ind  \\\n",
       "0                    0               0            0              0   \n",
       "1                    0               1            0              0   \n",
       "2                    0               1            1              0   \n",
       "3                    0               0            0              0   \n",
       "4                    0               1            1              0   \n",
       "\n",
       "   subject_id_encoded  \n",
       "0                 185  \n",
       "1                 461  \n",
       "2                 438  \n",
       "3                 307  \n",
       "4                 183  \n",
       "\n",
       "[5 rows x 107 columns]"
      ]
     },
     "execution_count": 59,
     "metadata": {},
     "output_type": "execute_result"
    }
   ],
   "source": [
    "from sklearn.preprocessing import LabelEncoder\n",
    "\n",
    "# Initialize the LabelEncoder\n",
    "le = LabelEncoder()\n",
    "\n",
    "# Fit and transform 'subject_id' to numeric\n",
    "data['subject_id_encoded'] = le.fit_transform(data['subject_id'])\n",
    "\n",
    "data.head()"
   ]
  },
  {
   "cell_type": "markdown",
   "id": "279cef41-34e7-4e7b-82fd-eb1bffbff975",
   "metadata": {},
   "source": [
    "## Starting with regressions without FE"
   ]
  },
  {
   "cell_type": "markdown",
   "id": "50a5725e-6c4d-4897-9030-b98f10ea3e5a",
   "metadata": {},
   "source": [
    "Baseline Regression"
   ]
  },
  {
   "cell_type": "code",
   "execution_count": 60,
   "id": "278361c7-4fba-4982-8e60-6f6d8638154e",
   "metadata": {},
   "outputs": [
    {
     "data": {
      "text/plain": [
       "0.03351046743638908"
      ]
     },
     "execution_count": 60,
     "metadata": {},
     "output_type": "execute_result"
    }
   ],
   "source": [
    "# Define independent variables for the baseline regression\n",
    "X_base = data[['Obj_Std', 'Skewness', 'Kurtosis', 'time', 'click', 'order', 'subject_id_encoded']]\n",
    "\n",
    "# Split the data\n",
    "X_train_base, X_test_base, y_train, y_test = train_test_split(X_base, data['risk'], test_size=0.2, random_state=42)\n",
    "\n",
    "# Baseline regression\n",
    "model_base = LinearRegression()\n",
    "model_base.fit(X_train_base, y_train)\n",
    "y_pred_base = model_base.predict(X_test_base)\n",
    "r2_base = r2_score(y_test, y_pred_base)\n",
    "r2_base"
   ]
  },
  {
   "cell_type": "markdown",
   "id": "44e4ab6d-1110-4d0d-ba4e-4820e1733501",
   "metadata": {},
   "source": [
    "3-Feature Regression"
   ]
  },
  {
   "cell_type": "code",
   "execution_count": 61,
   "id": "8c27df65-8b32-4e49-8545-a61b7e399976",
   "metadata": {},
   "outputs": [
    {
     "data": {
      "text/plain": [
       "0.10873591492250123"
      ]
     },
     "execution_count": 61,
     "metadata": {},
     "output_type": "execute_result"
    }
   ],
   "source": [
    "X_3_feature = data[['Obj_Std', 'Skewness', 'Kurtosis', 'time', 'click', 'order', 'subject_id_encoded', 'Recency_Factor', 'Rep_Factor', 'Sign_Factor']]\n",
    "X_train_3, X_test_3 = train_test_split(X_3_feature, test_size=0.2, random_state=42)\n",
    "\n",
    "model_3_feature = LinearRegression()\n",
    "model_3_feature.fit(X_train_3, y_train)\n",
    "y_pred_3 = model_3_feature.predict(X_test_3)\n",
    "r2_3_feature = r2_score(y_test, y_pred_3)\n",
    "r2_3_feature"
   ]
  },
  {
   "cell_type": "markdown",
   "id": "41366946-06e5-4221-80c1-4a9fb5e224f7",
   "metadata": {},
   "source": [
    "8-Feature Regression"
   ]
  },
  {
   "cell_type": "code",
   "execution_count": 62,
   "id": "d6c63c89-7d02-4165-9a13-88b60c1b085b",
   "metadata": {},
   "outputs": [
    {
     "data": {
      "text/plain": [
       "0.11383641839091119"
      ]
     },
     "execution_count": 62,
     "metadata": {},
     "output_type": "execute_result"
    }
   ],
   "source": [
    "X_8_feature = data[['Obj_Std', 'Skewness', 'Kurtosis', 'time', 'click', 'order', 'subject_id_encoded', 'Recency_Factor', 'Rep_Factor', 'Sign_Factor', 'SH_Rep_Factor', 'SH_Sign_Factor', 'SH_Obj_Std', 'SH_Skewness', 'SH_Kurtosis']]\n",
    "X_train_8, X_test_8 = train_test_split(X_8_feature, test_size=0.2, random_state=42)\n",
    "\n",
    "model_8_feature = LinearRegression()\n",
    "model_8_feature.fit(X_train_8, y_train)\n",
    "y_pred_8 = model_8_feature.predict(X_test_8)\n",
    "r2_8_feature = r2_score(y_test, y_pred_8)\n",
    "r2_8_feature"
   ]
  },
  {
   "cell_type": "markdown",
   "id": "d5eba265-fb7a-4058-85c1-945ae1d0ae85",
   "metadata": {},
   "source": [
    "8-Feature Lasso"
   ]
  },
  {
   "cell_type": "code",
   "execution_count": 16,
   "id": "3992a28f-1e04-4818-9172-ddd8832ab985",
   "metadata": {},
   "outputs": [
    {
     "data": {
      "text/plain": [
       "0.11364455732747192"
      ]
     },
     "execution_count": 16,
     "metadata": {},
     "output_type": "execute_result"
    }
   ],
   "source": [
    "model_8_lasso = LassoCV(cv=5)\n",
    "model_8_lasso.fit(X_train_8, y_train)\n",
    "y_pred_8_lasso = model_8_lasso.predict(X_test_8)\n",
    "r2_8_lasso = r2_score(y_test, y_pred_8_lasso)\n",
    "r2_8_lasso"
   ]
  },
  {
   "cell_type": "markdown",
   "id": "ea3c6473-dcb4-4020-a91d-0a209f8c3d29",
   "metadata": {},
   "source": [
    "Large lasso"
   ]
  },
  {
   "cell_type": "code",
   "execution_count": 17,
   "id": "db58b759-d545-4664-8dd7-99ae1d774c6b",
   "metadata": {},
   "outputs": [
    {
     "data": {
      "text/plain": [
       "0.11383641839091119"
      ]
     },
     "execution_count": 17,
     "metadata": {},
     "output_type": "execute_result"
    }
   ],
   "source": [
    "# Identify all 'ret_' and 'price_' columns\n",
    "ret_columns = [col for col in data.columns if col.startswith('ret_')]\n",
    "price_columns = [col for col in data.columns if col.startswith('price_')]\n",
    "\n",
    "# Combine these columns with your other features\n",
    "features = ['Obj_Std', 'Skewness', 'Kurtosis', 'time', 'click', 'order', 'subject_id_encoded', 'Recency_Factor', 'Rep_Factor', 'Sign_Factor', 'SH_Rep_Factor', 'SH_Sign_Factor', 'SH_Obj_Std', 'SH_Skewness', 'SH_Kurtosis'] + ret_columns + price_columns\n",
    "X_large_lasso = data[features]\n",
    "X_train_large, X_test_large = train_test_split(X_large_lasso, test_size=0.2, random_state=42)\n",
    "\n",
    "model_large_lasso = LassoCV(cv=5)\n",
    "model_large_lasso.fit(X_train_large, y_train)\n",
    "y_pred_large_lasso = model_large_lasso.predict(X_test_large)\n",
    "r2_large_lasso = r2_score(y_test, y_pred_large_lasso)\n",
    "r2_8_feature"
   ]
  },
  {
   "cell_type": "markdown",
   "id": "317d6f1c-1fb3-4ab1-9120-fdf7acee4b8c",
   "metadata": {},
   "source": [
    "Huge Lasso"
   ]
  },
  {
   "cell_type": "code",
   "execution_count": 18,
   "id": "351165c8-704f-4f6c-8727-63b74e6167f9",
   "metadata": {},
   "outputs": [
    {
     "data": {
      "text/plain": [
       "0.1453489107726199"
      ]
     },
     "execution_count": 18,
     "metadata": {},
     "output_type": "execute_result"
    }
   ],
   "source": [
    "# Identify all 'ret_', 'price_', and their differences columns\n",
    "ret_1st_diff_columns = [col for col in data.columns if '1st_diff' in col and col.startswith('ret_')]\n",
    "ret_2nd_diff_columns = [col for col in data.columns if '2nd_diff' in col and col.startswith('ret_')]\n",
    "price_1st_diff_columns = [col for col in data.columns if '1st_diff' in col and col.startswith('price_')]\n",
    "price_2nd_diff_columns = [col for col in data.columns if '2nd_diff' in col and col.startswith('price_')]\n",
    "\n",
    "# Combine these columns with your other features for the Huge Lasso model\n",
    "features_huge_lasso = ['Obj_Std', 'Skewness', 'Kurtosis', 'time', 'click', 'order', 'subject_id_encoded', 'Recency_Factor', 'Rep_Factor', 'Sign_Factor', 'SH_Rep_Factor', 'SH_Sign_Factor', 'SH_Obj_Std', 'SH_Skewness', 'SH_Kurtosis'] + ret_columns + price_columns + ret_1st_diff_columns + ret_2nd_diff_columns + price_1st_diff_columns + price_2nd_diff_columns\n",
    "X_huge_lasso = data[features_huge_lasso]\n",
    "X_train_huge, X_test_huge = train_test_split(X_huge_lasso, test_size=0.2, random_state=42)\n",
    "\n",
    "model_huge_lasso = LassoCV(cv=5)\n",
    "model_huge_lasso.fit(X_train_huge, y_train)\n",
    "y_pred_huge_lasso = model_huge_lasso.predict(X_test_huge)\n",
    "r2_huge_lasso = r2_score(y_test, y_pred_huge_lasso)\n",
    "r2_huge_lasso"
   ]
  },
  {
   "cell_type": "markdown",
   "id": "b2c062bc-e885-4af0-8dae-466cf6c1cab3",
   "metadata": {},
   "source": [
    "Graph_id FE"
   ]
  },
  {
   "cell_type": "code",
   "execution_count": 19,
   "id": "1cf9de56-21ef-45b8-be35-dc67a7811353",
   "metadata": {},
   "outputs": [],
   "source": [
    "graph_id_dummies = pd.get_dummies(data['graph_id'], prefix='graph_id')\n",
    "data_with_fe = pd.concat([data, graph_id_dummies], axis=1)\n",
    "#data_with_fe"
   ]
  },
  {
   "cell_type": "code",
   "execution_count": 21,
   "id": "80afd51c-9ffb-4ada-b1a3-91e60c9767ef",
   "metadata": {},
   "outputs": [
    {
     "data": {
      "text/plain": [
       "0.169642524023483"
      ]
     },
     "execution_count": 21,
     "metadata": {},
     "output_type": "execute_result"
    }
   ],
   "source": [
    "# Assuming 'data' is your DataFrame and 'graph_id' is the categorical variable\n",
    "graph_id_dummies = pd.get_dummies(data['graph_id'], prefix='graph_id')\n",
    "data_with_fe = pd.concat([data, graph_id_dummies], axis=1)\n",
    "\n",
    "# Create a list of features including the dummy variables\n",
    "features = ['time', 'click', 'order', 'subject_id_encoded'] + list(graph_id_dummies.columns)\n",
    "\n",
    "# Select these features for X\n",
    "X_graph_id_fe = data_with_fe[features]\n",
    "\n",
    "# Assuming y_train and y_test are defined or create them if not mentioned\n",
    "X_train_graph_id_fe, X_test_graph_id_fe = train_test_split(X_graph_id_fe, test_size=0.2, random_state=42)\n",
    "\n",
    "# Fit the baseline regression model\n",
    "model_graph_id_fe = LinearRegression()\n",
    "model_graph_id_fe.fit(X_train_graph_id_fe, y_train)\n",
    "\n",
    "# Predict and calculate the R-squared value\n",
    "y_pred_graph_id_fe = model_graph_id_fe.predict(X_test_graph_id_fe)\n",
    "r2_graph_id_fe = r2_score(y_test, y_pred_graph_id_fe)\n",
    "\n",
    "r2_graph_id_fe"
   ]
  },
  {
   "cell_type": "markdown",
   "id": "2fee566e-f819-4887-9781-32a6d8a77d44",
   "metadata": {},
   "source": [
    "## Starting with FE"
   ]
  },
  {
   "cell_type": "markdown",
   "id": "e8633a50-e47c-4871-b888-a8bfdb6b1ab8",
   "metadata": {},
   "source": [
    "Baseline Regression with subject_id_encoded Fixed Effects"
   ]
  },
  {
   "cell_type": "code",
   "execution_count": 22,
   "id": "32a216ff-dfc4-4985-a857-33a36e424867",
   "metadata": {},
   "outputs": [],
   "source": [
    "# Create dummy variables for 'subject_id_encoded' and 'graph_id'\n",
    "subject_id_dummies = pd.get_dummies(data['subject_id_encoded'], prefix='subject_id')\n",
    "#graph_id_dummies = pd.get_dummies(data['graph_id'], prefix='graph_id')\n",
    "\n",
    "# Add these dummy variables to the data\n",
    "data_with_dummies = pd.concat([data, subject_id_dummies], axis=1)\n",
    "data_with_dummies = pd.concat([data_with_dummies, graph_id_dummies], axis=1)\n",
    "# Define the baseline features including the subject_id dummies\n",
    "baseline_features_with_dummies = ['Obj_Std', 'Skewness', 'Kurtosis', 'time', 'click', 'order'] + list(subject_id_dummies.columns)\n",
    "#baseline_features_with_dummies"
   ]
  },
  {
   "cell_type": "code",
   "execution_count": 23,
   "id": "d68d2a3a-ef29-4a9c-a09a-607ed9abf616",
   "metadata": {},
   "outputs": [
    {
     "data": {
      "text/plain": [
       "0.160245352228657"
      ]
     },
     "execution_count": 23,
     "metadata": {},
     "output_type": "execute_result"
    }
   ],
   "source": [
    "# Define the independent and dependent variables\n",
    "X_baseline_with_dummies = data_with_dummies[baseline_features_with_dummies]\n",
    "y = data_with_dummies['risk']\n",
    "\n",
    "# Split the data into training and testing sets\n",
    "X_train_baseline, X_test_baseline, y_train, y_test = train_test_split(X_baseline_with_dummies, y, test_size=0.2, random_state=42)\n",
    "\n",
    "# Fit the baseline regression model\n",
    "model_baseline_with_dummies = LinearRegression()\n",
    "model_baseline_with_dummies.fit(X_train_baseline, y_train)\n",
    "\n",
    "# Predict and calculate the R-squared value\n",
    "y_pred_baseline = model_baseline_with_dummies.predict(X_test_baseline)\n",
    "r2_baseline_fe = r2_score(y_test, y_pred_baseline)\n",
    "\n",
    "r2_baseline_fe"
   ]
  },
  {
   "cell_type": "markdown",
   "id": "7a5897a6-7c9d-4b6f-aa01-ed5e7e197ae7",
   "metadata": {},
   "source": [
    "3-Feature Regression with subject_id_encoded Fixed Effects"
   ]
  },
  {
   "cell_type": "code",
   "execution_count": 24,
   "id": "465dd11f-9b19-471c-ab9b-c35866ce6ffc",
   "metadata": {},
   "outputs": [
    {
     "data": {
      "text/plain": [
       "0.2583782289217412"
      ]
     },
     "execution_count": 24,
     "metadata": {},
     "output_type": "execute_result"
    }
   ],
   "source": [
    "# Define 3-feature model variables\n",
    "features_3_feature = baseline_features_with_dummies + ['Recency_Factor', 'Rep_Factor', 'Sign_Factor']\n",
    "\n",
    "# Split the data for 3-feature model\n",
    "X_3_feature = data_with_dummies[features_3_feature]\n",
    "X_train_3_feature, X_test_3_feature, y_train, y_test = train_test_split(X_3_feature, y, test_size=0.2, random_state=42)\n",
    "\n",
    "# Fit the 3-feature model\n",
    "model_3_feature = LinearRegression()\n",
    "model_3_feature.fit(X_train_3_feature, y_train)\n",
    "\n",
    "# Predict and calculate R-squared\n",
    "y_pred_3_feature = model_3_feature.predict(X_test_3_feature)\n",
    "r2_3_feature_fe = r2_score(y_test, y_pred_3_feature)\n",
    "r2_3_feature_fe"
   ]
  },
  {
   "cell_type": "markdown",
   "id": "4d4d8949-2922-4fe8-81a1-ccb7e169224c",
   "metadata": {},
   "source": [
    "8-Feature Regression with subject_id_encoded Fixed Effects"
   ]
  },
  {
   "cell_type": "code",
   "execution_count": 25,
   "id": "2396e7b7-fda7-4076-b4c0-7b717a01b39a",
   "metadata": {},
   "outputs": [
    {
     "data": {
      "text/plain": [
       "0.2628515051965741"
      ]
     },
     "execution_count": 25,
     "metadata": {},
     "output_type": "execute_result"
    }
   ],
   "source": [
    "# Define 8-feature model variables including 'subject_id_encoded' dummies\n",
    "features_8_feature = baseline_features_with_dummies + ['Recency_Factor', 'Rep_Factor', 'Sign_Factor', 'SH_Rep_Factor', 'SH_Sign_Factor', 'SH_Obj_Std', 'SH_Skewness', 'SH_Kurtosis']\n",
    "\n",
    "# Split the data for 8-feature model\n",
    "X_8_feature = data_with_dummies[features_8_feature]\n",
    "X_train_8_feature, X_test_8_feature, y_train, y_test = train_test_split(X_8_feature, y, test_size=0.2, random_state=42)\n",
    "\n",
    "# Fit the 8-feature model\n",
    "model_8_feature = LinearRegression()\n",
    "model_8_feature.fit(X_train_8_feature, y_train)\n",
    "\n",
    "# Predict and calculate R-squared\n",
    "y_pred_8_feature = model_8_feature.predict(X_test_8_feature)\n",
    "r2_8_feature_fe = r2_score(y_test, y_pred_8_feature)\n",
    "r2_8_feature_fe"
   ]
  },
  {
   "cell_type": "markdown",
   "id": "0ffd7073-00e2-4a0f-ba20-a64333280d45",
   "metadata": {},
   "source": [
    "8 Features Lasso with subject_id_encoded Fixed Effects"
   ]
  },
  {
   "cell_type": "code",
   "execution_count": 26,
   "id": "72e53aaf-148f-49e9-8445-bb705393cbb2",
   "metadata": {},
   "outputs": [
    {
     "data": {
      "text/plain": [
       "0.2153121124370303"
      ]
     },
     "execution_count": 26,
     "metadata": {},
     "output_type": "execute_result"
    }
   ],
   "source": [
    "# Fit the Large Lasso model\n",
    "model_8_feature_lasso_fe = LassoCV(cv=5)\n",
    "model_8_feature_lasso_fe.fit(X_train_8_feature, y_train)\n",
    "\n",
    "# Predict and calculate R-squared\n",
    "y_pred_8_feature_lasso_fe = model_8_feature_lasso_fe.predict(X_test_8_feature)\n",
    "r2_8_feature_lasso_fe = r2_score(y_test, y_pred_8_feature_lasso_fe)\n",
    "r2_8_feature_lasso_fe"
   ]
  },
  {
   "cell_type": "markdown",
   "id": "8609718a-165d-4ee9-b9ff-1cf50d2b60bc",
   "metadata": {},
   "source": [
    "Large Lasso with subject_id_encoded Fixed Effects"
   ]
  },
  {
   "cell_type": "code",
   "execution_count": 27,
   "id": "b05bc813-990b-4a08-9f2e-ad7f24f421f1",
   "metadata": {},
   "outputs": [
    {
     "data": {
      "text/plain": [
       "0.15328066023148346"
      ]
     },
     "execution_count": 27,
     "metadata": {},
     "output_type": "execute_result"
    }
   ],
   "source": [
    "# Define Large Lasso model variables including additional features and 'subject_id_encoded' dummies\n",
    "features_large_lasso_fe = features_8_feature + ret_columns + price_columns  # Assuming ret_columns and price_columns are defined\n",
    "\n",
    "# Split the data for Large Lasso model\n",
    "X_large_lasso_fe = data_with_dummies[features_large_lasso_fe]\n",
    "X_train_large_lasso_fe, X_test_large_lasso_fe, y_train, y_test = train_test_split(X_large_lasso_fe, y, test_size=0.2, random_state=42)\n",
    "\n",
    "# Fit the Large Lasso model\n",
    "model_large_lasso_fe = LassoCV(cv=5)\n",
    "model_large_lasso_fe.fit(X_train_large_lasso_fe, y_train)\n",
    "\n",
    "# Predict and calculate R-squared\n",
    "y_pred_large_lasso_fe = model_large_lasso_fe.predict(X_test_large_lasso_fe)\n",
    "r2_large_lasso_fe = r2_score(y_test, y_pred_large_lasso_fe)\n",
    "r2_large_lasso_fe"
   ]
  },
  {
   "cell_type": "markdown",
   "id": "1cbaa92e-a39d-4e46-b3cd-dbc2c70eee7d",
   "metadata": {},
   "source": [
    "Huge Lasso with subject_id_encoded Fixed Effects"
   ]
  },
  {
   "cell_type": "code",
   "execution_count": 28,
   "id": "38fd918b-06a0-43f1-b362-db1d7d5f2a4f",
   "metadata": {},
   "outputs": [
    {
     "name": "stdout",
     "output_type": "stream",
     "text": [
      "R-squared for Huge Lasso with fixed effects: 0.1532\n"
     ]
    }
   ],
   "source": [
    "# Assuming 'data_with_dummies' is correctly prepared and includes all required dummy variables\n",
    "features_huge_lasso_fe = features_large_lasso_fe + ret_1st_diff_columns + ret_2nd_diff_columns + price_1st_diff_columns + price_2nd_diff_columns  # ensure these are correctly defined\n",
    "\n",
    "# Select features\n",
    "X_huge_lasso_fe = data_with_dummies[features_huge_lasso_fe]\n",
    "y = data_with_dummies['risk']  # make sure 'risk' is the correct target column\n",
    "\n",
    "# Split the data\n",
    "X_train_huge_lasso_fe, X_test_huge_lasso_fe, y_train, y_test = train_test_split(X_huge_lasso_fe, y, test_size=0.2, random_state=42)\n",
    "\n",
    "# Fit the Huge Lasso model\n",
    "model_huge_lasso_fe = LassoCV(cv=5)\n",
    "model_huge_lasso_fe.fit(X_train_huge_lasso_fe, y_train)\n",
    "\n",
    "# Predict and calculate R-squared\n",
    "y_pred_huge_lasso_fe = model_huge_lasso_fe.predict(X_test_huge_lasso_fe)\n",
    "r2_huge_lasso_fe = r2_score(y_test, y_pred_huge_lasso_fe)\n",
    "\n",
    "print(f\"R-squared for Huge Lasso with fixed effects: {r2_huge_lasso_fe:.4f}\")"
   ]
  },
  {
   "cell_type": "markdown",
   "id": "44641511-8a27-494e-8cda-14b91a6a3510",
   "metadata": {},
   "source": [
    "Graph FE Regression"
   ]
  },
  {
   "cell_type": "code",
   "execution_count": 55,
   "id": "9bd7ebf7-ed91-4381-8fec-b14bbaa2c142",
   "metadata": {},
   "outputs": [],
   "source": [
    "graph_fe_features = ['time', 'click', 'order', 'subject_id_encoded'] + list(subject_id_dummies.columns) + list(graph_id_dummies.columns)"
   ]
  },
  {
   "cell_type": "code",
   "execution_count": 56,
   "id": "56f97e1b-41f5-43e9-98aa-32523d4bf99a",
   "metadata": {},
   "outputs": [
    {
     "ename": "KeyError",
     "evalue": "\"['graph_id_-113.55', 'graph_id_-111.0', 'graph_id_-109.8', 'graph_id_-109.1', 'graph_id_-108.75', 'graph_id_-108.15', 'graph_id_-107.8', 'graph_id_-107.65', 'graph_id_-106.65', 'graph_id_-106.55', 'graph_id_-105.9', 'graph_id_-105.85', 'graph_id_-105.5', 'graph_id_-105.05', 'graph_id_-105.0', 'graph_id_-104.75', 'graph_id_-104.25', 'graph_id_-104.2', 'graph_id_-103.9', 'graph_id_-103.55', 'graph_id_-103.3', 'graph_id_-103.15', 'graph_id_-103.1', 'graph_id_-103.05', 'graph_id_-103.0', 'graph_id_-102.95', 'graph_id_-102.9', 'graph_id_-102.85', 'graph_id_-102.8', 'graph_id_-102.7', 'graph_id_-102.65', 'graph_id_-102.4', 'graph_id_-102.3', 'graph_id_-102.1', 'graph_id_-102.0', 'graph_id_-101.9', 'graph_id_-101.8', 'graph_id_-101.75', 'graph_id_-101.7', 'graph_id_-101.6', 'graph_id_-101.45', 'graph_id_-101.4', 'graph_id_-101.3', 'graph_id_-101.2', 'graph_id_-101.1', 'graph_id_-100.9', 'graph_id_-100.85', 'graph_id_-100.65', 'graph_id_-100.6', 'graph_id_-100.55', 'graph_id_-100.45', 'graph_id_-100.4', 'graph_id_-100.3', 'graph_id_-100.25', 'graph_id_-100.2', 'graph_id_-100.05', 'graph_id_-100.0', 'graph_id_-99.95', 'graph_id_-99.9', 'graph_id_-99.8', 'graph_id_-99.75', 'graph_id_-99.7', 'graph_id_-99.65', 'graph_id_-99.45', 'graph_id_-99.4', 'graph_id_-99.35', 'graph_id_-99.3', 'graph_id_-99.2', 'graph_id_-99.15', 'graph_id_-99.1', 'graph_id_-99.05', 'graph_id_-99.0', 'graph_id_-98.95', 'graph_id_-98.9', 'graph_id_-98.85', 'graph_id_-98.65', 'graph_id_-98.6', 'graph_id_-98.55', 'graph_id_-98.45', 'graph_id_-98.3', 'graph_id_-98.25', 'graph_id_-98.15', 'graph_id_-98.0', 'graph_id_-97.95', 'graph_id_-97.9', 'graph_id_-97.85', 'graph_id_-97.8', 'graph_id_-97.75', 'graph_id_-97.7', 'graph_id_-97.6', 'graph_id_-97.4', 'graph_id_-97.35', 'graph_id_-97.3', 'graph_id_-97.15', 'graph_id_-97.1', 'graph_id_-97.05', 'graph_id_-97.0', 'graph_id_-96.95', 'graph_id_-96.9', 'graph_id_-96.85', 'graph_id_-96.8', 'graph_id_-96.75', 'graph_id_-96.7', 'graph_id_-96.6', 'graph_id_-96.55', 'graph_id_-96.5', 'graph_id_-96.45', 'graph_id_-96.3', 'graph_id_-96.15', 'graph_id_-96.1', 'graph_id_-96.05', 'graph_id_-96.0', 'graph_id_-95.95', 'graph_id_-95.9', 'graph_id_-95.85', 'graph_id_-95.8', 'graph_id_-95.75', 'graph_id_-95.65', 'graph_id_-95.55', 'graph_id_-95.45', 'graph_id_-95.4', 'graph_id_-95.35', 'graph_id_-95.3', 'graph_id_-95.25', 'graph_id_-95.2', 'graph_id_-95.05', 'graph_id_-95.0', 'graph_id_-94.9', 'graph_id_-94.85', 'graph_id_-94.8', 'graph_id_-94.75', 'graph_id_-94.65', 'graph_id_-94.6', 'graph_id_-94.55', 'graph_id_-94.5', 'graph_id_-94.35', 'graph_id_-94.3', 'graph_id_-94.25', 'graph_id_-94.2', 'graph_id_-94.15', 'graph_id_-94.05', 'graph_id_-94.0', 'graph_id_-93.9', 'graph_id_-93.85', 'graph_id_-93.8', 'graph_id_-93.75', 'graph_id_-93.7', 'graph_id_-93.65', 'graph_id_-93.6', 'graph_id_-93.55', 'graph_id_-93.5', 'graph_id_-93.45', 'graph_id_-93.4', 'graph_id_-93.35', 'graph_id_-93.3', 'graph_id_-93.25', 'graph_id_-93.2', 'graph_id_-93.15', 'graph_id_-93.1', 'graph_id_-93.05', 'graph_id_-93.0', 'graph_id_-92.95', 'graph_id_-92.9', 'graph_id_-92.85', 'graph_id_-92.8', 'graph_id_-92.75', 'graph_id_-92.7', 'graph_id_-92.65', 'graph_id_-92.6', 'graph_id_-92.45', 'graph_id_-92.4', 'graph_id_-92.35', 'graph_id_-92.3', 'graph_id_-92.25', 'graph_id_-92.2', 'graph_id_-92.15', 'graph_id_-92.1', 'graph_id_-92.05', 'graph_id_-92.0', 'graph_id_-91.95', 'graph_id_-91.9', 'graph_id_-91.85', 'graph_id_-91.8', 'graph_id_-91.75', 'graph_id_-91.7', 'graph_id_-91.65', 'graph_id_-91.6', 'graph_id_-91.5', 'graph_id_-91.45', 'graph_id_-91.4', 'graph_id_-91.35', 'graph_id_-91.3', 'graph_id_-91.25', 'graph_id_-91.2', 'graph_id_-91.15', 'graph_id_-91.1', 'graph_id_-91.05', 'graph_id_-91.0', 'graph_id_-90.95', 'graph_id_-90.9', 'graph_id_-90.85', 'graph_id_-90.8', 'graph_id_-90.75', 'graph_id_-90.7', 'graph_id_-90.65', 'graph_id_-90.5', 'graph_id_-90.4', 'graph_id_-90.35', 'graph_id_-90.3', 'graph_id_-90.25', 'graph_id_-90.2', 'graph_id_-90.15', 'graph_id_-90.1', 'graph_id_-90.05', 'graph_id_-90.0', 'graph_id_-89.95', 'graph_id_-89.9', 'graph_id_-89.85', 'graph_id_-89.8', 'graph_id_-89.7', 'graph_id_-89.65', 'graph_id_-89.55', 'graph_id_-89.5', 'graph_id_-89.45', 'graph_id_-89.4', 'graph_id_-89.35', 'graph_id_-89.3', 'graph_id_-89.25', 'graph_id_-89.1', 'graph_id_-89.05', 'graph_id_-89.0', 'graph_id_-88.95', 'graph_id_-88.9', 'graph_id_-88.85', 'graph_id_-88.8', 'graph_id_-88.75', 'graph_id_-88.7', 'graph_id_-88.65', 'graph_id_-88.6', 'graph_id_-88.55', 'graph_id_-88.5', 'graph_id_-88.45', 'graph_id_-88.4', 'graph_id_-88.35', 'graph_id_-88.3', 'graph_id_-88.25', 'graph_id_-88.2', 'graph_id_-88.15', 'graph_id_-88.1', 'graph_id_-88.05', 'graph_id_-88.0', 'graph_id_-87.95', 'graph_id_-87.9', 'graph_id_-87.85', 'graph_id_-87.8', 'graph_id_-87.75', 'graph_id_-87.7', 'graph_id_-87.65', 'graph_id_-87.6', 'graph_id_-87.55', 'graph_id_-87.5', 'graph_id_-87.45', 'graph_id_-87.4', 'graph_id_-87.35', 'graph_id_-87.3', 'graph_id_-87.25', 'graph_id_-87.2', 'graph_id_-87.15', 'graph_id_-87.1', 'graph_id_-87.0', 'graph_id_-86.95', 'graph_id_-86.9', 'graph_id_-86.85', 'graph_id_-86.8', 'graph_id_-86.75', 'graph_id_-86.7', 'graph_id_-86.65', 'graph_id_-86.6', 'graph_id_-86.55', 'graph_id_-86.35', 'graph_id_-86.3', 'graph_id_-86.25', 'graph_id_-86.15', 'graph_id_-86.1', 'graph_id_-86.05', 'graph_id_-86.0', 'graph_id_-85.95', 'graph_id_-85.9', 'graph_id_-85.85', 'graph_id_-85.8', 'graph_id_-85.75', 'graph_id_-85.7', 'graph_id_-85.65', 'graph_id_-85.55', 'graph_id_-85.45', 'graph_id_-85.4', 'graph_id_-85.3', 'graph_id_-85.25', 'graph_id_-85.15', 'graph_id_-85.1', 'graph_id_-85.05', 'graph_id_-85.0', 'graph_id_-84.95', 'graph_id_-84.9', 'graph_id_-84.85', 'graph_id_-84.8', 'graph_id_-84.75', 'graph_id_-84.7', 'graph_id_-84.65', 'graph_id_-84.6', 'graph_id_-84.55', 'graph_id_-84.5', 'graph_id_-84.45', 'graph_id_-84.4', 'graph_id_-84.35', 'graph_id_-84.3', 'graph_id_-84.2', 'graph_id_-84.15', 'graph_id_-84.05', 'graph_id_-84.0', 'graph_id_-83.95', 'graph_id_-83.9', 'graph_id_-83.85', 'graph_id_-83.8', 'graph_id_-83.75', 'graph_id_-83.7', 'graph_id_-83.65', 'graph_id_-83.6', 'graph_id_-83.55', 'graph_id_-83.5', 'graph_id_-83.45', 'graph_id_-83.4', 'graph_id_-83.35', 'graph_id_-83.3', 'graph_id_-83.25', 'graph_id_-83.2', 'graph_id_-83.15', 'graph_id_-83.1', 'graph_id_-83.05', 'graph_id_-83.0', 'graph_id_-82.95', 'graph_id_-82.9', 'graph_id_-82.85', 'graph_id_-82.8', 'graph_id_-82.75', 'graph_id_-82.7', 'graph_id_-82.65', 'graph_id_-82.6', 'graph_id_-82.55', 'graph_id_-82.45', 'graph_id_-82.4', 'graph_id_-82.35', 'graph_id_-82.3', 'graph_id_-82.25', 'graph_id_-82.15', 'graph_id_-82.1', 'graph_id_-82.05', 'graph_id_-82.0', 'graph_id_-81.95', 'graph_id_-81.9', 'graph_id_-81.85', 'graph_id_-81.8', 'graph_id_-81.75', 'graph_id_-81.65', 'graph_id_-81.6', 'graph_id_-81.5', 'graph_id_-81.45', 'graph_id_-81.4', 'graph_id_-81.35', 'graph_id_-81.2', 'graph_id_-81.1', 'graph_id_-81.05', 'graph_id_-81.0', 'graph_id_-80.95', 'graph_id_-80.9', 'graph_id_-80.85', 'graph_id_-80.8', 'graph_id_-80.75', 'graph_id_-80.7', 'graph_id_-80.65', 'graph_id_-80.6', 'graph_id_-80.55', 'graph_id_-80.5', 'graph_id_-80.45', 'graph_id_-80.4', 'graph_id_-80.35', 'graph_id_-80.3', 'graph_id_-80.25', 'graph_id_-80.2', 'graph_id_-80.15', 'graph_id_-80.1', 'graph_id_-80.05', 'graph_id_-80.0', 'graph_id_-79.95', 'graph_id_-79.9', 'graph_id_-79.85', 'graph_id_-79.8', 'graph_id_-79.75', 'graph_id_-79.7', 'graph_id_-79.65', 'graph_id_-79.6', 'graph_id_-79.5', 'graph_id_-79.45', 'graph_id_-79.4', 'graph_id_-79.35', 'graph_id_-79.3', 'graph_id_-79.25', 'graph_id_-79.2', 'graph_id_-79.15', 'graph_id_-79.1', 'graph_id_-79.05', 'graph_id_-79.0', 'graph_id_-78.95', 'graph_id_-78.9', 'graph_id_-78.85', 'graph_id_-78.8', 'graph_id_-78.75', 'graph_id_-78.65', 'graph_id_-78.6', 'graph_id_-78.55', 'graph_id_-78.5', 'graph_id_-78.45', 'graph_id_-78.4', 'graph_id_-78.35', 'graph_id_-78.3', 'graph_id_-78.25', 'graph_id_-78.2', 'graph_id_-78.15', 'graph_id_-78.1', 'graph_id_-78.05', 'graph_id_-78.0', 'graph_id_-77.95', 'graph_id_-77.9', 'graph_id_-77.85', 'graph_id_-77.8', 'graph_id_-77.75', 'graph_id_-77.7', 'graph_id_-77.65', 'graph_id_-77.6', 'graph_id_-77.55', 'graph_id_-77.5', 'graph_id_-77.45', 'graph_id_-77.4', 'graph_id_-77.35', 'graph_id_-77.3', 'graph_id_-77.25', 'graph_id_-77.2', 'graph_id_-77.15', 'graph_id_-77.1', 'graph_id_-77.05', 'graph_id_-77.0', 'graph_id_-76.95', 'graph_id_-76.9', 'graph_id_-76.85', 'graph_id_-76.8', 'graph_id_-76.75', 'graph_id_-76.7', 'graph_id_-76.65', 'graph_id_-76.6', 'graph_id_-76.5', 'graph_id_-76.45', 'graph_id_-76.4', 'graph_id_-76.35', 'graph_id_-76.3', 'graph_id_-76.25', 'graph_id_-76.2', 'graph_id_-76.15', 'graph_id_-76.1', 'graph_id_-76.05', 'graph_id_-76.0', 'graph_id_-75.95', 'graph_id_-75.9', 'graph_id_-75.85', 'graph_id_-75.8', 'graph_id_-75.75', 'graph_id_-75.7', 'graph_id_-75.65', 'graph_id_-75.6', 'graph_id_-75.55', 'graph_id_-75.5', 'graph_id_-75.45', 'graph_id_-75.4', 'graph_id_-75.35', 'graph_id_-75.3', 'graph_id_-75.25', 'graph_id_-75.2', 'graph_id_-75.15', 'graph_id_-75.05', 'graph_id_-75.0', 'graph_id_-74.95', 'graph_id_-74.9', 'graph_id_-74.85', 'graph_id_-74.8', 'graph_id_-74.75', 'graph_id_-74.7', 'graph_id_-74.65', 'graph_id_-74.6', 'graph_id_-74.55', 'graph_id_-74.5', 'graph_id_-74.45', 'graph_id_-74.4', 'graph_id_-74.35', 'graph_id_-74.3', 'graph_id_-74.25', 'graph_id_-74.2', 'graph_id_-74.15', 'graph_id_-74.1', 'graph_id_-74.05', 'graph_id_-74.0', 'graph_id_-73.95', 'graph_id_-73.9', 'graph_id_-73.85', 'graph_id_-73.8', 'graph_id_-73.75', 'graph_id_-73.7', 'graph_id_-73.65', 'graph_id_-73.6', 'graph_id_-73.55', 'graph_id_-73.4', 'graph_id_-73.35', 'graph_id_-73.3', 'graph_id_-73.25', 'graph_id_-73.2', 'graph_id_-73.15', 'graph_id_-73.05', 'graph_id_-73.0', 'graph_id_-72.95', 'graph_id_-72.9', 'graph_id_-72.85', 'graph_id_-72.8', 'graph_id_-72.75', 'graph_id_-72.65', 'graph_id_-72.6', 'graph_id_-72.55', 'graph_id_-72.5', 'graph_id_-72.45', 'graph_id_-72.4', 'graph_id_-72.35', 'graph_id_-72.3', 'graph_id_-72.25', 'graph_id_-72.2', 'graph_id_-72.15', 'graph_id_-72.1', 'graph_id_-72.05', 'graph_id_-72.0', 'graph_id_-71.9', 'graph_id_-71.85', 'graph_id_-71.8', 'graph_id_-71.75', 'graph_id_-71.7', 'graph_id_-71.65', 'graph_id_-71.6', 'graph_id_-71.55', 'graph_id_-71.5', 'graph_id_-71.45', 'graph_id_-71.4', 'graph_id_-71.35', 'graph_id_-71.3', 'graph_id_-71.25', 'graph_id_-71.2', 'graph_id_-71.15', 'graph_id_-71.1', 'graph_id_-71.05', 'graph_id_-71.0', 'graph_id_-70.95', 'graph_id_-70.9', 'graph_id_-70.85', 'graph_id_-70.8', 'graph_id_-70.75', 'graph_id_-70.65', 'graph_id_-70.6', 'graph_id_-70.55', 'graph_id_-70.5', 'graph_id_-70.45', 'graph_id_-70.35', 'graph_id_-70.3', 'graph_id_-70.25', 'graph_id_-70.2', 'graph_id_-70.15', 'graph_id_-70.1', 'graph_id_-70.05', 'graph_id_-70.0', 'graph_id_-69.95', 'graph_id_-69.9', 'graph_id_-69.85', 'graph_id_-69.8', 'graph_id_-69.75', 'graph_id_-69.65', 'graph_id_-69.6', 'graph_id_-69.5', 'graph_id_-69.4', 'graph_id_-69.35', 'graph_id_-69.3', 'graph_id_-69.25', 'graph_id_-69.2', 'graph_id_-69.15', 'graph_id_-69.1', 'graph_id_-69.05', 'graph_id_-69.0', 'graph_id_-68.95', 'graph_id_-68.9', 'graph_id_-68.85', 'graph_id_-68.8', 'graph_id_-68.75', 'graph_id_-68.7', 'graph_id_-68.65', 'graph_id_-68.6', 'graph_id_-68.55', 'graph_id_-68.5', 'graph_id_-68.45', 'graph_id_-68.4', 'graph_id_-68.35', 'graph_id_-68.3', 'graph_id_-68.25', 'graph_id_-68.2', 'graph_id_-68.15', 'graph_id_-68.1', 'graph_id_-68.05', 'graph_id_-68.0', 'graph_id_-67.95', 'graph_id_-67.9', 'graph_id_-67.85', 'graph_id_-67.8', 'graph_id_-67.75', 'graph_id_-67.7', 'graph_id_-67.65', 'graph_id_-67.6', 'graph_id_-67.55', 'graph_id_-67.5', 'graph_id_-67.45', 'graph_id_-67.4', 'graph_id_-67.35', 'graph_id_-67.3', 'graph_id_-67.25', 'graph_id_-67.2', 'graph_id_-67.15', 'graph_id_-67.1', 'graph_id_-67.05', 'graph_id_-67.0', 'graph_id_-66.95', 'graph_id_-66.9', 'graph_id_-66.8', 'graph_id_-66.75', 'graph_id_-66.7', 'graph_id_-66.65', 'graph_id_-66.6', 'graph_id_-66.55', 'graph_id_-66.5', 'graph_id_-66.45', 'graph_id_-66.4', 'graph_id_-66.35', 'graph_id_-66.3', 'graph_id_-66.25', 'graph_id_-66.2', 'graph_id_-66.15', 'graph_id_-66.1', 'graph_id_-66.05', 'graph_id_-66.0', 'graph_id_-65.95', 'graph_id_-65.9', 'graph_id_-65.85', 'graph_id_-65.8', 'graph_id_-65.75', 'graph_id_-65.7', 'graph_id_-65.65', 'graph_id_-65.6', 'graph_id_-65.55', 'graph_id_-65.45', 'graph_id_-65.4', 'graph_id_-65.35', 'graph_id_-65.3', 'graph_id_-65.2', 'graph_id_-65.15', 'graph_id_-65.1', 'graph_id_-65.05', 'graph_id_-65.0', 'graph_id_-64.95', 'graph_id_-64.9', 'graph_id_-64.85', 'graph_id_-64.8', 'graph_id_-64.75', 'graph_id_-64.7', 'graph_id_-64.65', 'graph_id_-64.6', 'graph_id_-64.55', 'graph_id_-64.5', 'graph_id_-64.45', 'graph_id_-64.4', 'graph_id_-64.35', 'graph_id_-64.3', 'graph_id_-64.25', 'graph_id_-64.2', 'graph_id_-64.15', 'graph_id_-64.1', 'graph_id_-64.05', 'graph_id_-64.0', 'graph_id_-63.95', 'graph_id_-63.900000000000006', 'graph_id_-63.849999999999994', 'graph_id_-63.8', 'graph_id_-63.75', 'graph_id_-63.7', 'graph_id_-63.650000000000006', 'graph_id_-63.599999999999994', 'graph_id_-63.55', 'graph_id_-63.5', 'graph_id_-63.45', 'graph_id_-63.400000000000006', 'graph_id_-63.349999999999994', 'graph_id_-63.3', 'graph_id_-63.25', 'graph_id_-63.2', 'graph_id_-63.150000000000006', 'graph_id_-63.099999999999994', 'graph_id_-63.05', 'graph_id_-63.0', 'graph_id_-62.95', 'graph_id_-62.900000000000006', 'graph_id_-62.849999999999994', 'graph_id_-62.8', 'graph_id_-62.75', 'graph_id_-62.7', 'graph_id_-62.650000000000006', 'graph_id_-62.599999999999994', 'graph_id_-62.55', 'graph_id_-62.5', 'graph_id_-62.45', 'graph_id_-62.349999999999994', 'graph_id_-62.3', 'graph_id_-62.25', 'graph_id_-62.2', 'graph_id_-62.150000000000006', 'graph_id_-62.099999999999994', 'graph_id_-62.05', 'graph_id_-61.95', 'graph_id_-61.900000000000006', 'graph_id_-61.849999999999994', 'graph_id_-61.8', 'graph_id_-61.75', 'graph_id_-61.7', 'graph_id_-61.650000000000006', 'graph_id_-61.599999999999994', 'graph_id_-61.55', 'graph_id_-61.5', 'graph_id_-61.45', 'graph_id_-61.400000000000006', 'graph_id_-61.349999999999994', 'graph_id_-61.3', 'graph_id_-61.25', 'graph_id_-61.2', 'graph_id_-61.150000000000006', 'graph_id_-61.099999999999994', 'graph_id_-61.05', 'graph_id_-61.0', 'graph_id_-60.900000000000006', 'graph_id_-60.849999999999994', 'graph_id_-60.8', 'graph_id_-60.75', 'graph_id_-60.650000000000006', 'graph_id_-60.599999999999994', 'graph_id_-60.55', 'graph_id_-60.5', 'graph_id_-60.45', 'graph_id_-60.400000000000006', 'graph_id_-60.349999999999994', 'graph_id_-60.3', 'graph_id_-60.25', 'graph_id_-60.2', 'graph_id_-60.150000000000006', 'graph_id_-60.05', 'graph_id_-60.0', 'graph_id_-59.95', 'graph_id_-59.900000000000006', 'graph_id_-59.849999999999994', 'graph_id_-59.8', 'graph_id_-59.75', 'graph_id_-59.7', 'graph_id_-59.650000000000006', 'graph_id_-59.599999999999994', 'graph_id_-59.55', 'graph_id_-59.5', 'graph_id_-59.45', 'graph_id_-59.400000000000006', 'graph_id_-59.3', 'graph_id_-59.25', 'graph_id_-59.2', 'graph_id_-59.150000000000006', 'graph_id_-59.099999999999994', 'graph_id_-59.05', 'graph_id_-59.0', 'graph_id_-58.95', 'graph_id_-58.900000000000006', 'graph_id_-58.849999999999994', 'graph_id_-58.8', 'graph_id_-58.7', 'graph_id_-58.650000000000006', 'graph_id_-58.599999999999994', 'graph_id_-58.55', 'graph_id_-58.5', 'graph_id_-58.45', 'graph_id_-58.400000000000006', 'graph_id_-58.349999999999994', 'graph_id_-58.3', 'graph_id_-58.25', 'graph_id_-58.2', 'graph_id_-58.099999999999994', 'graph_id_-58.05', 'graph_id_-58.0', 'graph_id_-57.95', 'graph_id_-57.900000000000006', 'graph_id_-57.849999999999994', 'graph_id_-57.8', 'graph_id_-57.75', 'graph_id_-57.7', 'graph_id_-57.650000000000006', 'graph_id_-57.599999999999994', 'graph_id_-57.55', 'graph_id_-57.5', 'graph_id_-57.45', 'graph_id_-57.400000000000006', 'graph_id_-57.349999999999994', 'graph_id_-57.3', 'graph_id_-57.25', 'graph_id_-57.150000000000006', 'graph_id_-57.099999999999994', 'graph_id_-57.0', 'graph_id_-56.95', 'graph_id_-56.900000000000006', 'graph_id_-56.8', 'graph_id_-56.75', 'graph_id_-56.7', 'graph_id_-56.650000000000006', 'graph_id_-56.599999999999994', 'graph_id_-56.55', 'graph_id_-56.5', 'graph_id_-56.45', 'graph_id_-56.400000000000006', 'graph_id_-56.349999999999994', 'graph_id_-56.3', 'graph_id_-56.25', 'graph_id_-56.2', 'graph_id_-56.150000000000006', 'graph_id_-56.099999999999994', 'graph_id_-56.05', 'graph_id_-56.0', 'graph_id_-55.95', 'graph_id_-55.900000000000006', 'graph_id_-55.849999999999994', 'graph_id_-55.8', 'graph_id_-55.75', 'graph_id_-55.7', 'graph_id_-55.650000000000006', 'graph_id_-55.5', 'graph_id_-55.400000000000006', 'graph_id_-55.349999999999994', 'graph_id_-55.3', 'graph_id_-55.25', 'graph_id_-55.2', 'graph_id_-55.150000000000006', 'graph_id_-55.099999999999994', 'graph_id_-55.05', 'graph_id_-55.0', 'graph_id_-54.95', 'graph_id_-54.900000000000006', 'graph_id_-54.849999999999994', 'graph_id_-54.8', 'graph_id_-54.75', 'graph_id_-54.650000000000006', 'graph_id_-54.599999999999994', 'graph_id_-54.55', 'graph_id_-54.5', 'graph_id_-54.45', 'graph_id_-54.400000000000006', 'graph_id_-54.349999999999994', 'graph_id_-54.3', 'graph_id_-54.25', 'graph_id_-54.2', 'graph_id_-54.150000000000006', 'graph_id_-54.099999999999994', 'graph_id_-54.05', 'graph_id_-54.0', 'graph_id_-53.95', 'graph_id_-53.900000000000006', 'graph_id_-53.849999999999994', 'graph_id_-53.8', 'graph_id_-53.75', 'graph_id_-53.7', 'graph_id_-53.650000000000006', 'graph_id_-53.599999999999994', 'graph_id_-53.55', 'graph_id_-53.5', 'graph_id_-53.45', 'graph_id_-53.400000000000006', 'graph_id_-53.349999999999994', 'graph_id_-53.3', 'graph_id_-53.25', 'graph_id_-53.2', 'graph_id_-53.150000000000006', 'graph_id_-53.099999999999994', 'graph_id_-53.05', 'graph_id_-53.0', 'graph_id_-52.95', 'graph_id_-52.900000000000006', 'graph_id_-52.849999999999994', 'graph_id_-52.8', 'graph_id_-52.75', 'graph_id_-52.7', 'graph_id_-52.650000000000006', 'graph_id_-52.599999999999994', 'graph_id_-52.55', 'graph_id_-52.5', 'graph_id_-52.45', 'graph_id_-52.400000000000006', 'graph_id_-52.349999999999994', 'graph_id_-52.3', 'graph_id_-52.25', 'graph_id_-52.2', 'graph_id_-52.150000000000006', 'graph_id_-52.099999999999994', 'graph_id_-52.05', 'graph_id_-52.0', 'graph_id_-51.95', 'graph_id_-51.900000000000006', 'graph_id_-51.849999999999994', 'graph_id_-51.8', 'graph_id_-51.7', 'graph_id_-51.650000000000006', 'graph_id_-51.599999999999994', 'graph_id_-51.55', 'graph_id_-51.5', 'graph_id_-51.400000000000006', 'graph_id_-51.349999999999994', 'graph_id_-51.3', 'graph_id_-51.25', 'graph_id_-51.150000000000006', 'graph_id_-51.099999999999994', 'graph_id_-50.95', 'graph_id_-50.900000000000006', 'graph_id_-50.849999999999994', 'graph_id_-50.8', 'graph_id_-50.75', 'graph_id_-50.7', 'graph_id_-50.650000000000006', 'graph_id_-50.599999999999994', 'graph_id_-50.55', 'graph_id_-50.5', 'graph_id_-50.45', 'graph_id_-50.400000000000006', 'graph_id_-50.349999999999994', 'graph_id_-50.3', 'graph_id_-50.2', 'graph_id_-50.150000000000006', 'graph_id_-50.099999999999994', 'graph_id_-50.05', 'graph_id_-50.0', 'graph_id_-49.95', 'graph_id_-49.900000000000006', 'graph_id_-49.849999999999994', 'graph_id_-49.8', 'graph_id_-49.75', 'graph_id_-49.7', 'graph_id_-49.650000000000006', 'graph_id_-49.599999999999994', 'graph_id_-49.55', 'graph_id_-49.45', 'graph_id_-49.400000000000006', 'graph_id_-49.349999999999994', 'graph_id_-49.3', 'graph_id_-49.25', 'graph_id_-49.2', 'graph_id_-49.150000000000006', 'graph_id_-49.099999999999994', 'graph_id_-49.05', 'graph_id_-49.0', 'graph_id_-48.95', 'graph_id_-48.900000000000006', 'graph_id_-48.849999999999994', 'graph_id_-48.8', 'graph_id_-48.75', 'graph_id_-48.7', 'graph_id_-48.650000000000006', 'graph_id_-48.599999999999994', 'graph_id_-48.55', 'graph_id_-48.5', 'graph_id_-48.45', 'graph_id_-48.400000000000006', 'graph_id_-48.349999999999994', 'graph_id_-48.3', 'graph_id_-48.150000000000006', 'graph_id_-48.05', 'graph_id_-48.0', 'graph_id_-47.95', 'graph_id_-47.900000000000006', 'graph_id_-47.849999999999994', 'graph_id_-47.8', 'graph_id_-47.75', 'graph_id_-47.650000000000006', 'graph_id_-47.599999999999994', 'graph_id_-47.55', 'graph_id_-47.5', 'graph_id_-47.45', 'graph_id_-47.400000000000006', 'graph_id_-47.3', 'graph_id_-47.25', 'graph_id_-47.2', 'graph_id_-47.150000000000006', 'graph_id_-47.099999999999994', 'graph_id_-47.0', 'graph_id_-46.95', 'graph_id_-46.900000000000006', 'graph_id_-46.849999999999994', 'graph_id_-46.8', 'graph_id_-46.75', 'graph_id_-46.650000000000006', 'graph_id_-46.599999999999994', 'graph_id_-46.55', 'graph_id_-46.400000000000006', 'graph_id_-46.349999999999994', 'graph_id_-46.3', 'graph_id_-46.25', 'graph_id_-46.2', 'graph_id_-46.150000000000006', 'graph_id_-46.05', 'graph_id_-46.0', 'graph_id_-45.900000000000006', 'graph_id_-45.849999999999994', 'graph_id_-45.8', 'graph_id_-45.75', 'graph_id_-45.7', 'graph_id_-45.650000000000006', 'graph_id_-45.55', 'graph_id_-45.5', 'graph_id_-45.45', 'graph_id_-45.400000000000006', 'graph_id_-45.349999999999994', 'graph_id_-45.3', 'graph_id_-45.25', 'graph_id_-45.2', 'graph_id_-45.150000000000006', 'graph_id_-45.099999999999994', 'graph_id_-45.05', 'graph_id_-45.0', 'graph_id_-44.95', 'graph_id_-44.900000000000006', 'graph_id_-44.849999999999994', 'graph_id_-44.8', 'graph_id_-44.75', 'graph_id_-44.7', 'graph_id_-44.650000000000006', 'graph_id_-44.55', 'graph_id_-44.5', 'graph_id_-44.45', 'graph_id_-44.400000000000006', 'graph_id_-44.349999999999994', 'graph_id_-44.3', 'graph_id_-44.25', 'graph_id_-44.150000000000006', 'graph_id_-44.099999999999994', 'graph_id_-44.05', 'graph_id_-44.0', 'graph_id_-43.900000000000006', 'graph_id_-43.849999999999994', 'graph_id_-43.8', 'graph_id_-43.75', 'graph_id_-43.7', 'graph_id_-43.650000000000006', 'graph_id_-43.599999999999994', 'graph_id_-43.55', 'graph_id_-43.5', 'graph_id_-43.45', 'graph_id_-43.400000000000006', 'graph_id_-43.349999999999994', 'graph_id_-43.3', 'graph_id_-43.25', 'graph_id_-43.2', 'graph_id_-43.150000000000006', 'graph_id_-43.099999999999994', 'graph_id_-43.05', 'graph_id_-43.0', 'graph_id_-42.900000000000006', 'graph_id_-42.849999999999994', 'graph_id_-42.75', 'graph_id_-42.7', 'graph_id_-42.599999999999994', 'graph_id_-42.55', 'graph_id_-42.45', 'graph_id_-42.400000000000006', 'graph_id_-42.349999999999994', 'graph_id_-42.3', 'graph_id_-42.2', 'graph_id_-42.150000000000006', 'graph_id_-42.099999999999994', 'graph_id_-42.05', 'graph_id_-42.0', 'graph_id_-41.95', 'graph_id_-41.900000000000006', 'graph_id_-41.849999999999994', 'graph_id_-41.8', 'graph_id_-41.75', 'graph_id_-41.7', 'graph_id_-41.650000000000006', 'graph_id_-41.599999999999994', 'graph_id_-41.55', 'graph_id_-41.5', 'graph_id_-41.45', 'graph_id_-41.400000000000006', 'graph_id_-41.349999999999994', 'graph_id_-41.3', 'graph_id_-41.05', 'graph_id_-41.0', 'graph_id_-40.95', 'graph_id_-40.900000000000006', 'graph_id_-40.849999999999994', 'graph_id_-40.8', 'graph_id_-40.75', 'graph_id_-40.7', 'graph_id_-40.650000000000006', 'graph_id_-40.599999999999994', 'graph_id_-40.55', 'graph_id_-40.5', 'graph_id_-40.45', 'graph_id_-40.400000000000006', 'graph_id_-40.349999999999994', 'graph_id_-40.3', 'graph_id_-40.25', 'graph_id_-40.2', 'graph_id_-40.150000000000006', 'graph_id_-40.099999999999994', 'graph_id_-40.05', 'graph_id_-40.0', 'graph_id_-39.95', 'graph_id_-39.900000000000006', 'graph_id_-39.8', 'graph_id_-39.75', 'graph_id_-39.7', 'graph_id_-39.650000000000006', 'graph_id_-39.55', 'graph_id_-39.5', 'graph_id_-39.45', 'graph_id_-39.400000000000006', 'graph_id_-39.349999999999994', 'graph_id_-39.3', 'graph_id_-39.25', 'graph_id_-39.2', 'graph_id_-39.099999999999994', 'graph_id_-39.05', 'graph_id_-39.0', 'graph_id_-38.95', 'graph_id_-38.900000000000006', 'graph_id_-38.849999999999994', 'graph_id_-38.8', 'graph_id_-38.75', 'graph_id_-38.650000000000006', 'graph_id_-38.599999999999994', 'graph_id_-38.55', 'graph_id_-38.5', 'graph_id_-38.400000000000006', 'graph_id_-38.349999999999994', 'graph_id_-38.3', 'graph_id_-38.25', 'graph_id_-38.2', 'graph_id_-38.150000000000006', 'graph_id_-38.099999999999994', 'graph_id_-38.05', 'graph_id_-38.0', 'graph_id_-37.95', 'graph_id_-37.900000000000006', 'graph_id_-37.849999999999994', 'graph_id_-37.8', 'graph_id_-37.75', 'graph_id_-37.7', 'graph_id_-37.650000000000006', 'graph_id_-37.599999999999994', 'graph_id_-37.55', 'graph_id_-37.5', 'graph_id_-37.45', 'graph_id_-37.400000000000006', 'graph_id_-37.349999999999994', 'graph_id_-37.3', 'graph_id_-37.25', 'graph_id_-37.2', 'graph_id_-37.150000000000006', 'graph_id_-37.099999999999994', 'graph_id_-37.05', 'graph_id_-37.0', 'graph_id_-36.95', 'graph_id_-36.900000000000006', 'graph_id_-36.849999999999994', 'graph_id_-36.8', 'graph_id_-36.75', 'graph_id_-36.650000000000006', 'graph_id_-36.599999999999994', 'graph_id_-36.5', 'graph_id_-36.45', 'graph_id_-36.400000000000006', 'graph_id_-36.349999999999994', 'graph_id_-36.3', 'graph_id_-36.25', 'graph_id_-36.099999999999994', 'graph_id_-36.05', 'graph_id_-36.0', 'graph_id_-35.95', 'graph_id_-35.900000000000006', 'graph_id_-35.849999999999994', 'graph_id_-35.8', 'graph_id_-35.75', 'graph_id_-35.7', 'graph_id_-35.650000000000006', 'graph_id_-35.599999999999994', 'graph_id_-35.55', 'graph_id_-35.5', 'graph_id_-35.45', 'graph_id_-35.400000000000006', 'graph_id_-35.349999999999994', 'graph_id_-35.3', 'graph_id_-35.25', 'graph_id_-35.099999999999994', 'graph_id_-35.05', 'graph_id_-35.0', 'graph_id_-34.95', 'graph_id_-34.900000000000006', 'graph_id_-34.849999999999994', 'graph_id_-34.75', 'graph_id_-34.7', 'graph_id_-34.650000000000006', 'graph_id_-34.599999999999994', 'graph_id_-34.55', 'graph_id_-34.5', 'graph_id_-34.45', 'graph_id_-34.400000000000006', 'graph_id_-34.349999999999994', 'graph_id_-34.3', 'graph_id_-34.25', 'graph_id_-34.2', 'graph_id_-34.150000000000006', 'graph_id_-34.05', 'graph_id_-34.0', 'graph_id_-33.95', 'graph_id_-33.900000000000006', 'graph_id_-33.849999999999994', 'graph_id_-33.8', 'graph_id_-33.75', 'graph_id_-33.650000000000006', 'graph_id_-33.599999999999994', 'graph_id_-33.55', 'graph_id_-33.5', 'graph_id_-33.45', 'graph_id_-33.400000000000006', 'graph_id_-33.349999999999994', 'graph_id_-33.3', 'graph_id_-33.25', 'graph_id_-33.2', 'graph_id_-33.150000000000006', 'graph_id_-33.099999999999994', 'graph_id_-33.05', 'graph_id_-33.0', 'graph_id_-32.95', 'graph_id_-32.900000000000006', 'graph_id_-32.849999999999994', 'graph_id_-32.8', 'graph_id_-32.75', 'graph_id_-32.7', 'graph_id_-32.650000000000006', 'graph_id_-32.599999999999994', 'graph_id_-32.5', 'graph_id_-32.45', 'graph_id_-32.400000000000006', 'graph_id_-32.3', 'graph_id_-32.25', 'graph_id_-32.2', 'graph_id_-32.150000000000006', 'graph_id_-32.099999999999994', 'graph_id_-32.05', 'graph_id_-32.0', 'graph_id_-31.950000000000003', 'graph_id_-31.900000000000006', 'graph_id_-31.849999999999994', 'graph_id_-31.799999999999997', 'graph_id_-31.75', 'graph_id_-31.700000000000003', 'graph_id_-31.650000000000006', 'graph_id_-31.599999999999994', 'graph_id_-31.549999999999997', 'graph_id_-31.5', 'graph_id_-31.450000000000003', 'graph_id_-31.400000000000006', 'graph_id_-31.349999999999994', 'graph_id_-31.299999999999997', 'graph_id_-31.25', 'graph_id_-31.200000000000003', 'graph_id_-31.150000000000006', 'graph_id_-31.099999999999994', 'graph_id_-31.049999999999997', 'graph_id_-31.0', 'graph_id_-30.950000000000003', 'graph_id_-30.900000000000006', 'graph_id_-30.849999999999994', 'graph_id_-30.799999999999997', 'graph_id_-30.75', 'graph_id_-30.650000000000006', 'graph_id_-30.599999999999994', 'graph_id_-30.5', 'graph_id_-30.450000000000003', 'graph_id_-30.400000000000006', 'graph_id_-30.349999999999994', 'graph_id_-30.299999999999997', 'graph_id_-30.25', 'graph_id_-30.200000000000003', 'graph_id_-30.150000000000006', 'graph_id_-30.099999999999994', 'graph_id_-30.049999999999997', 'graph_id_-30.0', 'graph_id_-29.950000000000003', 'graph_id_-29.900000000000006', 'graph_id_-29.849999999999994', 'graph_id_-29.799999999999997', 'graph_id_-29.75', 'graph_id_-29.700000000000003', 'graph_id_-29.650000000000006', 'graph_id_-29.599999999999994', 'graph_id_-29.549999999999997', 'graph_id_-29.400000000000006', 'graph_id_-29.349999999999994', 'graph_id_-29.299999999999997', 'graph_id_-29.25', 'graph_id_-29.200000000000003', 'graph_id_-29.150000000000006', 'graph_id_-29.049999999999997', 'graph_id_-29.0', 'graph_id_-28.950000000000003', 'graph_id_-28.900000000000006', 'graph_id_-28.849999999999994', 'graph_id_-28.799999999999997', 'graph_id_-28.75', 'graph_id_-28.700000000000003', 'graph_id_-28.650000000000006', 'graph_id_-28.599999999999994', 'graph_id_-28.549999999999997', 'graph_id_-28.5', 'graph_id_-28.450000000000003', 'graph_id_-28.400000000000006', 'graph_id_-28.349999999999994', 'graph_id_-28.299999999999997', 'graph_id_-28.25', 'graph_id_-28.200000000000003', 'graph_id_-28.150000000000006', 'graph_id_-28.099999999999994', 'graph_id_-28.049999999999997', 'graph_id_-28.0', 'graph_id_-27.950000000000003', 'graph_id_-27.900000000000006', 'graph_id_-27.849999999999994', 'graph_id_-27.799999999999997', 'graph_id_-27.75', 'graph_id_-27.700000000000003', 'graph_id_-27.650000000000006', 'graph_id_-27.599999999999994', 'graph_id_-27.549999999999997', 'graph_id_-27.450000000000003', 'graph_id_-27.299999999999997', 'graph_id_-27.25', 'graph_id_-27.200000000000003', 'graph_id_-27.150000000000006', 'graph_id_-27.099999999999994', 'graph_id_-27.049999999999997', 'graph_id_-27.0', 'graph_id_-26.950000000000003', 'graph_id_-26.900000000000006', 'graph_id_-26.849999999999994', 'graph_id_-26.799999999999997', 'graph_id_-26.700000000000003', 'graph_id_-26.650000000000006', 'graph_id_-26.599999999999994', 'graph_id_-26.549999999999997', 'graph_id_-26.450000000000003', 'graph_id_-26.400000000000006', 'graph_id_-26.349999999999994', 'graph_id_-26.299999999999997', 'graph_id_-26.200000000000003', 'graph_id_-26.150000000000006', 'graph_id_-26.099999999999994', 'graph_id_-26.049999999999997', 'graph_id_-26.0', 'graph_id_-25.950000000000003', 'graph_id_-25.900000000000006', 'graph_id_-25.849999999999994', 'graph_id_-25.799999999999997', 'graph_id_-25.75', 'graph_id_-25.700000000000003', 'graph_id_-25.650000000000006', 'graph_id_-25.599999999999994', 'graph_id_-25.5', 'graph_id_-25.450000000000003', 'graph_id_-25.400000000000006', 'graph_id_-25.349999999999994', 'graph_id_-25.299999999999997', 'graph_id_-25.25', 'graph_id_-25.200000000000003', 'graph_id_-25.150000000000006', 'graph_id_-25.099999999999994', 'graph_id_-25.0', 'graph_id_-24.950000000000003', 'graph_id_-24.900000000000006', 'graph_id_-24.849999999999994', 'graph_id_-24.799999999999997', 'graph_id_-24.75', 'graph_id_-24.650000000000006', 'graph_id_-24.599999999999994', 'graph_id_-24.549999999999997', 'graph_id_-24.5', 'graph_id_-24.450000000000003', 'graph_id_-24.400000000000006', 'graph_id_-24.349999999999994', 'graph_id_-24.299999999999997', 'graph_id_-24.25', 'graph_id_-24.200000000000003', 'graph_id_-24.099999999999994', 'graph_id_-24.049999999999997', 'graph_id_-24.0', 'graph_id_-23.950000000000003', 'graph_id_-23.900000000000006', 'graph_id_-23.849999999999994', 'graph_id_-23.799999999999997', 'graph_id_-23.75', 'graph_id_-23.650000000000006', 'graph_id_-23.599999999999994', 'graph_id_-23.549999999999997', 'graph_id_-23.5', 'graph_id_-23.450000000000003', 'graph_id_-23.400000000000006', 'graph_id_-23.349999999999994', 'graph_id_-23.299999999999997', 'graph_id_-23.25', 'graph_id_-23.200000000000003', 'graph_id_-23.150000000000006', 'graph_id_-23.099999999999994', 'graph_id_-23.049999999999997', 'graph_id_-23.0', 'graph_id_-22.950000000000003', 'graph_id_-22.900000000000006', 'graph_id_-22.849999999999994', 'graph_id_-22.799999999999997', 'graph_id_-22.75', 'graph_id_-22.650000000000006', 'graph_id_-22.599999999999994', 'graph_id_-22.549999999999997', 'graph_id_-22.5', 'graph_id_-22.450000000000003', 'graph_id_-22.400000000000006', 'graph_id_-22.349999999999994', 'graph_id_-22.299999999999997', 'graph_id_-22.200000000000003', 'graph_id_-22.150000000000006', 'graph_id_-22.099999999999994', 'graph_id_-22.049999999999997', 'graph_id_-22.0', 'graph_id_-21.950000000000003', 'graph_id_-21.849999999999994', 'graph_id_-21.799999999999997', 'graph_id_-21.700000000000003', 'graph_id_-21.650000000000006', 'graph_id_-21.599999999999994', 'graph_id_-21.549999999999997', 'graph_id_-21.450000000000003', 'graph_id_-21.400000000000006', 'graph_id_-21.349999999999994', 'graph_id_-21.299999999999997', 'graph_id_-21.25', 'graph_id_-21.200000000000003', 'graph_id_-21.150000000000006', 'graph_id_-21.049999999999997', 'graph_id_-21.0', 'graph_id_-20.900000000000006', 'graph_id_-20.849999999999994', 'graph_id_-20.799999999999997', 'graph_id_-20.75', 'graph_id_-20.700000000000003', 'graph_id_-20.650000000000006', 'graph_id_-20.599999999999994', 'graph_id_-20.5', 'graph_id_-20.450000000000003', 'graph_id_-20.400000000000006', 'graph_id_-20.349999999999994', 'graph_id_-20.299999999999997', 'graph_id_-20.25', 'graph_id_-20.200000000000003', 'graph_id_-20.150000000000006', 'graph_id_-20.099999999999994', 'graph_id_-20.049999999999997', 'graph_id_-20.0', 'graph_id_-19.950000000000003', 'graph_id_-19.900000000000006', 'graph_id_-19.849999999999994', 'graph_id_-19.799999999999997', 'graph_id_-19.700000000000003', 'graph_id_-19.650000000000006', 'graph_id_-19.450000000000003', 'graph_id_-19.400000000000006', 'graph_id_-19.349999999999994', 'graph_id_-19.299999999999997', 'graph_id_-19.25', 'graph_id_-19.150000000000006', 'graph_id_-19.099999999999994', 'graph_id_-19.049999999999997', 'graph_id_-18.950000000000003', 'graph_id_-18.900000000000006', 'graph_id_-18.849999999999994', 'graph_id_-18.799999999999997', 'graph_id_-18.75', 'graph_id_-18.700000000000003', 'graph_id_-18.650000000000006', 'graph_id_-18.599999999999994', 'graph_id_-18.549999999999997', 'graph_id_-18.450000000000003', 'graph_id_-18.400000000000006', 'graph_id_-18.349999999999994', 'graph_id_-18.299999999999997', 'graph_id_-18.25', 'graph_id_-18.150000000000006', 'graph_id_-18.099999999999994', 'graph_id_-18.0', 'graph_id_-17.900000000000006', 'graph_id_-17.849999999999994', 'graph_id_-17.799999999999997', 'graph_id_-17.650000000000006', 'graph_id_-17.599999999999994', 'graph_id_-17.549999999999997', 'graph_id_-17.5', 'graph_id_-17.450000000000003', 'graph_id_-17.400000000000006', 'graph_id_-17.349999999999994', 'graph_id_-17.299999999999997', 'graph_id_-17.25', 'graph_id_-17.200000000000003', 'graph_id_-17.150000000000006', 'graph_id_-17.099999999999994', 'graph_id_-17.049999999999997', 'graph_id_-17.0', 'graph_id_-16.950000000000003', 'graph_id_-16.900000000000006', 'graph_id_-16.849999999999994', 'graph_id_-16.799999999999997', 'graph_id_-16.75', 'graph_id_-16.700000000000003', 'graph_id_-16.650000000000006', 'graph_id_-16.599999999999994', 'graph_id_-16.549999999999997', 'graph_id_-16.5', 'graph_id_-16.450000000000003', 'graph_id_-16.400000000000006', 'graph_id_-16.349999999999994', 'graph_id_-16.299999999999997', 'graph_id_-16.25', 'graph_id_-16.200000000000003', 'graph_id_-16.150000000000006', 'graph_id_-16.099999999999994', 'graph_id_-16.049999999999997', 'graph_id_-16.0', 'graph_id_-15.900000000000006', 'graph_id_-15.849999999999994', 'graph_id_-15.799999999999997', 'graph_id_-15.75', 'graph_id_-15.700000000000003', 'graph_id_-15.650000000000006', 'graph_id_-15.599999999999994', 'graph_id_-15.549999999999997', 'graph_id_-15.5', 'graph_id_-15.450000000000003', 'graph_id_-15.400000000000006', 'graph_id_-15.349999999999994', 'graph_id_-15.299999999999997', 'graph_id_-15.25', 'graph_id_-15.200000000000003', 'graph_id_-15.150000000000006', 'graph_id_-15.099999999999994', 'graph_id_-15.049999999999997', 'graph_id_-15.0', 'graph_id_-14.950000000000003', 'graph_id_-14.900000000000006', 'graph_id_-14.849999999999994', 'graph_id_-14.799999999999997', 'graph_id_-14.75', 'graph_id_-14.700000000000003', 'graph_id_-14.650000000000006', 'graph_id_-14.599999999999994', 'graph_id_-14.549999999999997', 'graph_id_-14.5', 'graph_id_-14.400000000000006', 'graph_id_-14.349999999999994', 'graph_id_-14.299999999999997', 'graph_id_-14.25', 'graph_id_-14.150000000000006', 'graph_id_-14.099999999999994', 'graph_id_-14.049999999999997', 'graph_id_-14.0', 'graph_id_-13.950000000000003', 'graph_id_-13.900000000000006', 'graph_id_-13.849999999999994', 'graph_id_-13.799999999999997', 'graph_id_-13.75', 'graph_id_-13.700000000000003', 'graph_id_-13.650000000000006', 'graph_id_-13.549999999999997', 'graph_id_-13.450000000000003', 'graph_id_-13.400000000000006', 'graph_id_-13.349999999999994', 'graph_id_-13.299999999999997', 'graph_id_-13.200000000000003', 'graph_id_-13.150000000000006', 'graph_id_-13.099999999999994', 'graph_id_-13.049999999999997', 'graph_id_-13.0', 'graph_id_-12.950000000000003', 'graph_id_-12.900000000000006', 'graph_id_-12.849999999999994', 'graph_id_-12.799999999999997', 'graph_id_-12.75', 'graph_id_-12.700000000000003', 'graph_id_-12.650000000000006', 'graph_id_-12.5', 'graph_id_-12.400000000000006', 'graph_id_-12.349999999999994', 'graph_id_-12.299999999999997', 'graph_id_-12.25', 'graph_id_-12.200000000000003', 'graph_id_-12.099999999999994', 'graph_id_-12.049999999999997', 'graph_id_-12.0', 'graph_id_-11.950000000000003', 'graph_id_-11.900000000000006', 'graph_id_-11.849999999999994', 'graph_id_-11.799999999999997', 'graph_id_-11.700000000000003', 'graph_id_-11.650000000000006', 'graph_id_-11.549999999999997', 'graph_id_-11.5', 'graph_id_-11.450000000000003', 'graph_id_-11.400000000000006', 'graph_id_-11.349999999999994', 'graph_id_-11.299999999999997', 'graph_id_-11.25', 'graph_id_-11.200000000000003', 'graph_id_-11.150000000000006', 'graph_id_-11.099999999999994', 'graph_id_-11.049999999999997', 'graph_id_-11.0', 'graph_id_-10.950000000000003', 'graph_id_-10.900000000000006', 'graph_id_-10.849999999999994', 'graph_id_-10.75', 'graph_id_-10.700000000000003', 'graph_id_-10.650000000000006', 'graph_id_-10.599999999999994', 'graph_id_-10.549999999999997', 'graph_id_-10.5', 'graph_id_-10.450000000000003', 'graph_id_-10.400000000000006', 'graph_id_-10.349999999999994', 'graph_id_-10.299999999999997', 'graph_id_-10.25', 'graph_id_-10.200000000000003', 'graph_id_-10.150000000000006', 'graph_id_-10.099999999999994', 'graph_id_-10.049999999999997', 'graph_id_-10.0', 'graph_id_-9.950000000000003', 'graph_id_-9.900000000000006', 'graph_id_-9.849999999999994', 'graph_id_-9.799999999999997', 'graph_id_-9.700000000000003', 'graph_id_-9.650000000000006', 'graph_id_-9.549999999999997', 'graph_id_-9.450000000000003', 'graph_id_-9.400000000000006', 'graph_id_-9.349999999999994', 'graph_id_-9.299999999999997', 'graph_id_-9.25', 'graph_id_-9.200000000000003', 'graph_id_-9.150000000000006', 'graph_id_-9.099999999999994', 'graph_id_-9.049999999999997', 'graph_id_-9.0', 'graph_id_-8.950000000000003', 'graph_id_-8.900000000000006', 'graph_id_-8.849999999999994', 'graph_id_-8.799999999999997', 'graph_id_-8.700000000000003', 'graph_id_-8.650000000000006', 'graph_id_-8.599999999999994', 'graph_id_-8.549999999999997', 'graph_id_-8.450000000000003', 'graph_id_-8.400000000000006', 'graph_id_-8.349999999999994', 'graph_id_-8.299999999999997', 'graph_id_-8.25', 'graph_id_-8.099999999999994', 'graph_id_-8.049999999999997', 'graph_id_-8.0', 'graph_id_-7.950000000000003', 'graph_id_-7.900000000000006', 'graph_id_-7.849999999999994', 'graph_id_-7.799999999999997', 'graph_id_-7.75', 'graph_id_-7.700000000000003', 'graph_id_-7.650000000000006', 'graph_id_-7.599999999999994', 'graph_id_-7.549999999999997', 'graph_id_-7.450000000000003', 'graph_id_-7.400000000000006', 'graph_id_-7.349999999999994', 'graph_id_-7.299999999999997', 'graph_id_-7.25', 'graph_id_-7.049999999999997', 'graph_id_-7.0', 'graph_id_-6.950000000000003', 'graph_id_-6.900000000000006', 'graph_id_-6.849999999999994', 'graph_id_-6.799999999999997', 'graph_id_-6.75', 'graph_id_-6.700000000000003', 'graph_id_-6.650000000000006', 'graph_id_-6.599999999999994', 'graph_id_-6.5', 'graph_id_-6.400000000000006', 'graph_id_-6.349999999999994', 'graph_id_-6.299999999999997', 'graph_id_-6.200000000000003', 'graph_id_-6.049999999999997', 'graph_id_-6.0', 'graph_id_-5.950000000000003', 'graph_id_-5.900000000000006', 'graph_id_-5.849999999999994', 'graph_id_-5.799999999999997', 'graph_id_-5.75', 'graph_id_-5.700000000000003', 'graph_id_-5.650000000000006', 'graph_id_-5.599999999999994', 'graph_id_-5.450000000000003', 'graph_id_-5.400000000000006', 'graph_id_-5.349999999999994', 'graph_id_-5.299999999999997', 'graph_id_-5.25', 'graph_id_-5.200000000000003', 'graph_id_-5.150000000000006', 'graph_id_-5.099999999999994', 'graph_id_-5.049999999999997', 'graph_id_-5.0', 'graph_id_-4.950000000000003', 'graph_id_-4.900000000000006', 'graph_id_-4.849999999999994', 'graph_id_-4.799999999999997', 'graph_id_-4.75', 'graph_id_-4.700000000000003', 'graph_id_-4.650000000000006', 'graph_id_-4.599999999999994', 'graph_id_-4.5', 'graph_id_-4.450000000000003', 'graph_id_-4.400000000000006', 'graph_id_-4.349999999999994', 'graph_id_-4.299999999999997', 'graph_id_-4.25', 'graph_id_-4.200000000000003', 'graph_id_-4.099999999999994', 'graph_id_-4.0', 'graph_id_-3.950000000000003', 'graph_id_-3.9000000000000057', 'graph_id_-3.8499999999999943', 'graph_id_-3.799999999999997', 'graph_id_-3.75', 'graph_id_-3.700000000000003', 'graph_id_-3.6500000000000057', 'graph_id_-3.5999999999999943', 'graph_id_-3.549999999999997', 'graph_id_-3.5', 'graph_id_-3.3499999999999943', 'graph_id_-3.299999999999997', 'graph_id_-3.25', 'graph_id_-3.200000000000003', 'graph_id_-3.1500000000000057', 'graph_id_-3.0999999999999943', 'graph_id_-3.049999999999997', 'graph_id_-3.0', 'graph_id_-2.950000000000003', 'graph_id_-2.9000000000000057', 'graph_id_-2.799999999999997', 'graph_id_-2.75', 'graph_id_-2.700000000000003', 'graph_id_-2.6500000000000057', 'graph_id_-2.5999999999999943', 'graph_id_-2.549999999999997', 'graph_id_-2.4000000000000057', 'graph_id_-2.3499999999999943', 'graph_id_-2.299999999999997', 'graph_id_-2.25', 'graph_id_-2.1500000000000057', 'graph_id_-2.0999999999999943', 'graph_id_-2.049999999999997', 'graph_id_-2.0', 'graph_id_-1.9500000000000028', 'graph_id_-1.9000000000000057', 'graph_id_-1.8499999999999943', 'graph_id_-1.7999999999999972', 'graph_id_-1.7000000000000028', 'graph_id_-1.6500000000000057', 'graph_id_-1.5999999999999943', 'graph_id_-1.5', 'graph_id_-1.4500000000000028', 'graph_id_-1.4000000000000057', 'graph_id_-1.2999999999999972', 'graph_id_-1.25', 'graph_id_-1.1500000000000057', 'graph_id_-1.0999999999999943', 'graph_id_-1.0499999999999972', 'graph_id_-1.0', 'graph_id_-0.9500000000000028', 'graph_id_-0.9000000000000057', 'graph_id_-0.8499999999999943', 'graph_id_-0.7999999999999972', 'graph_id_-0.75', 'graph_id_-0.7000000000000028', 'graph_id_-0.5499999999999972', 'graph_id_-0.5', 'graph_id_-0.45000000000000284', 'graph_id_-0.4000000000000057', 'graph_id_-0.29999999999999716', 'graph_id_-0.09999999999999432', 'graph_id_-0.04999999999999716', 'graph_id_0.0', 'graph_id_0.04999999999999716', 'graph_id_0.09999999999999432', 'graph_id_0.15000000000000568', 'graph_id_0.20000000000000284', 'graph_id_0.25', 'graph_id_0.3499999999999943', 'graph_id_0.5', 'graph_id_0.5499999999999972', 'graph_id_0.5999999999999943', 'graph_id_0.6500000000000057', 'graph_id_0.75', 'graph_id_0.7999999999999972', 'graph_id_0.8499999999999943', 'graph_id_0.9000000000000057', 'graph_id_0.9500000000000028', 'graph_id_1.0', 'graph_id_1.0499999999999972', 'graph_id_1.0999999999999943', 'graph_id_1.1500000000000057', 'graph_id_1.2000000000000028', 'graph_id_1.25', 'graph_id_1.3499999999999943', 'graph_id_1.4000000000000057', 'graph_id_1.4500000000000028', 'graph_id_1.5', 'graph_id_1.5499999999999972', 'graph_id_1.5999999999999943', 'graph_id_1.6500000000000057', 'graph_id_1.7000000000000028', 'graph_id_1.7999999999999972', 'graph_id_1.8499999999999943', 'graph_id_1.9000000000000057', 'graph_id_1.9500000000000028', 'graph_id_2.0', 'graph_id_2.049999999999997', 'graph_id_2.0999999999999943', 'graph_id_2.1500000000000057', 'graph_id_2.200000000000003', 'graph_id_2.25', 'graph_id_2.299999999999997', 'graph_id_2.3499999999999943', 'graph_id_2.4000000000000057', 'graph_id_2.450000000000003', 'graph_id_2.5', 'graph_id_2.5999999999999943', 'graph_id_2.6500000000000057', 'graph_id_2.700000000000003', 'graph_id_2.75', 'graph_id_2.799999999999997', 'graph_id_2.8499999999999943', 'graph_id_2.9000000000000057', 'graph_id_2.950000000000003', 'graph_id_3.0', 'graph_id_3.049999999999997', 'graph_id_3.0999999999999943', 'graph_id_3.1500000000000057', 'graph_id_3.200000000000003', 'graph_id_3.25', 'graph_id_3.299999999999997', 'graph_id_3.3499999999999943', 'graph_id_3.4000000000000057', 'graph_id_3.450000000000003', 'graph_id_3.5', 'graph_id_3.6500000000000057', 'graph_id_3.700000000000003', 'graph_id_3.75', 'graph_id_3.799999999999997', 'graph_id_3.8499999999999943', 'graph_id_3.9000000000000057', 'graph_id_4.0', 'graph_id_4.049999999999997', 'graph_id_4.099999999999994', 'graph_id_4.150000000000006', 'graph_id_4.200000000000003', 'graph_id_4.25', 'graph_id_4.299999999999997', 'graph_id_4.349999999999994', 'graph_id_4.400000000000006', 'graph_id_4.450000000000003', 'graph_id_4.599999999999994', 'graph_id_4.650000000000006', 'graph_id_4.700000000000003', 'graph_id_4.75', 'graph_id_4.799999999999997', 'graph_id_4.849999999999994', 'graph_id_4.950000000000003', 'graph_id_5.0', 'graph_id_5.049999999999997', 'graph_id_5.099999999999994', 'graph_id_5.150000000000006', 'graph_id_5.200000000000003', 'graph_id_5.25', 'graph_id_5.299999999999997', 'graph_id_5.349999999999994', 'graph_id_5.400000000000006', 'graph_id_5.450000000000003', 'graph_id_5.549999999999997', 'graph_id_5.599999999999994', 'graph_id_5.650000000000006', 'graph_id_5.75', 'graph_id_5.799999999999997', 'graph_id_5.849999999999994', 'graph_id_5.900000000000006', 'graph_id_5.950000000000003', 'graph_id_6.049999999999997', 'graph_id_6.099999999999994', 'graph_id_6.150000000000006', 'graph_id_6.200000000000003', 'graph_id_6.25', 'graph_id_6.299999999999997', 'graph_id_6.349999999999994', 'graph_id_6.400000000000006', 'graph_id_6.450000000000003', 'graph_id_6.5', 'graph_id_6.549999999999997', 'graph_id_6.599999999999994', 'graph_id_6.650000000000006', 'graph_id_6.700000000000003', 'graph_id_6.75', 'graph_id_6.799999999999997', 'graph_id_6.849999999999994', 'graph_id_6.900000000000006', 'graph_id_6.950000000000003', 'graph_id_7.0', 'graph_id_7.049999999999997', 'graph_id_7.099999999999994', 'graph_id_7.150000000000006', 'graph_id_7.200000000000003', 'graph_id_7.25', 'graph_id_7.299999999999997', 'graph_id_7.349999999999994', 'graph_id_7.400000000000006', 'graph_id_7.450000000000003', 'graph_id_7.5', 'graph_id_7.599999999999994', 'graph_id_7.650000000000006', 'graph_id_7.700000000000003', 'graph_id_7.75', 'graph_id_7.799999999999997', 'graph_id_7.849999999999994', 'graph_id_7.900000000000006', 'graph_id_7.950000000000003', 'graph_id_8.0', 'graph_id_8.049999999999997', 'graph_id_8.099999999999994', 'graph_id_8.150000000000006', 'graph_id_8.200000000000003', 'graph_id_8.25', 'graph_id_8.349999999999994', 'graph_id_8.400000000000006', 'graph_id_8.5', 'graph_id_8.549999999999997', 'graph_id_8.599999999999994', 'graph_id_8.650000000000006', 'graph_id_8.700000000000003', 'graph_id_8.75', 'graph_id_8.799999999999997', 'graph_id_8.849999999999994', 'graph_id_8.900000000000006', 'graph_id_8.950000000000003', 'graph_id_9.0', 'graph_id_9.049999999999997', 'graph_id_9.099999999999994', 'graph_id_9.150000000000006', 'graph_id_9.200000000000003', 'graph_id_9.25', 'graph_id_9.299999999999997', 'graph_id_9.349999999999994', 'graph_id_9.400000000000006', 'graph_id_9.450000000000003', 'graph_id_9.5', 'graph_id_9.549999999999997', 'graph_id_9.599999999999994', 'graph_id_9.650000000000006', 'graph_id_9.700000000000003', 'graph_id_9.799999999999997', 'graph_id_9.849999999999994', 'graph_id_9.950000000000003', 'graph_id_10.0', 'graph_id_10.049999999999997', 'graph_id_10.150000000000006', 'graph_id_10.200000000000003', 'graph_id_10.25', 'graph_id_10.299999999999997', 'graph_id_10.349999999999994', 'graph_id_10.400000000000006', 'graph_id_10.450000000000003', 'graph_id_10.549999999999997', 'graph_id_10.599999999999994', 'graph_id_10.700000000000003', 'graph_id_10.75', 'graph_id_10.799999999999997', 'graph_id_10.900000000000006', 'graph_id_10.950000000000003', 'graph_id_11.0', 'graph_id_11.049999999999997', 'graph_id_11.099999999999994', 'graph_id_11.150000000000006', 'graph_id_11.200000000000003', 'graph_id_11.25', 'graph_id_11.349999999999994', 'graph_id_11.400000000000006', 'graph_id_11.450000000000003', 'graph_id_11.5', 'graph_id_11.599999999999994', 'graph_id_11.650000000000006', 'graph_id_11.700000000000003', 'graph_id_11.75', 'graph_id_11.799999999999997', 'graph_id_11.950000000000003', 'graph_id_12.0', 'graph_id_12.049999999999997', 'graph_id_12.099999999999994', 'graph_id_12.150000000000006', 'graph_id_12.200000000000003', 'graph_id_12.299999999999997', 'graph_id_12.349999999999994', 'graph_id_12.400000000000006', 'graph_id_12.5', 'graph_id_12.549999999999997', 'graph_id_12.599999999999994', 'graph_id_12.650000000000006', 'graph_id_12.700000000000003', 'graph_id_12.75', 'graph_id_12.799999999999997', 'graph_id_12.849999999999994', 'graph_id_12.900000000000006', 'graph_id_13.0', 'graph_id_13.049999999999997', 'graph_id_13.099999999999994', 'graph_id_13.150000000000006', 'graph_id_13.200000000000003', 'graph_id_13.25', 'graph_id_13.299999999999997', 'graph_id_13.349999999999994', 'graph_id_13.400000000000006', 'graph_id_13.450000000000003', 'graph_id_13.5', 'graph_id_13.549999999999997', 'graph_id_13.599999999999994', 'graph_id_13.650000000000006', 'graph_id_13.700000000000003', 'graph_id_13.75', 'graph_id_13.799999999999997', 'graph_id_13.849999999999994', 'graph_id_13.900000000000006', 'graph_id_14.049999999999997', 'graph_id_14.099999999999994', 'graph_id_14.150000000000006', 'graph_id_14.200000000000003', 'graph_id_14.25', 'graph_id_14.299999999999997', 'graph_id_14.349999999999994', 'graph_id_14.400000000000006', 'graph_id_14.450000000000003', 'graph_id_14.5', 'graph_id_14.549999999999997', 'graph_id_14.599999999999994', 'graph_id_14.650000000000006', 'graph_id_14.700000000000003', 'graph_id_14.849999999999994', 'graph_id_14.900000000000006', 'graph_id_14.950000000000003', 'graph_id_15.0', 'graph_id_15.049999999999997', 'graph_id_15.099999999999994', 'graph_id_15.150000000000006', 'graph_id_15.200000000000003', 'graph_id_15.25', 'graph_id_15.349999999999994', 'graph_id_15.400000000000006', 'graph_id_15.450000000000003', 'graph_id_15.5', 'graph_id_15.549999999999997', 'graph_id_15.599999999999994', 'graph_id_15.650000000000006', 'graph_id_15.700000000000003', 'graph_id_15.75', 'graph_id_15.950000000000003', 'graph_id_16.0', 'graph_id_16.049999999999997', 'graph_id_16.099999999999994', 'graph_id_16.150000000000006', 'graph_id_16.200000000000003', 'graph_id_16.25', 'graph_id_16.349999999999994', 'graph_id_16.400000000000006', 'graph_id_16.450000000000003', 'graph_id_16.5', 'graph_id_16.549999999999997', 'graph_id_16.599999999999994', 'graph_id_16.650000000000006', 'graph_id_16.700000000000003', 'graph_id_16.75', 'graph_id_16.799999999999997', 'graph_id_16.849999999999994', 'graph_id_16.900000000000006', 'graph_id_16.950000000000003', 'graph_id_17.0', 'graph_id_17.049999999999997', 'graph_id_17.099999999999994', 'graph_id_17.150000000000006', 'graph_id_17.200000000000003', 'graph_id_17.25', 'graph_id_17.299999999999997', 'graph_id_17.349999999999994', 'graph_id_17.400000000000006', 'graph_id_17.450000000000003', 'graph_id_17.5', 'graph_id_17.549999999999997', 'graph_id_17.599999999999994', 'graph_id_17.650000000000006', 'graph_id_17.700000000000003', 'graph_id_17.75', 'graph_id_17.849999999999994', 'graph_id_17.950000000000003', 'graph_id_18.0', 'graph_id_18.049999999999997', 'graph_id_18.099999999999994', 'graph_id_18.150000000000006', 'graph_id_18.200000000000003', 'graph_id_18.349999999999994', 'graph_id_18.400000000000006', 'graph_id_18.450000000000003', 'graph_id_18.5', 'graph_id_18.549999999999997', 'graph_id_18.599999999999994', 'graph_id_18.700000000000003', 'graph_id_18.75', 'graph_id_18.799999999999997', 'graph_id_18.849999999999994', 'graph_id_18.900000000000006', 'graph_id_18.950000000000003', 'graph_id_19.0', 'graph_id_19.099999999999994', 'graph_id_19.150000000000006', 'graph_id_19.200000000000003', 'graph_id_19.25', 'graph_id_19.299999999999997', 'graph_id_19.349999999999994', 'graph_id_19.400000000000006', 'graph_id_19.5', 'graph_id_19.549999999999997', 'graph_id_19.650000000000006', 'graph_id_19.700000000000003', 'graph_id_19.75', 'graph_id_19.799999999999997', 'graph_id_19.849999999999994', 'graph_id_19.900000000000006', 'graph_id_19.950000000000003', 'graph_id_20.0', 'graph_id_20.049999999999997', 'graph_id_20.099999999999994', 'graph_id_20.150000000000006', 'graph_id_20.200000000000003', 'graph_id_20.25', 'graph_id_20.299999999999997', 'graph_id_20.349999999999994', 'graph_id_20.400000000000006', 'graph_id_20.450000000000003', 'graph_id_20.549999999999997', 'graph_id_20.599999999999994', 'graph_id_20.650000000000006', 'graph_id_20.700000000000003', 'graph_id_20.75', 'graph_id_20.799999999999997', 'graph_id_20.849999999999994', 'graph_id_20.900000000000006', 'graph_id_20.950000000000003', 'graph_id_21.0', 'graph_id_21.049999999999997', 'graph_id_21.099999999999994', 'graph_id_21.150000000000006', 'graph_id_21.200000000000003', 'graph_id_21.25', 'graph_id_21.299999999999997', 'graph_id_21.349999999999994', 'graph_id_21.400000000000006', 'graph_id_21.450000000000003', 'graph_id_21.549999999999997', 'graph_id_21.599999999999994', 'graph_id_21.650000000000006', 'graph_id_21.700000000000003', 'graph_id_21.75', 'graph_id_21.799999999999997', 'graph_id_21.849999999999994', 'graph_id_21.900000000000006', 'graph_id_21.950000000000003', 'graph_id_22.0', 'graph_id_22.049999999999997', 'graph_id_22.099999999999994', 'graph_id_22.150000000000006', 'graph_id_22.25', 'graph_id_22.299999999999997', 'graph_id_22.349999999999994', 'graph_id_22.400000000000006', 'graph_id_22.450000000000003', 'graph_id_22.5', 'graph_id_22.549999999999997', 'graph_id_22.599999999999994', 'graph_id_22.650000000000006', 'graph_id_22.700000000000003', 'graph_id_22.75', 'graph_id_22.799999999999997', 'graph_id_22.849999999999994', 'graph_id_22.900000000000006', 'graph_id_22.950000000000003', 'graph_id_23.049999999999997', 'graph_id_23.099999999999994', 'graph_id_23.150000000000006', 'graph_id_23.200000000000003', 'graph_id_23.25', 'graph_id_23.299999999999997', 'graph_id_23.349999999999994', 'graph_id_23.400000000000006', 'graph_id_23.450000000000003', 'graph_id_23.5', 'graph_id_23.549999999999997', 'graph_id_23.599999999999994', 'graph_id_23.650000000000006', 'graph_id_23.700000000000003', 'graph_id_23.75', 'graph_id_23.799999999999997', 'graph_id_23.849999999999994', 'graph_id_23.900000000000006', 'graph_id_23.950000000000003', 'graph_id_24.0', 'graph_id_24.150000000000006', 'graph_id_24.200000000000003', 'graph_id_24.25', 'graph_id_24.299999999999997', 'graph_id_24.349999999999994', 'graph_id_24.400000000000006', 'graph_id_24.450000000000003', 'graph_id_24.599999999999994', 'graph_id_24.650000000000006', 'graph_id_24.700000000000003', 'graph_id_24.75', 'graph_id_24.799999999999997', 'graph_id_24.849999999999994', 'graph_id_24.900000000000006', 'graph_id_24.950000000000003', 'graph_id_25.0', 'graph_id_25.049999999999997', 'graph_id_25.099999999999994', 'graph_id_25.150000000000006', 'graph_id_25.200000000000003', 'graph_id_25.25', 'graph_id_25.299999999999997', 'graph_id_25.349999999999994', 'graph_id_25.400000000000006', 'graph_id_25.5', 'graph_id_25.549999999999997', 'graph_id_25.599999999999994', 'graph_id_25.650000000000006', 'graph_id_25.700000000000003', 'graph_id_25.75', 'graph_id_25.799999999999997', 'graph_id_25.849999999999994', 'graph_id_25.900000000000006', 'graph_id_25.950000000000003', 'graph_id_26.0', 'graph_id_26.049999999999997', 'graph_id_26.099999999999994', 'graph_id_26.150000000000006', 'graph_id_26.200000000000003', 'graph_id_26.25', 'graph_id_26.349999999999994', 'graph_id_26.400000000000006', 'graph_id_26.450000000000003', 'graph_id_26.5', 'graph_id_26.549999999999997', 'graph_id_26.599999999999994', 'graph_id_26.650000000000006', 'graph_id_26.700000000000003', 'graph_id_26.75', 'graph_id_26.799999999999997', 'graph_id_26.849999999999994', 'graph_id_26.900000000000006', 'graph_id_26.950000000000003', 'graph_id_27.0', 'graph_id_27.049999999999997', 'graph_id_27.099999999999994', 'graph_id_27.150000000000006', 'graph_id_27.200000000000003', 'graph_id_27.25', 'graph_id_27.299999999999997', 'graph_id_27.349999999999994', 'graph_id_27.400000000000006', 'graph_id_27.450000000000003', 'graph_id_27.5', 'graph_id_27.549999999999997', 'graph_id_27.700000000000003', 'graph_id_27.75', 'graph_id_27.799999999999997', 'graph_id_27.849999999999994', 'graph_id_27.900000000000006', 'graph_id_27.950000000000003', 'graph_id_28.0', 'graph_id_28.049999999999997', 'graph_id_28.099999999999994', 'graph_id_28.150000000000006', 'graph_id_28.200000000000003', 'graph_id_28.25', 'graph_id_28.299999999999997', 'graph_id_28.349999999999994', 'graph_id_28.400000000000006', 'graph_id_28.450000000000003', 'graph_id_28.5', 'graph_id_28.549999999999997', 'graph_id_28.599999999999994', 'graph_id_28.700000000000003', 'graph_id_28.75', 'graph_id_28.799999999999997', 'graph_id_28.849999999999994', 'graph_id_28.900000000000006', 'graph_id_28.950000000000003', 'graph_id_29.0', 'graph_id_29.049999999999997', 'graph_id_29.099999999999994', 'graph_id_29.150000000000006', 'graph_id_29.200000000000003', 'graph_id_29.25', 'graph_id_29.299999999999997', 'graph_id_29.349999999999994', 'graph_id_29.400000000000006', 'graph_id_29.450000000000003', 'graph_id_29.5', 'graph_id_29.549999999999997', 'graph_id_29.599999999999994', 'graph_id_29.650000000000006', 'graph_id_29.700000000000003', 'graph_id_29.75', 'graph_id_29.799999999999997', 'graph_id_29.849999999999994', 'graph_id_29.900000000000006', 'graph_id_29.950000000000003', 'graph_id_30.0', 'graph_id_30.049999999999997', 'graph_id_30.099999999999994', 'graph_id_30.150000000000006', 'graph_id_30.200000000000003', 'graph_id_30.25', 'graph_id_30.299999999999997', 'graph_id_30.349999999999994', 'graph_id_30.400000000000006', 'graph_id_30.450000000000003', 'graph_id_30.5', 'graph_id_30.549999999999997', 'graph_id_30.599999999999994', 'graph_id_30.650000000000006', 'graph_id_30.700000000000003', 'graph_id_30.75', 'graph_id_30.799999999999997', 'graph_id_30.849999999999994', 'graph_id_30.900000000000006', 'graph_id_30.950000000000003', 'graph_id_31.0', 'graph_id_31.049999999999997', 'graph_id_31.099999999999994', 'graph_id_31.150000000000006', 'graph_id_31.200000000000003', 'graph_id_31.25', 'graph_id_31.299999999999997', 'graph_id_31.349999999999994', 'graph_id_31.400000000000006', 'graph_id_31.450000000000003', 'graph_id_31.549999999999997', 'graph_id_31.599999999999994', 'graph_id_31.650000000000006', 'graph_id_31.700000000000003', 'graph_id_31.75', 'graph_id_31.900000000000006', 'graph_id_31.950000000000003', 'graph_id_32.0', 'graph_id_32.05', 'graph_id_32.099999999999994', 'graph_id_32.150000000000006', 'graph_id_32.2', 'graph_id_32.25', 'graph_id_32.3', 'graph_id_32.349999999999994', 'graph_id_32.400000000000006', 'graph_id_32.45', 'graph_id_32.5', 'graph_id_32.55', 'graph_id_32.599999999999994', 'graph_id_32.650000000000006', 'graph_id_32.7', 'graph_id_32.75', 'graph_id_32.8', 'graph_id_32.849999999999994', 'graph_id_32.900000000000006', 'graph_id_32.95', 'graph_id_33.0', 'graph_id_33.05', 'graph_id_33.099999999999994', 'graph_id_33.150000000000006', 'graph_id_33.2', 'graph_id_33.25', 'graph_id_33.3', 'graph_id_33.349999999999994', 'graph_id_33.400000000000006', 'graph_id_33.45', 'graph_id_33.5', 'graph_id_33.55', 'graph_id_33.599999999999994', 'graph_id_33.650000000000006', 'graph_id_33.7', 'graph_id_33.75', 'graph_id_33.8', 'graph_id_33.900000000000006', 'graph_id_33.95', 'graph_id_34.0', 'graph_id_34.05', 'graph_id_34.099999999999994', 'graph_id_34.150000000000006', 'graph_id_34.2', 'graph_id_34.25', 'graph_id_34.349999999999994', 'graph_id_34.400000000000006', 'graph_id_34.45', 'graph_id_34.5', 'graph_id_34.599999999999994', 'graph_id_34.650000000000006', 'graph_id_34.7', 'graph_id_34.8', 'graph_id_34.849999999999994', 'graph_id_34.95', 'graph_id_35.0', 'graph_id_35.05', 'graph_id_35.099999999999994', 'graph_id_35.150000000000006', 'graph_id_35.2', 'graph_id_35.25', 'graph_id_35.3', 'graph_id_35.349999999999994', 'graph_id_35.400000000000006', 'graph_id_35.45', 'graph_id_35.5', 'graph_id_35.55', 'graph_id_35.599999999999994', 'graph_id_35.650000000000006', 'graph_id_35.7', 'graph_id_35.75', 'graph_id_35.8', 'graph_id_35.849999999999994', 'graph_id_35.900000000000006', 'graph_id_35.95', 'graph_id_36.0', 'graph_id_36.05', 'graph_id_36.099999999999994', 'graph_id_36.150000000000006', 'graph_id_36.2', 'graph_id_36.25', 'graph_id_36.349999999999994', 'graph_id_36.400000000000006', 'graph_id_36.45', 'graph_id_36.5', 'graph_id_36.55', 'graph_id_36.599999999999994', 'graph_id_36.650000000000006', 'graph_id_36.7', 'graph_id_36.75', 'graph_id_36.849999999999994', 'graph_id_36.900000000000006', 'graph_id_36.95', 'graph_id_37.0', 'graph_id_37.05', 'graph_id_37.099999999999994', 'graph_id_37.150000000000006', 'graph_id_37.2', 'graph_id_37.25', 'graph_id_37.3', 'graph_id_37.349999999999994', 'graph_id_37.400000000000006', 'graph_id_37.45', 'graph_id_37.55', 'graph_id_37.599999999999994', 'graph_id_37.650000000000006', 'graph_id_37.7', 'graph_id_37.75', 'graph_id_37.8', 'graph_id_37.849999999999994', 'graph_id_37.900000000000006', 'graph_id_37.95', 'graph_id_38.0', 'graph_id_38.05', 'graph_id_38.099999999999994', 'graph_id_38.150000000000006', 'graph_id_38.2', 'graph_id_38.25', 'graph_id_38.3', 'graph_id_38.349999999999994', 'graph_id_38.400000000000006', 'graph_id_38.45', 'graph_id_38.5', 'graph_id_38.55', 'graph_id_38.599999999999994', 'graph_id_38.650000000000006', 'graph_id_38.7', 'graph_id_38.75', 'graph_id_38.8', 'graph_id_38.849999999999994', 'graph_id_38.900000000000006', 'graph_id_38.95', 'graph_id_39.0', 'graph_id_39.05', 'graph_id_39.099999999999994', 'graph_id_39.150000000000006', 'graph_id_39.2', 'graph_id_39.25', 'graph_id_39.3', 'graph_id_39.349999999999994', 'graph_id_39.45', 'graph_id_39.5', 'graph_id_39.599999999999994', 'graph_id_39.650000000000006', 'graph_id_39.7', 'graph_id_39.75', 'graph_id_39.8', 'graph_id_39.849999999999994', 'graph_id_39.900000000000006', 'graph_id_39.95', 'graph_id_40.0', 'graph_id_40.05', 'graph_id_40.099999999999994', 'graph_id_40.150000000000006', 'graph_id_40.2', 'graph_id_40.25', 'graph_id_40.3', 'graph_id_40.349999999999994', 'graph_id_40.400000000000006', 'graph_id_40.599999999999994', 'graph_id_40.650000000000006', 'graph_id_40.7', 'graph_id_40.75', 'graph_id_40.8', 'graph_id_40.900000000000006', 'graph_id_40.95', 'graph_id_41.0', 'graph_id_41.099999999999994', 'graph_id_41.150000000000006', 'graph_id_41.2', 'graph_id_41.25', 'graph_id_41.3', 'graph_id_41.349999999999994', 'graph_id_41.45', 'graph_id_41.5', 'graph_id_41.55', 'graph_id_41.599999999999994', 'graph_id_41.650000000000006', 'graph_id_41.7', 'graph_id_41.75', 'graph_id_41.8', 'graph_id_41.849999999999994', 'graph_id_41.900000000000006', 'graph_id_41.95', 'graph_id_42.0', 'graph_id_42.05', 'graph_id_42.099999999999994', 'graph_id_42.150000000000006', 'graph_id_42.2', 'graph_id_42.25', 'graph_id_42.3', 'graph_id_42.349999999999994', 'graph_id_42.400000000000006', 'graph_id_42.45', 'graph_id_42.599999999999994', 'graph_id_42.650000000000006', 'graph_id_42.7', 'graph_id_42.75', 'graph_id_42.8', 'graph_id_42.849999999999994', 'graph_id_42.900000000000006', 'graph_id_42.95', 'graph_id_43.0', 'graph_id_43.05', 'graph_id_43.099999999999994', 'graph_id_43.2', 'graph_id_43.25', 'graph_id_43.349999999999994', 'graph_id_43.400000000000006', 'graph_id_43.45', 'graph_id_43.55', 'graph_id_43.599999999999994', 'graph_id_43.650000000000006', 'graph_id_43.7', 'graph_id_43.75', 'graph_id_43.8', 'graph_id_43.849999999999994', 'graph_id_43.900000000000006', 'graph_id_43.95', 'graph_id_44.0', 'graph_id_44.05', 'graph_id_44.099999999999994', 'graph_id_44.150000000000006', 'graph_id_44.2', 'graph_id_44.25', 'graph_id_44.3', 'graph_id_44.349999999999994', 'graph_id_44.400000000000006', 'graph_id_44.45', 'graph_id_44.5', 'graph_id_44.55', 'graph_id_44.599999999999994', 'graph_id_44.650000000000006', 'graph_id_44.7', 'graph_id_44.75', 'graph_id_44.8', 'graph_id_44.849999999999994', 'graph_id_44.900000000000006', 'graph_id_44.95', 'graph_id_45.0', 'graph_id_45.05', 'graph_id_45.099999999999994', 'graph_id_45.150000000000006', 'graph_id_45.2', 'graph_id_45.25', 'graph_id_45.349999999999994', 'graph_id_45.400000000000006', 'graph_id_45.45', 'graph_id_45.55', 'graph_id_45.599999999999994', 'graph_id_45.650000000000006', 'graph_id_45.7', 'graph_id_45.75', 'graph_id_45.8', 'graph_id_45.849999999999994', 'graph_id_45.900000000000006', 'graph_id_45.95', 'graph_id_46.0', 'graph_id_46.05', 'graph_id_46.099999999999994', 'graph_id_46.150000000000006', 'graph_id_46.2', 'graph_id_46.25', 'graph_id_46.3', 'graph_id_46.349999999999994', 'graph_id_46.400000000000006', 'graph_id_46.45', 'graph_id_46.5', 'graph_id_46.55', 'graph_id_46.599999999999994', 'graph_id_46.650000000000006', 'graph_id_46.7', 'graph_id_46.75', 'graph_id_46.8', 'graph_id_46.849999999999994', 'graph_id_46.900000000000006', 'graph_id_46.95', 'graph_id_47.0', 'graph_id_47.05', 'graph_id_47.099999999999994', 'graph_id_47.150000000000006', 'graph_id_47.2', 'graph_id_47.25', 'graph_id_47.3', 'graph_id_47.349999999999994', 'graph_id_47.45', 'graph_id_47.5', 'graph_id_47.55', 'graph_id_47.599999999999994', 'graph_id_47.650000000000006', 'graph_id_47.7', 'graph_id_47.8', 'graph_id_47.849999999999994', 'graph_id_47.900000000000006', 'graph_id_47.95', 'graph_id_48.0', 'graph_id_48.05', 'graph_id_48.099999999999994', 'graph_id_48.150000000000006', 'graph_id_48.2', 'graph_id_48.25', 'graph_id_48.3', 'graph_id_48.349999999999994', 'graph_id_48.400000000000006', 'graph_id_48.45', 'graph_id_48.5', 'graph_id_48.55', 'graph_id_48.599999999999994', 'graph_id_48.650000000000006', 'graph_id_48.7', 'graph_id_48.75', 'graph_id_48.8', 'graph_id_48.900000000000006', 'graph_id_48.95', 'graph_id_49.05', 'graph_id_49.099999999999994', 'graph_id_49.150000000000006', 'graph_id_49.2', 'graph_id_49.25', 'graph_id_49.3', 'graph_id_49.349999999999994', 'graph_id_49.400000000000006', 'graph_id_49.45', 'graph_id_49.5', 'graph_id_49.55', 'graph_id_49.599999999999994', 'graph_id_49.650000000000006', 'graph_id_49.7', 'graph_id_49.75', 'graph_id_49.8', 'graph_id_49.849999999999994', 'graph_id_49.900000000000006', 'graph_id_49.95', 'graph_id_50.0', 'graph_id_50.05', 'graph_id_50.099999999999994', 'graph_id_50.150000000000006', 'graph_id_50.2', 'graph_id_50.25', 'graph_id_50.3', 'graph_id_50.349999999999994', 'graph_id_50.400000000000006', 'graph_id_50.45', 'graph_id_50.5', 'graph_id_50.55', 'graph_id_50.599999999999994', 'graph_id_50.650000000000006', 'graph_id_50.7', 'graph_id_50.75', 'graph_id_50.8', 'graph_id_50.849999999999994', 'graph_id_50.900000000000006', 'graph_id_50.95', 'graph_id_51.0', 'graph_id_51.05', 'graph_id_51.099999999999994', 'graph_id_51.150000000000006', 'graph_id_51.2', 'graph_id_51.25', 'graph_id_51.3', 'graph_id_51.349999999999994', 'graph_id_51.400000000000006', 'graph_id_51.45', 'graph_id_51.5', 'graph_id_51.55', 'graph_id_51.599999999999994', 'graph_id_51.650000000000006', 'graph_id_51.7', 'graph_id_51.75', 'graph_id_51.8', 'graph_id_51.849999999999994', 'graph_id_51.900000000000006', 'graph_id_51.95', 'graph_id_52.0', 'graph_id_52.05', 'graph_id_52.099999999999994', 'graph_id_52.150000000000006', 'graph_id_52.2', 'graph_id_52.25', 'graph_id_52.3', 'graph_id_52.349999999999994', 'graph_id_52.400000000000006', 'graph_id_52.45', 'graph_id_52.5', 'graph_id_52.55', 'graph_id_52.599999999999994', 'graph_id_52.650000000000006', 'graph_id_52.7', 'graph_id_52.75', 'graph_id_52.8', 'graph_id_52.849999999999994', 'graph_id_52.900000000000006', 'graph_id_52.95', 'graph_id_53.0', 'graph_id_53.05', 'graph_id_53.099999999999994', 'graph_id_53.150000000000006', 'graph_id_53.2', 'graph_id_53.25', 'graph_id_53.349999999999994', 'graph_id_53.400000000000006', 'graph_id_53.45', 'graph_id_53.5', 'graph_id_53.55', 'graph_id_53.599999999999994', 'graph_id_53.650000000000006', 'graph_id_53.7', 'graph_id_53.75', 'graph_id_53.8', 'graph_id_53.849999999999994', 'graph_id_53.900000000000006', 'graph_id_53.95', 'graph_id_54.0', 'graph_id_54.05', 'graph_id_54.099999999999994', 'graph_id_54.150000000000006', 'graph_id_54.2', 'graph_id_54.3', 'graph_id_54.349999999999994', 'graph_id_54.400000000000006', 'graph_id_54.45', 'graph_id_54.5', 'graph_id_54.55', 'graph_id_54.599999999999994', 'graph_id_54.650000000000006', 'graph_id_54.7', 'graph_id_54.75', 'graph_id_54.8', 'graph_id_54.849999999999994', 'graph_id_54.900000000000006', 'graph_id_54.95', 'graph_id_55.0', 'graph_id_55.05', 'graph_id_55.099999999999994', 'graph_id_55.150000000000006', 'graph_id_55.2', 'graph_id_55.25', 'graph_id_55.3', 'graph_id_55.349999999999994', 'graph_id_55.400000000000006', 'graph_id_55.45', 'graph_id_55.5', 'graph_id_55.55', 'graph_id_55.650000000000006', 'graph_id_55.7', 'graph_id_55.75', 'graph_id_55.8', 'graph_id_55.849999999999994', 'graph_id_55.900000000000006', 'graph_id_55.95', 'graph_id_56.0', 'graph_id_56.05', 'graph_id_56.099999999999994', 'graph_id_56.150000000000006', 'graph_id_56.2', 'graph_id_56.25', 'graph_id_56.3', 'graph_id_56.349999999999994', 'graph_id_56.400000000000006', 'graph_id_56.45', 'graph_id_56.5', 'graph_id_56.55', 'graph_id_56.599999999999994', 'graph_id_56.650000000000006', 'graph_id_56.7', 'graph_id_56.75', 'graph_id_56.8', 'graph_id_56.849999999999994', 'graph_id_56.900000000000006', 'graph_id_56.95', 'graph_id_57.0', 'graph_id_57.05', 'graph_id_57.099999999999994', 'graph_id_57.150000000000006', 'graph_id_57.2', 'graph_id_57.25', 'graph_id_57.3', 'graph_id_57.349999999999994', 'graph_id_57.400000000000006', 'graph_id_57.45', 'graph_id_57.599999999999994', 'graph_id_57.650000000000006', 'graph_id_57.7', 'graph_id_57.8', 'graph_id_57.849999999999994', 'graph_id_57.900000000000006', 'graph_id_57.95', 'graph_id_58.0', 'graph_id_58.05', 'graph_id_58.099999999999994', 'graph_id_58.150000000000006', 'graph_id_58.25', 'graph_id_58.349999999999994', 'graph_id_58.400000000000006', 'graph_id_58.45', 'graph_id_58.5', 'graph_id_58.55', 'graph_id_58.599999999999994', 'graph_id_58.650000000000006', 'graph_id_58.7', 'graph_id_58.8', 'graph_id_58.849999999999994', 'graph_id_58.900000000000006', 'graph_id_58.95', 'graph_id_59.0', 'graph_id_59.05', 'graph_id_59.099999999999994', 'graph_id_59.150000000000006', 'graph_id_59.2', 'graph_id_59.25', 'graph_id_59.3', 'graph_id_59.349999999999994', 'graph_id_59.45', 'graph_id_59.5', 'graph_id_59.55', 'graph_id_59.599999999999994', 'graph_id_59.650000000000006', 'graph_id_59.7', 'graph_id_59.849999999999994', 'graph_id_59.900000000000006', 'graph_id_59.95', 'graph_id_60.05', 'graph_id_60.099999999999994', 'graph_id_60.150000000000006', 'graph_id_60.2', 'graph_id_60.25', 'graph_id_60.3', 'graph_id_60.349999999999994', 'graph_id_60.400000000000006', 'graph_id_60.45', 'graph_id_60.5', 'graph_id_60.55', 'graph_id_60.599999999999994', 'graph_id_60.650000000000006', 'graph_id_60.7', 'graph_id_60.75', 'graph_id_60.8', 'graph_id_60.849999999999994', 'graph_id_60.900000000000006', 'graph_id_60.95', 'graph_id_61.0', 'graph_id_61.05', 'graph_id_61.099999999999994', 'graph_id_61.150000000000006', 'graph_id_61.2', 'graph_id_61.25', 'graph_id_61.3', 'graph_id_61.349999999999994', 'graph_id_61.400000000000006', 'graph_id_61.45', 'graph_id_61.5', 'graph_id_61.55', 'graph_id_61.599999999999994', 'graph_id_61.650000000000006', 'graph_id_61.7', 'graph_id_61.75', 'graph_id_61.8', 'graph_id_61.849999999999994', 'graph_id_62.0', 'graph_id_62.05', 'graph_id_62.099999999999994', 'graph_id_62.150000000000006', 'graph_id_62.2', 'graph_id_62.25', 'graph_id_62.3', 'graph_id_62.349999999999994', 'graph_id_62.45', 'graph_id_62.5', 'graph_id_62.55', 'graph_id_62.599999999999994', 'graph_id_62.650000000000006', 'graph_id_62.7', 'graph_id_62.75', 'graph_id_62.8', 'graph_id_62.849999999999994', 'graph_id_62.900000000000006', 'graph_id_62.95', 'graph_id_63.0', 'graph_id_63.05', 'graph_id_63.099999999999994', 'graph_id_63.150000000000006', 'graph_id_63.2', 'graph_id_63.25', 'graph_id_63.349999999999994', 'graph_id_63.400000000000006', 'graph_id_63.45', 'graph_id_63.5', 'graph_id_63.55', 'graph_id_63.599999999999994', 'graph_id_63.650000000000006', 'graph_id_63.7', 'graph_id_63.75', 'graph_id_63.8', 'graph_id_63.849999999999994', 'graph_id_63.900000000000006', 'graph_id_63.95', 'graph_id_64.05', 'graph_id_64.1', 'graph_id_64.15', 'graph_id_64.2', 'graph_id_64.25', 'graph_id_64.3', 'graph_id_64.35', 'graph_id_64.4', 'graph_id_64.45', 'graph_id_64.55', 'graph_id_64.6', 'graph_id_64.7', 'graph_id_64.75', 'graph_id_64.8', 'graph_id_64.85', 'graph_id_64.9', 'graph_id_64.95', 'graph_id_65.0', 'graph_id_65.05', 'graph_id_65.15', 'graph_id_65.2', 'graph_id_65.25', 'graph_id_65.3', 'graph_id_65.35', 'graph_id_65.4', 'graph_id_65.5', 'graph_id_65.55', 'graph_id_65.6', 'graph_id_65.65', 'graph_id_65.7', 'graph_id_65.75', 'graph_id_65.85', 'graph_id_65.9', 'graph_id_66.0', 'graph_id_66.1', 'graph_id_66.15', 'graph_id_66.2', 'graph_id_66.3', 'graph_id_66.35', 'graph_id_66.4', 'graph_id_66.45', 'graph_id_66.5', 'graph_id_66.55', 'graph_id_66.6', 'graph_id_66.65', 'graph_id_66.7', 'graph_id_66.75', 'graph_id_66.8', 'graph_id_66.85', 'graph_id_66.9', 'graph_id_66.95', 'graph_id_67.0', 'graph_id_67.05', 'graph_id_67.1', 'graph_id_67.15', 'graph_id_67.2', 'graph_id_67.25', 'graph_id_67.3', 'graph_id_67.35', 'graph_id_67.4', 'graph_id_67.45', 'graph_id_67.5', 'graph_id_67.55', 'graph_id_67.65', 'graph_id_67.7', 'graph_id_67.75', 'graph_id_67.8', 'graph_id_67.85', 'graph_id_67.9', 'graph_id_67.95', 'graph_id_68.0', 'graph_id_68.05', 'graph_id_68.1', 'graph_id_68.15', 'graph_id_68.2', 'graph_id_68.25', 'graph_id_68.3', 'graph_id_68.35', 'graph_id_68.4', 'graph_id_68.45', 'graph_id_68.5', 'graph_id_68.55', 'graph_id_68.6', 'graph_id_68.65', 'graph_id_68.7', 'graph_id_68.75', 'graph_id_68.8', 'graph_id_68.85', 'graph_id_68.9', 'graph_id_68.95', 'graph_id_69.0', 'graph_id_69.05', 'graph_id_69.1', 'graph_id_69.15', 'graph_id_69.2', 'graph_id_69.25', 'graph_id_69.3', 'graph_id_69.35', 'graph_id_69.4', 'graph_id_69.45', 'graph_id_69.55', 'graph_id_69.6', 'graph_id_69.65', 'graph_id_69.7', 'graph_id_69.75', 'graph_id_69.85', 'graph_id_69.9', 'graph_id_69.95', 'graph_id_70.0', 'graph_id_70.05', 'graph_id_70.1', 'graph_id_70.15', 'graph_id_70.2', 'graph_id_70.25', 'graph_id_70.3', 'graph_id_70.35', 'graph_id_70.4', 'graph_id_70.45', 'graph_id_70.5', 'graph_id_70.55', 'graph_id_70.6', 'graph_id_70.65', 'graph_id_70.7', 'graph_id_70.75', 'graph_id_70.8', 'graph_id_70.85', 'graph_id_70.95', 'graph_id_71.0', 'graph_id_71.05', 'graph_id_71.1', 'graph_id_71.15', 'graph_id_71.2', 'graph_id_71.25', 'graph_id_71.3', 'graph_id_71.35', 'graph_id_71.4', 'graph_id_71.45', 'graph_id_71.5', 'graph_id_71.55', 'graph_id_71.6', 'graph_id_71.65', 'graph_id_71.7', 'graph_id_71.75', 'graph_id_71.8', 'graph_id_71.85', 'graph_id_71.9', 'graph_id_71.95', 'graph_id_72.0', 'graph_id_72.05', 'graph_id_72.1', 'graph_id_72.15', 'graph_id_72.2', 'graph_id_72.25', 'graph_id_72.3', 'graph_id_72.35', 'graph_id_72.4', 'graph_id_72.45', 'graph_id_72.5', 'graph_id_72.55', 'graph_id_72.6', 'graph_id_72.65', 'graph_id_72.7', 'graph_id_72.75', 'graph_id_72.8', 'graph_id_72.85', 'graph_id_72.9', 'graph_id_72.95', 'graph_id_73.0', 'graph_id_73.05', 'graph_id_73.1', 'graph_id_73.15', 'graph_id_73.2', 'graph_id_73.25', 'graph_id_73.3', 'graph_id_73.35', 'graph_id_73.4', 'graph_id_73.45', 'graph_id_73.5', 'graph_id_73.55', 'graph_id_73.6', 'graph_id_73.65', 'graph_id_73.7', 'graph_id_73.75', 'graph_id_73.85', 'graph_id_73.9', 'graph_id_73.95', 'graph_id_74.0', 'graph_id_74.05', 'graph_id_74.1', 'graph_id_74.15', 'graph_id_74.2', 'graph_id_74.25', 'graph_id_74.3', 'graph_id_74.35', 'graph_id_74.4', 'graph_id_74.45', 'graph_id_74.5', 'graph_id_74.55', 'graph_id_74.6', 'graph_id_74.65', 'graph_id_74.7', 'graph_id_74.75', 'graph_id_74.8', 'graph_id_74.85', 'graph_id_74.9', 'graph_id_74.95', 'graph_id_75.0', 'graph_id_75.05', 'graph_id_75.1', 'graph_id_75.15', 'graph_id_75.2', 'graph_id_75.25', 'graph_id_75.3', 'graph_id_75.35', 'graph_id_75.4', 'graph_id_75.45', 'graph_id_75.5', 'graph_id_75.55', 'graph_id_75.6', 'graph_id_75.7', 'graph_id_75.75', 'graph_id_75.85', 'graph_id_75.9', 'graph_id_75.95', 'graph_id_76.0', 'graph_id_76.05', 'graph_id_76.1', 'graph_id_76.15', 'graph_id_76.2', 'graph_id_76.25', 'graph_id_76.3', 'graph_id_76.35', 'graph_id_76.4', 'graph_id_76.45', 'graph_id_76.5', 'graph_id_76.55', 'graph_id_76.6', 'graph_id_76.65', 'graph_id_76.7', 'graph_id_76.75', 'graph_id_76.85', 'graph_id_76.9', 'graph_id_76.95', 'graph_id_77.0', 'graph_id_77.05', 'graph_id_77.1', 'graph_id_77.15', 'graph_id_77.2', 'graph_id_77.25', 'graph_id_77.3', 'graph_id_77.35', 'graph_id_77.4', 'graph_id_77.45', 'graph_id_77.5', 'graph_id_77.55', 'graph_id_77.6', 'graph_id_77.65', 'graph_id_77.7', 'graph_id_77.75', 'graph_id_77.8', 'graph_id_77.85', 'graph_id_77.9', 'graph_id_77.95', 'graph_id_78.0', 'graph_id_78.1', 'graph_id_78.15', 'graph_id_78.2', 'graph_id_78.25', 'graph_id_78.3', 'graph_id_78.35', 'graph_id_78.45', 'graph_id_78.5', 'graph_id_78.55', 'graph_id_78.6', 'graph_id_78.65', 'graph_id_78.7', 'graph_id_78.8', 'graph_id_78.85', 'graph_id_78.9', 'graph_id_78.95', 'graph_id_79.0', 'graph_id_79.05', 'graph_id_79.1', 'graph_id_79.15', 'graph_id_79.2', 'graph_id_79.25', 'graph_id_79.3', 'graph_id_79.35', 'graph_id_79.4', 'graph_id_79.45', 'graph_id_79.5', 'graph_id_79.55', 'graph_id_79.6', 'graph_id_79.65', 'graph_id_79.7', 'graph_id_79.75', 'graph_id_79.8', 'graph_id_79.85', 'graph_id_79.9', 'graph_id_79.95', 'graph_id_80.0', 'graph_id_80.05', 'graph_id_80.1', 'graph_id_80.15', 'graph_id_80.2', 'graph_id_80.25', 'graph_id_80.3', 'graph_id_80.35', 'graph_id_80.4', 'graph_id_80.45', 'graph_id_80.5', 'graph_id_80.55', 'graph_id_80.6', 'graph_id_80.65', 'graph_id_80.7', 'graph_id_80.75', 'graph_id_80.8', 'graph_id_80.85', 'graph_id_80.9', 'graph_id_80.95', 'graph_id_81.0', 'graph_id_81.05', 'graph_id_81.1', 'graph_id_81.15', 'graph_id_81.2', 'graph_id_81.25', 'graph_id_81.3', 'graph_id_81.35', 'graph_id_81.4', 'graph_id_81.45', 'graph_id_81.55', 'graph_id_81.6', 'graph_id_81.65', 'graph_id_81.7', 'graph_id_81.75', 'graph_id_81.8', 'graph_id_81.85', 'graph_id_81.9', 'graph_id_81.95', 'graph_id_82.0', 'graph_id_82.1', 'graph_id_82.15', 'graph_id_82.2', 'graph_id_82.25', 'graph_id_82.3', 'graph_id_82.35', 'graph_id_82.4', 'graph_id_82.45', 'graph_id_82.5', 'graph_id_82.55', 'graph_id_82.6', 'graph_id_82.65', 'graph_id_82.7', 'graph_id_82.75', 'graph_id_82.8', 'graph_id_82.85', 'graph_id_82.9', 'graph_id_82.95', 'graph_id_83.0', 'graph_id_83.05', 'graph_id_83.1', 'graph_id_83.15', 'graph_id_83.2', 'graph_id_83.25', 'graph_id_83.3', 'graph_id_83.4', 'graph_id_83.45', 'graph_id_83.55', 'graph_id_83.6', 'graph_id_83.65', 'graph_id_83.7', 'graph_id_83.75', 'graph_id_83.8', 'graph_id_83.85', 'graph_id_83.9', 'graph_id_83.95', 'graph_id_84.0', 'graph_id_84.05', 'graph_id_84.1', 'graph_id_84.15', 'graph_id_84.2', 'graph_id_84.3', 'graph_id_84.35', 'graph_id_84.4', 'graph_id_84.45', 'graph_id_84.5', 'graph_id_84.55', 'graph_id_84.6', 'graph_id_84.65', 'graph_id_84.7', 'graph_id_84.8', 'graph_id_84.85', 'graph_id_84.9', 'graph_id_84.95', 'graph_id_85.0', 'graph_id_85.05', 'graph_id_85.1', 'graph_id_85.15', 'graph_id_85.2', 'graph_id_85.25', 'graph_id_85.3', 'graph_id_85.35', 'graph_id_85.45', 'graph_id_85.5', 'graph_id_85.55', 'graph_id_85.6', 'graph_id_85.65', 'graph_id_85.7', 'graph_id_85.75', 'graph_id_85.8', 'graph_id_85.85', 'graph_id_85.9', 'graph_id_85.95', 'graph_id_86.0', 'graph_id_86.05', 'graph_id_86.15', 'graph_id_86.2', 'graph_id_86.25', 'graph_id_86.3', 'graph_id_86.35', 'graph_id_86.4', 'graph_id_86.45', 'graph_id_86.5', 'graph_id_86.55', 'graph_id_86.6', 'graph_id_86.65', 'graph_id_86.7', 'graph_id_86.75', 'graph_id_86.8', 'graph_id_86.85', 'graph_id_86.9', 'graph_id_87.0', 'graph_id_87.05', 'graph_id_87.1', 'graph_id_87.15', 'graph_id_87.2', 'graph_id_87.25', 'graph_id_87.3', 'graph_id_87.35', 'graph_id_87.4', 'graph_id_87.45', 'graph_id_87.55', 'graph_id_87.6', 'graph_id_87.65', 'graph_id_87.7', 'graph_id_87.75', 'graph_id_87.8', 'graph_id_87.85', 'graph_id_87.9', 'graph_id_88.0', 'graph_id_88.05', 'graph_id_88.1', 'graph_id_88.15', 'graph_id_88.2', 'graph_id_88.25', 'graph_id_88.35', 'graph_id_88.4', 'graph_id_88.45', 'graph_id_88.5', 'graph_id_88.55', 'graph_id_88.6', 'graph_id_88.65', 'graph_id_88.7', 'graph_id_88.75', 'graph_id_88.8', 'graph_id_88.85', 'graph_id_88.9', 'graph_id_88.95', 'graph_id_89.0', 'graph_id_89.05', 'graph_id_89.1', 'graph_id_89.15', 'graph_id_89.2', 'graph_id_89.25', 'graph_id_89.35', 'graph_id_89.4', 'graph_id_89.5', 'graph_id_89.6', 'graph_id_89.65', 'graph_id_89.7', 'graph_id_89.8', 'graph_id_89.9', 'graph_id_89.95', 'graph_id_90.0', 'graph_id_90.05', 'graph_id_90.1', 'graph_id_90.15', 'graph_id_90.2', 'graph_id_90.25', 'graph_id_90.3', 'graph_id_90.35', 'graph_id_90.4', 'graph_id_90.45', 'graph_id_90.5', 'graph_id_90.55', 'graph_id_90.6', 'graph_id_90.65', 'graph_id_90.7', 'graph_id_90.75', 'graph_id_90.8', 'graph_id_90.85', 'graph_id_90.9', 'graph_id_90.95', 'graph_id_91.05', 'graph_id_91.1', 'graph_id_91.15', 'graph_id_91.2', 'graph_id_91.3', 'graph_id_91.35', 'graph_id_91.4', 'graph_id_91.45', 'graph_id_91.55', 'graph_id_91.6', 'graph_id_91.65', 'graph_id_91.7', 'graph_id_91.75', 'graph_id_91.8', 'graph_id_91.85', 'graph_id_91.95', 'graph_id_92.0', 'graph_id_92.05', 'graph_id_92.1', 'graph_id_92.15', 'graph_id_92.2', 'graph_id_92.25', 'graph_id_92.3', 'graph_id_92.35', 'graph_id_92.45', 'graph_id_92.55', 'graph_id_92.65', 'graph_id_92.7', 'graph_id_92.75', 'graph_id_92.8', 'graph_id_92.85', 'graph_id_92.9', 'graph_id_92.95', 'graph_id_93.0', 'graph_id_93.05', 'graph_id_93.1', 'graph_id_93.15', 'graph_id_93.2', 'graph_id_93.25', 'graph_id_93.35', 'graph_id_93.4', 'graph_id_93.45', 'graph_id_93.55', 'graph_id_93.6', 'graph_id_93.65', 'graph_id_93.7', 'graph_id_93.75', 'graph_id_93.8', 'graph_id_93.95', 'graph_id_94.05', 'graph_id_94.1', 'graph_id_94.15', 'graph_id_94.2', 'graph_id_94.25', 'graph_id_94.35', 'graph_id_94.4', 'graph_id_94.5', 'graph_id_94.6', 'graph_id_94.65', 'graph_id_94.7', 'graph_id_94.75', 'graph_id_94.8', 'graph_id_94.85', 'graph_id_94.9', 'graph_id_94.95', 'graph_id_95.0', 'graph_id_95.05', 'graph_id_95.1', 'graph_id_95.15', 'graph_id_95.25', 'graph_id_95.3', 'graph_id_95.35', 'graph_id_95.45', 'graph_id_95.55', 'graph_id_95.65', 'graph_id_95.85', 'graph_id_95.9', 'graph_id_95.95', 'graph_id_96.0', 'graph_id_96.05', 'graph_id_96.1', 'graph_id_96.15', 'graph_id_96.2', 'graph_id_96.25', 'graph_id_96.3', 'graph_id_96.35', 'graph_id_96.4', 'graph_id_96.65', 'graph_id_96.7', 'graph_id_96.75', 'graph_id_96.8', 'graph_id_96.9', 'graph_id_96.95', 'graph_id_97.0', 'graph_id_97.1', 'graph_id_97.15', 'graph_id_97.2', 'graph_id_97.25', 'graph_id_97.3', 'graph_id_97.35', 'graph_id_97.4', 'graph_id_97.6', 'graph_id_97.7', 'graph_id_97.75', 'graph_id_97.8', 'graph_id_97.85', 'graph_id_97.9', 'graph_id_97.95', 'graph_id_98.05', 'graph_id_98.1', 'graph_id_98.15', 'graph_id_98.25', 'graph_id_98.35', 'graph_id_98.4', 'graph_id_98.45', 'graph_id_98.5', 'graph_id_98.55', 'graph_id_98.65', 'graph_id_98.7', 'graph_id_98.85', 'graph_id_98.95', 'graph_id_99.1', 'graph_id_99.15', 'graph_id_99.2', 'graph_id_99.25', 'graph_id_99.3', 'graph_id_99.35', 'graph_id_99.4', 'graph_id_99.5', 'graph_id_99.55', 'graph_id_99.6', 'graph_id_99.65', 'graph_id_99.7', 'graph_id_99.85', 'graph_id_99.9', 'graph_id_99.95', 'graph_id_100.05', 'graph_id_100.1', 'graph_id_100.2', 'graph_id_100.25', 'graph_id_100.35', 'graph_id_100.45', 'graph_id_100.6', 'graph_id_100.7', 'graph_id_100.75', 'graph_id_100.9', 'graph_id_101.0', 'graph_id_101.05', 'graph_id_101.1', 'graph_id_101.2', 'graph_id_101.25', 'graph_id_101.35', 'graph_id_101.5', 'graph_id_101.55', 'graph_id_101.6', 'graph_id_101.65', 'graph_id_101.7', 'graph_id_101.75', 'graph_id_101.8', 'graph_id_101.95', 'graph_id_102.1', 'graph_id_102.3', 'graph_id_102.4', 'graph_id_102.6', 'graph_id_102.65', 'graph_id_102.85', 'graph_id_103.1', 'graph_id_103.35', 'graph_id_103.7', 'graph_id_103.95', 'graph_id_104.15', 'graph_id_104.2', 'graph_id_104.35', 'graph_id_104.65', 'graph_id_104.7', 'graph_id_104.9', 'graph_id_105.15', 'graph_id_105.35', 'graph_id_105.55', 'graph_id_105.65', 'graph_id_106.0', 'graph_id_107.05', 'graph_id_107.55', 'graph_id_107.8', 'graph_id_107.85', 'graph_id_108.05', 'graph_id_108.15', 'graph_id_108.2', 'graph_id_108.95', 'graph_id_109.4', 'graph_id_111.15', 'graph_id_111.95'] not in index\"",
     "output_type": "error",
     "traceback": [
      "\u001b[1;31m---------------------------------------------------------------------------\u001b[0m",
      "\u001b[1;31mKeyError\u001b[0m                                  Traceback (most recent call last)",
      "Cell \u001b[1;32mIn[56], line 2\u001b[0m\n\u001b[0;32m      1\u001b[0m \u001b[38;5;66;03m# Define the independent and dependent variables\u001b[39;00m\n\u001b[1;32m----> 2\u001b[0m X_graph_with_dummies \u001b[38;5;241m=\u001b[39m \u001b[43mdata_with_dummies\u001b[49m\u001b[43m[\u001b[49m\u001b[43mgraph_fe_features\u001b[49m\u001b[43m]\u001b[49m\n\u001b[0;32m      3\u001b[0m y \u001b[38;5;241m=\u001b[39m data_with_dummies[\u001b[38;5;124m'\u001b[39m\u001b[38;5;124mrisk\u001b[39m\u001b[38;5;124m'\u001b[39m]\n\u001b[0;32m      5\u001b[0m \u001b[38;5;66;03m# Split the data into training and testing sets\u001b[39;00m\n",
      "File \u001b[1;32m~\\anaconda3\\lib\\site-packages\\pandas\\core\\frame.py:3511\u001b[0m, in \u001b[0;36mDataFrame.__getitem__\u001b[1;34m(self, key)\u001b[0m\n\u001b[0;32m   3509\u001b[0m     \u001b[38;5;28;01mif\u001b[39;00m is_iterator(key):\n\u001b[0;32m   3510\u001b[0m         key \u001b[38;5;241m=\u001b[39m \u001b[38;5;28mlist\u001b[39m(key)\n\u001b[1;32m-> 3511\u001b[0m     indexer \u001b[38;5;241m=\u001b[39m \u001b[38;5;28;43mself\u001b[39;49m\u001b[38;5;241;43m.\u001b[39;49m\u001b[43mcolumns\u001b[49m\u001b[38;5;241;43m.\u001b[39;49m\u001b[43m_get_indexer_strict\u001b[49m\u001b[43m(\u001b[49m\u001b[43mkey\u001b[49m\u001b[43m,\u001b[49m\u001b[43m \u001b[49m\u001b[38;5;124;43m\"\u001b[39;49m\u001b[38;5;124;43mcolumns\u001b[39;49m\u001b[38;5;124;43m\"\u001b[39;49m\u001b[43m)\u001b[49m[\u001b[38;5;241m1\u001b[39m]\n\u001b[0;32m   3513\u001b[0m \u001b[38;5;66;03m# take() does not accept boolean indexers\u001b[39;00m\n\u001b[0;32m   3514\u001b[0m \u001b[38;5;28;01mif\u001b[39;00m \u001b[38;5;28mgetattr\u001b[39m(indexer, \u001b[38;5;124m\"\u001b[39m\u001b[38;5;124mdtype\u001b[39m\u001b[38;5;124m\"\u001b[39m, \u001b[38;5;28;01mNone\u001b[39;00m) \u001b[38;5;241m==\u001b[39m \u001b[38;5;28mbool\u001b[39m:\n",
      "File \u001b[1;32m~\\anaconda3\\lib\\site-packages\\pandas\\core\\indexes\\base.py:5782\u001b[0m, in \u001b[0;36mIndex._get_indexer_strict\u001b[1;34m(self, key, axis_name)\u001b[0m\n\u001b[0;32m   5779\u001b[0m \u001b[38;5;28;01melse\u001b[39;00m:\n\u001b[0;32m   5780\u001b[0m     keyarr, indexer, new_indexer \u001b[38;5;241m=\u001b[39m \u001b[38;5;28mself\u001b[39m\u001b[38;5;241m.\u001b[39m_reindex_non_unique(keyarr)\n\u001b[1;32m-> 5782\u001b[0m \u001b[38;5;28;43mself\u001b[39;49m\u001b[38;5;241;43m.\u001b[39;49m\u001b[43m_raise_if_missing\u001b[49m\u001b[43m(\u001b[49m\u001b[43mkeyarr\u001b[49m\u001b[43m,\u001b[49m\u001b[43m \u001b[49m\u001b[43mindexer\u001b[49m\u001b[43m,\u001b[49m\u001b[43m \u001b[49m\u001b[43maxis_name\u001b[49m\u001b[43m)\u001b[49m\n\u001b[0;32m   5784\u001b[0m keyarr \u001b[38;5;241m=\u001b[39m \u001b[38;5;28mself\u001b[39m\u001b[38;5;241m.\u001b[39mtake(indexer)\n\u001b[0;32m   5785\u001b[0m \u001b[38;5;28;01mif\u001b[39;00m \u001b[38;5;28misinstance\u001b[39m(key, Index):\n\u001b[0;32m   5786\u001b[0m     \u001b[38;5;66;03m# GH 42790 - Preserve name from an Index\u001b[39;00m\n",
      "File \u001b[1;32m~\\anaconda3\\lib\\site-packages\\pandas\\core\\indexes\\base.py:5845\u001b[0m, in \u001b[0;36mIndex._raise_if_missing\u001b[1;34m(self, key, indexer, axis_name)\u001b[0m\n\u001b[0;32m   5842\u001b[0m     \u001b[38;5;28;01mraise\u001b[39;00m \u001b[38;5;167;01mKeyError\u001b[39;00m(\u001b[38;5;124mf\u001b[39m\u001b[38;5;124m\"\u001b[39m\u001b[38;5;124mNone of [\u001b[39m\u001b[38;5;132;01m{\u001b[39;00mkey\u001b[38;5;132;01m}\u001b[39;00m\u001b[38;5;124m] are in the [\u001b[39m\u001b[38;5;132;01m{\u001b[39;00maxis_name\u001b[38;5;132;01m}\u001b[39;00m\u001b[38;5;124m]\u001b[39m\u001b[38;5;124m\"\u001b[39m)\n\u001b[0;32m   5844\u001b[0m not_found \u001b[38;5;241m=\u001b[39m \u001b[38;5;28mlist\u001b[39m(ensure_index(key)[missing_mask\u001b[38;5;241m.\u001b[39mnonzero()[\u001b[38;5;241m0\u001b[39m]]\u001b[38;5;241m.\u001b[39munique())\n\u001b[1;32m-> 5845\u001b[0m \u001b[38;5;28;01mraise\u001b[39;00m \u001b[38;5;167;01mKeyError\u001b[39;00m(\u001b[38;5;124mf\u001b[39m\u001b[38;5;124m\"\u001b[39m\u001b[38;5;132;01m{\u001b[39;00mnot_found\u001b[38;5;132;01m}\u001b[39;00m\u001b[38;5;124m not in index\u001b[39m\u001b[38;5;124m\"\u001b[39m)\n",
      "\u001b[1;31mKeyError\u001b[0m: \"['graph_id_-113.55', 'graph_id_-111.0', 'graph_id_-109.8', 'graph_id_-109.1', 'graph_id_-108.75', 'graph_id_-108.15', 'graph_id_-107.8', 'graph_id_-107.65', 'graph_id_-106.65', 'graph_id_-106.55', 'graph_id_-105.9', 'graph_id_-105.85', 'graph_id_-105.5', 'graph_id_-105.05', 'graph_id_-105.0', 'graph_id_-104.75', 'graph_id_-104.25', 'graph_id_-104.2', 'graph_id_-103.9', 'graph_id_-103.55', 'graph_id_-103.3', 'graph_id_-103.15', 'graph_id_-103.1', 'graph_id_-103.05', 'graph_id_-103.0', 'graph_id_-102.95', 'graph_id_-102.9', 'graph_id_-102.85', 'graph_id_-102.8', 'graph_id_-102.7', 'graph_id_-102.65', 'graph_id_-102.4', 'graph_id_-102.3', 'graph_id_-102.1', 'graph_id_-102.0', 'graph_id_-101.9', 'graph_id_-101.8', 'graph_id_-101.75', 'graph_id_-101.7', 'graph_id_-101.6', 'graph_id_-101.45', 'graph_id_-101.4', 'graph_id_-101.3', 'graph_id_-101.2', 'graph_id_-101.1', 'graph_id_-100.9', 'graph_id_-100.85', 'graph_id_-100.65', 'graph_id_-100.6', 'graph_id_-100.55', 'graph_id_-100.45', 'graph_id_-100.4', 'graph_id_-100.3', 'graph_id_-100.25', 'graph_id_-100.2', 'graph_id_-100.05', 'graph_id_-100.0', 'graph_id_-99.95', 'graph_id_-99.9', 'graph_id_-99.8', 'graph_id_-99.75', 'graph_id_-99.7', 'graph_id_-99.65', 'graph_id_-99.45', 'graph_id_-99.4', 'graph_id_-99.35', 'graph_id_-99.3', 'graph_id_-99.2', 'graph_id_-99.15', 'graph_id_-99.1', 'graph_id_-99.05', 'graph_id_-99.0', 'graph_id_-98.95', 'graph_id_-98.9', 'graph_id_-98.85', 'graph_id_-98.65', 'graph_id_-98.6', 'graph_id_-98.55', 'graph_id_-98.45', 'graph_id_-98.3', 'graph_id_-98.25', 'graph_id_-98.15', 'graph_id_-98.0', 'graph_id_-97.95', 'graph_id_-97.9', 'graph_id_-97.85', 'graph_id_-97.8', 'graph_id_-97.75', 'graph_id_-97.7', 'graph_id_-97.6', 'graph_id_-97.4', 'graph_id_-97.35', 'graph_id_-97.3', 'graph_id_-97.15', 'graph_id_-97.1', 'graph_id_-97.05', 'graph_id_-97.0', 'graph_id_-96.95', 'graph_id_-96.9', 'graph_id_-96.85', 'graph_id_-96.8', 'graph_id_-96.75', 'graph_id_-96.7', 'graph_id_-96.6', 'graph_id_-96.55', 'graph_id_-96.5', 'graph_id_-96.45', 'graph_id_-96.3', 'graph_id_-96.15', 'graph_id_-96.1', 'graph_id_-96.05', 'graph_id_-96.0', 'graph_id_-95.95', 'graph_id_-95.9', 'graph_id_-95.85', 'graph_id_-95.8', 'graph_id_-95.75', 'graph_id_-95.65', 'graph_id_-95.55', 'graph_id_-95.45', 'graph_id_-95.4', 'graph_id_-95.35', 'graph_id_-95.3', 'graph_id_-95.25', 'graph_id_-95.2', 'graph_id_-95.05', 'graph_id_-95.0', 'graph_id_-94.9', 'graph_id_-94.85', 'graph_id_-94.8', 'graph_id_-94.75', 'graph_id_-94.65', 'graph_id_-94.6', 'graph_id_-94.55', 'graph_id_-94.5', 'graph_id_-94.35', 'graph_id_-94.3', 'graph_id_-94.25', 'graph_id_-94.2', 'graph_id_-94.15', 'graph_id_-94.05', 'graph_id_-94.0', 'graph_id_-93.9', 'graph_id_-93.85', 'graph_id_-93.8', 'graph_id_-93.75', 'graph_id_-93.7', 'graph_id_-93.65', 'graph_id_-93.6', 'graph_id_-93.55', 'graph_id_-93.5', 'graph_id_-93.45', 'graph_id_-93.4', 'graph_id_-93.35', 'graph_id_-93.3', 'graph_id_-93.25', 'graph_id_-93.2', 'graph_id_-93.15', 'graph_id_-93.1', 'graph_id_-93.05', 'graph_id_-93.0', 'graph_id_-92.95', 'graph_id_-92.9', 'graph_id_-92.85', 'graph_id_-92.8', 'graph_id_-92.75', 'graph_id_-92.7', 'graph_id_-92.65', 'graph_id_-92.6', 'graph_id_-92.45', 'graph_id_-92.4', 'graph_id_-92.35', 'graph_id_-92.3', 'graph_id_-92.25', 'graph_id_-92.2', 'graph_id_-92.15', 'graph_id_-92.1', 'graph_id_-92.05', 'graph_id_-92.0', 'graph_id_-91.95', 'graph_id_-91.9', 'graph_id_-91.85', 'graph_id_-91.8', 'graph_id_-91.75', 'graph_id_-91.7', 'graph_id_-91.65', 'graph_id_-91.6', 'graph_id_-91.5', 'graph_id_-91.45', 'graph_id_-91.4', 'graph_id_-91.35', 'graph_id_-91.3', 'graph_id_-91.25', 'graph_id_-91.2', 'graph_id_-91.15', 'graph_id_-91.1', 'graph_id_-91.05', 'graph_id_-91.0', 'graph_id_-90.95', 'graph_id_-90.9', 'graph_id_-90.85', 'graph_id_-90.8', 'graph_id_-90.75', 'graph_id_-90.7', 'graph_id_-90.65', 'graph_id_-90.5', 'graph_id_-90.4', 'graph_id_-90.35', 'graph_id_-90.3', 'graph_id_-90.25', 'graph_id_-90.2', 'graph_id_-90.15', 'graph_id_-90.1', 'graph_id_-90.05', 'graph_id_-90.0', 'graph_id_-89.95', 'graph_id_-89.9', 'graph_id_-89.85', 'graph_id_-89.8', 'graph_id_-89.7', 'graph_id_-89.65', 'graph_id_-89.55', 'graph_id_-89.5', 'graph_id_-89.45', 'graph_id_-89.4', 'graph_id_-89.35', 'graph_id_-89.3', 'graph_id_-89.25', 'graph_id_-89.1', 'graph_id_-89.05', 'graph_id_-89.0', 'graph_id_-88.95', 'graph_id_-88.9', 'graph_id_-88.85', 'graph_id_-88.8', 'graph_id_-88.75', 'graph_id_-88.7', 'graph_id_-88.65', 'graph_id_-88.6', 'graph_id_-88.55', 'graph_id_-88.5', 'graph_id_-88.45', 'graph_id_-88.4', 'graph_id_-88.35', 'graph_id_-88.3', 'graph_id_-88.25', 'graph_id_-88.2', 'graph_id_-88.15', 'graph_id_-88.1', 'graph_id_-88.05', 'graph_id_-88.0', 'graph_id_-87.95', 'graph_id_-87.9', 'graph_id_-87.85', 'graph_id_-87.8', 'graph_id_-87.75', 'graph_id_-87.7', 'graph_id_-87.65', 'graph_id_-87.6', 'graph_id_-87.55', 'graph_id_-87.5', 'graph_id_-87.45', 'graph_id_-87.4', 'graph_id_-87.35', 'graph_id_-87.3', 'graph_id_-87.25', 'graph_id_-87.2', 'graph_id_-87.15', 'graph_id_-87.1', 'graph_id_-87.0', 'graph_id_-86.95', 'graph_id_-86.9', 'graph_id_-86.85', 'graph_id_-86.8', 'graph_id_-86.75', 'graph_id_-86.7', 'graph_id_-86.65', 'graph_id_-86.6', 'graph_id_-86.55', 'graph_id_-86.35', 'graph_id_-86.3', 'graph_id_-86.25', 'graph_id_-86.15', 'graph_id_-86.1', 'graph_id_-86.05', 'graph_id_-86.0', 'graph_id_-85.95', 'graph_id_-85.9', 'graph_id_-85.85', 'graph_id_-85.8', 'graph_id_-85.75', 'graph_id_-85.7', 'graph_id_-85.65', 'graph_id_-85.55', 'graph_id_-85.45', 'graph_id_-85.4', 'graph_id_-85.3', 'graph_id_-85.25', 'graph_id_-85.15', 'graph_id_-85.1', 'graph_id_-85.05', 'graph_id_-85.0', 'graph_id_-84.95', 'graph_id_-84.9', 'graph_id_-84.85', 'graph_id_-84.8', 'graph_id_-84.75', 'graph_id_-84.7', 'graph_id_-84.65', 'graph_id_-84.6', 'graph_id_-84.55', 'graph_id_-84.5', 'graph_id_-84.45', 'graph_id_-84.4', 'graph_id_-84.35', 'graph_id_-84.3', 'graph_id_-84.2', 'graph_id_-84.15', 'graph_id_-84.05', 'graph_id_-84.0', 'graph_id_-83.95', 'graph_id_-83.9', 'graph_id_-83.85', 'graph_id_-83.8', 'graph_id_-83.75', 'graph_id_-83.7', 'graph_id_-83.65', 'graph_id_-83.6', 'graph_id_-83.55', 'graph_id_-83.5', 'graph_id_-83.45', 'graph_id_-83.4', 'graph_id_-83.35', 'graph_id_-83.3', 'graph_id_-83.25', 'graph_id_-83.2', 'graph_id_-83.15', 'graph_id_-83.1', 'graph_id_-83.05', 'graph_id_-83.0', 'graph_id_-82.95', 'graph_id_-82.9', 'graph_id_-82.85', 'graph_id_-82.8', 'graph_id_-82.75', 'graph_id_-82.7', 'graph_id_-82.65', 'graph_id_-82.6', 'graph_id_-82.55', 'graph_id_-82.45', 'graph_id_-82.4', 'graph_id_-82.35', 'graph_id_-82.3', 'graph_id_-82.25', 'graph_id_-82.15', 'graph_id_-82.1', 'graph_id_-82.05', 'graph_id_-82.0', 'graph_id_-81.95', 'graph_id_-81.9', 'graph_id_-81.85', 'graph_id_-81.8', 'graph_id_-81.75', 'graph_id_-81.65', 'graph_id_-81.6', 'graph_id_-81.5', 'graph_id_-81.45', 'graph_id_-81.4', 'graph_id_-81.35', 'graph_id_-81.2', 'graph_id_-81.1', 'graph_id_-81.05', 'graph_id_-81.0', 'graph_id_-80.95', 'graph_id_-80.9', 'graph_id_-80.85', 'graph_id_-80.8', 'graph_id_-80.75', 'graph_id_-80.7', 'graph_id_-80.65', 'graph_id_-80.6', 'graph_id_-80.55', 'graph_id_-80.5', 'graph_id_-80.45', 'graph_id_-80.4', 'graph_id_-80.35', 'graph_id_-80.3', 'graph_id_-80.25', 'graph_id_-80.2', 'graph_id_-80.15', 'graph_id_-80.1', 'graph_id_-80.05', 'graph_id_-80.0', 'graph_id_-79.95', 'graph_id_-79.9', 'graph_id_-79.85', 'graph_id_-79.8', 'graph_id_-79.75', 'graph_id_-79.7', 'graph_id_-79.65', 'graph_id_-79.6', 'graph_id_-79.5', 'graph_id_-79.45', 'graph_id_-79.4', 'graph_id_-79.35', 'graph_id_-79.3', 'graph_id_-79.25', 'graph_id_-79.2', 'graph_id_-79.15', 'graph_id_-79.1', 'graph_id_-79.05', 'graph_id_-79.0', 'graph_id_-78.95', 'graph_id_-78.9', 'graph_id_-78.85', 'graph_id_-78.8', 'graph_id_-78.75', 'graph_id_-78.65', 'graph_id_-78.6', 'graph_id_-78.55', 'graph_id_-78.5', 'graph_id_-78.45', 'graph_id_-78.4', 'graph_id_-78.35', 'graph_id_-78.3', 'graph_id_-78.25', 'graph_id_-78.2', 'graph_id_-78.15', 'graph_id_-78.1', 'graph_id_-78.05', 'graph_id_-78.0', 'graph_id_-77.95', 'graph_id_-77.9', 'graph_id_-77.85', 'graph_id_-77.8', 'graph_id_-77.75', 'graph_id_-77.7', 'graph_id_-77.65', 'graph_id_-77.6', 'graph_id_-77.55', 'graph_id_-77.5', 'graph_id_-77.45', 'graph_id_-77.4', 'graph_id_-77.35', 'graph_id_-77.3', 'graph_id_-77.25', 'graph_id_-77.2', 'graph_id_-77.15', 'graph_id_-77.1', 'graph_id_-77.05', 'graph_id_-77.0', 'graph_id_-76.95', 'graph_id_-76.9', 'graph_id_-76.85', 'graph_id_-76.8', 'graph_id_-76.75', 'graph_id_-76.7', 'graph_id_-76.65', 'graph_id_-76.6', 'graph_id_-76.5', 'graph_id_-76.45', 'graph_id_-76.4', 'graph_id_-76.35', 'graph_id_-76.3', 'graph_id_-76.25', 'graph_id_-76.2', 'graph_id_-76.15', 'graph_id_-76.1', 'graph_id_-76.05', 'graph_id_-76.0', 'graph_id_-75.95', 'graph_id_-75.9', 'graph_id_-75.85', 'graph_id_-75.8', 'graph_id_-75.75', 'graph_id_-75.7', 'graph_id_-75.65', 'graph_id_-75.6', 'graph_id_-75.55', 'graph_id_-75.5', 'graph_id_-75.45', 'graph_id_-75.4', 'graph_id_-75.35', 'graph_id_-75.3', 'graph_id_-75.25', 'graph_id_-75.2', 'graph_id_-75.15', 'graph_id_-75.05', 'graph_id_-75.0', 'graph_id_-74.95', 'graph_id_-74.9', 'graph_id_-74.85', 'graph_id_-74.8', 'graph_id_-74.75', 'graph_id_-74.7', 'graph_id_-74.65', 'graph_id_-74.6', 'graph_id_-74.55', 'graph_id_-74.5', 'graph_id_-74.45', 'graph_id_-74.4', 'graph_id_-74.35', 'graph_id_-74.3', 'graph_id_-74.25', 'graph_id_-74.2', 'graph_id_-74.15', 'graph_id_-74.1', 'graph_id_-74.05', 'graph_id_-74.0', 'graph_id_-73.95', 'graph_id_-73.9', 'graph_id_-73.85', 'graph_id_-73.8', 'graph_id_-73.75', 'graph_id_-73.7', 'graph_id_-73.65', 'graph_id_-73.6', 'graph_id_-73.55', 'graph_id_-73.4', 'graph_id_-73.35', 'graph_id_-73.3', 'graph_id_-73.25', 'graph_id_-73.2', 'graph_id_-73.15', 'graph_id_-73.05', 'graph_id_-73.0', 'graph_id_-72.95', 'graph_id_-72.9', 'graph_id_-72.85', 'graph_id_-72.8', 'graph_id_-72.75', 'graph_id_-72.65', 'graph_id_-72.6', 'graph_id_-72.55', 'graph_id_-72.5', 'graph_id_-72.45', 'graph_id_-72.4', 'graph_id_-72.35', 'graph_id_-72.3', 'graph_id_-72.25', 'graph_id_-72.2', 'graph_id_-72.15', 'graph_id_-72.1', 'graph_id_-72.05', 'graph_id_-72.0', 'graph_id_-71.9', 'graph_id_-71.85', 'graph_id_-71.8', 'graph_id_-71.75', 'graph_id_-71.7', 'graph_id_-71.65', 'graph_id_-71.6', 'graph_id_-71.55', 'graph_id_-71.5', 'graph_id_-71.45', 'graph_id_-71.4', 'graph_id_-71.35', 'graph_id_-71.3', 'graph_id_-71.25', 'graph_id_-71.2', 'graph_id_-71.15', 'graph_id_-71.1', 'graph_id_-71.05', 'graph_id_-71.0', 'graph_id_-70.95', 'graph_id_-70.9', 'graph_id_-70.85', 'graph_id_-70.8', 'graph_id_-70.75', 'graph_id_-70.65', 'graph_id_-70.6', 'graph_id_-70.55', 'graph_id_-70.5', 'graph_id_-70.45', 'graph_id_-70.35', 'graph_id_-70.3', 'graph_id_-70.25', 'graph_id_-70.2', 'graph_id_-70.15', 'graph_id_-70.1', 'graph_id_-70.05', 'graph_id_-70.0', 'graph_id_-69.95', 'graph_id_-69.9', 'graph_id_-69.85', 'graph_id_-69.8', 'graph_id_-69.75', 'graph_id_-69.65', 'graph_id_-69.6', 'graph_id_-69.5', 'graph_id_-69.4', 'graph_id_-69.35', 'graph_id_-69.3', 'graph_id_-69.25', 'graph_id_-69.2', 'graph_id_-69.15', 'graph_id_-69.1', 'graph_id_-69.05', 'graph_id_-69.0', 'graph_id_-68.95', 'graph_id_-68.9', 'graph_id_-68.85', 'graph_id_-68.8', 'graph_id_-68.75', 'graph_id_-68.7', 'graph_id_-68.65', 'graph_id_-68.6', 'graph_id_-68.55', 'graph_id_-68.5', 'graph_id_-68.45', 'graph_id_-68.4', 'graph_id_-68.35', 'graph_id_-68.3', 'graph_id_-68.25', 'graph_id_-68.2', 'graph_id_-68.15', 'graph_id_-68.1', 'graph_id_-68.05', 'graph_id_-68.0', 'graph_id_-67.95', 'graph_id_-67.9', 'graph_id_-67.85', 'graph_id_-67.8', 'graph_id_-67.75', 'graph_id_-67.7', 'graph_id_-67.65', 'graph_id_-67.6', 'graph_id_-67.55', 'graph_id_-67.5', 'graph_id_-67.45', 'graph_id_-67.4', 'graph_id_-67.35', 'graph_id_-67.3', 'graph_id_-67.25', 'graph_id_-67.2', 'graph_id_-67.15', 'graph_id_-67.1', 'graph_id_-67.05', 'graph_id_-67.0', 'graph_id_-66.95', 'graph_id_-66.9', 'graph_id_-66.8', 'graph_id_-66.75', 'graph_id_-66.7', 'graph_id_-66.65', 'graph_id_-66.6', 'graph_id_-66.55', 'graph_id_-66.5', 'graph_id_-66.45', 'graph_id_-66.4', 'graph_id_-66.35', 'graph_id_-66.3', 'graph_id_-66.25', 'graph_id_-66.2', 'graph_id_-66.15', 'graph_id_-66.1', 'graph_id_-66.05', 'graph_id_-66.0', 'graph_id_-65.95', 'graph_id_-65.9', 'graph_id_-65.85', 'graph_id_-65.8', 'graph_id_-65.75', 'graph_id_-65.7', 'graph_id_-65.65', 'graph_id_-65.6', 'graph_id_-65.55', 'graph_id_-65.45', 'graph_id_-65.4', 'graph_id_-65.35', 'graph_id_-65.3', 'graph_id_-65.2', 'graph_id_-65.15', 'graph_id_-65.1', 'graph_id_-65.05', 'graph_id_-65.0', 'graph_id_-64.95', 'graph_id_-64.9', 'graph_id_-64.85', 'graph_id_-64.8', 'graph_id_-64.75', 'graph_id_-64.7', 'graph_id_-64.65', 'graph_id_-64.6', 'graph_id_-64.55', 'graph_id_-64.5', 'graph_id_-64.45', 'graph_id_-64.4', 'graph_id_-64.35', 'graph_id_-64.3', 'graph_id_-64.25', 'graph_id_-64.2', 'graph_id_-64.15', 'graph_id_-64.1', 'graph_id_-64.05', 'graph_id_-64.0', 'graph_id_-63.95', 'graph_id_-63.900000000000006', 'graph_id_-63.849999999999994', 'graph_id_-63.8', 'graph_id_-63.75', 'graph_id_-63.7', 'graph_id_-63.650000000000006', 'graph_id_-63.599999999999994', 'graph_id_-63.55', 'graph_id_-63.5', 'graph_id_-63.45', 'graph_id_-63.400000000000006', 'graph_id_-63.349999999999994', 'graph_id_-63.3', 'graph_id_-63.25', 'graph_id_-63.2', 'graph_id_-63.150000000000006', 'graph_id_-63.099999999999994', 'graph_id_-63.05', 'graph_id_-63.0', 'graph_id_-62.95', 'graph_id_-62.900000000000006', 'graph_id_-62.849999999999994', 'graph_id_-62.8', 'graph_id_-62.75', 'graph_id_-62.7', 'graph_id_-62.650000000000006', 'graph_id_-62.599999999999994', 'graph_id_-62.55', 'graph_id_-62.5', 'graph_id_-62.45', 'graph_id_-62.349999999999994', 'graph_id_-62.3', 'graph_id_-62.25', 'graph_id_-62.2', 'graph_id_-62.150000000000006', 'graph_id_-62.099999999999994', 'graph_id_-62.05', 'graph_id_-61.95', 'graph_id_-61.900000000000006', 'graph_id_-61.849999999999994', 'graph_id_-61.8', 'graph_id_-61.75', 'graph_id_-61.7', 'graph_id_-61.650000000000006', 'graph_id_-61.599999999999994', 'graph_id_-61.55', 'graph_id_-61.5', 'graph_id_-61.45', 'graph_id_-61.400000000000006', 'graph_id_-61.349999999999994', 'graph_id_-61.3', 'graph_id_-61.25', 'graph_id_-61.2', 'graph_id_-61.150000000000006', 'graph_id_-61.099999999999994', 'graph_id_-61.05', 'graph_id_-61.0', 'graph_id_-60.900000000000006', 'graph_id_-60.849999999999994', 'graph_id_-60.8', 'graph_id_-60.75', 'graph_id_-60.650000000000006', 'graph_id_-60.599999999999994', 'graph_id_-60.55', 'graph_id_-60.5', 'graph_id_-60.45', 'graph_id_-60.400000000000006', 'graph_id_-60.349999999999994', 'graph_id_-60.3', 'graph_id_-60.25', 'graph_id_-60.2', 'graph_id_-60.150000000000006', 'graph_id_-60.05', 'graph_id_-60.0', 'graph_id_-59.95', 'graph_id_-59.900000000000006', 'graph_id_-59.849999999999994', 'graph_id_-59.8', 'graph_id_-59.75', 'graph_id_-59.7', 'graph_id_-59.650000000000006', 'graph_id_-59.599999999999994', 'graph_id_-59.55', 'graph_id_-59.5', 'graph_id_-59.45', 'graph_id_-59.400000000000006', 'graph_id_-59.3', 'graph_id_-59.25', 'graph_id_-59.2', 'graph_id_-59.150000000000006', 'graph_id_-59.099999999999994', 'graph_id_-59.05', 'graph_id_-59.0', 'graph_id_-58.95', 'graph_id_-58.900000000000006', 'graph_id_-58.849999999999994', 'graph_id_-58.8', 'graph_id_-58.7', 'graph_id_-58.650000000000006', 'graph_id_-58.599999999999994', 'graph_id_-58.55', 'graph_id_-58.5', 'graph_id_-58.45', 'graph_id_-58.400000000000006', 'graph_id_-58.349999999999994', 'graph_id_-58.3', 'graph_id_-58.25', 'graph_id_-58.2', 'graph_id_-58.099999999999994', 'graph_id_-58.05', 'graph_id_-58.0', 'graph_id_-57.95', 'graph_id_-57.900000000000006', 'graph_id_-57.849999999999994', 'graph_id_-57.8', 'graph_id_-57.75', 'graph_id_-57.7', 'graph_id_-57.650000000000006', 'graph_id_-57.599999999999994', 'graph_id_-57.55', 'graph_id_-57.5', 'graph_id_-57.45', 'graph_id_-57.400000000000006', 'graph_id_-57.349999999999994', 'graph_id_-57.3', 'graph_id_-57.25', 'graph_id_-57.150000000000006', 'graph_id_-57.099999999999994', 'graph_id_-57.0', 'graph_id_-56.95', 'graph_id_-56.900000000000006', 'graph_id_-56.8', 'graph_id_-56.75', 'graph_id_-56.7', 'graph_id_-56.650000000000006', 'graph_id_-56.599999999999994', 'graph_id_-56.55', 'graph_id_-56.5', 'graph_id_-56.45', 'graph_id_-56.400000000000006', 'graph_id_-56.349999999999994', 'graph_id_-56.3', 'graph_id_-56.25', 'graph_id_-56.2', 'graph_id_-56.150000000000006', 'graph_id_-56.099999999999994', 'graph_id_-56.05', 'graph_id_-56.0', 'graph_id_-55.95', 'graph_id_-55.900000000000006', 'graph_id_-55.849999999999994', 'graph_id_-55.8', 'graph_id_-55.75', 'graph_id_-55.7', 'graph_id_-55.650000000000006', 'graph_id_-55.5', 'graph_id_-55.400000000000006', 'graph_id_-55.349999999999994', 'graph_id_-55.3', 'graph_id_-55.25', 'graph_id_-55.2', 'graph_id_-55.150000000000006', 'graph_id_-55.099999999999994', 'graph_id_-55.05', 'graph_id_-55.0', 'graph_id_-54.95', 'graph_id_-54.900000000000006', 'graph_id_-54.849999999999994', 'graph_id_-54.8', 'graph_id_-54.75', 'graph_id_-54.650000000000006', 'graph_id_-54.599999999999994', 'graph_id_-54.55', 'graph_id_-54.5', 'graph_id_-54.45', 'graph_id_-54.400000000000006', 'graph_id_-54.349999999999994', 'graph_id_-54.3', 'graph_id_-54.25', 'graph_id_-54.2', 'graph_id_-54.150000000000006', 'graph_id_-54.099999999999994', 'graph_id_-54.05', 'graph_id_-54.0', 'graph_id_-53.95', 'graph_id_-53.900000000000006', 'graph_id_-53.849999999999994', 'graph_id_-53.8', 'graph_id_-53.75', 'graph_id_-53.7', 'graph_id_-53.650000000000006', 'graph_id_-53.599999999999994', 'graph_id_-53.55', 'graph_id_-53.5', 'graph_id_-53.45', 'graph_id_-53.400000000000006', 'graph_id_-53.349999999999994', 'graph_id_-53.3', 'graph_id_-53.25', 'graph_id_-53.2', 'graph_id_-53.150000000000006', 'graph_id_-53.099999999999994', 'graph_id_-53.05', 'graph_id_-53.0', 'graph_id_-52.95', 'graph_id_-52.900000000000006', 'graph_id_-52.849999999999994', 'graph_id_-52.8', 'graph_id_-52.75', 'graph_id_-52.7', 'graph_id_-52.650000000000006', 'graph_id_-52.599999999999994', 'graph_id_-52.55', 'graph_id_-52.5', 'graph_id_-52.45', 'graph_id_-52.400000000000006', 'graph_id_-52.349999999999994', 'graph_id_-52.3', 'graph_id_-52.25', 'graph_id_-52.2', 'graph_id_-52.150000000000006', 'graph_id_-52.099999999999994', 'graph_id_-52.05', 'graph_id_-52.0', 'graph_id_-51.95', 'graph_id_-51.900000000000006', 'graph_id_-51.849999999999994', 'graph_id_-51.8', 'graph_id_-51.7', 'graph_id_-51.650000000000006', 'graph_id_-51.599999999999994', 'graph_id_-51.55', 'graph_id_-51.5', 'graph_id_-51.400000000000006', 'graph_id_-51.349999999999994', 'graph_id_-51.3', 'graph_id_-51.25', 'graph_id_-51.150000000000006', 'graph_id_-51.099999999999994', 'graph_id_-50.95', 'graph_id_-50.900000000000006', 'graph_id_-50.849999999999994', 'graph_id_-50.8', 'graph_id_-50.75', 'graph_id_-50.7', 'graph_id_-50.650000000000006', 'graph_id_-50.599999999999994', 'graph_id_-50.55', 'graph_id_-50.5', 'graph_id_-50.45', 'graph_id_-50.400000000000006', 'graph_id_-50.349999999999994', 'graph_id_-50.3', 'graph_id_-50.2', 'graph_id_-50.150000000000006', 'graph_id_-50.099999999999994', 'graph_id_-50.05', 'graph_id_-50.0', 'graph_id_-49.95', 'graph_id_-49.900000000000006', 'graph_id_-49.849999999999994', 'graph_id_-49.8', 'graph_id_-49.75', 'graph_id_-49.7', 'graph_id_-49.650000000000006', 'graph_id_-49.599999999999994', 'graph_id_-49.55', 'graph_id_-49.45', 'graph_id_-49.400000000000006', 'graph_id_-49.349999999999994', 'graph_id_-49.3', 'graph_id_-49.25', 'graph_id_-49.2', 'graph_id_-49.150000000000006', 'graph_id_-49.099999999999994', 'graph_id_-49.05', 'graph_id_-49.0', 'graph_id_-48.95', 'graph_id_-48.900000000000006', 'graph_id_-48.849999999999994', 'graph_id_-48.8', 'graph_id_-48.75', 'graph_id_-48.7', 'graph_id_-48.650000000000006', 'graph_id_-48.599999999999994', 'graph_id_-48.55', 'graph_id_-48.5', 'graph_id_-48.45', 'graph_id_-48.400000000000006', 'graph_id_-48.349999999999994', 'graph_id_-48.3', 'graph_id_-48.150000000000006', 'graph_id_-48.05', 'graph_id_-48.0', 'graph_id_-47.95', 'graph_id_-47.900000000000006', 'graph_id_-47.849999999999994', 'graph_id_-47.8', 'graph_id_-47.75', 'graph_id_-47.650000000000006', 'graph_id_-47.599999999999994', 'graph_id_-47.55', 'graph_id_-47.5', 'graph_id_-47.45', 'graph_id_-47.400000000000006', 'graph_id_-47.3', 'graph_id_-47.25', 'graph_id_-47.2', 'graph_id_-47.150000000000006', 'graph_id_-47.099999999999994', 'graph_id_-47.0', 'graph_id_-46.95', 'graph_id_-46.900000000000006', 'graph_id_-46.849999999999994', 'graph_id_-46.8', 'graph_id_-46.75', 'graph_id_-46.650000000000006', 'graph_id_-46.599999999999994', 'graph_id_-46.55', 'graph_id_-46.400000000000006', 'graph_id_-46.349999999999994', 'graph_id_-46.3', 'graph_id_-46.25', 'graph_id_-46.2', 'graph_id_-46.150000000000006', 'graph_id_-46.05', 'graph_id_-46.0', 'graph_id_-45.900000000000006', 'graph_id_-45.849999999999994', 'graph_id_-45.8', 'graph_id_-45.75', 'graph_id_-45.7', 'graph_id_-45.650000000000006', 'graph_id_-45.55', 'graph_id_-45.5', 'graph_id_-45.45', 'graph_id_-45.400000000000006', 'graph_id_-45.349999999999994', 'graph_id_-45.3', 'graph_id_-45.25', 'graph_id_-45.2', 'graph_id_-45.150000000000006', 'graph_id_-45.099999999999994', 'graph_id_-45.05', 'graph_id_-45.0', 'graph_id_-44.95', 'graph_id_-44.900000000000006', 'graph_id_-44.849999999999994', 'graph_id_-44.8', 'graph_id_-44.75', 'graph_id_-44.7', 'graph_id_-44.650000000000006', 'graph_id_-44.55', 'graph_id_-44.5', 'graph_id_-44.45', 'graph_id_-44.400000000000006', 'graph_id_-44.349999999999994', 'graph_id_-44.3', 'graph_id_-44.25', 'graph_id_-44.150000000000006', 'graph_id_-44.099999999999994', 'graph_id_-44.05', 'graph_id_-44.0', 'graph_id_-43.900000000000006', 'graph_id_-43.849999999999994', 'graph_id_-43.8', 'graph_id_-43.75', 'graph_id_-43.7', 'graph_id_-43.650000000000006', 'graph_id_-43.599999999999994', 'graph_id_-43.55', 'graph_id_-43.5', 'graph_id_-43.45', 'graph_id_-43.400000000000006', 'graph_id_-43.349999999999994', 'graph_id_-43.3', 'graph_id_-43.25', 'graph_id_-43.2', 'graph_id_-43.150000000000006', 'graph_id_-43.099999999999994', 'graph_id_-43.05', 'graph_id_-43.0', 'graph_id_-42.900000000000006', 'graph_id_-42.849999999999994', 'graph_id_-42.75', 'graph_id_-42.7', 'graph_id_-42.599999999999994', 'graph_id_-42.55', 'graph_id_-42.45', 'graph_id_-42.400000000000006', 'graph_id_-42.349999999999994', 'graph_id_-42.3', 'graph_id_-42.2', 'graph_id_-42.150000000000006', 'graph_id_-42.099999999999994', 'graph_id_-42.05', 'graph_id_-42.0', 'graph_id_-41.95', 'graph_id_-41.900000000000006', 'graph_id_-41.849999999999994', 'graph_id_-41.8', 'graph_id_-41.75', 'graph_id_-41.7', 'graph_id_-41.650000000000006', 'graph_id_-41.599999999999994', 'graph_id_-41.55', 'graph_id_-41.5', 'graph_id_-41.45', 'graph_id_-41.400000000000006', 'graph_id_-41.349999999999994', 'graph_id_-41.3', 'graph_id_-41.05', 'graph_id_-41.0', 'graph_id_-40.95', 'graph_id_-40.900000000000006', 'graph_id_-40.849999999999994', 'graph_id_-40.8', 'graph_id_-40.75', 'graph_id_-40.7', 'graph_id_-40.650000000000006', 'graph_id_-40.599999999999994', 'graph_id_-40.55', 'graph_id_-40.5', 'graph_id_-40.45', 'graph_id_-40.400000000000006', 'graph_id_-40.349999999999994', 'graph_id_-40.3', 'graph_id_-40.25', 'graph_id_-40.2', 'graph_id_-40.150000000000006', 'graph_id_-40.099999999999994', 'graph_id_-40.05', 'graph_id_-40.0', 'graph_id_-39.95', 'graph_id_-39.900000000000006', 'graph_id_-39.8', 'graph_id_-39.75', 'graph_id_-39.7', 'graph_id_-39.650000000000006', 'graph_id_-39.55', 'graph_id_-39.5', 'graph_id_-39.45', 'graph_id_-39.400000000000006', 'graph_id_-39.349999999999994', 'graph_id_-39.3', 'graph_id_-39.25', 'graph_id_-39.2', 'graph_id_-39.099999999999994', 'graph_id_-39.05', 'graph_id_-39.0', 'graph_id_-38.95', 'graph_id_-38.900000000000006', 'graph_id_-38.849999999999994', 'graph_id_-38.8', 'graph_id_-38.75', 'graph_id_-38.650000000000006', 'graph_id_-38.599999999999994', 'graph_id_-38.55', 'graph_id_-38.5', 'graph_id_-38.400000000000006', 'graph_id_-38.349999999999994', 'graph_id_-38.3', 'graph_id_-38.25', 'graph_id_-38.2', 'graph_id_-38.150000000000006', 'graph_id_-38.099999999999994', 'graph_id_-38.05', 'graph_id_-38.0', 'graph_id_-37.95', 'graph_id_-37.900000000000006', 'graph_id_-37.849999999999994', 'graph_id_-37.8', 'graph_id_-37.75', 'graph_id_-37.7', 'graph_id_-37.650000000000006', 'graph_id_-37.599999999999994', 'graph_id_-37.55', 'graph_id_-37.5', 'graph_id_-37.45', 'graph_id_-37.400000000000006', 'graph_id_-37.349999999999994', 'graph_id_-37.3', 'graph_id_-37.25', 'graph_id_-37.2', 'graph_id_-37.150000000000006', 'graph_id_-37.099999999999994', 'graph_id_-37.05', 'graph_id_-37.0', 'graph_id_-36.95', 'graph_id_-36.900000000000006', 'graph_id_-36.849999999999994', 'graph_id_-36.8', 'graph_id_-36.75', 'graph_id_-36.650000000000006', 'graph_id_-36.599999999999994', 'graph_id_-36.5', 'graph_id_-36.45', 'graph_id_-36.400000000000006', 'graph_id_-36.349999999999994', 'graph_id_-36.3', 'graph_id_-36.25', 'graph_id_-36.099999999999994', 'graph_id_-36.05', 'graph_id_-36.0', 'graph_id_-35.95', 'graph_id_-35.900000000000006', 'graph_id_-35.849999999999994', 'graph_id_-35.8', 'graph_id_-35.75', 'graph_id_-35.7', 'graph_id_-35.650000000000006', 'graph_id_-35.599999999999994', 'graph_id_-35.55', 'graph_id_-35.5', 'graph_id_-35.45', 'graph_id_-35.400000000000006', 'graph_id_-35.349999999999994', 'graph_id_-35.3', 'graph_id_-35.25', 'graph_id_-35.099999999999994', 'graph_id_-35.05', 'graph_id_-35.0', 'graph_id_-34.95', 'graph_id_-34.900000000000006', 'graph_id_-34.849999999999994', 'graph_id_-34.75', 'graph_id_-34.7', 'graph_id_-34.650000000000006', 'graph_id_-34.599999999999994', 'graph_id_-34.55', 'graph_id_-34.5', 'graph_id_-34.45', 'graph_id_-34.400000000000006', 'graph_id_-34.349999999999994', 'graph_id_-34.3', 'graph_id_-34.25', 'graph_id_-34.2', 'graph_id_-34.150000000000006', 'graph_id_-34.05', 'graph_id_-34.0', 'graph_id_-33.95', 'graph_id_-33.900000000000006', 'graph_id_-33.849999999999994', 'graph_id_-33.8', 'graph_id_-33.75', 'graph_id_-33.650000000000006', 'graph_id_-33.599999999999994', 'graph_id_-33.55', 'graph_id_-33.5', 'graph_id_-33.45', 'graph_id_-33.400000000000006', 'graph_id_-33.349999999999994', 'graph_id_-33.3', 'graph_id_-33.25', 'graph_id_-33.2', 'graph_id_-33.150000000000006', 'graph_id_-33.099999999999994', 'graph_id_-33.05', 'graph_id_-33.0', 'graph_id_-32.95', 'graph_id_-32.900000000000006', 'graph_id_-32.849999999999994', 'graph_id_-32.8', 'graph_id_-32.75', 'graph_id_-32.7', 'graph_id_-32.650000000000006', 'graph_id_-32.599999999999994', 'graph_id_-32.5', 'graph_id_-32.45', 'graph_id_-32.400000000000006', 'graph_id_-32.3', 'graph_id_-32.25', 'graph_id_-32.2', 'graph_id_-32.150000000000006', 'graph_id_-32.099999999999994', 'graph_id_-32.05', 'graph_id_-32.0', 'graph_id_-31.950000000000003', 'graph_id_-31.900000000000006', 'graph_id_-31.849999999999994', 'graph_id_-31.799999999999997', 'graph_id_-31.75', 'graph_id_-31.700000000000003', 'graph_id_-31.650000000000006', 'graph_id_-31.599999999999994', 'graph_id_-31.549999999999997', 'graph_id_-31.5', 'graph_id_-31.450000000000003', 'graph_id_-31.400000000000006', 'graph_id_-31.349999999999994', 'graph_id_-31.299999999999997', 'graph_id_-31.25', 'graph_id_-31.200000000000003', 'graph_id_-31.150000000000006', 'graph_id_-31.099999999999994', 'graph_id_-31.049999999999997', 'graph_id_-31.0', 'graph_id_-30.950000000000003', 'graph_id_-30.900000000000006', 'graph_id_-30.849999999999994', 'graph_id_-30.799999999999997', 'graph_id_-30.75', 'graph_id_-30.650000000000006', 'graph_id_-30.599999999999994', 'graph_id_-30.5', 'graph_id_-30.450000000000003', 'graph_id_-30.400000000000006', 'graph_id_-30.349999999999994', 'graph_id_-30.299999999999997', 'graph_id_-30.25', 'graph_id_-30.200000000000003', 'graph_id_-30.150000000000006', 'graph_id_-30.099999999999994', 'graph_id_-30.049999999999997', 'graph_id_-30.0', 'graph_id_-29.950000000000003', 'graph_id_-29.900000000000006', 'graph_id_-29.849999999999994', 'graph_id_-29.799999999999997', 'graph_id_-29.75', 'graph_id_-29.700000000000003', 'graph_id_-29.650000000000006', 'graph_id_-29.599999999999994', 'graph_id_-29.549999999999997', 'graph_id_-29.400000000000006', 'graph_id_-29.349999999999994', 'graph_id_-29.299999999999997', 'graph_id_-29.25', 'graph_id_-29.200000000000003', 'graph_id_-29.150000000000006', 'graph_id_-29.049999999999997', 'graph_id_-29.0', 'graph_id_-28.950000000000003', 'graph_id_-28.900000000000006', 'graph_id_-28.849999999999994', 'graph_id_-28.799999999999997', 'graph_id_-28.75', 'graph_id_-28.700000000000003', 'graph_id_-28.650000000000006', 'graph_id_-28.599999999999994', 'graph_id_-28.549999999999997', 'graph_id_-28.5', 'graph_id_-28.450000000000003', 'graph_id_-28.400000000000006', 'graph_id_-28.349999999999994', 'graph_id_-28.299999999999997', 'graph_id_-28.25', 'graph_id_-28.200000000000003', 'graph_id_-28.150000000000006', 'graph_id_-28.099999999999994', 'graph_id_-28.049999999999997', 'graph_id_-28.0', 'graph_id_-27.950000000000003', 'graph_id_-27.900000000000006', 'graph_id_-27.849999999999994', 'graph_id_-27.799999999999997', 'graph_id_-27.75', 'graph_id_-27.700000000000003', 'graph_id_-27.650000000000006', 'graph_id_-27.599999999999994', 'graph_id_-27.549999999999997', 'graph_id_-27.450000000000003', 'graph_id_-27.299999999999997', 'graph_id_-27.25', 'graph_id_-27.200000000000003', 'graph_id_-27.150000000000006', 'graph_id_-27.099999999999994', 'graph_id_-27.049999999999997', 'graph_id_-27.0', 'graph_id_-26.950000000000003', 'graph_id_-26.900000000000006', 'graph_id_-26.849999999999994', 'graph_id_-26.799999999999997', 'graph_id_-26.700000000000003', 'graph_id_-26.650000000000006', 'graph_id_-26.599999999999994', 'graph_id_-26.549999999999997', 'graph_id_-26.450000000000003', 'graph_id_-26.400000000000006', 'graph_id_-26.349999999999994', 'graph_id_-26.299999999999997', 'graph_id_-26.200000000000003', 'graph_id_-26.150000000000006', 'graph_id_-26.099999999999994', 'graph_id_-26.049999999999997', 'graph_id_-26.0', 'graph_id_-25.950000000000003', 'graph_id_-25.900000000000006', 'graph_id_-25.849999999999994', 'graph_id_-25.799999999999997', 'graph_id_-25.75', 'graph_id_-25.700000000000003', 'graph_id_-25.650000000000006', 'graph_id_-25.599999999999994', 'graph_id_-25.5', 'graph_id_-25.450000000000003', 'graph_id_-25.400000000000006', 'graph_id_-25.349999999999994', 'graph_id_-25.299999999999997', 'graph_id_-25.25', 'graph_id_-25.200000000000003', 'graph_id_-25.150000000000006', 'graph_id_-25.099999999999994', 'graph_id_-25.0', 'graph_id_-24.950000000000003', 'graph_id_-24.900000000000006', 'graph_id_-24.849999999999994', 'graph_id_-24.799999999999997', 'graph_id_-24.75', 'graph_id_-24.650000000000006', 'graph_id_-24.599999999999994', 'graph_id_-24.549999999999997', 'graph_id_-24.5', 'graph_id_-24.450000000000003', 'graph_id_-24.400000000000006', 'graph_id_-24.349999999999994', 'graph_id_-24.299999999999997', 'graph_id_-24.25', 'graph_id_-24.200000000000003', 'graph_id_-24.099999999999994', 'graph_id_-24.049999999999997', 'graph_id_-24.0', 'graph_id_-23.950000000000003', 'graph_id_-23.900000000000006', 'graph_id_-23.849999999999994', 'graph_id_-23.799999999999997', 'graph_id_-23.75', 'graph_id_-23.650000000000006', 'graph_id_-23.599999999999994', 'graph_id_-23.549999999999997', 'graph_id_-23.5', 'graph_id_-23.450000000000003', 'graph_id_-23.400000000000006', 'graph_id_-23.349999999999994', 'graph_id_-23.299999999999997', 'graph_id_-23.25', 'graph_id_-23.200000000000003', 'graph_id_-23.150000000000006', 'graph_id_-23.099999999999994', 'graph_id_-23.049999999999997', 'graph_id_-23.0', 'graph_id_-22.950000000000003', 'graph_id_-22.900000000000006', 'graph_id_-22.849999999999994', 'graph_id_-22.799999999999997', 'graph_id_-22.75', 'graph_id_-22.650000000000006', 'graph_id_-22.599999999999994', 'graph_id_-22.549999999999997', 'graph_id_-22.5', 'graph_id_-22.450000000000003', 'graph_id_-22.400000000000006', 'graph_id_-22.349999999999994', 'graph_id_-22.299999999999997', 'graph_id_-22.200000000000003', 'graph_id_-22.150000000000006', 'graph_id_-22.099999999999994', 'graph_id_-22.049999999999997', 'graph_id_-22.0', 'graph_id_-21.950000000000003', 'graph_id_-21.849999999999994', 'graph_id_-21.799999999999997', 'graph_id_-21.700000000000003', 'graph_id_-21.650000000000006', 'graph_id_-21.599999999999994', 'graph_id_-21.549999999999997', 'graph_id_-21.450000000000003', 'graph_id_-21.400000000000006', 'graph_id_-21.349999999999994', 'graph_id_-21.299999999999997', 'graph_id_-21.25', 'graph_id_-21.200000000000003', 'graph_id_-21.150000000000006', 'graph_id_-21.049999999999997', 'graph_id_-21.0', 'graph_id_-20.900000000000006', 'graph_id_-20.849999999999994', 'graph_id_-20.799999999999997', 'graph_id_-20.75', 'graph_id_-20.700000000000003', 'graph_id_-20.650000000000006', 'graph_id_-20.599999999999994', 'graph_id_-20.5', 'graph_id_-20.450000000000003', 'graph_id_-20.400000000000006', 'graph_id_-20.349999999999994', 'graph_id_-20.299999999999997', 'graph_id_-20.25', 'graph_id_-20.200000000000003', 'graph_id_-20.150000000000006', 'graph_id_-20.099999999999994', 'graph_id_-20.049999999999997', 'graph_id_-20.0', 'graph_id_-19.950000000000003', 'graph_id_-19.900000000000006', 'graph_id_-19.849999999999994', 'graph_id_-19.799999999999997', 'graph_id_-19.700000000000003', 'graph_id_-19.650000000000006', 'graph_id_-19.450000000000003', 'graph_id_-19.400000000000006', 'graph_id_-19.349999999999994', 'graph_id_-19.299999999999997', 'graph_id_-19.25', 'graph_id_-19.150000000000006', 'graph_id_-19.099999999999994', 'graph_id_-19.049999999999997', 'graph_id_-18.950000000000003', 'graph_id_-18.900000000000006', 'graph_id_-18.849999999999994', 'graph_id_-18.799999999999997', 'graph_id_-18.75', 'graph_id_-18.700000000000003', 'graph_id_-18.650000000000006', 'graph_id_-18.599999999999994', 'graph_id_-18.549999999999997', 'graph_id_-18.450000000000003', 'graph_id_-18.400000000000006', 'graph_id_-18.349999999999994', 'graph_id_-18.299999999999997', 'graph_id_-18.25', 'graph_id_-18.150000000000006', 'graph_id_-18.099999999999994', 'graph_id_-18.0', 'graph_id_-17.900000000000006', 'graph_id_-17.849999999999994', 'graph_id_-17.799999999999997', 'graph_id_-17.650000000000006', 'graph_id_-17.599999999999994', 'graph_id_-17.549999999999997', 'graph_id_-17.5', 'graph_id_-17.450000000000003', 'graph_id_-17.400000000000006', 'graph_id_-17.349999999999994', 'graph_id_-17.299999999999997', 'graph_id_-17.25', 'graph_id_-17.200000000000003', 'graph_id_-17.150000000000006', 'graph_id_-17.099999999999994', 'graph_id_-17.049999999999997', 'graph_id_-17.0', 'graph_id_-16.950000000000003', 'graph_id_-16.900000000000006', 'graph_id_-16.849999999999994', 'graph_id_-16.799999999999997', 'graph_id_-16.75', 'graph_id_-16.700000000000003', 'graph_id_-16.650000000000006', 'graph_id_-16.599999999999994', 'graph_id_-16.549999999999997', 'graph_id_-16.5', 'graph_id_-16.450000000000003', 'graph_id_-16.400000000000006', 'graph_id_-16.349999999999994', 'graph_id_-16.299999999999997', 'graph_id_-16.25', 'graph_id_-16.200000000000003', 'graph_id_-16.150000000000006', 'graph_id_-16.099999999999994', 'graph_id_-16.049999999999997', 'graph_id_-16.0', 'graph_id_-15.900000000000006', 'graph_id_-15.849999999999994', 'graph_id_-15.799999999999997', 'graph_id_-15.75', 'graph_id_-15.700000000000003', 'graph_id_-15.650000000000006', 'graph_id_-15.599999999999994', 'graph_id_-15.549999999999997', 'graph_id_-15.5', 'graph_id_-15.450000000000003', 'graph_id_-15.400000000000006', 'graph_id_-15.349999999999994', 'graph_id_-15.299999999999997', 'graph_id_-15.25', 'graph_id_-15.200000000000003', 'graph_id_-15.150000000000006', 'graph_id_-15.099999999999994', 'graph_id_-15.049999999999997', 'graph_id_-15.0', 'graph_id_-14.950000000000003', 'graph_id_-14.900000000000006', 'graph_id_-14.849999999999994', 'graph_id_-14.799999999999997', 'graph_id_-14.75', 'graph_id_-14.700000000000003', 'graph_id_-14.650000000000006', 'graph_id_-14.599999999999994', 'graph_id_-14.549999999999997', 'graph_id_-14.5', 'graph_id_-14.400000000000006', 'graph_id_-14.349999999999994', 'graph_id_-14.299999999999997', 'graph_id_-14.25', 'graph_id_-14.150000000000006', 'graph_id_-14.099999999999994', 'graph_id_-14.049999999999997', 'graph_id_-14.0', 'graph_id_-13.950000000000003', 'graph_id_-13.900000000000006', 'graph_id_-13.849999999999994', 'graph_id_-13.799999999999997', 'graph_id_-13.75', 'graph_id_-13.700000000000003', 'graph_id_-13.650000000000006', 'graph_id_-13.549999999999997', 'graph_id_-13.450000000000003', 'graph_id_-13.400000000000006', 'graph_id_-13.349999999999994', 'graph_id_-13.299999999999997', 'graph_id_-13.200000000000003', 'graph_id_-13.150000000000006', 'graph_id_-13.099999999999994', 'graph_id_-13.049999999999997', 'graph_id_-13.0', 'graph_id_-12.950000000000003', 'graph_id_-12.900000000000006', 'graph_id_-12.849999999999994', 'graph_id_-12.799999999999997', 'graph_id_-12.75', 'graph_id_-12.700000000000003', 'graph_id_-12.650000000000006', 'graph_id_-12.5', 'graph_id_-12.400000000000006', 'graph_id_-12.349999999999994', 'graph_id_-12.299999999999997', 'graph_id_-12.25', 'graph_id_-12.200000000000003', 'graph_id_-12.099999999999994', 'graph_id_-12.049999999999997', 'graph_id_-12.0', 'graph_id_-11.950000000000003', 'graph_id_-11.900000000000006', 'graph_id_-11.849999999999994', 'graph_id_-11.799999999999997', 'graph_id_-11.700000000000003', 'graph_id_-11.650000000000006', 'graph_id_-11.549999999999997', 'graph_id_-11.5', 'graph_id_-11.450000000000003', 'graph_id_-11.400000000000006', 'graph_id_-11.349999999999994', 'graph_id_-11.299999999999997', 'graph_id_-11.25', 'graph_id_-11.200000000000003', 'graph_id_-11.150000000000006', 'graph_id_-11.099999999999994', 'graph_id_-11.049999999999997', 'graph_id_-11.0', 'graph_id_-10.950000000000003', 'graph_id_-10.900000000000006', 'graph_id_-10.849999999999994', 'graph_id_-10.75', 'graph_id_-10.700000000000003', 'graph_id_-10.650000000000006', 'graph_id_-10.599999999999994', 'graph_id_-10.549999999999997', 'graph_id_-10.5', 'graph_id_-10.450000000000003', 'graph_id_-10.400000000000006', 'graph_id_-10.349999999999994', 'graph_id_-10.299999999999997', 'graph_id_-10.25', 'graph_id_-10.200000000000003', 'graph_id_-10.150000000000006', 'graph_id_-10.099999999999994', 'graph_id_-10.049999999999997', 'graph_id_-10.0', 'graph_id_-9.950000000000003', 'graph_id_-9.900000000000006', 'graph_id_-9.849999999999994', 'graph_id_-9.799999999999997', 'graph_id_-9.700000000000003', 'graph_id_-9.650000000000006', 'graph_id_-9.549999999999997', 'graph_id_-9.450000000000003', 'graph_id_-9.400000000000006', 'graph_id_-9.349999999999994', 'graph_id_-9.299999999999997', 'graph_id_-9.25', 'graph_id_-9.200000000000003', 'graph_id_-9.150000000000006', 'graph_id_-9.099999999999994', 'graph_id_-9.049999999999997', 'graph_id_-9.0', 'graph_id_-8.950000000000003', 'graph_id_-8.900000000000006', 'graph_id_-8.849999999999994', 'graph_id_-8.799999999999997', 'graph_id_-8.700000000000003', 'graph_id_-8.650000000000006', 'graph_id_-8.599999999999994', 'graph_id_-8.549999999999997', 'graph_id_-8.450000000000003', 'graph_id_-8.400000000000006', 'graph_id_-8.349999999999994', 'graph_id_-8.299999999999997', 'graph_id_-8.25', 'graph_id_-8.099999999999994', 'graph_id_-8.049999999999997', 'graph_id_-8.0', 'graph_id_-7.950000000000003', 'graph_id_-7.900000000000006', 'graph_id_-7.849999999999994', 'graph_id_-7.799999999999997', 'graph_id_-7.75', 'graph_id_-7.700000000000003', 'graph_id_-7.650000000000006', 'graph_id_-7.599999999999994', 'graph_id_-7.549999999999997', 'graph_id_-7.450000000000003', 'graph_id_-7.400000000000006', 'graph_id_-7.349999999999994', 'graph_id_-7.299999999999997', 'graph_id_-7.25', 'graph_id_-7.049999999999997', 'graph_id_-7.0', 'graph_id_-6.950000000000003', 'graph_id_-6.900000000000006', 'graph_id_-6.849999999999994', 'graph_id_-6.799999999999997', 'graph_id_-6.75', 'graph_id_-6.700000000000003', 'graph_id_-6.650000000000006', 'graph_id_-6.599999999999994', 'graph_id_-6.5', 'graph_id_-6.400000000000006', 'graph_id_-6.349999999999994', 'graph_id_-6.299999999999997', 'graph_id_-6.200000000000003', 'graph_id_-6.049999999999997', 'graph_id_-6.0', 'graph_id_-5.950000000000003', 'graph_id_-5.900000000000006', 'graph_id_-5.849999999999994', 'graph_id_-5.799999999999997', 'graph_id_-5.75', 'graph_id_-5.700000000000003', 'graph_id_-5.650000000000006', 'graph_id_-5.599999999999994', 'graph_id_-5.450000000000003', 'graph_id_-5.400000000000006', 'graph_id_-5.349999999999994', 'graph_id_-5.299999999999997', 'graph_id_-5.25', 'graph_id_-5.200000000000003', 'graph_id_-5.150000000000006', 'graph_id_-5.099999999999994', 'graph_id_-5.049999999999997', 'graph_id_-5.0', 'graph_id_-4.950000000000003', 'graph_id_-4.900000000000006', 'graph_id_-4.849999999999994', 'graph_id_-4.799999999999997', 'graph_id_-4.75', 'graph_id_-4.700000000000003', 'graph_id_-4.650000000000006', 'graph_id_-4.599999999999994', 'graph_id_-4.5', 'graph_id_-4.450000000000003', 'graph_id_-4.400000000000006', 'graph_id_-4.349999999999994', 'graph_id_-4.299999999999997', 'graph_id_-4.25', 'graph_id_-4.200000000000003', 'graph_id_-4.099999999999994', 'graph_id_-4.0', 'graph_id_-3.950000000000003', 'graph_id_-3.9000000000000057', 'graph_id_-3.8499999999999943', 'graph_id_-3.799999999999997', 'graph_id_-3.75', 'graph_id_-3.700000000000003', 'graph_id_-3.6500000000000057', 'graph_id_-3.5999999999999943', 'graph_id_-3.549999999999997', 'graph_id_-3.5', 'graph_id_-3.3499999999999943', 'graph_id_-3.299999999999997', 'graph_id_-3.25', 'graph_id_-3.200000000000003', 'graph_id_-3.1500000000000057', 'graph_id_-3.0999999999999943', 'graph_id_-3.049999999999997', 'graph_id_-3.0', 'graph_id_-2.950000000000003', 'graph_id_-2.9000000000000057', 'graph_id_-2.799999999999997', 'graph_id_-2.75', 'graph_id_-2.700000000000003', 'graph_id_-2.6500000000000057', 'graph_id_-2.5999999999999943', 'graph_id_-2.549999999999997', 'graph_id_-2.4000000000000057', 'graph_id_-2.3499999999999943', 'graph_id_-2.299999999999997', 'graph_id_-2.25', 'graph_id_-2.1500000000000057', 'graph_id_-2.0999999999999943', 'graph_id_-2.049999999999997', 'graph_id_-2.0', 'graph_id_-1.9500000000000028', 'graph_id_-1.9000000000000057', 'graph_id_-1.8499999999999943', 'graph_id_-1.7999999999999972', 'graph_id_-1.7000000000000028', 'graph_id_-1.6500000000000057', 'graph_id_-1.5999999999999943', 'graph_id_-1.5', 'graph_id_-1.4500000000000028', 'graph_id_-1.4000000000000057', 'graph_id_-1.2999999999999972', 'graph_id_-1.25', 'graph_id_-1.1500000000000057', 'graph_id_-1.0999999999999943', 'graph_id_-1.0499999999999972', 'graph_id_-1.0', 'graph_id_-0.9500000000000028', 'graph_id_-0.9000000000000057', 'graph_id_-0.8499999999999943', 'graph_id_-0.7999999999999972', 'graph_id_-0.75', 'graph_id_-0.7000000000000028', 'graph_id_-0.5499999999999972', 'graph_id_-0.5', 'graph_id_-0.45000000000000284', 'graph_id_-0.4000000000000057', 'graph_id_-0.29999999999999716', 'graph_id_-0.09999999999999432', 'graph_id_-0.04999999999999716', 'graph_id_0.0', 'graph_id_0.04999999999999716', 'graph_id_0.09999999999999432', 'graph_id_0.15000000000000568', 'graph_id_0.20000000000000284', 'graph_id_0.25', 'graph_id_0.3499999999999943', 'graph_id_0.5', 'graph_id_0.5499999999999972', 'graph_id_0.5999999999999943', 'graph_id_0.6500000000000057', 'graph_id_0.75', 'graph_id_0.7999999999999972', 'graph_id_0.8499999999999943', 'graph_id_0.9000000000000057', 'graph_id_0.9500000000000028', 'graph_id_1.0', 'graph_id_1.0499999999999972', 'graph_id_1.0999999999999943', 'graph_id_1.1500000000000057', 'graph_id_1.2000000000000028', 'graph_id_1.25', 'graph_id_1.3499999999999943', 'graph_id_1.4000000000000057', 'graph_id_1.4500000000000028', 'graph_id_1.5', 'graph_id_1.5499999999999972', 'graph_id_1.5999999999999943', 'graph_id_1.6500000000000057', 'graph_id_1.7000000000000028', 'graph_id_1.7999999999999972', 'graph_id_1.8499999999999943', 'graph_id_1.9000000000000057', 'graph_id_1.9500000000000028', 'graph_id_2.0', 'graph_id_2.049999999999997', 'graph_id_2.0999999999999943', 'graph_id_2.1500000000000057', 'graph_id_2.200000000000003', 'graph_id_2.25', 'graph_id_2.299999999999997', 'graph_id_2.3499999999999943', 'graph_id_2.4000000000000057', 'graph_id_2.450000000000003', 'graph_id_2.5', 'graph_id_2.5999999999999943', 'graph_id_2.6500000000000057', 'graph_id_2.700000000000003', 'graph_id_2.75', 'graph_id_2.799999999999997', 'graph_id_2.8499999999999943', 'graph_id_2.9000000000000057', 'graph_id_2.950000000000003', 'graph_id_3.0', 'graph_id_3.049999999999997', 'graph_id_3.0999999999999943', 'graph_id_3.1500000000000057', 'graph_id_3.200000000000003', 'graph_id_3.25', 'graph_id_3.299999999999997', 'graph_id_3.3499999999999943', 'graph_id_3.4000000000000057', 'graph_id_3.450000000000003', 'graph_id_3.5', 'graph_id_3.6500000000000057', 'graph_id_3.700000000000003', 'graph_id_3.75', 'graph_id_3.799999999999997', 'graph_id_3.8499999999999943', 'graph_id_3.9000000000000057', 'graph_id_4.0', 'graph_id_4.049999999999997', 'graph_id_4.099999999999994', 'graph_id_4.150000000000006', 'graph_id_4.200000000000003', 'graph_id_4.25', 'graph_id_4.299999999999997', 'graph_id_4.349999999999994', 'graph_id_4.400000000000006', 'graph_id_4.450000000000003', 'graph_id_4.599999999999994', 'graph_id_4.650000000000006', 'graph_id_4.700000000000003', 'graph_id_4.75', 'graph_id_4.799999999999997', 'graph_id_4.849999999999994', 'graph_id_4.950000000000003', 'graph_id_5.0', 'graph_id_5.049999999999997', 'graph_id_5.099999999999994', 'graph_id_5.150000000000006', 'graph_id_5.200000000000003', 'graph_id_5.25', 'graph_id_5.299999999999997', 'graph_id_5.349999999999994', 'graph_id_5.400000000000006', 'graph_id_5.450000000000003', 'graph_id_5.549999999999997', 'graph_id_5.599999999999994', 'graph_id_5.650000000000006', 'graph_id_5.75', 'graph_id_5.799999999999997', 'graph_id_5.849999999999994', 'graph_id_5.900000000000006', 'graph_id_5.950000000000003', 'graph_id_6.049999999999997', 'graph_id_6.099999999999994', 'graph_id_6.150000000000006', 'graph_id_6.200000000000003', 'graph_id_6.25', 'graph_id_6.299999999999997', 'graph_id_6.349999999999994', 'graph_id_6.400000000000006', 'graph_id_6.450000000000003', 'graph_id_6.5', 'graph_id_6.549999999999997', 'graph_id_6.599999999999994', 'graph_id_6.650000000000006', 'graph_id_6.700000000000003', 'graph_id_6.75', 'graph_id_6.799999999999997', 'graph_id_6.849999999999994', 'graph_id_6.900000000000006', 'graph_id_6.950000000000003', 'graph_id_7.0', 'graph_id_7.049999999999997', 'graph_id_7.099999999999994', 'graph_id_7.150000000000006', 'graph_id_7.200000000000003', 'graph_id_7.25', 'graph_id_7.299999999999997', 'graph_id_7.349999999999994', 'graph_id_7.400000000000006', 'graph_id_7.450000000000003', 'graph_id_7.5', 'graph_id_7.599999999999994', 'graph_id_7.650000000000006', 'graph_id_7.700000000000003', 'graph_id_7.75', 'graph_id_7.799999999999997', 'graph_id_7.849999999999994', 'graph_id_7.900000000000006', 'graph_id_7.950000000000003', 'graph_id_8.0', 'graph_id_8.049999999999997', 'graph_id_8.099999999999994', 'graph_id_8.150000000000006', 'graph_id_8.200000000000003', 'graph_id_8.25', 'graph_id_8.349999999999994', 'graph_id_8.400000000000006', 'graph_id_8.5', 'graph_id_8.549999999999997', 'graph_id_8.599999999999994', 'graph_id_8.650000000000006', 'graph_id_8.700000000000003', 'graph_id_8.75', 'graph_id_8.799999999999997', 'graph_id_8.849999999999994', 'graph_id_8.900000000000006', 'graph_id_8.950000000000003', 'graph_id_9.0', 'graph_id_9.049999999999997', 'graph_id_9.099999999999994', 'graph_id_9.150000000000006', 'graph_id_9.200000000000003', 'graph_id_9.25', 'graph_id_9.299999999999997', 'graph_id_9.349999999999994', 'graph_id_9.400000000000006', 'graph_id_9.450000000000003', 'graph_id_9.5', 'graph_id_9.549999999999997', 'graph_id_9.599999999999994', 'graph_id_9.650000000000006', 'graph_id_9.700000000000003', 'graph_id_9.799999999999997', 'graph_id_9.849999999999994', 'graph_id_9.950000000000003', 'graph_id_10.0', 'graph_id_10.049999999999997', 'graph_id_10.150000000000006', 'graph_id_10.200000000000003', 'graph_id_10.25', 'graph_id_10.299999999999997', 'graph_id_10.349999999999994', 'graph_id_10.400000000000006', 'graph_id_10.450000000000003', 'graph_id_10.549999999999997', 'graph_id_10.599999999999994', 'graph_id_10.700000000000003', 'graph_id_10.75', 'graph_id_10.799999999999997', 'graph_id_10.900000000000006', 'graph_id_10.950000000000003', 'graph_id_11.0', 'graph_id_11.049999999999997', 'graph_id_11.099999999999994', 'graph_id_11.150000000000006', 'graph_id_11.200000000000003', 'graph_id_11.25', 'graph_id_11.349999999999994', 'graph_id_11.400000000000006', 'graph_id_11.450000000000003', 'graph_id_11.5', 'graph_id_11.599999999999994', 'graph_id_11.650000000000006', 'graph_id_11.700000000000003', 'graph_id_11.75', 'graph_id_11.799999999999997', 'graph_id_11.950000000000003', 'graph_id_12.0', 'graph_id_12.049999999999997', 'graph_id_12.099999999999994', 'graph_id_12.150000000000006', 'graph_id_12.200000000000003', 'graph_id_12.299999999999997', 'graph_id_12.349999999999994', 'graph_id_12.400000000000006', 'graph_id_12.5', 'graph_id_12.549999999999997', 'graph_id_12.599999999999994', 'graph_id_12.650000000000006', 'graph_id_12.700000000000003', 'graph_id_12.75', 'graph_id_12.799999999999997', 'graph_id_12.849999999999994', 'graph_id_12.900000000000006', 'graph_id_13.0', 'graph_id_13.049999999999997', 'graph_id_13.099999999999994', 'graph_id_13.150000000000006', 'graph_id_13.200000000000003', 'graph_id_13.25', 'graph_id_13.299999999999997', 'graph_id_13.349999999999994', 'graph_id_13.400000000000006', 'graph_id_13.450000000000003', 'graph_id_13.5', 'graph_id_13.549999999999997', 'graph_id_13.599999999999994', 'graph_id_13.650000000000006', 'graph_id_13.700000000000003', 'graph_id_13.75', 'graph_id_13.799999999999997', 'graph_id_13.849999999999994', 'graph_id_13.900000000000006', 'graph_id_14.049999999999997', 'graph_id_14.099999999999994', 'graph_id_14.150000000000006', 'graph_id_14.200000000000003', 'graph_id_14.25', 'graph_id_14.299999999999997', 'graph_id_14.349999999999994', 'graph_id_14.400000000000006', 'graph_id_14.450000000000003', 'graph_id_14.5', 'graph_id_14.549999999999997', 'graph_id_14.599999999999994', 'graph_id_14.650000000000006', 'graph_id_14.700000000000003', 'graph_id_14.849999999999994', 'graph_id_14.900000000000006', 'graph_id_14.950000000000003', 'graph_id_15.0', 'graph_id_15.049999999999997', 'graph_id_15.099999999999994', 'graph_id_15.150000000000006', 'graph_id_15.200000000000003', 'graph_id_15.25', 'graph_id_15.349999999999994', 'graph_id_15.400000000000006', 'graph_id_15.450000000000003', 'graph_id_15.5', 'graph_id_15.549999999999997', 'graph_id_15.599999999999994', 'graph_id_15.650000000000006', 'graph_id_15.700000000000003', 'graph_id_15.75', 'graph_id_15.950000000000003', 'graph_id_16.0', 'graph_id_16.049999999999997', 'graph_id_16.099999999999994', 'graph_id_16.150000000000006', 'graph_id_16.200000000000003', 'graph_id_16.25', 'graph_id_16.349999999999994', 'graph_id_16.400000000000006', 'graph_id_16.450000000000003', 'graph_id_16.5', 'graph_id_16.549999999999997', 'graph_id_16.599999999999994', 'graph_id_16.650000000000006', 'graph_id_16.700000000000003', 'graph_id_16.75', 'graph_id_16.799999999999997', 'graph_id_16.849999999999994', 'graph_id_16.900000000000006', 'graph_id_16.950000000000003', 'graph_id_17.0', 'graph_id_17.049999999999997', 'graph_id_17.099999999999994', 'graph_id_17.150000000000006', 'graph_id_17.200000000000003', 'graph_id_17.25', 'graph_id_17.299999999999997', 'graph_id_17.349999999999994', 'graph_id_17.400000000000006', 'graph_id_17.450000000000003', 'graph_id_17.5', 'graph_id_17.549999999999997', 'graph_id_17.599999999999994', 'graph_id_17.650000000000006', 'graph_id_17.700000000000003', 'graph_id_17.75', 'graph_id_17.849999999999994', 'graph_id_17.950000000000003', 'graph_id_18.0', 'graph_id_18.049999999999997', 'graph_id_18.099999999999994', 'graph_id_18.150000000000006', 'graph_id_18.200000000000003', 'graph_id_18.349999999999994', 'graph_id_18.400000000000006', 'graph_id_18.450000000000003', 'graph_id_18.5', 'graph_id_18.549999999999997', 'graph_id_18.599999999999994', 'graph_id_18.700000000000003', 'graph_id_18.75', 'graph_id_18.799999999999997', 'graph_id_18.849999999999994', 'graph_id_18.900000000000006', 'graph_id_18.950000000000003', 'graph_id_19.0', 'graph_id_19.099999999999994', 'graph_id_19.150000000000006', 'graph_id_19.200000000000003', 'graph_id_19.25', 'graph_id_19.299999999999997', 'graph_id_19.349999999999994', 'graph_id_19.400000000000006', 'graph_id_19.5', 'graph_id_19.549999999999997', 'graph_id_19.650000000000006', 'graph_id_19.700000000000003', 'graph_id_19.75', 'graph_id_19.799999999999997', 'graph_id_19.849999999999994', 'graph_id_19.900000000000006', 'graph_id_19.950000000000003', 'graph_id_20.0', 'graph_id_20.049999999999997', 'graph_id_20.099999999999994', 'graph_id_20.150000000000006', 'graph_id_20.200000000000003', 'graph_id_20.25', 'graph_id_20.299999999999997', 'graph_id_20.349999999999994', 'graph_id_20.400000000000006', 'graph_id_20.450000000000003', 'graph_id_20.549999999999997', 'graph_id_20.599999999999994', 'graph_id_20.650000000000006', 'graph_id_20.700000000000003', 'graph_id_20.75', 'graph_id_20.799999999999997', 'graph_id_20.849999999999994', 'graph_id_20.900000000000006', 'graph_id_20.950000000000003', 'graph_id_21.0', 'graph_id_21.049999999999997', 'graph_id_21.099999999999994', 'graph_id_21.150000000000006', 'graph_id_21.200000000000003', 'graph_id_21.25', 'graph_id_21.299999999999997', 'graph_id_21.349999999999994', 'graph_id_21.400000000000006', 'graph_id_21.450000000000003', 'graph_id_21.549999999999997', 'graph_id_21.599999999999994', 'graph_id_21.650000000000006', 'graph_id_21.700000000000003', 'graph_id_21.75', 'graph_id_21.799999999999997', 'graph_id_21.849999999999994', 'graph_id_21.900000000000006', 'graph_id_21.950000000000003', 'graph_id_22.0', 'graph_id_22.049999999999997', 'graph_id_22.099999999999994', 'graph_id_22.150000000000006', 'graph_id_22.25', 'graph_id_22.299999999999997', 'graph_id_22.349999999999994', 'graph_id_22.400000000000006', 'graph_id_22.450000000000003', 'graph_id_22.5', 'graph_id_22.549999999999997', 'graph_id_22.599999999999994', 'graph_id_22.650000000000006', 'graph_id_22.700000000000003', 'graph_id_22.75', 'graph_id_22.799999999999997', 'graph_id_22.849999999999994', 'graph_id_22.900000000000006', 'graph_id_22.950000000000003', 'graph_id_23.049999999999997', 'graph_id_23.099999999999994', 'graph_id_23.150000000000006', 'graph_id_23.200000000000003', 'graph_id_23.25', 'graph_id_23.299999999999997', 'graph_id_23.349999999999994', 'graph_id_23.400000000000006', 'graph_id_23.450000000000003', 'graph_id_23.5', 'graph_id_23.549999999999997', 'graph_id_23.599999999999994', 'graph_id_23.650000000000006', 'graph_id_23.700000000000003', 'graph_id_23.75', 'graph_id_23.799999999999997', 'graph_id_23.849999999999994', 'graph_id_23.900000000000006', 'graph_id_23.950000000000003', 'graph_id_24.0', 'graph_id_24.150000000000006', 'graph_id_24.200000000000003', 'graph_id_24.25', 'graph_id_24.299999999999997', 'graph_id_24.349999999999994', 'graph_id_24.400000000000006', 'graph_id_24.450000000000003', 'graph_id_24.599999999999994', 'graph_id_24.650000000000006', 'graph_id_24.700000000000003', 'graph_id_24.75', 'graph_id_24.799999999999997', 'graph_id_24.849999999999994', 'graph_id_24.900000000000006', 'graph_id_24.950000000000003', 'graph_id_25.0', 'graph_id_25.049999999999997', 'graph_id_25.099999999999994', 'graph_id_25.150000000000006', 'graph_id_25.200000000000003', 'graph_id_25.25', 'graph_id_25.299999999999997', 'graph_id_25.349999999999994', 'graph_id_25.400000000000006', 'graph_id_25.5', 'graph_id_25.549999999999997', 'graph_id_25.599999999999994', 'graph_id_25.650000000000006', 'graph_id_25.700000000000003', 'graph_id_25.75', 'graph_id_25.799999999999997', 'graph_id_25.849999999999994', 'graph_id_25.900000000000006', 'graph_id_25.950000000000003', 'graph_id_26.0', 'graph_id_26.049999999999997', 'graph_id_26.099999999999994', 'graph_id_26.150000000000006', 'graph_id_26.200000000000003', 'graph_id_26.25', 'graph_id_26.349999999999994', 'graph_id_26.400000000000006', 'graph_id_26.450000000000003', 'graph_id_26.5', 'graph_id_26.549999999999997', 'graph_id_26.599999999999994', 'graph_id_26.650000000000006', 'graph_id_26.700000000000003', 'graph_id_26.75', 'graph_id_26.799999999999997', 'graph_id_26.849999999999994', 'graph_id_26.900000000000006', 'graph_id_26.950000000000003', 'graph_id_27.0', 'graph_id_27.049999999999997', 'graph_id_27.099999999999994', 'graph_id_27.150000000000006', 'graph_id_27.200000000000003', 'graph_id_27.25', 'graph_id_27.299999999999997', 'graph_id_27.349999999999994', 'graph_id_27.400000000000006', 'graph_id_27.450000000000003', 'graph_id_27.5', 'graph_id_27.549999999999997', 'graph_id_27.700000000000003', 'graph_id_27.75', 'graph_id_27.799999999999997', 'graph_id_27.849999999999994', 'graph_id_27.900000000000006', 'graph_id_27.950000000000003', 'graph_id_28.0', 'graph_id_28.049999999999997', 'graph_id_28.099999999999994', 'graph_id_28.150000000000006', 'graph_id_28.200000000000003', 'graph_id_28.25', 'graph_id_28.299999999999997', 'graph_id_28.349999999999994', 'graph_id_28.400000000000006', 'graph_id_28.450000000000003', 'graph_id_28.5', 'graph_id_28.549999999999997', 'graph_id_28.599999999999994', 'graph_id_28.700000000000003', 'graph_id_28.75', 'graph_id_28.799999999999997', 'graph_id_28.849999999999994', 'graph_id_28.900000000000006', 'graph_id_28.950000000000003', 'graph_id_29.0', 'graph_id_29.049999999999997', 'graph_id_29.099999999999994', 'graph_id_29.150000000000006', 'graph_id_29.200000000000003', 'graph_id_29.25', 'graph_id_29.299999999999997', 'graph_id_29.349999999999994', 'graph_id_29.400000000000006', 'graph_id_29.450000000000003', 'graph_id_29.5', 'graph_id_29.549999999999997', 'graph_id_29.599999999999994', 'graph_id_29.650000000000006', 'graph_id_29.700000000000003', 'graph_id_29.75', 'graph_id_29.799999999999997', 'graph_id_29.849999999999994', 'graph_id_29.900000000000006', 'graph_id_29.950000000000003', 'graph_id_30.0', 'graph_id_30.049999999999997', 'graph_id_30.099999999999994', 'graph_id_30.150000000000006', 'graph_id_30.200000000000003', 'graph_id_30.25', 'graph_id_30.299999999999997', 'graph_id_30.349999999999994', 'graph_id_30.400000000000006', 'graph_id_30.450000000000003', 'graph_id_30.5', 'graph_id_30.549999999999997', 'graph_id_30.599999999999994', 'graph_id_30.650000000000006', 'graph_id_30.700000000000003', 'graph_id_30.75', 'graph_id_30.799999999999997', 'graph_id_30.849999999999994', 'graph_id_30.900000000000006', 'graph_id_30.950000000000003', 'graph_id_31.0', 'graph_id_31.049999999999997', 'graph_id_31.099999999999994', 'graph_id_31.150000000000006', 'graph_id_31.200000000000003', 'graph_id_31.25', 'graph_id_31.299999999999997', 'graph_id_31.349999999999994', 'graph_id_31.400000000000006', 'graph_id_31.450000000000003', 'graph_id_31.549999999999997', 'graph_id_31.599999999999994', 'graph_id_31.650000000000006', 'graph_id_31.700000000000003', 'graph_id_31.75', 'graph_id_31.900000000000006', 'graph_id_31.950000000000003', 'graph_id_32.0', 'graph_id_32.05', 'graph_id_32.099999999999994', 'graph_id_32.150000000000006', 'graph_id_32.2', 'graph_id_32.25', 'graph_id_32.3', 'graph_id_32.349999999999994', 'graph_id_32.400000000000006', 'graph_id_32.45', 'graph_id_32.5', 'graph_id_32.55', 'graph_id_32.599999999999994', 'graph_id_32.650000000000006', 'graph_id_32.7', 'graph_id_32.75', 'graph_id_32.8', 'graph_id_32.849999999999994', 'graph_id_32.900000000000006', 'graph_id_32.95', 'graph_id_33.0', 'graph_id_33.05', 'graph_id_33.099999999999994', 'graph_id_33.150000000000006', 'graph_id_33.2', 'graph_id_33.25', 'graph_id_33.3', 'graph_id_33.349999999999994', 'graph_id_33.400000000000006', 'graph_id_33.45', 'graph_id_33.5', 'graph_id_33.55', 'graph_id_33.599999999999994', 'graph_id_33.650000000000006', 'graph_id_33.7', 'graph_id_33.75', 'graph_id_33.8', 'graph_id_33.900000000000006', 'graph_id_33.95', 'graph_id_34.0', 'graph_id_34.05', 'graph_id_34.099999999999994', 'graph_id_34.150000000000006', 'graph_id_34.2', 'graph_id_34.25', 'graph_id_34.349999999999994', 'graph_id_34.400000000000006', 'graph_id_34.45', 'graph_id_34.5', 'graph_id_34.599999999999994', 'graph_id_34.650000000000006', 'graph_id_34.7', 'graph_id_34.8', 'graph_id_34.849999999999994', 'graph_id_34.95', 'graph_id_35.0', 'graph_id_35.05', 'graph_id_35.099999999999994', 'graph_id_35.150000000000006', 'graph_id_35.2', 'graph_id_35.25', 'graph_id_35.3', 'graph_id_35.349999999999994', 'graph_id_35.400000000000006', 'graph_id_35.45', 'graph_id_35.5', 'graph_id_35.55', 'graph_id_35.599999999999994', 'graph_id_35.650000000000006', 'graph_id_35.7', 'graph_id_35.75', 'graph_id_35.8', 'graph_id_35.849999999999994', 'graph_id_35.900000000000006', 'graph_id_35.95', 'graph_id_36.0', 'graph_id_36.05', 'graph_id_36.099999999999994', 'graph_id_36.150000000000006', 'graph_id_36.2', 'graph_id_36.25', 'graph_id_36.349999999999994', 'graph_id_36.400000000000006', 'graph_id_36.45', 'graph_id_36.5', 'graph_id_36.55', 'graph_id_36.599999999999994', 'graph_id_36.650000000000006', 'graph_id_36.7', 'graph_id_36.75', 'graph_id_36.849999999999994', 'graph_id_36.900000000000006', 'graph_id_36.95', 'graph_id_37.0', 'graph_id_37.05', 'graph_id_37.099999999999994', 'graph_id_37.150000000000006', 'graph_id_37.2', 'graph_id_37.25', 'graph_id_37.3', 'graph_id_37.349999999999994', 'graph_id_37.400000000000006', 'graph_id_37.45', 'graph_id_37.55', 'graph_id_37.599999999999994', 'graph_id_37.650000000000006', 'graph_id_37.7', 'graph_id_37.75', 'graph_id_37.8', 'graph_id_37.849999999999994', 'graph_id_37.900000000000006', 'graph_id_37.95', 'graph_id_38.0', 'graph_id_38.05', 'graph_id_38.099999999999994', 'graph_id_38.150000000000006', 'graph_id_38.2', 'graph_id_38.25', 'graph_id_38.3', 'graph_id_38.349999999999994', 'graph_id_38.400000000000006', 'graph_id_38.45', 'graph_id_38.5', 'graph_id_38.55', 'graph_id_38.599999999999994', 'graph_id_38.650000000000006', 'graph_id_38.7', 'graph_id_38.75', 'graph_id_38.8', 'graph_id_38.849999999999994', 'graph_id_38.900000000000006', 'graph_id_38.95', 'graph_id_39.0', 'graph_id_39.05', 'graph_id_39.099999999999994', 'graph_id_39.150000000000006', 'graph_id_39.2', 'graph_id_39.25', 'graph_id_39.3', 'graph_id_39.349999999999994', 'graph_id_39.45', 'graph_id_39.5', 'graph_id_39.599999999999994', 'graph_id_39.650000000000006', 'graph_id_39.7', 'graph_id_39.75', 'graph_id_39.8', 'graph_id_39.849999999999994', 'graph_id_39.900000000000006', 'graph_id_39.95', 'graph_id_40.0', 'graph_id_40.05', 'graph_id_40.099999999999994', 'graph_id_40.150000000000006', 'graph_id_40.2', 'graph_id_40.25', 'graph_id_40.3', 'graph_id_40.349999999999994', 'graph_id_40.400000000000006', 'graph_id_40.599999999999994', 'graph_id_40.650000000000006', 'graph_id_40.7', 'graph_id_40.75', 'graph_id_40.8', 'graph_id_40.900000000000006', 'graph_id_40.95', 'graph_id_41.0', 'graph_id_41.099999999999994', 'graph_id_41.150000000000006', 'graph_id_41.2', 'graph_id_41.25', 'graph_id_41.3', 'graph_id_41.349999999999994', 'graph_id_41.45', 'graph_id_41.5', 'graph_id_41.55', 'graph_id_41.599999999999994', 'graph_id_41.650000000000006', 'graph_id_41.7', 'graph_id_41.75', 'graph_id_41.8', 'graph_id_41.849999999999994', 'graph_id_41.900000000000006', 'graph_id_41.95', 'graph_id_42.0', 'graph_id_42.05', 'graph_id_42.099999999999994', 'graph_id_42.150000000000006', 'graph_id_42.2', 'graph_id_42.25', 'graph_id_42.3', 'graph_id_42.349999999999994', 'graph_id_42.400000000000006', 'graph_id_42.45', 'graph_id_42.599999999999994', 'graph_id_42.650000000000006', 'graph_id_42.7', 'graph_id_42.75', 'graph_id_42.8', 'graph_id_42.849999999999994', 'graph_id_42.900000000000006', 'graph_id_42.95', 'graph_id_43.0', 'graph_id_43.05', 'graph_id_43.099999999999994', 'graph_id_43.2', 'graph_id_43.25', 'graph_id_43.349999999999994', 'graph_id_43.400000000000006', 'graph_id_43.45', 'graph_id_43.55', 'graph_id_43.599999999999994', 'graph_id_43.650000000000006', 'graph_id_43.7', 'graph_id_43.75', 'graph_id_43.8', 'graph_id_43.849999999999994', 'graph_id_43.900000000000006', 'graph_id_43.95', 'graph_id_44.0', 'graph_id_44.05', 'graph_id_44.099999999999994', 'graph_id_44.150000000000006', 'graph_id_44.2', 'graph_id_44.25', 'graph_id_44.3', 'graph_id_44.349999999999994', 'graph_id_44.400000000000006', 'graph_id_44.45', 'graph_id_44.5', 'graph_id_44.55', 'graph_id_44.599999999999994', 'graph_id_44.650000000000006', 'graph_id_44.7', 'graph_id_44.75', 'graph_id_44.8', 'graph_id_44.849999999999994', 'graph_id_44.900000000000006', 'graph_id_44.95', 'graph_id_45.0', 'graph_id_45.05', 'graph_id_45.099999999999994', 'graph_id_45.150000000000006', 'graph_id_45.2', 'graph_id_45.25', 'graph_id_45.349999999999994', 'graph_id_45.400000000000006', 'graph_id_45.45', 'graph_id_45.55', 'graph_id_45.599999999999994', 'graph_id_45.650000000000006', 'graph_id_45.7', 'graph_id_45.75', 'graph_id_45.8', 'graph_id_45.849999999999994', 'graph_id_45.900000000000006', 'graph_id_45.95', 'graph_id_46.0', 'graph_id_46.05', 'graph_id_46.099999999999994', 'graph_id_46.150000000000006', 'graph_id_46.2', 'graph_id_46.25', 'graph_id_46.3', 'graph_id_46.349999999999994', 'graph_id_46.400000000000006', 'graph_id_46.45', 'graph_id_46.5', 'graph_id_46.55', 'graph_id_46.599999999999994', 'graph_id_46.650000000000006', 'graph_id_46.7', 'graph_id_46.75', 'graph_id_46.8', 'graph_id_46.849999999999994', 'graph_id_46.900000000000006', 'graph_id_46.95', 'graph_id_47.0', 'graph_id_47.05', 'graph_id_47.099999999999994', 'graph_id_47.150000000000006', 'graph_id_47.2', 'graph_id_47.25', 'graph_id_47.3', 'graph_id_47.349999999999994', 'graph_id_47.45', 'graph_id_47.5', 'graph_id_47.55', 'graph_id_47.599999999999994', 'graph_id_47.650000000000006', 'graph_id_47.7', 'graph_id_47.8', 'graph_id_47.849999999999994', 'graph_id_47.900000000000006', 'graph_id_47.95', 'graph_id_48.0', 'graph_id_48.05', 'graph_id_48.099999999999994', 'graph_id_48.150000000000006', 'graph_id_48.2', 'graph_id_48.25', 'graph_id_48.3', 'graph_id_48.349999999999994', 'graph_id_48.400000000000006', 'graph_id_48.45', 'graph_id_48.5', 'graph_id_48.55', 'graph_id_48.599999999999994', 'graph_id_48.650000000000006', 'graph_id_48.7', 'graph_id_48.75', 'graph_id_48.8', 'graph_id_48.900000000000006', 'graph_id_48.95', 'graph_id_49.05', 'graph_id_49.099999999999994', 'graph_id_49.150000000000006', 'graph_id_49.2', 'graph_id_49.25', 'graph_id_49.3', 'graph_id_49.349999999999994', 'graph_id_49.400000000000006', 'graph_id_49.45', 'graph_id_49.5', 'graph_id_49.55', 'graph_id_49.599999999999994', 'graph_id_49.650000000000006', 'graph_id_49.7', 'graph_id_49.75', 'graph_id_49.8', 'graph_id_49.849999999999994', 'graph_id_49.900000000000006', 'graph_id_49.95', 'graph_id_50.0', 'graph_id_50.05', 'graph_id_50.099999999999994', 'graph_id_50.150000000000006', 'graph_id_50.2', 'graph_id_50.25', 'graph_id_50.3', 'graph_id_50.349999999999994', 'graph_id_50.400000000000006', 'graph_id_50.45', 'graph_id_50.5', 'graph_id_50.55', 'graph_id_50.599999999999994', 'graph_id_50.650000000000006', 'graph_id_50.7', 'graph_id_50.75', 'graph_id_50.8', 'graph_id_50.849999999999994', 'graph_id_50.900000000000006', 'graph_id_50.95', 'graph_id_51.0', 'graph_id_51.05', 'graph_id_51.099999999999994', 'graph_id_51.150000000000006', 'graph_id_51.2', 'graph_id_51.25', 'graph_id_51.3', 'graph_id_51.349999999999994', 'graph_id_51.400000000000006', 'graph_id_51.45', 'graph_id_51.5', 'graph_id_51.55', 'graph_id_51.599999999999994', 'graph_id_51.650000000000006', 'graph_id_51.7', 'graph_id_51.75', 'graph_id_51.8', 'graph_id_51.849999999999994', 'graph_id_51.900000000000006', 'graph_id_51.95', 'graph_id_52.0', 'graph_id_52.05', 'graph_id_52.099999999999994', 'graph_id_52.150000000000006', 'graph_id_52.2', 'graph_id_52.25', 'graph_id_52.3', 'graph_id_52.349999999999994', 'graph_id_52.400000000000006', 'graph_id_52.45', 'graph_id_52.5', 'graph_id_52.55', 'graph_id_52.599999999999994', 'graph_id_52.650000000000006', 'graph_id_52.7', 'graph_id_52.75', 'graph_id_52.8', 'graph_id_52.849999999999994', 'graph_id_52.900000000000006', 'graph_id_52.95', 'graph_id_53.0', 'graph_id_53.05', 'graph_id_53.099999999999994', 'graph_id_53.150000000000006', 'graph_id_53.2', 'graph_id_53.25', 'graph_id_53.349999999999994', 'graph_id_53.400000000000006', 'graph_id_53.45', 'graph_id_53.5', 'graph_id_53.55', 'graph_id_53.599999999999994', 'graph_id_53.650000000000006', 'graph_id_53.7', 'graph_id_53.75', 'graph_id_53.8', 'graph_id_53.849999999999994', 'graph_id_53.900000000000006', 'graph_id_53.95', 'graph_id_54.0', 'graph_id_54.05', 'graph_id_54.099999999999994', 'graph_id_54.150000000000006', 'graph_id_54.2', 'graph_id_54.3', 'graph_id_54.349999999999994', 'graph_id_54.400000000000006', 'graph_id_54.45', 'graph_id_54.5', 'graph_id_54.55', 'graph_id_54.599999999999994', 'graph_id_54.650000000000006', 'graph_id_54.7', 'graph_id_54.75', 'graph_id_54.8', 'graph_id_54.849999999999994', 'graph_id_54.900000000000006', 'graph_id_54.95', 'graph_id_55.0', 'graph_id_55.05', 'graph_id_55.099999999999994', 'graph_id_55.150000000000006', 'graph_id_55.2', 'graph_id_55.25', 'graph_id_55.3', 'graph_id_55.349999999999994', 'graph_id_55.400000000000006', 'graph_id_55.45', 'graph_id_55.5', 'graph_id_55.55', 'graph_id_55.650000000000006', 'graph_id_55.7', 'graph_id_55.75', 'graph_id_55.8', 'graph_id_55.849999999999994', 'graph_id_55.900000000000006', 'graph_id_55.95', 'graph_id_56.0', 'graph_id_56.05', 'graph_id_56.099999999999994', 'graph_id_56.150000000000006', 'graph_id_56.2', 'graph_id_56.25', 'graph_id_56.3', 'graph_id_56.349999999999994', 'graph_id_56.400000000000006', 'graph_id_56.45', 'graph_id_56.5', 'graph_id_56.55', 'graph_id_56.599999999999994', 'graph_id_56.650000000000006', 'graph_id_56.7', 'graph_id_56.75', 'graph_id_56.8', 'graph_id_56.849999999999994', 'graph_id_56.900000000000006', 'graph_id_56.95', 'graph_id_57.0', 'graph_id_57.05', 'graph_id_57.099999999999994', 'graph_id_57.150000000000006', 'graph_id_57.2', 'graph_id_57.25', 'graph_id_57.3', 'graph_id_57.349999999999994', 'graph_id_57.400000000000006', 'graph_id_57.45', 'graph_id_57.599999999999994', 'graph_id_57.650000000000006', 'graph_id_57.7', 'graph_id_57.8', 'graph_id_57.849999999999994', 'graph_id_57.900000000000006', 'graph_id_57.95', 'graph_id_58.0', 'graph_id_58.05', 'graph_id_58.099999999999994', 'graph_id_58.150000000000006', 'graph_id_58.25', 'graph_id_58.349999999999994', 'graph_id_58.400000000000006', 'graph_id_58.45', 'graph_id_58.5', 'graph_id_58.55', 'graph_id_58.599999999999994', 'graph_id_58.650000000000006', 'graph_id_58.7', 'graph_id_58.8', 'graph_id_58.849999999999994', 'graph_id_58.900000000000006', 'graph_id_58.95', 'graph_id_59.0', 'graph_id_59.05', 'graph_id_59.099999999999994', 'graph_id_59.150000000000006', 'graph_id_59.2', 'graph_id_59.25', 'graph_id_59.3', 'graph_id_59.349999999999994', 'graph_id_59.45', 'graph_id_59.5', 'graph_id_59.55', 'graph_id_59.599999999999994', 'graph_id_59.650000000000006', 'graph_id_59.7', 'graph_id_59.849999999999994', 'graph_id_59.900000000000006', 'graph_id_59.95', 'graph_id_60.05', 'graph_id_60.099999999999994', 'graph_id_60.150000000000006', 'graph_id_60.2', 'graph_id_60.25', 'graph_id_60.3', 'graph_id_60.349999999999994', 'graph_id_60.400000000000006', 'graph_id_60.45', 'graph_id_60.5', 'graph_id_60.55', 'graph_id_60.599999999999994', 'graph_id_60.650000000000006', 'graph_id_60.7', 'graph_id_60.75', 'graph_id_60.8', 'graph_id_60.849999999999994', 'graph_id_60.900000000000006', 'graph_id_60.95', 'graph_id_61.0', 'graph_id_61.05', 'graph_id_61.099999999999994', 'graph_id_61.150000000000006', 'graph_id_61.2', 'graph_id_61.25', 'graph_id_61.3', 'graph_id_61.349999999999994', 'graph_id_61.400000000000006', 'graph_id_61.45', 'graph_id_61.5', 'graph_id_61.55', 'graph_id_61.599999999999994', 'graph_id_61.650000000000006', 'graph_id_61.7', 'graph_id_61.75', 'graph_id_61.8', 'graph_id_61.849999999999994', 'graph_id_62.0', 'graph_id_62.05', 'graph_id_62.099999999999994', 'graph_id_62.150000000000006', 'graph_id_62.2', 'graph_id_62.25', 'graph_id_62.3', 'graph_id_62.349999999999994', 'graph_id_62.45', 'graph_id_62.5', 'graph_id_62.55', 'graph_id_62.599999999999994', 'graph_id_62.650000000000006', 'graph_id_62.7', 'graph_id_62.75', 'graph_id_62.8', 'graph_id_62.849999999999994', 'graph_id_62.900000000000006', 'graph_id_62.95', 'graph_id_63.0', 'graph_id_63.05', 'graph_id_63.099999999999994', 'graph_id_63.150000000000006', 'graph_id_63.2', 'graph_id_63.25', 'graph_id_63.349999999999994', 'graph_id_63.400000000000006', 'graph_id_63.45', 'graph_id_63.5', 'graph_id_63.55', 'graph_id_63.599999999999994', 'graph_id_63.650000000000006', 'graph_id_63.7', 'graph_id_63.75', 'graph_id_63.8', 'graph_id_63.849999999999994', 'graph_id_63.900000000000006', 'graph_id_63.95', 'graph_id_64.05', 'graph_id_64.1', 'graph_id_64.15', 'graph_id_64.2', 'graph_id_64.25', 'graph_id_64.3', 'graph_id_64.35', 'graph_id_64.4', 'graph_id_64.45', 'graph_id_64.55', 'graph_id_64.6', 'graph_id_64.7', 'graph_id_64.75', 'graph_id_64.8', 'graph_id_64.85', 'graph_id_64.9', 'graph_id_64.95', 'graph_id_65.0', 'graph_id_65.05', 'graph_id_65.15', 'graph_id_65.2', 'graph_id_65.25', 'graph_id_65.3', 'graph_id_65.35', 'graph_id_65.4', 'graph_id_65.5', 'graph_id_65.55', 'graph_id_65.6', 'graph_id_65.65', 'graph_id_65.7', 'graph_id_65.75', 'graph_id_65.85', 'graph_id_65.9', 'graph_id_66.0', 'graph_id_66.1', 'graph_id_66.15', 'graph_id_66.2', 'graph_id_66.3', 'graph_id_66.35', 'graph_id_66.4', 'graph_id_66.45', 'graph_id_66.5', 'graph_id_66.55', 'graph_id_66.6', 'graph_id_66.65', 'graph_id_66.7', 'graph_id_66.75', 'graph_id_66.8', 'graph_id_66.85', 'graph_id_66.9', 'graph_id_66.95', 'graph_id_67.0', 'graph_id_67.05', 'graph_id_67.1', 'graph_id_67.15', 'graph_id_67.2', 'graph_id_67.25', 'graph_id_67.3', 'graph_id_67.35', 'graph_id_67.4', 'graph_id_67.45', 'graph_id_67.5', 'graph_id_67.55', 'graph_id_67.65', 'graph_id_67.7', 'graph_id_67.75', 'graph_id_67.8', 'graph_id_67.85', 'graph_id_67.9', 'graph_id_67.95', 'graph_id_68.0', 'graph_id_68.05', 'graph_id_68.1', 'graph_id_68.15', 'graph_id_68.2', 'graph_id_68.25', 'graph_id_68.3', 'graph_id_68.35', 'graph_id_68.4', 'graph_id_68.45', 'graph_id_68.5', 'graph_id_68.55', 'graph_id_68.6', 'graph_id_68.65', 'graph_id_68.7', 'graph_id_68.75', 'graph_id_68.8', 'graph_id_68.85', 'graph_id_68.9', 'graph_id_68.95', 'graph_id_69.0', 'graph_id_69.05', 'graph_id_69.1', 'graph_id_69.15', 'graph_id_69.2', 'graph_id_69.25', 'graph_id_69.3', 'graph_id_69.35', 'graph_id_69.4', 'graph_id_69.45', 'graph_id_69.55', 'graph_id_69.6', 'graph_id_69.65', 'graph_id_69.7', 'graph_id_69.75', 'graph_id_69.85', 'graph_id_69.9', 'graph_id_69.95', 'graph_id_70.0', 'graph_id_70.05', 'graph_id_70.1', 'graph_id_70.15', 'graph_id_70.2', 'graph_id_70.25', 'graph_id_70.3', 'graph_id_70.35', 'graph_id_70.4', 'graph_id_70.45', 'graph_id_70.5', 'graph_id_70.55', 'graph_id_70.6', 'graph_id_70.65', 'graph_id_70.7', 'graph_id_70.75', 'graph_id_70.8', 'graph_id_70.85', 'graph_id_70.95', 'graph_id_71.0', 'graph_id_71.05', 'graph_id_71.1', 'graph_id_71.15', 'graph_id_71.2', 'graph_id_71.25', 'graph_id_71.3', 'graph_id_71.35', 'graph_id_71.4', 'graph_id_71.45', 'graph_id_71.5', 'graph_id_71.55', 'graph_id_71.6', 'graph_id_71.65', 'graph_id_71.7', 'graph_id_71.75', 'graph_id_71.8', 'graph_id_71.85', 'graph_id_71.9', 'graph_id_71.95', 'graph_id_72.0', 'graph_id_72.05', 'graph_id_72.1', 'graph_id_72.15', 'graph_id_72.2', 'graph_id_72.25', 'graph_id_72.3', 'graph_id_72.35', 'graph_id_72.4', 'graph_id_72.45', 'graph_id_72.5', 'graph_id_72.55', 'graph_id_72.6', 'graph_id_72.65', 'graph_id_72.7', 'graph_id_72.75', 'graph_id_72.8', 'graph_id_72.85', 'graph_id_72.9', 'graph_id_72.95', 'graph_id_73.0', 'graph_id_73.05', 'graph_id_73.1', 'graph_id_73.15', 'graph_id_73.2', 'graph_id_73.25', 'graph_id_73.3', 'graph_id_73.35', 'graph_id_73.4', 'graph_id_73.45', 'graph_id_73.5', 'graph_id_73.55', 'graph_id_73.6', 'graph_id_73.65', 'graph_id_73.7', 'graph_id_73.75', 'graph_id_73.85', 'graph_id_73.9', 'graph_id_73.95', 'graph_id_74.0', 'graph_id_74.05', 'graph_id_74.1', 'graph_id_74.15', 'graph_id_74.2', 'graph_id_74.25', 'graph_id_74.3', 'graph_id_74.35', 'graph_id_74.4', 'graph_id_74.45', 'graph_id_74.5', 'graph_id_74.55', 'graph_id_74.6', 'graph_id_74.65', 'graph_id_74.7', 'graph_id_74.75', 'graph_id_74.8', 'graph_id_74.85', 'graph_id_74.9', 'graph_id_74.95', 'graph_id_75.0', 'graph_id_75.05', 'graph_id_75.1', 'graph_id_75.15', 'graph_id_75.2', 'graph_id_75.25', 'graph_id_75.3', 'graph_id_75.35', 'graph_id_75.4', 'graph_id_75.45', 'graph_id_75.5', 'graph_id_75.55', 'graph_id_75.6', 'graph_id_75.7', 'graph_id_75.75', 'graph_id_75.85', 'graph_id_75.9', 'graph_id_75.95', 'graph_id_76.0', 'graph_id_76.05', 'graph_id_76.1', 'graph_id_76.15', 'graph_id_76.2', 'graph_id_76.25', 'graph_id_76.3', 'graph_id_76.35', 'graph_id_76.4', 'graph_id_76.45', 'graph_id_76.5', 'graph_id_76.55', 'graph_id_76.6', 'graph_id_76.65', 'graph_id_76.7', 'graph_id_76.75', 'graph_id_76.85', 'graph_id_76.9', 'graph_id_76.95', 'graph_id_77.0', 'graph_id_77.05', 'graph_id_77.1', 'graph_id_77.15', 'graph_id_77.2', 'graph_id_77.25', 'graph_id_77.3', 'graph_id_77.35', 'graph_id_77.4', 'graph_id_77.45', 'graph_id_77.5', 'graph_id_77.55', 'graph_id_77.6', 'graph_id_77.65', 'graph_id_77.7', 'graph_id_77.75', 'graph_id_77.8', 'graph_id_77.85', 'graph_id_77.9', 'graph_id_77.95', 'graph_id_78.0', 'graph_id_78.1', 'graph_id_78.15', 'graph_id_78.2', 'graph_id_78.25', 'graph_id_78.3', 'graph_id_78.35', 'graph_id_78.45', 'graph_id_78.5', 'graph_id_78.55', 'graph_id_78.6', 'graph_id_78.65', 'graph_id_78.7', 'graph_id_78.8', 'graph_id_78.85', 'graph_id_78.9', 'graph_id_78.95', 'graph_id_79.0', 'graph_id_79.05', 'graph_id_79.1', 'graph_id_79.15', 'graph_id_79.2', 'graph_id_79.25', 'graph_id_79.3', 'graph_id_79.35', 'graph_id_79.4', 'graph_id_79.45', 'graph_id_79.5', 'graph_id_79.55', 'graph_id_79.6', 'graph_id_79.65', 'graph_id_79.7', 'graph_id_79.75', 'graph_id_79.8', 'graph_id_79.85', 'graph_id_79.9', 'graph_id_79.95', 'graph_id_80.0', 'graph_id_80.05', 'graph_id_80.1', 'graph_id_80.15', 'graph_id_80.2', 'graph_id_80.25', 'graph_id_80.3', 'graph_id_80.35', 'graph_id_80.4', 'graph_id_80.45', 'graph_id_80.5', 'graph_id_80.55', 'graph_id_80.6', 'graph_id_80.65', 'graph_id_80.7', 'graph_id_80.75', 'graph_id_80.8', 'graph_id_80.85', 'graph_id_80.9', 'graph_id_80.95', 'graph_id_81.0', 'graph_id_81.05', 'graph_id_81.1', 'graph_id_81.15', 'graph_id_81.2', 'graph_id_81.25', 'graph_id_81.3', 'graph_id_81.35', 'graph_id_81.4', 'graph_id_81.45', 'graph_id_81.55', 'graph_id_81.6', 'graph_id_81.65', 'graph_id_81.7', 'graph_id_81.75', 'graph_id_81.8', 'graph_id_81.85', 'graph_id_81.9', 'graph_id_81.95', 'graph_id_82.0', 'graph_id_82.1', 'graph_id_82.15', 'graph_id_82.2', 'graph_id_82.25', 'graph_id_82.3', 'graph_id_82.35', 'graph_id_82.4', 'graph_id_82.45', 'graph_id_82.5', 'graph_id_82.55', 'graph_id_82.6', 'graph_id_82.65', 'graph_id_82.7', 'graph_id_82.75', 'graph_id_82.8', 'graph_id_82.85', 'graph_id_82.9', 'graph_id_82.95', 'graph_id_83.0', 'graph_id_83.05', 'graph_id_83.1', 'graph_id_83.15', 'graph_id_83.2', 'graph_id_83.25', 'graph_id_83.3', 'graph_id_83.4', 'graph_id_83.45', 'graph_id_83.55', 'graph_id_83.6', 'graph_id_83.65', 'graph_id_83.7', 'graph_id_83.75', 'graph_id_83.8', 'graph_id_83.85', 'graph_id_83.9', 'graph_id_83.95', 'graph_id_84.0', 'graph_id_84.05', 'graph_id_84.1', 'graph_id_84.15', 'graph_id_84.2', 'graph_id_84.3', 'graph_id_84.35', 'graph_id_84.4', 'graph_id_84.45', 'graph_id_84.5', 'graph_id_84.55', 'graph_id_84.6', 'graph_id_84.65', 'graph_id_84.7', 'graph_id_84.8', 'graph_id_84.85', 'graph_id_84.9', 'graph_id_84.95', 'graph_id_85.0', 'graph_id_85.05', 'graph_id_85.1', 'graph_id_85.15', 'graph_id_85.2', 'graph_id_85.25', 'graph_id_85.3', 'graph_id_85.35', 'graph_id_85.45', 'graph_id_85.5', 'graph_id_85.55', 'graph_id_85.6', 'graph_id_85.65', 'graph_id_85.7', 'graph_id_85.75', 'graph_id_85.8', 'graph_id_85.85', 'graph_id_85.9', 'graph_id_85.95', 'graph_id_86.0', 'graph_id_86.05', 'graph_id_86.15', 'graph_id_86.2', 'graph_id_86.25', 'graph_id_86.3', 'graph_id_86.35', 'graph_id_86.4', 'graph_id_86.45', 'graph_id_86.5', 'graph_id_86.55', 'graph_id_86.6', 'graph_id_86.65', 'graph_id_86.7', 'graph_id_86.75', 'graph_id_86.8', 'graph_id_86.85', 'graph_id_86.9', 'graph_id_87.0', 'graph_id_87.05', 'graph_id_87.1', 'graph_id_87.15', 'graph_id_87.2', 'graph_id_87.25', 'graph_id_87.3', 'graph_id_87.35', 'graph_id_87.4', 'graph_id_87.45', 'graph_id_87.55', 'graph_id_87.6', 'graph_id_87.65', 'graph_id_87.7', 'graph_id_87.75', 'graph_id_87.8', 'graph_id_87.85', 'graph_id_87.9', 'graph_id_88.0', 'graph_id_88.05', 'graph_id_88.1', 'graph_id_88.15', 'graph_id_88.2', 'graph_id_88.25', 'graph_id_88.35', 'graph_id_88.4', 'graph_id_88.45', 'graph_id_88.5', 'graph_id_88.55', 'graph_id_88.6', 'graph_id_88.65', 'graph_id_88.7', 'graph_id_88.75', 'graph_id_88.8', 'graph_id_88.85', 'graph_id_88.9', 'graph_id_88.95', 'graph_id_89.0', 'graph_id_89.05', 'graph_id_89.1', 'graph_id_89.15', 'graph_id_89.2', 'graph_id_89.25', 'graph_id_89.35', 'graph_id_89.4', 'graph_id_89.5', 'graph_id_89.6', 'graph_id_89.65', 'graph_id_89.7', 'graph_id_89.8', 'graph_id_89.9', 'graph_id_89.95', 'graph_id_90.0', 'graph_id_90.05', 'graph_id_90.1', 'graph_id_90.15', 'graph_id_90.2', 'graph_id_90.25', 'graph_id_90.3', 'graph_id_90.35', 'graph_id_90.4', 'graph_id_90.45', 'graph_id_90.5', 'graph_id_90.55', 'graph_id_90.6', 'graph_id_90.65', 'graph_id_90.7', 'graph_id_90.75', 'graph_id_90.8', 'graph_id_90.85', 'graph_id_90.9', 'graph_id_90.95', 'graph_id_91.05', 'graph_id_91.1', 'graph_id_91.15', 'graph_id_91.2', 'graph_id_91.3', 'graph_id_91.35', 'graph_id_91.4', 'graph_id_91.45', 'graph_id_91.55', 'graph_id_91.6', 'graph_id_91.65', 'graph_id_91.7', 'graph_id_91.75', 'graph_id_91.8', 'graph_id_91.85', 'graph_id_91.95', 'graph_id_92.0', 'graph_id_92.05', 'graph_id_92.1', 'graph_id_92.15', 'graph_id_92.2', 'graph_id_92.25', 'graph_id_92.3', 'graph_id_92.35', 'graph_id_92.45', 'graph_id_92.55', 'graph_id_92.65', 'graph_id_92.7', 'graph_id_92.75', 'graph_id_92.8', 'graph_id_92.85', 'graph_id_92.9', 'graph_id_92.95', 'graph_id_93.0', 'graph_id_93.05', 'graph_id_93.1', 'graph_id_93.15', 'graph_id_93.2', 'graph_id_93.25', 'graph_id_93.35', 'graph_id_93.4', 'graph_id_93.45', 'graph_id_93.55', 'graph_id_93.6', 'graph_id_93.65', 'graph_id_93.7', 'graph_id_93.75', 'graph_id_93.8', 'graph_id_93.95', 'graph_id_94.05', 'graph_id_94.1', 'graph_id_94.15', 'graph_id_94.2', 'graph_id_94.25', 'graph_id_94.35', 'graph_id_94.4', 'graph_id_94.5', 'graph_id_94.6', 'graph_id_94.65', 'graph_id_94.7', 'graph_id_94.75', 'graph_id_94.8', 'graph_id_94.85', 'graph_id_94.9', 'graph_id_94.95', 'graph_id_95.0', 'graph_id_95.05', 'graph_id_95.1', 'graph_id_95.15', 'graph_id_95.25', 'graph_id_95.3', 'graph_id_95.35', 'graph_id_95.45', 'graph_id_95.55', 'graph_id_95.65', 'graph_id_95.85', 'graph_id_95.9', 'graph_id_95.95', 'graph_id_96.0', 'graph_id_96.05', 'graph_id_96.1', 'graph_id_96.15', 'graph_id_96.2', 'graph_id_96.25', 'graph_id_96.3', 'graph_id_96.35', 'graph_id_96.4', 'graph_id_96.65', 'graph_id_96.7', 'graph_id_96.75', 'graph_id_96.8', 'graph_id_96.9', 'graph_id_96.95', 'graph_id_97.0', 'graph_id_97.1', 'graph_id_97.15', 'graph_id_97.2', 'graph_id_97.25', 'graph_id_97.3', 'graph_id_97.35', 'graph_id_97.4', 'graph_id_97.6', 'graph_id_97.7', 'graph_id_97.75', 'graph_id_97.8', 'graph_id_97.85', 'graph_id_97.9', 'graph_id_97.95', 'graph_id_98.05', 'graph_id_98.1', 'graph_id_98.15', 'graph_id_98.25', 'graph_id_98.35', 'graph_id_98.4', 'graph_id_98.45', 'graph_id_98.5', 'graph_id_98.55', 'graph_id_98.65', 'graph_id_98.7', 'graph_id_98.85', 'graph_id_98.95', 'graph_id_99.1', 'graph_id_99.15', 'graph_id_99.2', 'graph_id_99.25', 'graph_id_99.3', 'graph_id_99.35', 'graph_id_99.4', 'graph_id_99.5', 'graph_id_99.55', 'graph_id_99.6', 'graph_id_99.65', 'graph_id_99.7', 'graph_id_99.85', 'graph_id_99.9', 'graph_id_99.95', 'graph_id_100.05', 'graph_id_100.1', 'graph_id_100.2', 'graph_id_100.25', 'graph_id_100.35', 'graph_id_100.45', 'graph_id_100.6', 'graph_id_100.7', 'graph_id_100.75', 'graph_id_100.9', 'graph_id_101.0', 'graph_id_101.05', 'graph_id_101.1', 'graph_id_101.2', 'graph_id_101.25', 'graph_id_101.35', 'graph_id_101.5', 'graph_id_101.55', 'graph_id_101.6', 'graph_id_101.65', 'graph_id_101.7', 'graph_id_101.75', 'graph_id_101.8', 'graph_id_101.95', 'graph_id_102.1', 'graph_id_102.3', 'graph_id_102.4', 'graph_id_102.6', 'graph_id_102.65', 'graph_id_102.85', 'graph_id_103.1', 'graph_id_103.35', 'graph_id_103.7', 'graph_id_103.95', 'graph_id_104.15', 'graph_id_104.2', 'graph_id_104.35', 'graph_id_104.65', 'graph_id_104.7', 'graph_id_104.9', 'graph_id_105.15', 'graph_id_105.35', 'graph_id_105.55', 'graph_id_105.65', 'graph_id_106.0', 'graph_id_107.05', 'graph_id_107.55', 'graph_id_107.8', 'graph_id_107.85', 'graph_id_108.05', 'graph_id_108.15', 'graph_id_108.2', 'graph_id_108.95', 'graph_id_109.4', 'graph_id_111.15', 'graph_id_111.95'] not in index\""
     ]
    }
   ],
   "source": [
    "# Define the independent and dependent variables\n",
    "X_graph_with_dummies = data_with_dummies[graph_fe_features]\n",
    "y = data_with_dummies['risk']\n",
    "\n",
    "# Split the data into training and testing sets\n",
    "X_train_graph_id, X_test_graph_id, y_train, y_test = train_test_split(X_graph_with_dummies, y, test_size=0.2, random_state=42)\n",
    "\n",
    "# Fit the baseline regression model\n",
    "model_graph_id_with_dummies = LinearRegression()\n",
    "model_graph_id_with_dummies.fit(X_train_graph_id, y_train)\n",
    "\n",
    "# Predict and calculate the R-squared value\n",
    "y_pred_graph_id = model_graph_id_with_dummies.predict(X_test_graph_id)\n",
    "r2_graph_fe = r2_score(y_test, y_pred_graph_id)\n",
    "r2_graph_fe"
   ]
  },
  {
   "cell_type": "code",
   "execution_count": null,
   "id": "c2b225bb-d449-4f47-811d-6a0aa9fa88c9",
   "metadata": {},
   "outputs": [],
   "source": []
  },
  {
   "cell_type": "markdown",
   "id": "c0e0f3c8-3309-4511-94ef-0a56f84df76f",
   "metadata": {},
   "source": [
    "Leave-One-Out"
   ]
  },
  {
   "cell_type": "code",
   "execution_count": 31,
   "id": "a02e8612-c49f-49d1-b4d0-62dae6b37b63",
   "metadata": {},
   "outputs": [
    {
     "name": "stderr",
     "output_type": "stream",
     "text": [
      "Overall LOO Repeats:   0%|                                                                       | 0/2 [00:00<?, ?it/s]\n",
      "Processing Subject IDs:   0%|                                                                  | 0/502 [00:00<?, ?it/s]\u001b[A\n",
      "Processing Subject IDs:   0%|                                                          | 1/502 [00:00<05:59,  1.39it/s]\u001b[A"
     ]
    },
    {
     "name": "stdout",
     "output_type": "stream",
     "text": [
      "NaN R-squared for subject_id 185. Check data quality and model configuration.\n"
     ]
    },
    {
     "name": "stderr",
     "output_type": "stream",
     "text": [
      "\n",
      "Processing Subject IDs:   0%|▏                                                         | 2/502 [00:01<04:54,  1.70it/s]\u001b[A"
     ]
    },
    {
     "name": "stdout",
     "output_type": "stream",
     "text": [
      "NaN R-squared for subject_id 461. Check data quality and model configuration.\n"
     ]
    },
    {
     "name": "stderr",
     "output_type": "stream",
     "text": [
      "\n",
      "Processing Subject IDs:   1%|▎                                                         | 3/502 [00:01<04:47,  1.74it/s]\u001b[A"
     ]
    },
    {
     "name": "stdout",
     "output_type": "stream",
     "text": [
      "NaN R-squared for subject_id 438. Check data quality and model configuration.\n"
     ]
    },
    {
     "name": "stderr",
     "output_type": "stream",
     "text": [
      "\n",
      "Processing Subject IDs:   1%|▍                                                         | 4/502 [00:02<04:39,  1.78it/s]\u001b[A"
     ]
    },
    {
     "name": "stdout",
     "output_type": "stream",
     "text": [
      "NaN R-squared for subject_id 307. Check data quality and model configuration.\n"
     ]
    },
    {
     "name": "stderr",
     "output_type": "stream",
     "text": [
      "\n",
      "Processing Subject IDs:   1%|▌                                                         | 5/502 [00:02<04:27,  1.86it/s]\u001b[A"
     ]
    },
    {
     "name": "stdout",
     "output_type": "stream",
     "text": [
      "NaN R-squared for subject_id 183. Check data quality and model configuration.\n"
     ]
    },
    {
     "name": "stderr",
     "output_type": "stream",
     "text": [
      "\n",
      "Processing Subject IDs:   1%|▋                                                         | 6/502 [00:03<04:19,  1.91it/s]\u001b[A"
     ]
    },
    {
     "name": "stdout",
     "output_type": "stream",
     "text": [
      "NaN R-squared for subject_id 419. Check data quality and model configuration.\n"
     ]
    },
    {
     "name": "stderr",
     "output_type": "stream",
     "text": [
      "\n",
      "Processing Subject IDs:   1%|▊                                                         | 7/502 [00:03<04:16,  1.93it/s]\u001b[A"
     ]
    },
    {
     "name": "stdout",
     "output_type": "stream",
     "text": [
      "NaN R-squared for subject_id 403. Check data quality and model configuration.\n"
     ]
    },
    {
     "name": "stderr",
     "output_type": "stream",
     "text": [
      "\n",
      "Processing Subject IDs:   2%|▉                                                         | 8/502 [00:04<04:14,  1.94it/s]\u001b[A"
     ]
    },
    {
     "name": "stdout",
     "output_type": "stream",
     "text": [
      "NaN R-squared for subject_id 67. Check data quality and model configuration.\n"
     ]
    },
    {
     "name": "stderr",
     "output_type": "stream",
     "text": [
      "\n",
      "Processing Subject IDs:   2%|█                                                         | 9/502 [00:04<04:30,  1.82it/s]\u001b[A"
     ]
    },
    {
     "name": "stdout",
     "output_type": "stream",
     "text": [
      "NaN R-squared for subject_id 187. Check data quality and model configuration.\n"
     ]
    },
    {
     "name": "stderr",
     "output_type": "stream",
     "text": [
      "\n",
      "Processing Subject IDs:   2%|█▏                                                       | 10/502 [00:05<04:51,  1.69it/s]\u001b[A"
     ]
    },
    {
     "name": "stdout",
     "output_type": "stream",
     "text": [
      "NaN R-squared for subject_id 165. Check data quality and model configuration.\n"
     ]
    },
    {
     "name": "stderr",
     "output_type": "stream",
     "text": [
      "\n",
      "Processing Subject IDs:   2%|█▏                                                       | 11/502 [00:06<05:12,  1.57it/s]\u001b[A"
     ]
    },
    {
     "name": "stdout",
     "output_type": "stream",
     "text": [
      "NaN R-squared for subject_id 92. Check data quality and model configuration.\n"
     ]
    },
    {
     "name": "stderr",
     "output_type": "stream",
     "text": [
      "\n",
      "Processing Subject IDs:   2%|█▎                                                       | 12/502 [00:07<05:36,  1.46it/s]\u001b[A"
     ]
    },
    {
     "name": "stdout",
     "output_type": "stream",
     "text": [
      "NaN R-squared for subject_id 179. Check data quality and model configuration.\n"
     ]
    },
    {
     "name": "stderr",
     "output_type": "stream",
     "text": [
      "\n",
      "Processing Subject IDs:   3%|█▍                                                       | 13/502 [00:07<05:28,  1.49it/s]\u001b[A"
     ]
    },
    {
     "name": "stdout",
     "output_type": "stream",
     "text": [
      "NaN R-squared for subject_id 291. Check data quality and model configuration.\n"
     ]
    },
    {
     "name": "stderr",
     "output_type": "stream",
     "text": [
      "\n",
      "Processing Subject IDs:   3%|█▌                                                       | 14/502 [00:08<05:44,  1.42it/s]\u001b[A"
     ]
    },
    {
     "name": "stdout",
     "output_type": "stream",
     "text": [
      "NaN R-squared for subject_id 298. Check data quality and model configuration.\n"
     ]
    },
    {
     "name": "stderr",
     "output_type": "stream",
     "text": [
      "\n",
      "Processing Subject IDs:   3%|█▋                                                       | 15/502 [00:09<05:44,  1.41it/s]\u001b[A"
     ]
    },
    {
     "name": "stdout",
     "output_type": "stream",
     "text": [
      "NaN R-squared for subject_id 26. Check data quality and model configuration.\n"
     ]
    },
    {
     "name": "stderr",
     "output_type": "stream",
     "text": [
      "\n",
      "Processing Subject IDs:   3%|█▊                                                       | 16/502 [00:09<05:40,  1.43it/s]\u001b[A"
     ]
    },
    {
     "name": "stdout",
     "output_type": "stream",
     "text": [
      "NaN R-squared for subject_id 127. Check data quality and model configuration.\n"
     ]
    },
    {
     "name": "stderr",
     "output_type": "stream",
     "text": [
      "\n",
      "Processing Subject IDs:   3%|█▉                                                       | 17/502 [00:10<05:40,  1.42it/s]\u001b[A"
     ]
    },
    {
     "name": "stdout",
     "output_type": "stream",
     "text": [
      "NaN R-squared for subject_id 132. Check data quality and model configuration.\n"
     ]
    },
    {
     "name": "stderr",
     "output_type": "stream",
     "text": [
      "\n",
      "Processing Subject IDs:   4%|██                                                       | 18/502 [00:11<05:24,  1.49it/s]\u001b[A"
     ]
    },
    {
     "name": "stdout",
     "output_type": "stream",
     "text": [
      "NaN R-squared for subject_id 107. Check data quality and model configuration.\n"
     ]
    },
    {
     "name": "stderr",
     "output_type": "stream",
     "text": [
      "\n",
      "Processing Subject IDs:   4%|██▏                                                      | 19/502 [00:11<04:59,  1.61it/s]\u001b[A"
     ]
    },
    {
     "name": "stdout",
     "output_type": "stream",
     "text": [
      "NaN R-squared for subject_id 60. Check data quality and model configuration.\n"
     ]
    },
    {
     "name": "stderr",
     "output_type": "stream",
     "text": [
      "\n",
      "Processing Subject IDs:   4%|██▎                                                      | 20/502 [00:12<04:49,  1.66it/s]\u001b[A"
     ]
    },
    {
     "name": "stdout",
     "output_type": "stream",
     "text": [
      "NaN R-squared for subject_id 34. Check data quality and model configuration.\n"
     ]
    },
    {
     "name": "stderr",
     "output_type": "stream",
     "text": [
      "\n",
      "Processing Subject IDs:   4%|██▍                                                      | 21/502 [00:12<04:35,  1.75it/s]\u001b[A"
     ]
    },
    {
     "name": "stdout",
     "output_type": "stream",
     "text": [
      "NaN R-squared for subject_id 463. Check data quality and model configuration.\n"
     ]
    },
    {
     "name": "stderr",
     "output_type": "stream",
     "text": [
      "\n",
      "Processing Subject IDs:   4%|██▍                                                      | 22/502 [00:13<04:25,  1.81it/s]\u001b[A"
     ]
    },
    {
     "name": "stdout",
     "output_type": "stream",
     "text": [
      "NaN R-squared for subject_id 119. Check data quality and model configuration.\n"
     ]
    },
    {
     "name": "stderr",
     "output_type": "stream",
     "text": [
      "\n",
      "Processing Subject IDs:   5%|██▌                                                      | 23/502 [00:13<04:17,  1.86it/s]\u001b[A"
     ]
    },
    {
     "name": "stdout",
     "output_type": "stream",
     "text": [
      "NaN R-squared for subject_id 421. Check data quality and model configuration.\n"
     ]
    },
    {
     "name": "stderr",
     "output_type": "stream",
     "text": [
      "\n",
      "Processing Subject IDs:   5%|██▋                                                      | 24/502 [00:14<04:05,  1.95it/s]\u001b[A"
     ]
    },
    {
     "name": "stdout",
     "output_type": "stream",
     "text": [
      "NaN R-squared for subject_id 498. Check data quality and model configuration.\n"
     ]
    },
    {
     "name": "stderr",
     "output_type": "stream",
     "text": [
      "\n",
      "Processing Subject IDs:   5%|██▊                                                      | 25/502 [00:14<04:00,  1.98it/s]\u001b[A"
     ]
    },
    {
     "name": "stdout",
     "output_type": "stream",
     "text": [
      "NaN R-squared for subject_id 293. Check data quality and model configuration.\n"
     ]
    },
    {
     "name": "stderr",
     "output_type": "stream",
     "text": [
      "\n",
      "Processing Subject IDs:   5%|██▉                                                      | 26/502 [00:15<04:18,  1.84it/s]\u001b[A"
     ]
    },
    {
     "name": "stdout",
     "output_type": "stream",
     "text": [
      "NaN R-squared for subject_id 348. Check data quality and model configuration.\n"
     ]
    },
    {
     "name": "stderr",
     "output_type": "stream",
     "text": [
      "\n",
      "Processing Subject IDs:   5%|███                                                      | 27/502 [00:16<04:26,  1.78it/s]\u001b[A"
     ]
    },
    {
     "name": "stdout",
     "output_type": "stream",
     "text": [
      "NaN R-squared for subject_id 229. Check data quality and model configuration.\n"
     ]
    },
    {
     "name": "stderr",
     "output_type": "stream",
     "text": [
      "\n",
      "Processing Subject IDs:   6%|███▏                                                     | 28/502 [00:16<04:44,  1.66it/s]\u001b[A"
     ]
    },
    {
     "name": "stdout",
     "output_type": "stream",
     "text": [
      "NaN R-squared for subject_id 50. Check data quality and model configuration.\n"
     ]
    },
    {
     "name": "stderr",
     "output_type": "stream",
     "text": [
      "\n",
      "Processing Subject IDs:   6%|███▎                                                     | 29/502 [00:17<04:57,  1.59it/s]\u001b[A"
     ]
    },
    {
     "name": "stdout",
     "output_type": "stream",
     "text": [
      "NaN R-squared for subject_id 326. Check data quality and model configuration.\n"
     ]
    },
    {
     "name": "stderr",
     "output_type": "stream",
     "text": [
      "\n",
      "Processing Subject IDs:   6%|███▍                                                     | 30/502 [00:18<05:01,  1.56it/s]\u001b[A"
     ]
    },
    {
     "name": "stdout",
     "output_type": "stream",
     "text": [
      "NaN R-squared for subject_id 495. Check data quality and model configuration.\n"
     ]
    },
    {
     "name": "stderr",
     "output_type": "stream",
     "text": [
      "\n",
      "Processing Subject IDs:   6%|███▌                                                     | 31/502 [00:18<05:01,  1.56it/s]\u001b[A"
     ]
    },
    {
     "name": "stdout",
     "output_type": "stream",
     "text": [
      "NaN R-squared for subject_id 108. Check data quality and model configuration.\n"
     ]
    },
    {
     "name": "stderr",
     "output_type": "stream",
     "text": [
      "\n",
      "Processing Subject IDs:   6%|███▋                                                     | 32/502 [00:19<05:12,  1.50it/s]\u001b[A"
     ]
    },
    {
     "name": "stdout",
     "output_type": "stream",
     "text": [
      "NaN R-squared for subject_id 249. Check data quality and model configuration.\n"
     ]
    },
    {
     "name": "stderr",
     "output_type": "stream",
     "text": [
      "\n",
      "Processing Subject IDs:   7%|███▋                                                     | 33/502 [00:20<05:13,  1.50it/s]\u001b[A"
     ]
    },
    {
     "name": "stdout",
     "output_type": "stream",
     "text": [
      "NaN R-squared for subject_id 456. Check data quality and model configuration.\n"
     ]
    },
    {
     "name": "stderr",
     "output_type": "stream",
     "text": [
      "\n",
      "Processing Subject IDs:   7%|███▊                                                     | 34/502 [00:20<05:20,  1.46it/s]\u001b[A"
     ]
    },
    {
     "name": "stdout",
     "output_type": "stream",
     "text": [
      "NaN R-squared for subject_id 420. Check data quality and model configuration.\n"
     ]
    },
    {
     "name": "stderr",
     "output_type": "stream",
     "text": [
      "\n",
      "Processing Subject IDs:   7%|███▉                                                     | 35/502 [00:21<05:07,  1.52it/s]\u001b[A"
     ]
    },
    {
     "name": "stdout",
     "output_type": "stream",
     "text": [
      "NaN R-squared for subject_id 397. Check data quality and model configuration.\n"
     ]
    },
    {
     "name": "stderr",
     "output_type": "stream",
     "text": [
      "\n",
      "Processing Subject IDs:   7%|████                                                     | 36/502 [00:21<04:45,  1.63it/s]\u001b[A"
     ]
    },
    {
     "name": "stdout",
     "output_type": "stream",
     "text": [
      "NaN R-squared for subject_id 414. Check data quality and model configuration.\n"
     ]
    },
    {
     "name": "stderr",
     "output_type": "stream",
     "text": [
      "\n",
      "Processing Subject IDs:   7%|████▏                                                    | 37/502 [00:22<04:29,  1.72it/s]\u001b[A"
     ]
    },
    {
     "name": "stdout",
     "output_type": "stream",
     "text": [
      "NaN R-squared for subject_id 329. Check data quality and model configuration.\n"
     ]
    },
    {
     "name": "stderr",
     "output_type": "stream",
     "text": [
      "\n",
      "Processing Subject IDs:   8%|████▎                                                    | 38/502 [00:22<04:15,  1.81it/s]\u001b[A"
     ]
    },
    {
     "name": "stdout",
     "output_type": "stream",
     "text": [
      "NaN R-squared for subject_id 288. Check data quality and model configuration.\n"
     ]
    },
    {
     "name": "stderr",
     "output_type": "stream",
     "text": [
      "\n",
      "Processing Subject IDs:   8%|████▍                                                    | 39/502 [00:23<04:05,  1.88it/s]\u001b[A"
     ]
    },
    {
     "name": "stdout",
     "output_type": "stream",
     "text": [
      "NaN R-squared for subject_id 12. Check data quality and model configuration.\n"
     ]
    },
    {
     "name": "stderr",
     "output_type": "stream",
     "text": [
      "\n",
      "Processing Subject IDs:   8%|████▌                                                    | 40/502 [00:23<04:04,  1.89it/s]\u001b[A"
     ]
    },
    {
     "name": "stdout",
     "output_type": "stream",
     "text": [
      "NaN R-squared for subject_id 192. Check data quality and model configuration.\n"
     ]
    },
    {
     "name": "stderr",
     "output_type": "stream",
     "text": [
      "\n",
      "Processing Subject IDs:   8%|████▋                                                    | 41/502 [00:24<03:58,  1.93it/s]\u001b[A"
     ]
    },
    {
     "name": "stdout",
     "output_type": "stream",
     "text": [
      "NaN R-squared for subject_id 264. Check data quality and model configuration.\n"
     ]
    },
    {
     "name": "stderr",
     "output_type": "stream",
     "text": [
      "\n",
      "Processing Subject IDs:   8%|████▊                                                    | 42/502 [00:24<03:53,  1.97it/s]\u001b[A"
     ]
    },
    {
     "name": "stdout",
     "output_type": "stream",
     "text": [
      "NaN R-squared for subject_id 407. Check data quality and model configuration.\n"
     ]
    },
    {
     "name": "stderr",
     "output_type": "stream",
     "text": [
      "\n",
      "Processing Subject IDs:   9%|████▉                                                    | 43/502 [00:25<03:56,  1.94it/s]\u001b[A"
     ]
    },
    {
     "name": "stdout",
     "output_type": "stream",
     "text": [
      "NaN R-squared for subject_id 487. Check data quality and model configuration.\n"
     ]
    },
    {
     "name": "stderr",
     "output_type": "stream",
     "text": [
      "\n",
      "Processing Subject IDs:   9%|████▉                                                    | 44/502 [00:26<04:06,  1.86it/s]\u001b[A"
     ]
    },
    {
     "name": "stdout",
     "output_type": "stream",
     "text": [
      "NaN R-squared for subject_id 350. Check data quality and model configuration.\n"
     ]
    },
    {
     "name": "stderr",
     "output_type": "stream",
     "text": [
      "\n",
      "Processing Subject IDs:   9%|█████                                                    | 45/502 [00:26<04:13,  1.80it/s]\u001b[A"
     ]
    },
    {
     "name": "stdout",
     "output_type": "stream",
     "text": [
      "NaN R-squared for subject_id 398. Check data quality and model configuration.\n"
     ]
    },
    {
     "name": "stderr",
     "output_type": "stream",
     "text": [
      "\n",
      "Processing Subject IDs:   9%|█████▏                                                   | 46/502 [00:27<04:24,  1.72it/s]\u001b[A"
     ]
    },
    {
     "name": "stdout",
     "output_type": "stream",
     "text": [
      "NaN R-squared for subject_id 370. Check data quality and model configuration.\n"
     ]
    },
    {
     "name": "stderr",
     "output_type": "stream",
     "text": [
      "\n",
      "Processing Subject IDs:   9%|█████▎                                                   | 47/502 [00:27<04:29,  1.69it/s]\u001b[A"
     ]
    },
    {
     "name": "stdout",
     "output_type": "stream",
     "text": [
      "NaN R-squared for subject_id 315. Check data quality and model configuration.\n"
     ]
    },
    {
     "name": "stderr",
     "output_type": "stream",
     "text": [
      "\n",
      "Processing Subject IDs:  10%|█████▍                                                   | 48/502 [00:28<04:31,  1.67it/s]\u001b[A"
     ]
    },
    {
     "name": "stdout",
     "output_type": "stream",
     "text": [
      "NaN R-squared for subject_id 124. Check data quality and model configuration.\n"
     ]
    },
    {
     "name": "stderr",
     "output_type": "stream",
     "text": [
      "\n",
      "Processing Subject IDs:  10%|█████▌                                                   | 49/502 [00:29<04:39,  1.62it/s]\u001b[A"
     ]
    },
    {
     "name": "stdout",
     "output_type": "stream",
     "text": [
      "NaN R-squared for subject_id 371. Check data quality and model configuration.\n"
     ]
    },
    {
     "name": "stderr",
     "output_type": "stream",
     "text": [
      "\n",
      "Processing Subject IDs:  10%|█████▋                                                   | 50/502 [00:29<04:44,  1.59it/s]\u001b[A"
     ]
    },
    {
     "name": "stdout",
     "output_type": "stream",
     "text": [
      "NaN R-squared for subject_id 489. Check data quality and model configuration.\n"
     ]
    },
    {
     "name": "stderr",
     "output_type": "stream",
     "text": [
      "\n",
      "Processing Subject IDs:  10%|█████▊                                                   | 51/502 [00:30<04:43,  1.59it/s]\u001b[A"
     ]
    },
    {
     "name": "stdout",
     "output_type": "stream",
     "text": [
      "NaN R-squared for subject_id 16. Check data quality and model configuration.\n"
     ]
    },
    {
     "name": "stderr",
     "output_type": "stream",
     "text": [
      "\n",
      "Processing Subject IDs:  10%|█████▉                                                   | 52/502 [00:31<04:38,  1.61it/s]\u001b[A"
     ]
    },
    {
     "name": "stdout",
     "output_type": "stream",
     "text": [
      "NaN R-squared for subject_id 381. Check data quality and model configuration.\n"
     ]
    },
    {
     "name": "stderr",
     "output_type": "stream",
     "text": [
      "\n",
      "Processing Subject IDs:  11%|██████                                                   | 53/502 [00:31<04:35,  1.63it/s]\u001b[A"
     ]
    },
    {
     "name": "stdout",
     "output_type": "stream",
     "text": [
      "NaN R-squared for subject_id 235. Check data quality and model configuration.\n"
     ]
    },
    {
     "name": "stderr",
     "output_type": "stream",
     "text": [
      "\n",
      "Processing Subject IDs:  11%|██████▏                                                  | 54/502 [00:32<04:20,  1.72it/s]\u001b[A"
     ]
    },
    {
     "name": "stdout",
     "output_type": "stream",
     "text": [
      "NaN R-squared for subject_id 128. Check data quality and model configuration.\n"
     ]
    },
    {
     "name": "stderr",
     "output_type": "stream",
     "text": [
      "\n",
      "Processing Subject IDs:  11%|██████▏                                                  | 55/502 [00:32<04:19,  1.72it/s]\u001b[A"
     ]
    },
    {
     "name": "stdout",
     "output_type": "stream",
     "text": [
      "NaN R-squared for subject_id 362. Check data quality and model configuration.\n"
     ]
    },
    {
     "name": "stderr",
     "output_type": "stream",
     "text": [
      "\n",
      "Processing Subject IDs:  11%|██████▎                                                  | 56/502 [00:33<04:08,  1.79it/s]\u001b[A"
     ]
    },
    {
     "name": "stdout",
     "output_type": "stream",
     "text": [
      "NaN R-squared for subject_id 405. Check data quality and model configuration.\n"
     ]
    },
    {
     "name": "stderr",
     "output_type": "stream",
     "text": [
      "\n",
      "Processing Subject IDs:  11%|██████▍                                                  | 57/502 [00:33<03:58,  1.86it/s]\u001b[A"
     ]
    },
    {
     "name": "stdout",
     "output_type": "stream",
     "text": [
      "NaN R-squared for subject_id 1. Check data quality and model configuration.\n"
     ]
    },
    {
     "name": "stderr",
     "output_type": "stream",
     "text": [
      "\n",
      "Processing Subject IDs:  12%|██████▌                                                  | 58/502 [00:34<03:55,  1.88it/s]\u001b[A"
     ]
    },
    {
     "name": "stdout",
     "output_type": "stream",
     "text": [
      "NaN R-squared for subject_id 89. Check data quality and model configuration.\n"
     ]
    },
    {
     "name": "stderr",
     "output_type": "stream",
     "text": [
      "\n",
      "Processing Subject IDs:  12%|██████▋                                                  | 59/502 [00:34<04:04,  1.81it/s]\u001b[A"
     ]
    },
    {
     "name": "stdout",
     "output_type": "stream",
     "text": [
      "NaN R-squared for subject_id 196. Check data quality and model configuration.\n"
     ]
    },
    {
     "name": "stderr",
     "output_type": "stream",
     "text": [
      "\n",
      "Processing Subject IDs:  12%|██████▊                                                  | 60/502 [00:35<04:04,  1.81it/s]\u001b[A"
     ]
    },
    {
     "name": "stdout",
     "output_type": "stream",
     "text": [
      "NaN R-squared for subject_id 496. Check data quality and model configuration.\n"
     ]
    },
    {
     "name": "stderr",
     "output_type": "stream",
     "text": [
      "\n",
      "Processing Subject IDs:  12%|██████▉                                                  | 61/502 [00:35<04:03,  1.81it/s]\u001b[A"
     ]
    },
    {
     "name": "stdout",
     "output_type": "stream",
     "text": [
      "NaN R-squared for subject_id 102. Check data quality and model configuration.\n"
     ]
    },
    {
     "name": "stderr",
     "output_type": "stream",
     "text": [
      "\n",
      "Processing Subject IDs:  12%|███████                                                  | 62/502 [00:36<04:23,  1.67it/s]\u001b[A"
     ]
    },
    {
     "name": "stdout",
     "output_type": "stream",
     "text": [
      "NaN R-squared for subject_id 311. Check data quality and model configuration.\n"
     ]
    },
    {
     "name": "stderr",
     "output_type": "stream",
     "text": [
      "\n",
      "Processing Subject IDs:  13%|███████▏                                                 | 63/502 [00:37<04:47,  1.53it/s]\u001b[A"
     ]
    },
    {
     "name": "stdout",
     "output_type": "stream",
     "text": [
      "NaN R-squared for subject_id 233. Check data quality and model configuration.\n"
     ]
    },
    {
     "name": "stderr",
     "output_type": "stream",
     "text": [
      "\n",
      "Processing Subject IDs:  13%|███████▎                                                 | 64/502 [00:38<04:48,  1.52it/s]\u001b[A"
     ]
    },
    {
     "name": "stdout",
     "output_type": "stream",
     "text": [
      "NaN R-squared for subject_id 141. Check data quality and model configuration.\n"
     ]
    },
    {
     "name": "stderr",
     "output_type": "stream",
     "text": [
      "\n",
      "Processing Subject IDs:  13%|███████▍                                                 | 65/502 [00:38<04:59,  1.46it/s]\u001b[A"
     ]
    },
    {
     "name": "stdout",
     "output_type": "stream",
     "text": [
      "NaN R-squared for subject_id 96. Check data quality and model configuration.\n"
     ]
    },
    {
     "name": "stderr",
     "output_type": "stream",
     "text": [
      "\n",
      "Processing Subject IDs:  13%|███████▍                                                 | 66/502 [00:39<04:56,  1.47it/s]\u001b[A"
     ]
    },
    {
     "name": "stdout",
     "output_type": "stream",
     "text": [
      "NaN R-squared for subject_id 154. Check data quality and model configuration.\n"
     ]
    },
    {
     "name": "stderr",
     "output_type": "stream",
     "text": [
      "\n",
      "Processing Subject IDs:  13%|███████▌                                                 | 67/502 [00:40<04:50,  1.50it/s]\u001b[A"
     ]
    },
    {
     "name": "stdout",
     "output_type": "stream",
     "text": [
      "NaN R-squared for subject_id 312. Check data quality and model configuration.\n"
     ]
    },
    {
     "name": "stderr",
     "output_type": "stream",
     "text": [
      "\n",
      "Processing Subject IDs:  14%|███████▋                                                 | 68/502 [00:40<04:43,  1.53it/s]\u001b[A"
     ]
    },
    {
     "name": "stdout",
     "output_type": "stream",
     "text": [
      "NaN R-squared for subject_id 325. Check data quality and model configuration.\n"
     ]
    },
    {
     "name": "stderr",
     "output_type": "stream",
     "text": [
      "\n",
      "Processing Subject IDs:  14%|███████▊                                                 | 69/502 [00:41<04:35,  1.57it/s]\u001b[A"
     ]
    },
    {
     "name": "stdout",
     "output_type": "stream",
     "text": [
      "NaN R-squared for subject_id 90. Check data quality and model configuration.\n"
     ]
    },
    {
     "name": "stderr",
     "output_type": "stream",
     "text": [
      "\n",
      "Processing Subject IDs:  14%|███████▉                                                 | 70/502 [00:42<04:32,  1.59it/s]\u001b[A"
     ]
    },
    {
     "name": "stdout",
     "output_type": "stream",
     "text": [
      "NaN R-squared for subject_id 247. Check data quality and model configuration.\n"
     ]
    },
    {
     "name": "stderr",
     "output_type": "stream",
     "text": [
      "\n",
      "Processing Subject IDs:  14%|████████                                                 | 71/502 [00:42<04:36,  1.56it/s]\u001b[A"
     ]
    },
    {
     "name": "stdout",
     "output_type": "stream",
     "text": [
      "NaN R-squared for subject_id 219. Check data quality and model configuration.\n"
     ]
    },
    {
     "name": "stderr",
     "output_type": "stream",
     "text": [
      "\n",
      "Processing Subject IDs:  14%|████████▏                                                | 72/502 [00:43<04:39,  1.54it/s]\u001b[A"
     ]
    },
    {
     "name": "stdout",
     "output_type": "stream",
     "text": [
      "NaN R-squared for subject_id 157. Check data quality and model configuration.\n"
     ]
    },
    {
     "name": "stderr",
     "output_type": "stream",
     "text": [
      "\n",
      "Processing Subject IDs:  15%|████████▎                                                | 73/502 [00:43<04:28,  1.60it/s]\u001b[A"
     ]
    },
    {
     "name": "stdout",
     "output_type": "stream",
     "text": [
      "NaN R-squared for subject_id 155. Check data quality and model configuration.\n"
     ]
    },
    {
     "name": "stderr",
     "output_type": "stream",
     "text": [
      "\n",
      "Processing Subject IDs:  15%|████████▍                                                | 74/502 [00:44<04:16,  1.67it/s]\u001b[A"
     ]
    },
    {
     "name": "stdout",
     "output_type": "stream",
     "text": [
      "NaN R-squared for subject_id 123. Check data quality and model configuration.\n"
     ]
    },
    {
     "name": "stderr",
     "output_type": "stream",
     "text": [
      "\n",
      "Processing Subject IDs:  15%|████████▌                                                | 75/502 [00:44<04:05,  1.74it/s]\u001b[A"
     ]
    },
    {
     "name": "stdout",
     "output_type": "stream",
     "text": [
      "NaN R-squared for subject_id 236. Check data quality and model configuration.\n"
     ]
    },
    {
     "name": "stderr",
     "output_type": "stream",
     "text": [
      "\n",
      "Processing Subject IDs:  15%|████████▋                                                | 76/502 [00:45<03:57,  1.79it/s]\u001b[A"
     ]
    },
    {
     "name": "stdout",
     "output_type": "stream",
     "text": [
      "NaN R-squared for subject_id 449. Check data quality and model configuration.\n"
     ]
    },
    {
     "name": "stderr",
     "output_type": "stream",
     "text": [
      "\n",
      "Processing Subject IDs:  15%|████████▋                                                | 77/502 [00:46<03:52,  1.83it/s]\u001b[A"
     ]
    },
    {
     "name": "stdout",
     "output_type": "stream",
     "text": [
      "NaN R-squared for subject_id 49. Check data quality and model configuration.\n"
     ]
    },
    {
     "name": "stderr",
     "output_type": "stream",
     "text": [
      "\n",
      "Processing Subject IDs:  16%|████████▊                                                | 78/502 [00:46<03:45,  1.88it/s]\u001b[A"
     ]
    },
    {
     "name": "stdout",
     "output_type": "stream",
     "text": [
      "NaN R-squared for subject_id 15. Check data quality and model configuration.\n"
     ]
    },
    {
     "name": "stderr",
     "output_type": "stream",
     "text": [
      "\n",
      "Processing Subject IDs:  16%|████████▉                                                | 79/502 [00:47<03:44,  1.88it/s]\u001b[A"
     ]
    },
    {
     "name": "stdout",
     "output_type": "stream",
     "text": [
      "NaN R-squared for subject_id 430. Check data quality and model configuration.\n"
     ]
    },
    {
     "name": "stderr",
     "output_type": "stream",
     "text": [
      "\n",
      "Processing Subject IDs:  16%|█████████                                                | 80/502 [00:47<03:51,  1.82it/s]\u001b[A"
     ]
    },
    {
     "name": "stdout",
     "output_type": "stream",
     "text": [
      "NaN R-squared for subject_id 150. Check data quality and model configuration.\n"
     ]
    },
    {
     "name": "stderr",
     "output_type": "stream",
     "text": [
      "\n",
      "Processing Subject IDs:  16%|█████████▏                                               | 81/502 [00:48<04:04,  1.72it/s]\u001b[A"
     ]
    },
    {
     "name": "stdout",
     "output_type": "stream",
     "text": [
      "NaN R-squared for subject_id 408. Check data quality and model configuration.\n"
     ]
    },
    {
     "name": "stderr",
     "output_type": "stream",
     "text": [
      "\n",
      "Processing Subject IDs:  16%|█████████▎                                               | 82/502 [00:49<04:23,  1.60it/s]\u001b[A"
     ]
    },
    {
     "name": "stdout",
     "output_type": "stream",
     "text": [
      "NaN R-squared for subject_id 353. Check data quality and model configuration.\n"
     ]
    },
    {
     "name": "stderr",
     "output_type": "stream",
     "text": [
      "\n",
      "Processing Subject IDs:  17%|█████████▍                                               | 83/502 [00:49<04:31,  1.54it/s]\u001b[A"
     ]
    },
    {
     "name": "stdout",
     "output_type": "stream",
     "text": [
      "NaN R-squared for subject_id 44. Check data quality and model configuration.\n"
     ]
    },
    {
     "name": "stderr",
     "output_type": "stream",
     "text": [
      "\n",
      "Processing Subject IDs:  17%|█████████▌                                               | 84/502 [00:50<04:52,  1.43it/s]\u001b[A"
     ]
    },
    {
     "name": "stdout",
     "output_type": "stream",
     "text": [
      "NaN R-squared for subject_id 279. Check data quality and model configuration.\n"
     ]
    },
    {
     "name": "stderr",
     "output_type": "stream",
     "text": [
      "\n",
      "Processing Subject IDs:  17%|█████████▋                                               | 85/502 [00:51<05:00,  1.39it/s]\u001b[A"
     ]
    },
    {
     "name": "stdout",
     "output_type": "stream",
     "text": [
      "NaN R-squared for subject_id 41. Check data quality and model configuration.\n"
     ]
    },
    {
     "name": "stderr",
     "output_type": "stream",
     "text": [
      "\n",
      "Processing Subject IDs:  17%|█████████▊                                               | 86/502 [00:52<05:15,  1.32it/s]\u001b[A"
     ]
    },
    {
     "name": "stdout",
     "output_type": "stream",
     "text": [
      "NaN R-squared for subject_id 289. Check data quality and model configuration.\n"
     ]
    },
    {
     "name": "stderr",
     "output_type": "stream",
     "text": [
      "\n",
      "Processing Subject IDs:  17%|█████████▉                                               | 87/502 [00:52<05:07,  1.35it/s]\u001b[A"
     ]
    },
    {
     "name": "stdout",
     "output_type": "stream",
     "text": [
      "NaN R-squared for subject_id 76. Check data quality and model configuration.\n"
     ]
    },
    {
     "name": "stderr",
     "output_type": "stream",
     "text": [
      "\n",
      "Processing Subject IDs:  18%|█████████▉                                               | 88/502 [00:53<05:03,  1.36it/s]\u001b[A"
     ]
    },
    {
     "name": "stdout",
     "output_type": "stream",
     "text": [
      "NaN R-squared for subject_id 63. Check data quality and model configuration.\n"
     ]
    },
    {
     "name": "stderr",
     "output_type": "stream",
     "text": [
      "\n",
      "Processing Subject IDs:  18%|██████████                                               | 89/502 [00:54<05:09,  1.33it/s]\u001b[A"
     ]
    },
    {
     "name": "stdout",
     "output_type": "stream",
     "text": [
      "NaN R-squared for subject_id 256. Check data quality and model configuration.\n"
     ]
    },
    {
     "name": "stderr",
     "output_type": "stream",
     "text": [
      "\n",
      "Processing Subject IDs:  18%|██████████▏                                              | 90/502 [00:54<04:54,  1.40it/s]\u001b[A"
     ]
    },
    {
     "name": "stdout",
     "output_type": "stream",
     "text": [
      "NaN R-squared for subject_id 130. Check data quality and model configuration.\n"
     ]
    },
    {
     "name": "stderr",
     "output_type": "stream",
     "text": [
      "\n",
      "Processing Subject IDs:  18%|██████████▎                                              | 91/502 [00:55<04:37,  1.48it/s]\u001b[A"
     ]
    },
    {
     "name": "stdout",
     "output_type": "stream",
     "text": [
      "NaN R-squared for subject_id 181. Check data quality and model configuration.\n"
     ]
    },
    {
     "name": "stderr",
     "output_type": "stream",
     "text": [
      "\n",
      "Processing Subject IDs:  18%|██████████▍                                              | 92/502 [00:56<04:21,  1.57it/s]\u001b[A"
     ]
    },
    {
     "name": "stdout",
     "output_type": "stream",
     "text": [
      "NaN R-squared for subject_id 292. Check data quality and model configuration.\n"
     ]
    },
    {
     "name": "stderr",
     "output_type": "stream",
     "text": [
      "\n",
      "Processing Subject IDs:  19%|██████████▌                                              | 93/502 [00:56<04:12,  1.62it/s]\u001b[A"
     ]
    },
    {
     "name": "stdout",
     "output_type": "stream",
     "text": [
      "NaN R-squared for subject_id 334. Check data quality and model configuration.\n"
     ]
    },
    {
     "name": "stderr",
     "output_type": "stream",
     "text": [
      "\n",
      "Processing Subject IDs:  19%|██████████▋                                              | 94/502 [00:57<04:00,  1.70it/s]\u001b[A"
     ]
    },
    {
     "name": "stdout",
     "output_type": "stream",
     "text": [
      "NaN R-squared for subject_id 120. Check data quality and model configuration.\n"
     ]
    },
    {
     "name": "stderr",
     "output_type": "stream",
     "text": [
      "\n",
      "Processing Subject IDs:  19%|██████████▊                                              | 95/502 [00:57<03:52,  1.75it/s]\u001b[A"
     ]
    },
    {
     "name": "stdout",
     "output_type": "stream",
     "text": [
      "NaN R-squared for subject_id 390. Check data quality and model configuration.\n"
     ]
    },
    {
     "name": "stderr",
     "output_type": "stream",
     "text": [
      "\n",
      "Processing Subject IDs:  19%|██████████▉                                              | 96/502 [00:58<03:53,  1.74it/s]\u001b[A"
     ]
    },
    {
     "name": "stdout",
     "output_type": "stream",
     "text": [
      "NaN R-squared for subject_id 375. Check data quality and model configuration.\n"
     ]
    },
    {
     "name": "stderr",
     "output_type": "stream",
     "text": [
      "\n",
      "Processing Subject IDs:  19%|███████████                                              | 97/502 [00:58<03:49,  1.76it/s]\u001b[A"
     ]
    },
    {
     "name": "stdout",
     "output_type": "stream",
     "text": [
      "NaN R-squared for subject_id 327. Check data quality and model configuration.\n"
     ]
    },
    {
     "name": "stderr",
     "output_type": "stream",
     "text": [
      "\n",
      "Processing Subject IDs:  20%|███████████▏                                             | 98/502 [00:59<03:44,  1.80it/s]\u001b[A"
     ]
    },
    {
     "name": "stdout",
     "output_type": "stream",
     "text": [
      "NaN R-squared for subject_id 225. Check data quality and model configuration.\n"
     ]
    },
    {
     "name": "stderr",
     "output_type": "stream",
     "text": [
      "\n",
      "Processing Subject IDs:  20%|███████████▏                                             | 99/502 [01:00<03:48,  1.77it/s]\u001b[A"
     ]
    },
    {
     "name": "stdout",
     "output_type": "stream",
     "text": [
      "NaN R-squared for subject_id 100. Check data quality and model configuration.\n"
     ]
    },
    {
     "name": "stderr",
     "output_type": "stream",
     "text": [
      "\n",
      "Processing Subject IDs:  20%|███████████▏                                            | 100/502 [01:01<05:11,  1.29it/s]\u001b[A"
     ]
    },
    {
     "name": "stdout",
     "output_type": "stream",
     "text": [
      "NaN R-squared for subject_id 321. Check data quality and model configuration.\n"
     ]
    },
    {
     "name": "stderr",
     "output_type": "stream",
     "text": [
      "\n",
      "Processing Subject IDs:  20%|███████████▎                                            | 101/502 [01:01<05:00,  1.34it/s]\u001b[A"
     ]
    },
    {
     "name": "stdout",
     "output_type": "stream",
     "text": [
      "NaN R-squared for subject_id 30. Check data quality and model configuration.\n"
     ]
    },
    {
     "name": "stderr",
     "output_type": "stream",
     "text": [
      "\n",
      "Processing Subject IDs:  20%|███████████▍                                            | 102/502 [01:02<05:15,  1.27it/s]\u001b[A"
     ]
    },
    {
     "name": "stdout",
     "output_type": "stream",
     "text": [
      "NaN R-squared for subject_id 299. Check data quality and model configuration.\n"
     ]
    },
    {
     "name": "stderr",
     "output_type": "stream",
     "text": [
      "\n",
      "Processing Subject IDs:  21%|███████████▍                                            | 103/502 [01:03<05:15,  1.27it/s]\u001b[A"
     ]
    },
    {
     "name": "stdout",
     "output_type": "stream",
     "text": [
      "NaN R-squared for subject_id 389. Check data quality and model configuration.\n"
     ]
    },
    {
     "name": "stderr",
     "output_type": "stream",
     "text": [
      "\n",
      "Processing Subject IDs:  21%|███████████▌                                            | 104/502 [01:04<05:08,  1.29it/s]\u001b[A"
     ]
    },
    {
     "name": "stdout",
     "output_type": "stream",
     "text": [
      "NaN R-squared for subject_id 56. Check data quality and model configuration.\n"
     ]
    },
    {
     "name": "stderr",
     "output_type": "stream",
     "text": [
      "\n",
      "Processing Subject IDs:  21%|███████████▋                                            | 105/502 [01:05<05:03,  1.31it/s]\u001b[A"
     ]
    },
    {
     "name": "stdout",
     "output_type": "stream",
     "text": [
      "NaN R-squared for subject_id 333. Check data quality and model configuration.\n"
     ]
    },
    {
     "name": "stderr",
     "output_type": "stream",
     "text": [
      "\n",
      "Processing Subject IDs:  21%|███████████▊                                            | 106/502 [01:05<04:39,  1.42it/s]\u001b[A"
     ]
    },
    {
     "name": "stdout",
     "output_type": "stream",
     "text": [
      "NaN R-squared for subject_id 4. Check data quality and model configuration.\n"
     ]
    },
    {
     "name": "stderr",
     "output_type": "stream",
     "text": [
      "\n",
      "Processing Subject IDs:  21%|███████████▉                                            | 107/502 [01:06<04:18,  1.53it/s]\u001b[A"
     ]
    },
    {
     "name": "stdout",
     "output_type": "stream",
     "text": [
      "NaN R-squared for subject_id 62. Check data quality and model configuration.\n"
     ]
    },
    {
     "name": "stderr",
     "output_type": "stream",
     "text": [
      "\n",
      "Processing Subject IDs:  22%|████████████                                            | 108/502 [01:06<04:23,  1.49it/s]\u001b[A"
     ]
    },
    {
     "name": "stdout",
     "output_type": "stream",
     "text": [
      "NaN R-squared for subject_id 199. Check data quality and model configuration.\n"
     ]
    },
    {
     "name": "stderr",
     "output_type": "stream",
     "text": [
      "\n",
      "Processing Subject IDs:  22%|████████████▏                                           | 109/502 [01:07<04:31,  1.45it/s]\u001b[A"
     ]
    },
    {
     "name": "stdout",
     "output_type": "stream",
     "text": [
      "NaN R-squared for subject_id 452. Check data quality and model configuration.\n"
     ]
    },
    {
     "name": "stderr",
     "output_type": "stream",
     "text": [
      "\n",
      "Processing Subject IDs:  22%|████████████▎                                           | 110/502 [01:08<04:29,  1.45it/s]\u001b[A"
     ]
    },
    {
     "name": "stdout",
     "output_type": "stream",
     "text": [
      "NaN R-squared for subject_id 118. Check data quality and model configuration.\n"
     ]
    },
    {
     "name": "stderr",
     "output_type": "stream",
     "text": [
      "\n",
      "Processing Subject IDs:  22%|████████████▍                                           | 111/502 [01:08<04:23,  1.49it/s]\u001b[A"
     ]
    },
    {
     "name": "stdout",
     "output_type": "stream",
     "text": [
      "NaN R-squared for subject_id 153. Check data quality and model configuration.\n"
     ]
    },
    {
     "name": "stderr",
     "output_type": "stream",
     "text": [
      "\n",
      "Processing Subject IDs:  22%|████████████▍                                           | 112/502 [01:09<04:07,  1.57it/s]\u001b[A"
     ]
    },
    {
     "name": "stdout",
     "output_type": "stream",
     "text": [
      "NaN R-squared for subject_id 22. Check data quality and model configuration.\n"
     ]
    },
    {
     "name": "stderr",
     "output_type": "stream",
     "text": [
      "\n",
      "Processing Subject IDs:  23%|████████████▌                                           | 113/502 [01:10<03:58,  1.63it/s]\u001b[A"
     ]
    },
    {
     "name": "stdout",
     "output_type": "stream",
     "text": [
      "NaN R-squared for subject_id 116. Check data quality and model configuration.\n"
     ]
    },
    {
     "name": "stderr",
     "output_type": "stream",
     "text": [
      "\n",
      "Processing Subject IDs:  23%|████████████▋                                           | 114/502 [01:10<03:46,  1.71it/s]\u001b[A"
     ]
    },
    {
     "name": "stdout",
     "output_type": "stream",
     "text": [
      "NaN R-squared for subject_id 105. Check data quality and model configuration.\n"
     ]
    },
    {
     "name": "stderr",
     "output_type": "stream",
     "text": [
      "\n",
      "Processing Subject IDs:  23%|████████████▊                                           | 115/502 [01:11<03:35,  1.80it/s]\u001b[A"
     ]
    },
    {
     "name": "stdout",
     "output_type": "stream",
     "text": [
      "NaN R-squared for subject_id 121. Check data quality and model configuration.\n"
     ]
    },
    {
     "name": "stderr",
     "output_type": "stream",
     "text": [
      "\n",
      "Processing Subject IDs:  23%|████████████▉                                           | 116/502 [01:11<03:37,  1.77it/s]\u001b[A"
     ]
    },
    {
     "name": "stdout",
     "output_type": "stream",
     "text": [
      "NaN R-squared for subject_id 471. Check data quality and model configuration.\n"
     ]
    },
    {
     "name": "stderr",
     "output_type": "stream",
     "text": [
      "\n",
      "Processing Subject IDs:  23%|█████████████                                           | 117/502 [01:12<03:58,  1.61it/s]\u001b[A"
     ]
    },
    {
     "name": "stdout",
     "output_type": "stream",
     "text": [
      "NaN R-squared for subject_id 244. Check data quality and model configuration.\n"
     ]
    },
    {
     "name": "stderr",
     "output_type": "stream",
     "text": [
      "\n",
      "Processing Subject IDs:  24%|█████████████▏                                          | 118/502 [01:13<04:13,  1.51it/s]\u001b[A"
     ]
    },
    {
     "name": "stdout",
     "output_type": "stream",
     "text": [
      "NaN R-squared for subject_id 200. Check data quality and model configuration.\n"
     ]
    },
    {
     "name": "stderr",
     "output_type": "stream",
     "text": [
      "\n",
      "Processing Subject IDs:  24%|█████████████▎                                          | 119/502 [01:13<04:20,  1.47it/s]\u001b[A"
     ]
    },
    {
     "name": "stdout",
     "output_type": "stream",
     "text": [
      "NaN R-squared for subject_id 137. Check data quality and model configuration.\n"
     ]
    },
    {
     "name": "stderr",
     "output_type": "stream",
     "text": [
      "\n",
      "Processing Subject IDs:  24%|█████████████▍                                          | 120/502 [01:14<04:30,  1.41it/s]\u001b[A"
     ]
    },
    {
     "name": "stdout",
     "output_type": "stream",
     "text": [
      "NaN R-squared for subject_id 114. Check data quality and model configuration.\n"
     ]
    },
    {
     "name": "stderr",
     "output_type": "stream",
     "text": [
      "\n",
      "Processing Subject IDs:  24%|█████████████▍                                          | 121/502 [01:15<04:40,  1.36it/s]\u001b[A"
     ]
    },
    {
     "name": "stdout",
     "output_type": "stream",
     "text": [
      "NaN R-squared for subject_id 227. Check data quality and model configuration.\n"
     ]
    },
    {
     "name": "stderr",
     "output_type": "stream",
     "text": [
      "\n",
      "Processing Subject IDs:  24%|█████████████▌                                          | 122/502 [01:16<04:39,  1.36it/s]\u001b[A"
     ]
    },
    {
     "name": "stdout",
     "output_type": "stream",
     "text": [
      "NaN R-squared for subject_id 3. Check data quality and model configuration.\n"
     ]
    },
    {
     "name": "stderr",
     "output_type": "stream",
     "text": [
      "\n",
      "Processing Subject IDs:  25%|█████████████▋                                          | 123/502 [01:16<04:30,  1.40it/s]\u001b[A"
     ]
    },
    {
     "name": "stdout",
     "output_type": "stream",
     "text": [
      "NaN R-squared for subject_id 210. Check data quality and model configuration.\n"
     ]
    },
    {
     "name": "stderr",
     "output_type": "stream",
     "text": [
      "\n",
      "Processing Subject IDs:  25%|█████████████▊                                          | 124/502 [01:17<04:22,  1.44it/s]\u001b[A"
     ]
    },
    {
     "name": "stdout",
     "output_type": "stream",
     "text": [
      "NaN R-squared for subject_id 53. Check data quality and model configuration.\n"
     ]
    },
    {
     "name": "stderr",
     "output_type": "stream",
     "text": [
      "\n",
      "Processing Subject IDs:  25%|█████████████▉                                          | 125/502 [01:18<04:08,  1.52it/s]\u001b[A"
     ]
    },
    {
     "name": "stdout",
     "output_type": "stream",
     "text": [
      "NaN R-squared for subject_id 161. Check data quality and model configuration.\n"
     ]
    },
    {
     "name": "stderr",
     "output_type": "stream",
     "text": [
      "\n",
      "Processing Subject IDs:  25%|██████████████                                          | 126/502 [01:18<04:05,  1.53it/s]\u001b[A"
     ]
    },
    {
     "name": "stdout",
     "output_type": "stream",
     "text": [
      "NaN R-squared for subject_id 286. Check data quality and model configuration.\n"
     ]
    },
    {
     "name": "stderr",
     "output_type": "stream",
     "text": [
      "\n",
      "Processing Subject IDs:  25%|██████████████▏                                         | 127/502 [01:19<04:13,  1.48it/s]\u001b[A"
     ]
    },
    {
     "name": "stdout",
     "output_type": "stream",
     "text": [
      "NaN R-squared for subject_id 296. Check data quality and model configuration.\n"
     ]
    },
    {
     "name": "stderr",
     "output_type": "stream",
     "text": [
      "\n",
      "Processing Subject IDs:  25%|██████████████▎                                         | 128/502 [01:20<04:29,  1.39it/s]\u001b[A"
     ]
    },
    {
     "name": "stdout",
     "output_type": "stream",
     "text": [
      "NaN R-squared for subject_id 400. Check data quality and model configuration.\n"
     ]
    },
    {
     "name": "stderr",
     "output_type": "stream",
     "text": [
      "\n",
      "Processing Subject IDs:  26%|██████████████▍                                         | 129/502 [01:21<04:35,  1.35it/s]\u001b[A"
     ]
    },
    {
     "name": "stdout",
     "output_type": "stream",
     "text": [
      "NaN R-squared for subject_id 460. Check data quality and model configuration.\n"
     ]
    },
    {
     "name": "stderr",
     "output_type": "stream",
     "text": [
      "\n",
      "Processing Subject IDs:  26%|██████████████▌                                         | 130/502 [01:21<04:35,  1.35it/s]\u001b[A"
     ]
    },
    {
     "name": "stdout",
     "output_type": "stream",
     "text": [
      "NaN R-squared for subject_id 72. Check data quality and model configuration.\n"
     ]
    },
    {
     "name": "stderr",
     "output_type": "stream",
     "text": [
      "\n",
      "Processing Subject IDs:  26%|██████████████▌                                         | 131/502 [01:22<04:23,  1.41it/s]\u001b[A"
     ]
    },
    {
     "name": "stdout",
     "output_type": "stream",
     "text": [
      "NaN R-squared for subject_id 373. Check data quality and model configuration.\n"
     ]
    },
    {
     "name": "stderr",
     "output_type": "stream",
     "text": [
      "\n",
      "Processing Subject IDs:  26%|██████████████▋                                         | 132/502 [01:23<04:08,  1.49it/s]\u001b[A"
     ]
    },
    {
     "name": "stdout",
     "output_type": "stream",
     "text": [
      "NaN R-squared for subject_id 133. Check data quality and model configuration.\n"
     ]
    },
    {
     "name": "stderr",
     "output_type": "stream",
     "text": [
      "\n",
      "Processing Subject IDs:  26%|██████████████▊                                         | 133/502 [01:23<04:15,  1.44it/s]\u001b[A"
     ]
    },
    {
     "name": "stdout",
     "output_type": "stream",
     "text": [
      "NaN R-squared for subject_id 304. Check data quality and model configuration.\n"
     ]
    },
    {
     "name": "stderr",
     "output_type": "stream",
     "text": [
      "\n",
      "Processing Subject IDs:  27%|██████████████▉                                         | 134/502 [01:24<04:10,  1.47it/s]\u001b[A"
     ]
    },
    {
     "name": "stdout",
     "output_type": "stream",
     "text": [
      "NaN R-squared for subject_id 384. Check data quality and model configuration.\n"
     ]
    },
    {
     "name": "stderr",
     "output_type": "stream",
     "text": [
      "\n",
      "Processing Subject IDs:  27%|███████████████                                         | 135/502 [01:25<04:14,  1.44it/s]\u001b[A"
     ]
    },
    {
     "name": "stdout",
     "output_type": "stream",
     "text": [
      "NaN R-squared for subject_id 280. Check data quality and model configuration.\n"
     ]
    },
    {
     "name": "stderr",
     "output_type": "stream",
     "text": [
      "\n",
      "Processing Subject IDs:  27%|███████████████▏                                        | 136/502 [01:25<04:06,  1.48it/s]\u001b[A"
     ]
    },
    {
     "name": "stdout",
     "output_type": "stream",
     "text": [
      "NaN R-squared for subject_id 71. Check data quality and model configuration.\n"
     ]
    },
    {
     "name": "stderr",
     "output_type": "stream",
     "text": [
      "\n",
      "Processing Subject IDs:  27%|███████████████▎                                        | 137/502 [01:26<03:50,  1.58it/s]\u001b[A"
     ]
    },
    {
     "name": "stdout",
     "output_type": "stream",
     "text": [
      "NaN R-squared for subject_id 19. Check data quality and model configuration.\n"
     ]
    },
    {
     "name": "stderr",
     "output_type": "stream",
     "text": [
      "\n",
      "Processing Subject IDs:  27%|███████████████▍                                        | 138/502 [01:27<03:59,  1.52it/s]\u001b[A"
     ]
    },
    {
     "name": "stdout",
     "output_type": "stream",
     "text": [
      "NaN R-squared for subject_id 331. Check data quality and model configuration.\n"
     ]
    },
    {
     "name": "stderr",
     "output_type": "stream",
     "text": [
      "\n",
      "Processing Subject IDs:  28%|███████████████▌                                        | 139/502 [01:27<03:55,  1.54it/s]\u001b[A"
     ]
    },
    {
     "name": "stdout",
     "output_type": "stream",
     "text": [
      "NaN R-squared for subject_id 232. Check data quality and model configuration.\n"
     ]
    },
    {
     "name": "stderr",
     "output_type": "stream",
     "text": [
      "\n",
      "Processing Subject IDs:  28%|███████████████▌                                        | 140/502 [01:28<03:50,  1.57it/s]\u001b[A"
     ]
    },
    {
     "name": "stdout",
     "output_type": "stream",
     "text": [
      "NaN R-squared for subject_id 198. Check data quality and model configuration.\n"
     ]
    },
    {
     "name": "stderr",
     "output_type": "stream",
     "text": [
      "\n",
      "Processing Subject IDs:  28%|███████████████▋                                        | 141/502 [01:28<03:45,  1.60it/s]\u001b[A"
     ]
    },
    {
     "name": "stdout",
     "output_type": "stream",
     "text": [
      "NaN R-squared for subject_id 173. Check data quality and model configuration.\n"
     ]
    },
    {
     "name": "stderr",
     "output_type": "stream",
     "text": [
      "\n",
      "Processing Subject IDs:  28%|███████████████▊                                        | 142/502 [01:29<03:54,  1.54it/s]\u001b[A"
     ]
    },
    {
     "name": "stdout",
     "output_type": "stream",
     "text": [
      "NaN R-squared for subject_id 351. Check data quality and model configuration.\n"
     ]
    },
    {
     "name": "stderr",
     "output_type": "stream",
     "text": [
      "\n",
      "Processing Subject IDs:  28%|███████████████▉                                        | 143/502 [01:30<04:03,  1.47it/s]\u001b[A"
     ]
    },
    {
     "name": "stdout",
     "output_type": "stream",
     "text": [
      "NaN R-squared for subject_id 392. Check data quality and model configuration.\n"
     ]
    },
    {
     "name": "stderr",
     "output_type": "stream",
     "text": [
      "\n",
      "Processing Subject IDs:  29%|████████████████                                        | 144/502 [01:31<04:17,  1.39it/s]\u001b[A"
     ]
    },
    {
     "name": "stdout",
     "output_type": "stream",
     "text": [
      "NaN R-squared for subject_id 23. Check data quality and model configuration.\n"
     ]
    },
    {
     "name": "stderr",
     "output_type": "stream",
     "text": [
      "\n",
      "Processing Subject IDs:  29%|████████████████▏                                       | 145/502 [01:31<04:22,  1.36it/s]\u001b[A"
     ]
    },
    {
     "name": "stdout",
     "output_type": "stream",
     "text": [
      "NaN R-squared for subject_id 158. Check data quality and model configuration.\n"
     ]
    },
    {
     "name": "stderr",
     "output_type": "stream",
     "text": [
      "\n",
      "Processing Subject IDs:  29%|████████████████▎                                       | 146/502 [01:32<04:31,  1.31it/s]\u001b[A"
     ]
    },
    {
     "name": "stdout",
     "output_type": "stream",
     "text": [
      "NaN R-squared for subject_id 206. Check data quality and model configuration.\n"
     ]
    },
    {
     "name": "stderr",
     "output_type": "stream",
     "text": [
      "\n",
      "Processing Subject IDs:  29%|████████████████▍                                       | 147/502 [01:33<04:26,  1.33it/s]\u001b[A"
     ]
    },
    {
     "name": "stdout",
     "output_type": "stream",
     "text": [
      "NaN R-squared for subject_id 95. Check data quality and model configuration.\n"
     ]
    },
    {
     "name": "stderr",
     "output_type": "stream",
     "text": [
      "\n",
      "Processing Subject IDs:  29%|████████████████▌                                       | 148/502 [01:34<04:11,  1.41it/s]\u001b[A"
     ]
    },
    {
     "name": "stdout",
     "output_type": "stream",
     "text": [
      "NaN R-squared for subject_id 383. Check data quality and model configuration.\n"
     ]
    },
    {
     "name": "stderr",
     "output_type": "stream",
     "text": [
      "\n",
      "Processing Subject IDs:  30%|████████████████▌                                       | 149/502 [01:34<04:07,  1.43it/s]\u001b[A"
     ]
    },
    {
     "name": "stdout",
     "output_type": "stream",
     "text": [
      "NaN R-squared for subject_id 163. Check data quality and model configuration.\n"
     ]
    },
    {
     "name": "stderr",
     "output_type": "stream",
     "text": [
      "\n",
      "Processing Subject IDs:  30%|████████████████▋                                       | 150/502 [01:35<04:08,  1.42it/s]\u001b[A"
     ]
    },
    {
     "name": "stdout",
     "output_type": "stream",
     "text": [
      "NaN R-squared for subject_id 365. Check data quality and model configuration.\n"
     ]
    },
    {
     "name": "stderr",
     "output_type": "stream",
     "text": [
      "\n",
      "Processing Subject IDs:  30%|████████████████▊                                       | 151/502 [01:36<04:05,  1.43it/s]\u001b[A"
     ]
    },
    {
     "name": "stdout",
     "output_type": "stream",
     "text": [
      "NaN R-squared for subject_id 149. Check data quality and model configuration.\n"
     ]
    },
    {
     "name": "stderr",
     "output_type": "stream",
     "text": [
      "\n",
      "Processing Subject IDs:  30%|████████████████▉                                       | 152/502 [01:36<04:04,  1.43it/s]\u001b[A"
     ]
    },
    {
     "name": "stdout",
     "output_type": "stream",
     "text": [
      "NaN R-squared for subject_id 324. Check data quality and model configuration.\n"
     ]
    },
    {
     "name": "stderr",
     "output_type": "stream",
     "text": [
      "\n",
      "Processing Subject IDs:  30%|█████████████████                                       | 153/502 [01:37<04:07,  1.41it/s]\u001b[A"
     ]
    },
    {
     "name": "stdout",
     "output_type": "stream",
     "text": [
      "NaN R-squared for subject_id 140. Check data quality and model configuration.\n"
     ]
    },
    {
     "name": "stderr",
     "output_type": "stream",
     "text": [
      "\n",
      "Processing Subject IDs:  31%|█████████████████▏                                      | 154/502 [01:38<04:03,  1.43it/s]\u001b[A"
     ]
    },
    {
     "name": "stdout",
     "output_type": "stream",
     "text": [
      "NaN R-squared for subject_id 228. Check data quality and model configuration.\n"
     ]
    },
    {
     "name": "stderr",
     "output_type": "stream",
     "text": [
      "\n",
      "Processing Subject IDs:  31%|█████████████████▎                                      | 155/502 [01:38<03:56,  1.47it/s]\u001b[A"
     ]
    },
    {
     "name": "stdout",
     "output_type": "stream",
     "text": [
      "NaN R-squared for subject_id 10. Check data quality and model configuration.\n"
     ]
    },
    {
     "name": "stderr",
     "output_type": "stream",
     "text": [
      "\n",
      "Processing Subject IDs:  31%|█████████████████▍                                      | 156/502 [01:39<03:48,  1.52it/s]\u001b[A"
     ]
    },
    {
     "name": "stdout",
     "output_type": "stream",
     "text": [
      "NaN R-squared for subject_id 305. Check data quality and model configuration.\n"
     ]
    },
    {
     "name": "stderr",
     "output_type": "stream",
     "text": [
      "\n",
      "Processing Subject IDs:  31%|█████████████████▌                                      | 157/502 [01:40<03:33,  1.62it/s]\u001b[A"
     ]
    },
    {
     "name": "stdout",
     "output_type": "stream",
     "text": [
      "NaN R-squared for subject_id 310. Check data quality and model configuration.\n"
     ]
    },
    {
     "name": "stderr",
     "output_type": "stream",
     "text": [
      "\n",
      "Processing Subject IDs:  31%|█████████████████▋                                      | 158/502 [01:40<03:25,  1.68it/s]\u001b[A"
     ]
    },
    {
     "name": "stdout",
     "output_type": "stream",
     "text": [
      "NaN R-squared for subject_id 75. Check data quality and model configuration.\n"
     ]
    },
    {
     "name": "stderr",
     "output_type": "stream",
     "text": [
      "\n",
      "Processing Subject IDs:  32%|█████████████████▋                                      | 159/502 [01:41<03:12,  1.78it/s]\u001b[A"
     ]
    },
    {
     "name": "stdout",
     "output_type": "stream",
     "text": [
      "NaN R-squared for subject_id 339. Check data quality and model configuration.\n"
     ]
    },
    {
     "name": "stderr",
     "output_type": "stream",
     "text": [
      "\n",
      "Processing Subject IDs:  32%|█████████████████▊                                      | 160/502 [01:41<03:00,  1.89it/s]\u001b[A"
     ]
    },
    {
     "name": "stdout",
     "output_type": "stream",
     "text": [
      "NaN R-squared for subject_id 374. Check data quality and model configuration.\n"
     ]
    },
    {
     "name": "stderr",
     "output_type": "stream",
     "text": [
      "\n",
      "Processing Subject IDs:  32%|█████████████████▉                                      | 161/502 [01:41<02:53,  1.96it/s]\u001b[A"
     ]
    },
    {
     "name": "stdout",
     "output_type": "stream",
     "text": [
      "NaN R-squared for subject_id 402. Check data quality and model configuration.\n"
     ]
    },
    {
     "name": "stderr",
     "output_type": "stream",
     "text": [
      "\n",
      "Processing Subject IDs:  32%|██████████████████                                      | 162/502 [01:42<02:49,  2.01it/s]\u001b[A"
     ]
    },
    {
     "name": "stdout",
     "output_type": "stream",
     "text": [
      "NaN R-squared for subject_id 84. Check data quality and model configuration.\n"
     ]
    },
    {
     "name": "stderr",
     "output_type": "stream",
     "text": [
      "\n",
      "Processing Subject IDs:  32%|██████████████████▏                                     | 163/502 [01:42<02:50,  1.99it/s]\u001b[A"
     ]
    },
    {
     "name": "stdout",
     "output_type": "stream",
     "text": [
      "NaN R-squared for subject_id 24. Check data quality and model configuration.\n"
     ]
    },
    {
     "name": "stderr",
     "output_type": "stream",
     "text": [
      "\n",
      "Processing Subject IDs:  33%|██████████████████▎                                     | 164/502 [01:43<02:53,  1.94it/s]\u001b[A"
     ]
    },
    {
     "name": "stdout",
     "output_type": "stream",
     "text": [
      "NaN R-squared for subject_id 355. Check data quality and model configuration.\n"
     ]
    },
    {
     "name": "stderr",
     "output_type": "stream",
     "text": [
      "\n",
      "Processing Subject IDs:  33%|██████████████████▍                                     | 165/502 [01:44<02:55,  1.93it/s]\u001b[A"
     ]
    },
    {
     "name": "stdout",
     "output_type": "stream",
     "text": [
      "NaN R-squared for subject_id 394. Check data quality and model configuration.\n"
     ]
    },
    {
     "name": "stderr",
     "output_type": "stream",
     "text": [
      "\n",
      "Processing Subject IDs:  33%|██████████████████▌                                     | 166/502 [01:44<03:03,  1.83it/s]\u001b[A"
     ]
    },
    {
     "name": "stdout",
     "output_type": "stream",
     "text": [
      "NaN R-squared for subject_id 162. Check data quality and model configuration.\n"
     ]
    },
    {
     "name": "stderr",
     "output_type": "stream",
     "text": [
      "\n",
      "Processing Subject IDs:  33%|██████████████████▋                                     | 167/502 [01:45<03:05,  1.81it/s]\u001b[A"
     ]
    },
    {
     "name": "stdout",
     "output_type": "stream",
     "text": [
      "NaN R-squared for subject_id 473. Check data quality and model configuration.\n"
     ]
    },
    {
     "name": "stderr",
     "output_type": "stream",
     "text": [
      "\n",
      "Processing Subject IDs:  33%|██████████████████▋                                     | 168/502 [01:45<03:11,  1.74it/s]\u001b[A"
     ]
    },
    {
     "name": "stdout",
     "output_type": "stream",
     "text": [
      "NaN R-squared for subject_id 223. Check data quality and model configuration.\n"
     ]
    },
    {
     "name": "stderr",
     "output_type": "stream",
     "text": [
      "\n",
      "Processing Subject IDs:  34%|██████████████████▊                                     | 169/502 [01:46<03:14,  1.71it/s]\u001b[A"
     ]
    },
    {
     "name": "stdout",
     "output_type": "stream",
     "text": [
      "NaN R-squared for subject_id 263. Check data quality and model configuration.\n"
     ]
    },
    {
     "name": "stderr",
     "output_type": "stream",
     "text": [
      "\n",
      "Processing Subject IDs:  34%|██████████████████▉                                     | 170/502 [01:47<03:26,  1.61it/s]\u001b[A"
     ]
    },
    {
     "name": "stdout",
     "output_type": "stream",
     "text": [
      "NaN R-squared for subject_id 182. Check data quality and model configuration.\n"
     ]
    },
    {
     "name": "stderr",
     "output_type": "stream",
     "text": [
      "\n",
      "Processing Subject IDs:  34%|███████████████████                                     | 171/502 [01:47<03:23,  1.63it/s]\u001b[A"
     ]
    },
    {
     "name": "stdout",
     "output_type": "stream",
     "text": [
      "NaN R-squared for subject_id 184. Check data quality and model configuration.\n"
     ]
    },
    {
     "name": "stderr",
     "output_type": "stream",
     "text": [
      "\n",
      "Processing Subject IDs:  34%|███████████████████▏                                    | 172/502 [01:48<03:25,  1.61it/s]\u001b[A"
     ]
    },
    {
     "name": "stdout",
     "output_type": "stream",
     "text": [
      "NaN R-squared for subject_id 435. Check data quality and model configuration.\n"
     ]
    },
    {
     "name": "stderr",
     "output_type": "stream",
     "text": [
      "\n",
      "Processing Subject IDs:  34%|███████████████████▎                                    | 173/502 [01:48<03:19,  1.65it/s]\u001b[A"
     ]
    },
    {
     "name": "stdout",
     "output_type": "stream",
     "text": [
      "NaN R-squared for subject_id 204. Check data quality and model configuration.\n"
     ]
    },
    {
     "name": "stderr",
     "output_type": "stream",
     "text": [
      "\n",
      "Processing Subject IDs:  35%|███████████████████▍                                    | 174/502 [01:49<03:16,  1.67it/s]\u001b[A"
     ]
    },
    {
     "name": "stdout",
     "output_type": "stream",
     "text": [
      "NaN R-squared for subject_id 194. Check data quality and model configuration.\n"
     ]
    },
    {
     "name": "stderr",
     "output_type": "stream",
     "text": [
      "\n",
      "Processing Subject IDs:  35%|███████████████████▌                                    | 175/502 [01:50<03:21,  1.62it/s]\u001b[A"
     ]
    },
    {
     "name": "stdout",
     "output_type": "stream",
     "text": [
      "NaN R-squared for subject_id 455. Check data quality and model configuration.\n"
     ]
    },
    {
     "name": "stderr",
     "output_type": "stream",
     "text": [
      "\n",
      "Processing Subject IDs:  35%|███████████████████▋                                    | 176/502 [01:50<03:26,  1.58it/s]\u001b[A"
     ]
    },
    {
     "name": "stdout",
     "output_type": "stream",
     "text": [
      "NaN R-squared for subject_id 213. Check data quality and model configuration.\n"
     ]
    },
    {
     "name": "stderr",
     "output_type": "stream",
     "text": [
      "\n",
      "Processing Subject IDs:  35%|███████████████████▋                                    | 177/502 [01:51<03:37,  1.50it/s]\u001b[A"
     ]
    },
    {
     "name": "stdout",
     "output_type": "stream",
     "text": [
      "NaN R-squared for subject_id 220. Check data quality and model configuration.\n"
     ]
    },
    {
     "name": "stderr",
     "output_type": "stream",
     "text": [
      "\n",
      "Processing Subject IDs:  35%|███████████████████▊                                    | 178/502 [01:52<03:31,  1.53it/s]\u001b[A"
     ]
    },
    {
     "name": "stdout",
     "output_type": "stream",
     "text": [
      "NaN R-squared for subject_id 61. Check data quality and model configuration.\n"
     ]
    },
    {
     "name": "stderr",
     "output_type": "stream",
     "text": [
      "\n",
      "Processing Subject IDs:  36%|███████████████████▉                                    | 179/502 [01:52<03:26,  1.56it/s]\u001b[A"
     ]
    },
    {
     "name": "stdout",
     "output_type": "stream",
     "text": [
      "NaN R-squared for subject_id 340. Check data quality and model configuration.\n"
     ]
    },
    {
     "name": "stderr",
     "output_type": "stream",
     "text": [
      "\n",
      "Processing Subject IDs:  36%|████████████████████                                    | 180/502 [01:53<03:16,  1.64it/s]\u001b[A"
     ]
    },
    {
     "name": "stdout",
     "output_type": "stream",
     "text": [
      "NaN R-squared for subject_id 309. Check data quality and model configuration.\n"
     ]
    },
    {
     "name": "stderr",
     "output_type": "stream",
     "text": [
      "\n",
      "Processing Subject IDs:  36%|████████████████████▏                                   | 181/502 [01:53<03:09,  1.70it/s]\u001b[A"
     ]
    },
    {
     "name": "stdout",
     "output_type": "stream",
     "text": [
      "NaN R-squared for subject_id 51. Check data quality and model configuration.\n"
     ]
    },
    {
     "name": "stderr",
     "output_type": "stream",
     "text": [
      "\n",
      "Processing Subject IDs:  36%|████████████████████▎                                   | 182/502 [01:54<02:57,  1.81it/s]\u001b[A"
     ]
    },
    {
     "name": "stdout",
     "output_type": "stream",
     "text": [
      "NaN R-squared for subject_id 152. Check data quality and model configuration.\n"
     ]
    },
    {
     "name": "stderr",
     "output_type": "stream",
     "text": [
      "\n",
      "Processing Subject IDs:  36%|████████████████████▍                                   | 183/502 [01:54<02:54,  1.83it/s]\u001b[A"
     ]
    },
    {
     "name": "stdout",
     "output_type": "stream",
     "text": [
      "NaN R-squared for subject_id 396. Check data quality and model configuration.\n"
     ]
    },
    {
     "name": "stderr",
     "output_type": "stream",
     "text": [
      "\n",
      "Processing Subject IDs:  37%|████████████████████▌                                   | 184/502 [01:55<03:08,  1.69it/s]\u001b[A"
     ]
    },
    {
     "name": "stdout",
     "output_type": "stream",
     "text": [
      "NaN R-squared for subject_id 134. Check data quality and model configuration.\n"
     ]
    },
    {
     "name": "stderr",
     "output_type": "stream",
     "text": [
      "\n",
      "Processing Subject IDs:  37%|████████████████████▋                                   | 185/502 [01:56<03:08,  1.68it/s]\u001b[A"
     ]
    },
    {
     "name": "stdout",
     "output_type": "stream",
     "text": [
      "NaN R-squared for subject_id 352. Check data quality and model configuration.\n"
     ]
    },
    {
     "name": "stderr",
     "output_type": "stream",
     "text": [
      "\n",
      "Processing Subject IDs:  37%|████████████████████▋                                   | 186/502 [01:56<03:17,  1.60it/s]\u001b[A"
     ]
    },
    {
     "name": "stdout",
     "output_type": "stream",
     "text": [
      "NaN R-squared for subject_id 399. Check data quality and model configuration.\n"
     ]
    },
    {
     "name": "stderr",
     "output_type": "stream",
     "text": [
      "\n",
      "Processing Subject IDs:  37%|████████████████████▊                                   | 187/502 [01:57<03:21,  1.57it/s]\u001b[A"
     ]
    },
    {
     "name": "stdout",
     "output_type": "stream",
     "text": [
      "NaN R-squared for subject_id 281. Check data quality and model configuration.\n"
     ]
    },
    {
     "name": "stderr",
     "output_type": "stream",
     "text": [
      "\n",
      "Processing Subject IDs:  37%|████████████████████▉                                   | 188/502 [01:58<03:18,  1.58it/s]\u001b[A"
     ]
    },
    {
     "name": "stdout",
     "output_type": "stream",
     "text": [
      "NaN R-squared for subject_id 426. Check data quality and model configuration.\n"
     ]
    },
    {
     "name": "stderr",
     "output_type": "stream",
     "text": [
      "\n",
      "Processing Subject IDs:  38%|█████████████████████                                   | 189/502 [01:58<03:11,  1.63it/s]\u001b[A"
     ]
    },
    {
     "name": "stdout",
     "output_type": "stream",
     "text": [
      "NaN R-squared for subject_id 477. Check data quality and model configuration.\n"
     ]
    },
    {
     "name": "stderr",
     "output_type": "stream",
     "text": [
      "\n",
      "Processing Subject IDs:  38%|█████████████████████▏                                  | 190/502 [01:59<03:17,  1.58it/s]\u001b[A"
     ]
    },
    {
     "name": "stdout",
     "output_type": "stream",
     "text": [
      "NaN R-squared for subject_id 457. Check data quality and model configuration.\n"
     ]
    },
    {
     "name": "stderr",
     "output_type": "stream",
     "text": [
      "\n",
      "Processing Subject IDs:  38%|█████████████████████▎                                  | 191/502 [02:00<03:27,  1.50it/s]\u001b[A"
     ]
    },
    {
     "name": "stdout",
     "output_type": "stream",
     "text": [
      "NaN R-squared for subject_id 193. Check data quality and model configuration.\n"
     ]
    },
    {
     "name": "stderr",
     "output_type": "stream",
     "text": [
      "\n",
      "Processing Subject IDs:  38%|█████████████████████▍                                  | 192/502 [02:00<03:32,  1.46it/s]\u001b[A"
     ]
    },
    {
     "name": "stdout",
     "output_type": "stream",
     "text": [
      "NaN R-squared for subject_id 138. Check data quality and model configuration.\n"
     ]
    },
    {
     "name": "stderr",
     "output_type": "stream",
     "text": [
      "\n",
      "Processing Subject IDs:  38%|█████████████████████▌                                  | 193/502 [02:01<03:24,  1.51it/s]\u001b[A"
     ]
    },
    {
     "name": "stdout",
     "output_type": "stream",
     "text": [
      "NaN R-squared for subject_id 469. Check data quality and model configuration.\n"
     ]
    },
    {
     "name": "stderr",
     "output_type": "stream",
     "text": [
      "\n",
      "Processing Subject IDs:  39%|█████████████████████▋                                  | 194/502 [02:02<03:21,  1.53it/s]\u001b[A"
     ]
    },
    {
     "name": "stdout",
     "output_type": "stream",
     "text": [
      "NaN R-squared for subject_id 160. Check data quality and model configuration.\n"
     ]
    },
    {
     "name": "stderr",
     "output_type": "stream",
     "text": [
      "\n",
      "Processing Subject IDs:  39%|█████████████████████▊                                  | 195/502 [02:02<03:22,  1.52it/s]\u001b[A"
     ]
    },
    {
     "name": "stdout",
     "output_type": "stream",
     "text": [
      "NaN R-squared for subject_id 372. Check data quality and model configuration.\n"
     ]
    },
    {
     "name": "stderr",
     "output_type": "stream",
     "text": [
      "\n",
      "Processing Subject IDs:  39%|█████████████████████▊                                  | 196/502 [02:03<03:14,  1.58it/s]\u001b[A"
     ]
    },
    {
     "name": "stdout",
     "output_type": "stream",
     "text": [
      "NaN R-squared for subject_id 74. Check data quality and model configuration.\n"
     ]
    },
    {
     "name": "stderr",
     "output_type": "stream",
     "text": [
      "\n",
      "Processing Subject IDs:  39%|█████████████████████▉                                  | 197/502 [02:03<02:59,  1.70it/s]\u001b[A"
     ]
    },
    {
     "name": "stdout",
     "output_type": "stream",
     "text": [
      "NaN R-squared for subject_id 174. Check data quality and model configuration.\n"
     ]
    },
    {
     "name": "stderr",
     "output_type": "stream",
     "text": [
      "\n",
      "Processing Subject IDs:  39%|██████████████████████                                  | 198/502 [02:04<02:52,  1.76it/s]\u001b[A"
     ]
    },
    {
     "name": "stdout",
     "output_type": "stream",
     "text": [
      "NaN R-squared for subject_id 143. Check data quality and model configuration.\n"
     ]
    },
    {
     "name": "stderr",
     "output_type": "stream",
     "text": [
      "\n",
      "Processing Subject IDs:  40%|██████████████████████▏                                 | 199/502 [02:04<02:50,  1.78it/s]\u001b[A"
     ]
    },
    {
     "name": "stdout",
     "output_type": "stream",
     "text": [
      "NaN R-squared for subject_id 360. Check data quality and model configuration.\n"
     ]
    },
    {
     "name": "stderr",
     "output_type": "stream",
     "text": [
      "\n",
      "Processing Subject IDs:  40%|██████████████████████▎                                 | 200/502 [02:05<02:47,  1.80it/s]\u001b[A"
     ]
    },
    {
     "name": "stdout",
     "output_type": "stream",
     "text": [
      "NaN R-squared for subject_id 54. Check data quality and model configuration.\n"
     ]
    },
    {
     "name": "stderr",
     "output_type": "stream",
     "text": [
      "\n",
      "Processing Subject IDs:  40%|██████████████████████▍                                 | 201/502 [02:05<02:39,  1.89it/s]\u001b[A"
     ]
    },
    {
     "name": "stdout",
     "output_type": "stream",
     "text": [
      "NaN R-squared for subject_id 368. Check data quality and model configuration.\n"
     ]
    },
    {
     "name": "stderr",
     "output_type": "stream",
     "text": [
      "\n",
      "Processing Subject IDs:  40%|██████████████████████▌                                 | 202/502 [02:06<02:36,  1.92it/s]\u001b[A"
     ]
    },
    {
     "name": "stdout",
     "output_type": "stream",
     "text": [
      "NaN R-squared for subject_id 58. Check data quality and model configuration.\n"
     ]
    },
    {
     "name": "stderr",
     "output_type": "stream",
     "text": [
      "\n",
      "Processing Subject IDs:  40%|██████████████████████▋                                 | 203/502 [02:07<02:49,  1.76it/s]\u001b[A"
     ]
    },
    {
     "name": "stdout",
     "output_type": "stream",
     "text": [
      "NaN R-squared for subject_id 416. Check data quality and model configuration.\n"
     ]
    },
    {
     "name": "stderr",
     "output_type": "stream",
     "text": [
      "\n",
      "Processing Subject IDs:  41%|██████████████████████▊                                 | 204/502 [02:07<02:54,  1.71it/s]\u001b[A"
     ]
    },
    {
     "name": "stdout",
     "output_type": "stream",
     "text": [
      "NaN R-squared for subject_id 308. Check data quality and model configuration.\n"
     ]
    },
    {
     "name": "stderr",
     "output_type": "stream",
     "text": [
      "\n",
      "Processing Subject IDs:  41%|██████████████████████▊                                 | 205/502 [02:08<02:57,  1.67it/s]\u001b[A"
     ]
    },
    {
     "name": "stdout",
     "output_type": "stream",
     "text": [
      "NaN R-squared for subject_id 266. Check data quality and model configuration.\n"
     ]
    },
    {
     "name": "stderr",
     "output_type": "stream",
     "text": [
      "\n",
      "Processing Subject IDs:  41%|██████████████████████▉                                 | 206/502 [02:09<03:03,  1.61it/s]\u001b[A"
     ]
    },
    {
     "name": "stdout",
     "output_type": "stream",
     "text": [
      "NaN R-squared for subject_id 251. Check data quality and model configuration.\n"
     ]
    },
    {
     "name": "stderr",
     "output_type": "stream",
     "text": [
      "\n",
      "Processing Subject IDs:  41%|███████████████████████                                 | 207/502 [02:09<03:06,  1.58it/s]\u001b[A"
     ]
    },
    {
     "name": "stdout",
     "output_type": "stream",
     "text": [
      "NaN R-squared for subject_id 253. Check data quality and model configuration.\n"
     ]
    },
    {
     "name": "stderr",
     "output_type": "stream",
     "text": [
      "\n",
      "Processing Subject IDs:  41%|███████████████████████▏                                | 208/502 [02:10<02:58,  1.65it/s]\u001b[A"
     ]
    },
    {
     "name": "stdout",
     "output_type": "stream",
     "text": [
      "NaN R-squared for subject_id 290. Check data quality and model configuration.\n"
     ]
    },
    {
     "name": "stderr",
     "output_type": "stream",
     "text": [
      "\n",
      "Processing Subject IDs:  42%|███████████████████████▎                                | 209/502 [02:10<03:01,  1.61it/s]\u001b[A"
     ]
    },
    {
     "name": "stdout",
     "output_type": "stream",
     "text": [
      "NaN R-squared for subject_id 226. Check data quality and model configuration.\n"
     ]
    },
    {
     "name": "stderr",
     "output_type": "stream",
     "text": [
      "\n",
      "Processing Subject IDs:  42%|███████████████████████▍                                | 210/502 [02:11<02:57,  1.65it/s]\u001b[A"
     ]
    },
    {
     "name": "stdout",
     "output_type": "stream",
     "text": [
      "NaN R-squared for subject_id 25. Check data quality and model configuration.\n"
     ]
    },
    {
     "name": "stderr",
     "output_type": "stream",
     "text": [
      "\n",
      "Processing Subject IDs:  42%|███████████████████████▌                                | 211/502 [02:12<02:57,  1.64it/s]\u001b[A"
     ]
    },
    {
     "name": "stdout",
     "output_type": "stream",
     "text": [
      "NaN R-squared for subject_id 146. Check data quality and model configuration.\n"
     ]
    },
    {
     "name": "stderr",
     "output_type": "stream",
     "text": [
      "\n",
      "Processing Subject IDs:  42%|███████████████████████▋                                | 212/502 [02:12<02:52,  1.68it/s]\u001b[A"
     ]
    },
    {
     "name": "stdout",
     "output_type": "stream",
     "text": [
      "NaN R-squared for subject_id 18. Check data quality and model configuration.\n"
     ]
    },
    {
     "name": "stderr",
     "output_type": "stream",
     "text": [
      "\n",
      "Processing Subject IDs:  42%|███████████████████████▊                                | 213/502 [02:13<02:50,  1.69it/s]\u001b[A"
     ]
    },
    {
     "name": "stdout",
     "output_type": "stream",
     "text": [
      "NaN R-squared for subject_id 337. Check data quality and model configuration.\n"
     ]
    },
    {
     "name": "stderr",
     "output_type": "stream",
     "text": [
      "\n",
      "Processing Subject IDs:  43%|███████████████████████▊                                | 214/502 [02:14<03:00,  1.60it/s]\u001b[A"
     ]
    },
    {
     "name": "stdout",
     "output_type": "stream",
     "text": [
      "NaN R-squared for subject_id 285. Check data quality and model configuration.\n"
     ]
    },
    {
     "name": "stderr",
     "output_type": "stream",
     "text": [
      "\n",
      "Processing Subject IDs:  43%|███████████████████████▉                                | 215/502 [02:14<03:06,  1.54it/s]\u001b[A"
     ]
    },
    {
     "name": "stdout",
     "output_type": "stream",
     "text": [
      "NaN R-squared for subject_id 377. Check data quality and model configuration.\n"
     ]
    },
    {
     "name": "stderr",
     "output_type": "stream",
     "text": [
      "\n",
      "Processing Subject IDs:  43%|████████████████████████                                | 216/502 [02:15<02:53,  1.65it/s]\u001b[A"
     ]
    },
    {
     "name": "stdout",
     "output_type": "stream",
     "text": [
      "NaN R-squared for subject_id 424. Check data quality and model configuration.\n"
     ]
    },
    {
     "name": "stderr",
     "output_type": "stream",
     "text": [
      "\n",
      "Processing Subject IDs:  43%|████████████████████████▏                               | 217/502 [02:15<02:41,  1.77it/s]\u001b[A"
     ]
    },
    {
     "name": "stdout",
     "output_type": "stream",
     "text": [
      "NaN R-squared for subject_id 52. Check data quality and model configuration.\n"
     ]
    },
    {
     "name": "stderr",
     "output_type": "stream",
     "text": [
      "\n",
      "Processing Subject IDs:  43%|████████████████████████▎                               | 218/502 [02:16<02:33,  1.85it/s]\u001b[A"
     ]
    },
    {
     "name": "stdout",
     "output_type": "stream",
     "text": [
      "NaN R-squared for subject_id 169. Check data quality and model configuration.\n"
     ]
    },
    {
     "name": "stderr",
     "output_type": "stream",
     "text": [
      "\n",
      "Processing Subject IDs:  44%|████████████████████████▍                               | 219/502 [02:16<02:27,  1.92it/s]\u001b[A"
     ]
    },
    {
     "name": "stdout",
     "output_type": "stream",
     "text": [
      "NaN R-squared for subject_id 483. Check data quality and model configuration.\n"
     ]
    },
    {
     "name": "stderr",
     "output_type": "stream",
     "text": [
      "\n",
      "Processing Subject IDs:  44%|████████████████████████▌                               | 220/502 [02:17<02:25,  1.94it/s]\u001b[A"
     ]
    },
    {
     "name": "stdout",
     "output_type": "stream",
     "text": [
      "NaN R-squared for subject_id 411. Check data quality and model configuration.\n"
     ]
    },
    {
     "name": "stderr",
     "output_type": "stream",
     "text": [
      "\n",
      "Processing Subject IDs:  44%|████████████████████████▋                               | 221/502 [02:17<02:21,  1.99it/s]\u001b[A"
     ]
    },
    {
     "name": "stdout",
     "output_type": "stream",
     "text": [
      "NaN R-squared for subject_id 94. Check data quality and model configuration.\n"
     ]
    },
    {
     "name": "stderr",
     "output_type": "stream",
     "text": [
      "\n",
      "Processing Subject IDs:  44%|████████████████████████▊                               | 222/502 [02:18<02:24,  1.93it/s]\u001b[A"
     ]
    },
    {
     "name": "stdout",
     "output_type": "stream",
     "text": [
      "NaN R-squared for subject_id 211. Check data quality and model configuration.\n"
     ]
    },
    {
     "name": "stderr",
     "output_type": "stream",
     "text": [
      "\n",
      "Processing Subject IDs:  44%|████████████████████████▉                               | 223/502 [02:18<02:36,  1.79it/s]\u001b[A"
     ]
    },
    {
     "name": "stdout",
     "output_type": "stream",
     "text": [
      "NaN R-squared for subject_id 379. Check data quality and model configuration.\n"
     ]
    },
    {
     "name": "stderr",
     "output_type": "stream",
     "text": [
      "\n",
      "Processing Subject IDs:  45%|████████████████████████▉                               | 224/502 [02:19<02:38,  1.75it/s]\u001b[A"
     ]
    },
    {
     "name": "stdout",
     "output_type": "stream",
     "text": [
      "NaN R-squared for subject_id 393. Check data quality and model configuration.\n"
     ]
    },
    {
     "name": "stderr",
     "output_type": "stream",
     "text": [
      "\n",
      "Processing Subject IDs:  45%|█████████████████████████                               | 225/502 [02:19<02:37,  1.76it/s]\u001b[A"
     ]
    },
    {
     "name": "stdout",
     "output_type": "stream",
     "text": [
      "NaN R-squared for subject_id 139. Check data quality and model configuration.\n"
     ]
    },
    {
     "name": "stderr",
     "output_type": "stream",
     "text": [
      "\n",
      "Processing Subject IDs:  45%|█████████████████████████▏                              | 226/502 [02:20<02:36,  1.76it/s]\u001b[A"
     ]
    },
    {
     "name": "stdout",
     "output_type": "stream",
     "text": [
      "NaN R-squared for subject_id 255. Check data quality and model configuration.\n"
     ]
    },
    {
     "name": "stderr",
     "output_type": "stream",
     "text": [
      "\n",
      "Processing Subject IDs:  45%|█████████████████████████▎                              | 227/502 [02:21<02:38,  1.73it/s]\u001b[A"
     ]
    },
    {
     "name": "stdout",
     "output_type": "stream",
     "text": [
      "NaN R-squared for subject_id 412. Check data quality and model configuration.\n"
     ]
    },
    {
     "name": "stderr",
     "output_type": "stream",
     "text": [
      "\n",
      "Processing Subject IDs:  45%|█████████████████████████▍                              | 228/502 [02:21<02:33,  1.79it/s]\u001b[A"
     ]
    },
    {
     "name": "stdout",
     "output_type": "stream",
     "text": [
      "NaN R-squared for subject_id 284. Check data quality and model configuration.\n"
     ]
    },
    {
     "name": "stderr",
     "output_type": "stream",
     "text": [
      "\n",
      "Processing Subject IDs:  46%|█████████████████████████▌                              | 229/502 [02:22<02:31,  1.81it/s]\u001b[A"
     ]
    },
    {
     "name": "stdout",
     "output_type": "stream",
     "text": [
      "NaN R-squared for subject_id 481. Check data quality and model configuration.\n"
     ]
    },
    {
     "name": "stderr",
     "output_type": "stream",
     "text": [
      "\n",
      "Processing Subject IDs:  46%|█████████████████████████▋                              | 230/502 [02:22<02:30,  1.80it/s]\u001b[A"
     ]
    },
    {
     "name": "stdout",
     "output_type": "stream",
     "text": [
      "NaN R-squared for subject_id 237. Check data quality and model configuration.\n"
     ]
    },
    {
     "name": "stderr",
     "output_type": "stream",
     "text": [
      "\n",
      "Processing Subject IDs:  46%|█████████████████████████▊                              | 231/502 [02:23<02:29,  1.81it/s]\u001b[A"
     ]
    },
    {
     "name": "stdout",
     "output_type": "stream",
     "text": [
      "NaN R-squared for subject_id 242. Check data quality and model configuration.\n"
     ]
    },
    {
     "name": "stderr",
     "output_type": "stream",
     "text": [
      "\n",
      "Processing Subject IDs:  46%|█████████████████████████▉                              | 232/502 [02:23<02:26,  1.84it/s]\u001b[A"
     ]
    },
    {
     "name": "stdout",
     "output_type": "stream",
     "text": [
      "NaN R-squared for subject_id 28. Check data quality and model configuration.\n"
     ]
    },
    {
     "name": "stderr",
     "output_type": "stream",
     "text": [
      "\n",
      "Processing Subject IDs:  46%|█████████████████████████▉                              | 233/502 [02:24<02:25,  1.85it/s]\u001b[A"
     ]
    },
    {
     "name": "stdout",
     "output_type": "stream",
     "text": [
      "NaN R-squared for subject_id 465. Check data quality and model configuration.\n"
     ]
    },
    {
     "name": "stderr",
     "output_type": "stream",
     "text": [
      "\n",
      "Processing Subject IDs:  47%|██████████████████████████                              | 234/502 [02:24<02:31,  1.77it/s]\u001b[A"
     ]
    },
    {
     "name": "stdout",
     "output_type": "stream",
     "text": [
      "NaN R-squared for subject_id 358. Check data quality and model configuration.\n"
     ]
    },
    {
     "name": "stderr",
     "output_type": "stream",
     "text": [
      "\n",
      "Processing Subject IDs:  47%|██████████████████████████▏                             | 235/502 [02:25<02:29,  1.78it/s]\u001b[A"
     ]
    },
    {
     "name": "stdout",
     "output_type": "stream",
     "text": [
      "NaN R-squared for subject_id 238. Check data quality and model configuration.\n"
     ]
    },
    {
     "name": "stderr",
     "output_type": "stream",
     "text": [
      "\n",
      "Processing Subject IDs:  47%|██████████████████████████▎                             | 236/502 [02:26<02:25,  1.83it/s]\u001b[A"
     ]
    },
    {
     "name": "stdout",
     "output_type": "stream",
     "text": [
      "NaN R-squared for subject_id 171. Check data quality and model configuration.\n"
     ]
    },
    {
     "name": "stderr",
     "output_type": "stream",
     "text": [
      "\n",
      "Processing Subject IDs:  47%|██████████████████████████▍                             | 237/502 [02:26<02:16,  1.95it/s]\u001b[A"
     ]
    },
    {
     "name": "stdout",
     "output_type": "stream",
     "text": [
      "NaN R-squared for subject_id 201. Check data quality and model configuration.\n"
     ]
    },
    {
     "name": "stderr",
     "output_type": "stream",
     "text": [
      "\n",
      "Processing Subject IDs:  47%|██████████████████████████▌                             | 238/502 [02:26<02:11,  2.01it/s]\u001b[A"
     ]
    },
    {
     "name": "stdout",
     "output_type": "stream",
     "text": [
      "NaN R-squared for subject_id 410. Check data quality and model configuration.\n"
     ]
    },
    {
     "name": "stderr",
     "output_type": "stream",
     "text": [
      "\n",
      "Processing Subject IDs:  48%|██████████████████████████▋                             | 239/502 [02:27<02:06,  2.08it/s]\u001b[A"
     ]
    },
    {
     "name": "stdout",
     "output_type": "stream",
     "text": [
      "NaN R-squared for subject_id 13. Check data quality and model configuration.\n"
     ]
    },
    {
     "name": "stderr",
     "output_type": "stream",
     "text": [
      "\n",
      "Processing Subject IDs:  48%|██████████████████████████▊                             | 240/502 [02:27<02:03,  2.13it/s]\u001b[A"
     ]
    },
    {
     "name": "stdout",
     "output_type": "stream",
     "text": [
      "NaN R-squared for subject_id 33. Check data quality and model configuration.\n"
     ]
    },
    {
     "name": "stderr",
     "output_type": "stream",
     "text": [
      "\n",
      "Processing Subject IDs:  48%|██████████████████████████▉                             | 241/502 [02:28<01:59,  2.19it/s]\u001b[A"
     ]
    },
    {
     "name": "stdout",
     "output_type": "stream",
     "text": [
      "NaN R-squared for subject_id 215. Check data quality and model configuration.\n"
     ]
    },
    {
     "name": "stderr",
     "output_type": "stream",
     "text": [
      "\n",
      "Processing Subject IDs:  48%|██████████████████████████▉                             | 242/502 [02:28<01:57,  2.22it/s]\u001b[A"
     ]
    },
    {
     "name": "stdout",
     "output_type": "stream",
     "text": [
      "NaN R-squared for subject_id 14. Check data quality and model configuration.\n"
     ]
    },
    {
     "name": "stderr",
     "output_type": "stream",
     "text": [
      "\n",
      "Processing Subject IDs:  48%|███████████████████████████                             | 243/502 [02:29<02:02,  2.12it/s]\u001b[A"
     ]
    },
    {
     "name": "stdout",
     "output_type": "stream",
     "text": [
      "NaN R-squared for subject_id 268. Check data quality and model configuration.\n"
     ]
    },
    {
     "name": "stderr",
     "output_type": "stream",
     "text": [
      "\n",
      "Processing Subject IDs:  49%|███████████████████████████▏                            | 244/502 [02:29<02:05,  2.05it/s]\u001b[A"
     ]
    },
    {
     "name": "stdout",
     "output_type": "stream",
     "text": [
      "NaN R-squared for subject_id 91. Check data quality and model configuration.\n"
     ]
    },
    {
     "name": "stderr",
     "output_type": "stream",
     "text": [
      "\n",
      "Processing Subject IDs:  49%|███████████████████████████▎                            | 245/502 [02:30<02:08,  1.99it/s]\u001b[A"
     ]
    },
    {
     "name": "stdout",
     "output_type": "stream",
     "text": [
      "NaN R-squared for subject_id 450. Check data quality and model configuration.\n"
     ]
    },
    {
     "name": "stderr",
     "output_type": "stream",
     "text": [
      "\n",
      "Processing Subject IDs:  49%|███████████████████████████▍                            | 246/502 [02:30<02:13,  1.91it/s]\u001b[A"
     ]
    },
    {
     "name": "stdout",
     "output_type": "stream",
     "text": [
      "NaN R-squared for subject_id 79. Check data quality and model configuration.\n"
     ]
    },
    {
     "name": "stderr",
     "output_type": "stream",
     "text": [
      "\n",
      "Processing Subject IDs:  49%|███████████████████████████▌                            | 247/502 [02:31<02:20,  1.81it/s]\u001b[A"
     ]
    },
    {
     "name": "stdout",
     "output_type": "stream",
     "text": [
      "NaN R-squared for subject_id 488. Check data quality and model configuration.\n"
     ]
    },
    {
     "name": "stderr",
     "output_type": "stream",
     "text": [
      "\n",
      "Processing Subject IDs:  49%|███████████████████████████▋                            | 248/502 [02:32<02:20,  1.80it/s]\u001b[A"
     ]
    },
    {
     "name": "stdout",
     "output_type": "stream",
     "text": [
      "NaN R-squared for subject_id 303. Check data quality and model configuration.\n"
     ]
    },
    {
     "name": "stderr",
     "output_type": "stream",
     "text": [
      "\n",
      "Processing Subject IDs:  50%|███████████████████████████▊                            | 249/502 [02:32<02:18,  1.82it/s]\u001b[A"
     ]
    },
    {
     "name": "stdout",
     "output_type": "stream",
     "text": [
      "NaN R-squared for subject_id 217. Check data quality and model configuration.\n"
     ]
    },
    {
     "name": "stderr",
     "output_type": "stream",
     "text": [
      "\n",
      "Processing Subject IDs:  50%|███████████████████████████▉                            | 250/502 [02:33<02:17,  1.83it/s]\u001b[A"
     ]
    },
    {
     "name": "stdout",
     "output_type": "stream",
     "text": [
      "NaN R-squared for subject_id 359. Check data quality and model configuration.\n"
     ]
    },
    {
     "name": "stderr",
     "output_type": "stream",
     "text": [
      "\n",
      "Processing Subject IDs:  50%|████████████████████████████                            | 251/502 [02:33<02:21,  1.77it/s]\u001b[A"
     ]
    },
    {
     "name": "stdout",
     "output_type": "stream",
     "text": [
      "NaN R-squared for subject_id 388. Check data quality and model configuration.\n"
     ]
    },
    {
     "name": "stderr",
     "output_type": "stream",
     "text": [
      "\n",
      "Processing Subject IDs:  50%|████████████████████████████                            | 252/502 [02:34<02:21,  1.77it/s]\u001b[A"
     ]
    },
    {
     "name": "stdout",
     "output_type": "stream",
     "text": [
      "NaN R-squared for subject_id 354. Check data quality and model configuration.\n"
     ]
    },
    {
     "name": "stderr",
     "output_type": "stream",
     "text": [
      "\n",
      "Processing Subject IDs:  50%|████████████████████████████▏                           | 253/502 [02:34<02:14,  1.85it/s]\u001b[A"
     ]
    },
    {
     "name": "stdout",
     "output_type": "stream",
     "text": [
      "NaN R-squared for subject_id 104. Check data quality and model configuration.\n"
     ]
    },
    {
     "name": "stderr",
     "output_type": "stream",
     "text": [
      "\n",
      "Processing Subject IDs:  51%|████████████████████████████▎                           | 254/502 [02:35<02:14,  1.84it/s]\u001b[A"
     ]
    },
    {
     "name": "stdout",
     "output_type": "stream",
     "text": [
      "NaN R-squared for subject_id 415. Check data quality and model configuration.\n"
     ]
    },
    {
     "name": "stderr",
     "output_type": "stream",
     "text": [
      "\n",
      "Processing Subject IDs:  51%|████████████████████████████▍                           | 255/502 [02:35<02:14,  1.84it/s]\u001b[A"
     ]
    },
    {
     "name": "stdout",
     "output_type": "stream",
     "text": [
      "NaN R-squared for subject_id 501. Check data quality and model configuration.\n"
     ]
    },
    {
     "name": "stderr",
     "output_type": "stream",
     "text": [
      "\n",
      "Processing Subject IDs:  51%|████████████████████████████▌                           | 256/502 [02:36<02:12,  1.86it/s]\u001b[A"
     ]
    },
    {
     "name": "stdout",
     "output_type": "stream",
     "text": [
      "NaN R-squared for subject_id 101. Check data quality and model configuration.\n"
     ]
    },
    {
     "name": "stderr",
     "output_type": "stream",
     "text": [
      "\n",
      "Processing Subject IDs:  51%|████████████████████████████▋                           | 257/502 [02:36<02:06,  1.93it/s]\u001b[A"
     ]
    },
    {
     "name": "stdout",
     "output_type": "stream",
     "text": [
      "NaN R-squared for subject_id 243. Check data quality and model configuration.\n"
     ]
    },
    {
     "name": "stderr",
     "output_type": "stream",
     "text": [
      "\n",
      "Processing Subject IDs:  51%|████████████████████████████▊                           | 258/502 [02:37<01:59,  2.04it/s]\u001b[A"
     ]
    },
    {
     "name": "stdout",
     "output_type": "stream",
     "text": [
      "NaN R-squared for subject_id 205. Check data quality and model configuration.\n"
     ]
    },
    {
     "name": "stderr",
     "output_type": "stream",
     "text": [
      "\n",
      "Processing Subject IDs:  52%|████████████████████████████▉                           | 259/502 [02:37<01:54,  2.13it/s]\u001b[A"
     ]
    },
    {
     "name": "stdout",
     "output_type": "stream",
     "text": [
      "NaN R-squared for subject_id 479. Check data quality and model configuration.\n"
     ]
    },
    {
     "name": "stderr",
     "output_type": "stream",
     "text": [
      "\n",
      "Processing Subject IDs:  52%|█████████████████████████████                           | 260/502 [02:38<01:51,  2.17it/s]\u001b[A"
     ]
    },
    {
     "name": "stdout",
     "output_type": "stream",
     "text": [
      "NaN R-squared for subject_id 98. Check data quality and model configuration.\n"
     ]
    },
    {
     "name": "stderr",
     "output_type": "stream",
     "text": [
      "\n",
      "Processing Subject IDs:  52%|█████████████████████████████                           | 261/502 [02:38<01:49,  2.21it/s]\u001b[A"
     ]
    },
    {
     "name": "stdout",
     "output_type": "stream",
     "text": [
      "NaN R-squared for subject_id 42. Check data quality and model configuration.\n"
     ]
    },
    {
     "name": "stderr",
     "output_type": "stream",
     "text": [
      "\n",
      "Processing Subject IDs:  52%|█████████████████████████████▏                          | 262/502 [02:39<01:47,  2.24it/s]\u001b[A"
     ]
    },
    {
     "name": "stdout",
     "output_type": "stream",
     "text": [
      "NaN R-squared for subject_id 257. Check data quality and model configuration.\n"
     ]
    },
    {
     "name": "stderr",
     "output_type": "stream",
     "text": [
      "\n",
      "Processing Subject IDs:  52%|█████████████████████████████▎                          | 263/502 [02:39<01:47,  2.22it/s]\u001b[A"
     ]
    },
    {
     "name": "stdout",
     "output_type": "stream",
     "text": [
      "NaN R-squared for subject_id 314. Check data quality and model configuration.\n"
     ]
    },
    {
     "name": "stderr",
     "output_type": "stream",
     "text": [
      "\n",
      "Processing Subject IDs:  53%|█████████████████████████████▍                          | 264/502 [02:40<02:02,  1.95it/s]\u001b[A"
     ]
    },
    {
     "name": "stdout",
     "output_type": "stream",
     "text": [
      "NaN R-squared for subject_id 320. Check data quality and model configuration.\n"
     ]
    },
    {
     "name": "stderr",
     "output_type": "stream",
     "text": [
      "\n",
      "Processing Subject IDs:  53%|█████████████████████████████▌                          | 265/502 [02:40<01:59,  1.98it/s]\u001b[A"
     ]
    },
    {
     "name": "stdout",
     "output_type": "stream",
     "text": [
      "NaN R-squared for subject_id 336. Check data quality and model configuration.\n"
     ]
    },
    {
     "name": "stderr",
     "output_type": "stream",
     "text": [
      "\n",
      "Processing Subject IDs:  53%|█████████████████████████████▋                          | 266/502 [02:41<02:04,  1.90it/s]\u001b[A"
     ]
    },
    {
     "name": "stdout",
     "output_type": "stream",
     "text": [
      "NaN R-squared for subject_id 313. Check data quality and model configuration.\n"
     ]
    },
    {
     "name": "stderr",
     "output_type": "stream",
     "text": [
      "\n",
      "Processing Subject IDs:  53%|█████████████████████████████▊                          | 267/502 [02:41<02:07,  1.84it/s]\u001b[A"
     ]
    },
    {
     "name": "stdout",
     "output_type": "stream",
     "text": [
      "NaN R-squared for subject_id 265. Check data quality and model configuration.\n"
     ]
    },
    {
     "name": "stderr",
     "output_type": "stream",
     "text": [
      "\n",
      "Processing Subject IDs:  53%|█████████████████████████████▉                          | 268/502 [02:42<02:11,  1.78it/s]\u001b[A"
     ]
    },
    {
     "name": "stdout",
     "output_type": "stream",
     "text": [
      "NaN R-squared for subject_id 274. Check data quality and model configuration.\n"
     ]
    },
    {
     "name": "stderr",
     "output_type": "stream",
     "text": [
      "\n",
      "Processing Subject IDs:  54%|██████████████████████████████                          | 269/502 [02:42<02:07,  1.83it/s]\u001b[A"
     ]
    },
    {
     "name": "stdout",
     "output_type": "stream",
     "text": [
      "NaN R-squared for subject_id 462. Check data quality and model configuration.\n"
     ]
    },
    {
     "name": "stderr",
     "output_type": "stream",
     "text": [
      "\n",
      "Processing Subject IDs:  54%|██████████████████████████████                          | 270/502 [02:43<02:04,  1.86it/s]\u001b[A"
     ]
    },
    {
     "name": "stdout",
     "output_type": "stream",
     "text": [
      "NaN R-squared for subject_id 125. Check data quality and model configuration.\n"
     ]
    },
    {
     "name": "stderr",
     "output_type": "stream",
     "text": [
      "\n",
      "Processing Subject IDs:  54%|██████████████████████████████▏                         | 271/502 [02:43<02:05,  1.84it/s]\u001b[A"
     ]
    },
    {
     "name": "stdout",
     "output_type": "stream",
     "text": [
      "NaN R-squared for subject_id 295. Check data quality and model configuration.\n"
     ]
    },
    {
     "name": "stderr",
     "output_type": "stream",
     "text": [
      "\n",
      "Processing Subject IDs:  54%|██████████████████████████████▎                         | 272/502 [02:44<02:06,  1.82it/s]\u001b[A"
     ]
    },
    {
     "name": "stdout",
     "output_type": "stream",
     "text": [
      "NaN R-squared for subject_id 36. Check data quality and model configuration.\n"
     ]
    },
    {
     "name": "stderr",
     "output_type": "stream",
     "text": [
      "\n",
      "Processing Subject IDs:  54%|██████████████████████████████▍                         | 273/502 [02:45<02:06,  1.82it/s]\u001b[A"
     ]
    },
    {
     "name": "stdout",
     "output_type": "stream",
     "text": [
      "NaN R-squared for subject_id 492. Check data quality and model configuration.\n"
     ]
    },
    {
     "name": "stderr",
     "output_type": "stream",
     "text": [
      "\n",
      "Processing Subject IDs:  55%|██████████████████████████████▌                         | 274/502 [02:45<02:01,  1.88it/s]\u001b[A"
     ]
    },
    {
     "name": "stdout",
     "output_type": "stream",
     "text": [
      "NaN R-squared for subject_id 474. Check data quality and model configuration.\n"
     ]
    },
    {
     "name": "stderr",
     "output_type": "stream",
     "text": [
      "\n",
      "Processing Subject IDs:  55%|██████████████████████████████▋                         | 275/502 [02:46<02:02,  1.85it/s]\u001b[A"
     ]
    },
    {
     "name": "stdout",
     "output_type": "stream",
     "text": [
      "NaN R-squared for subject_id 260. Check data quality and model configuration.\n"
     ]
    },
    {
     "name": "stderr",
     "output_type": "stream",
     "text": [
      "\n",
      "Processing Subject IDs:  55%|██████████████████████████████▊                         | 276/502 [02:46<02:00,  1.87it/s]\u001b[A"
     ]
    },
    {
     "name": "stdout",
     "output_type": "stream",
     "text": [
      "NaN R-squared for subject_id 422. Check data quality and model configuration.\n"
     ]
    },
    {
     "name": "stderr",
     "output_type": "stream",
     "text": [
      "\n",
      "Processing Subject IDs:  55%|██████████████████████████████▉                         | 277/502 [02:47<02:01,  1.86it/s]\u001b[A"
     ]
    },
    {
     "name": "stdout",
     "output_type": "stream",
     "text": [
      "NaN R-squared for subject_id 27. Check data quality and model configuration.\n"
     ]
    },
    {
     "name": "stderr",
     "output_type": "stream",
     "text": [
      "\n",
      "Processing Subject IDs:  55%|███████████████████████████████                         | 278/502 [02:47<01:54,  1.95it/s]\u001b[A"
     ]
    },
    {
     "name": "stdout",
     "output_type": "stream",
     "text": [
      "NaN R-squared for subject_id 254. Check data quality and model configuration.\n"
     ]
    },
    {
     "name": "stderr",
     "output_type": "stream",
     "text": [
      "\n",
      "Processing Subject IDs:  56%|███████████████████████████████                         | 279/502 [02:48<01:50,  2.02it/s]\u001b[A"
     ]
    },
    {
     "name": "stdout",
     "output_type": "stream",
     "text": [
      "NaN R-squared for subject_id 428. Check data quality and model configuration.\n"
     ]
    },
    {
     "name": "stderr",
     "output_type": "stream",
     "text": [
      "\n",
      "Processing Subject IDs:  56%|███████████████████████████████▏                        | 280/502 [02:48<01:46,  2.09it/s]\u001b[A"
     ]
    },
    {
     "name": "stdout",
     "output_type": "stream",
     "text": [
      "NaN R-squared for subject_id 323. Check data quality and model configuration.\n"
     ]
    },
    {
     "name": "stderr",
     "output_type": "stream",
     "text": [
      "\n",
      "Processing Subject IDs:  56%|███████████████████████████████▎                        | 281/502 [02:48<01:42,  2.15it/s]\u001b[A"
     ]
    },
    {
     "name": "stdout",
     "output_type": "stream",
     "text": [
      "NaN R-squared for subject_id 207. Check data quality and model configuration.\n"
     ]
    },
    {
     "name": "stderr",
     "output_type": "stream",
     "text": [
      "\n",
      "Processing Subject IDs:  56%|███████████████████████████████▍                        | 282/502 [02:49<01:40,  2.18it/s]\u001b[A"
     ]
    },
    {
     "name": "stdout",
     "output_type": "stream",
     "text": [
      "NaN R-squared for subject_id 245. Check data quality and model configuration.\n"
     ]
    },
    {
     "name": "stderr",
     "output_type": "stream",
     "text": [
      "\n",
      "Processing Subject IDs:  56%|███████████████████████████████▌                        | 283/502 [02:49<01:38,  2.21it/s]\u001b[A"
     ]
    },
    {
     "name": "stdout",
     "output_type": "stream",
     "text": [
      "NaN R-squared for subject_id 387. Check data quality and model configuration.\n"
     ]
    },
    {
     "name": "stderr",
     "output_type": "stream",
     "text": [
      "\n",
      "Processing Subject IDs:  57%|███████████████████████████████▋                        | 284/502 [02:50<01:41,  2.15it/s]\u001b[A"
     ]
    },
    {
     "name": "stdout",
     "output_type": "stream",
     "text": [
      "NaN R-squared for subject_id 122. Check data quality and model configuration.\n"
     ]
    },
    {
     "name": "stderr",
     "output_type": "stream",
     "text": [
      "\n",
      "Processing Subject IDs:  57%|███████████████████████████████▊                        | 285/502 [02:50<01:47,  2.02it/s]\u001b[A"
     ]
    },
    {
     "name": "stdout",
     "output_type": "stream",
     "text": [
      "NaN R-squared for subject_id 297. Check data quality and model configuration.\n"
     ]
    },
    {
     "name": "stderr",
     "output_type": "stream",
     "text": [
      "\n",
      "Processing Subject IDs:  57%|███████████████████████████████▉                        | 286/502 [02:51<01:52,  1.92it/s]\u001b[A"
     ]
    },
    {
     "name": "stdout",
     "output_type": "stream",
     "text": [
      "NaN R-squared for subject_id 209. Check data quality and model configuration.\n"
     ]
    },
    {
     "name": "stderr",
     "output_type": "stream",
     "text": [
      "\n",
      "Processing Subject IDs:  57%|████████████████████████████████                        | 287/502 [02:52<02:00,  1.78it/s]\u001b[A"
     ]
    },
    {
     "name": "stdout",
     "output_type": "stream",
     "text": [
      "NaN R-squared for subject_id 276. Check data quality and model configuration.\n"
     ]
    },
    {
     "name": "stderr",
     "output_type": "stream",
     "text": [
      "\n",
      "Processing Subject IDs:  57%|████████████████████████████████▏                       | 288/502 [02:52<02:00,  1.78it/s]\u001b[A"
     ]
    },
    {
     "name": "stdout",
     "output_type": "stream",
     "text": [
      "NaN R-squared for subject_id 328. Check data quality and model configuration.\n"
     ]
    },
    {
     "name": "stderr",
     "output_type": "stream",
     "text": [
      "\n",
      "Processing Subject IDs:  58%|████████████████████████████████▏                       | 289/502 [02:53<01:58,  1.79it/s]\u001b[A"
     ]
    },
    {
     "name": "stdout",
     "output_type": "stream",
     "text": [
      "NaN R-squared for subject_id 151. Check data quality and model configuration.\n"
     ]
    },
    {
     "name": "stderr",
     "output_type": "stream",
     "text": [
      "\n",
      "Processing Subject IDs:  58%|████████████████████████████████▎                       | 290/502 [02:53<01:55,  1.83it/s]\u001b[A"
     ]
    },
    {
     "name": "stdout",
     "output_type": "stream",
     "text": [
      "NaN R-squared for subject_id 38. Check data quality and model configuration.\n"
     ]
    },
    {
     "name": "stderr",
     "output_type": "stream",
     "text": [
      "\n",
      "Processing Subject IDs:  58%|████████████████████████████████▍                       | 291/502 [02:54<01:55,  1.83it/s]\u001b[A"
     ]
    },
    {
     "name": "stdout",
     "output_type": "stream",
     "text": [
      "NaN R-squared for subject_id 81. Check data quality and model configuration.\n"
     ]
    },
    {
     "name": "stderr",
     "output_type": "stream",
     "text": [
      "\n",
      "Processing Subject IDs:  58%|████████████████████████████████▌                       | 292/502 [02:54<01:59,  1.76it/s]\u001b[A"
     ]
    },
    {
     "name": "stdout",
     "output_type": "stream",
     "text": [
      "NaN R-squared for subject_id 11. Check data quality and model configuration.\n"
     ]
    },
    {
     "name": "stderr",
     "output_type": "stream",
     "text": [
      "\n",
      "Processing Subject IDs:  58%|████████████████████████████████▋                       | 293/502 [02:55<01:58,  1.76it/s]\u001b[A"
     ]
    },
    {
     "name": "stdout",
     "output_type": "stream",
     "text": [
      "NaN R-squared for subject_id 39. Check data quality and model configuration.\n"
     ]
    },
    {
     "name": "stderr",
     "output_type": "stream",
     "text": [
      "\n",
      "Processing Subject IDs:  59%|████████████████████████████████▊                       | 294/502 [02:56<01:54,  1.81it/s]\u001b[A"
     ]
    },
    {
     "name": "stdout",
     "output_type": "stream",
     "text": [
      "NaN R-squared for subject_id 168. Check data quality and model configuration.\n"
     ]
    },
    {
     "name": "stderr",
     "output_type": "stream",
     "text": [
      "\n",
      "Processing Subject IDs:  59%|████████████████████████████████▉                       | 295/502 [02:56<01:54,  1.81it/s]\u001b[A"
     ]
    },
    {
     "name": "stdout",
     "output_type": "stream",
     "text": [
      "NaN R-squared for subject_id 347. Check data quality and model configuration.\n"
     ]
    },
    {
     "name": "stderr",
     "output_type": "stream",
     "text": [
      "\n",
      "Processing Subject IDs:  59%|█████████████████████████████████                       | 296/502 [02:57<01:55,  1.78it/s]\u001b[A"
     ]
    },
    {
     "name": "stdout",
     "output_type": "stream",
     "text": [
      "NaN R-squared for subject_id 302. Check data quality and model configuration.\n"
     ]
    },
    {
     "name": "stderr",
     "output_type": "stream",
     "text": [
      "\n",
      "Processing Subject IDs:  59%|█████████████████████████████████▏                      | 297/502 [02:57<01:53,  1.81it/s]\u001b[A"
     ]
    },
    {
     "name": "stdout",
     "output_type": "stream",
     "text": [
      "NaN R-squared for subject_id 332. Check data quality and model configuration.\n"
     ]
    },
    {
     "name": "stderr",
     "output_type": "stream",
     "text": [
      "\n",
      "Processing Subject IDs:  59%|█████████████████████████████████▏                      | 298/502 [02:58<01:47,  1.89it/s]\u001b[A"
     ]
    },
    {
     "name": "stdout",
     "output_type": "stream",
     "text": [
      "NaN R-squared for subject_id 103. Check data quality and model configuration.\n"
     ]
    },
    {
     "name": "stderr",
     "output_type": "stream",
     "text": [
      "\n",
      "Processing Subject IDs:  60%|█████████████████████████████████▎                      | 299/502 [02:58<01:40,  2.02it/s]\u001b[A"
     ]
    },
    {
     "name": "stdout",
     "output_type": "stream",
     "text": [
      "NaN R-squared for subject_id 366. Check data quality and model configuration.\n"
     ]
    },
    {
     "name": "stderr",
     "output_type": "stream",
     "text": [
      "\n",
      "Processing Subject IDs:  60%|█████████████████████████████████▍                      | 300/502 [02:59<01:35,  2.12it/s]\u001b[A"
     ]
    },
    {
     "name": "stdout",
     "output_type": "stream",
     "text": [
      "NaN R-squared for subject_id 148. Check data quality and model configuration.\n"
     ]
    },
    {
     "name": "stderr",
     "output_type": "stream",
     "text": [
      "\n",
      "Processing Subject IDs:  60%|█████████████████████████████████▌                      | 301/502 [02:59<01:33,  2.14it/s]\u001b[A"
     ]
    },
    {
     "name": "stdout",
     "output_type": "stream",
     "text": [
      "NaN R-squared for subject_id 275. Check data quality and model configuration.\n"
     ]
    },
    {
     "name": "stderr",
     "output_type": "stream",
     "text": [
      "\n",
      "Processing Subject IDs:  60%|█████████████████████████████████▋                      | 302/502 [02:59<01:31,  2.18it/s]\u001b[A"
     ]
    },
    {
     "name": "stdout",
     "output_type": "stream",
     "text": [
      "NaN R-squared for subject_id 425. Check data quality and model configuration.\n"
     ]
    },
    {
     "name": "stderr",
     "output_type": "stream",
     "text": [
      "\n",
      "Processing Subject IDs:  60%|█████████████████████████████████▊                      | 303/502 [03:00<01:29,  2.22it/s]\u001b[A"
     ]
    },
    {
     "name": "stdout",
     "output_type": "stream",
     "text": [
      "NaN R-squared for subject_id 335. Check data quality and model configuration.\n"
     ]
    },
    {
     "name": "stderr",
     "output_type": "stream",
     "text": [
      "\n",
      "Processing Subject IDs:  61%|█████████████████████████████████▉                      | 304/502 [03:00<01:31,  2.16it/s]\u001b[A"
     ]
    },
    {
     "name": "stdout",
     "output_type": "stream",
     "text": [
      "NaN R-squared for subject_id 431. Check data quality and model configuration.\n"
     ]
    },
    {
     "name": "stderr",
     "output_type": "stream",
     "text": [
      "\n",
      "Processing Subject IDs:  61%|██████████████████████████████████                      | 305/502 [03:01<01:35,  2.05it/s]\u001b[A"
     ]
    },
    {
     "name": "stdout",
     "output_type": "stream",
     "text": [
      "NaN R-squared for subject_id 241. Check data quality and model configuration.\n"
     ]
    },
    {
     "name": "stderr",
     "output_type": "stream",
     "text": [
      "\n",
      "Processing Subject IDs:  61%|██████████████████████████████████▏                     | 306/502 [03:01<01:35,  2.05it/s]\u001b[A"
     ]
    },
    {
     "name": "stdout",
     "output_type": "stream",
     "text": [
      "NaN R-squared for subject_id 20. Check data quality and model configuration.\n"
     ]
    },
    {
     "name": "stderr",
     "output_type": "stream",
     "text": [
      "\n",
      "Processing Subject IDs:  61%|██████████████████████████████████▏                     | 307/502 [03:02<01:43,  1.89it/s]\u001b[A"
     ]
    },
    {
     "name": "stdout",
     "output_type": "stream",
     "text": [
      "NaN R-squared for subject_id 267. Check data quality and model configuration.\n"
     ]
    },
    {
     "name": "stderr",
     "output_type": "stream",
     "text": [
      "\n",
      "Processing Subject IDs:  61%|██████████████████████████████████▎                     | 308/502 [03:03<01:45,  1.84it/s]\u001b[A"
     ]
    },
    {
     "name": "stdout",
     "output_type": "stream",
     "text": [
      "NaN R-squared for subject_id 175. Check data quality and model configuration.\n"
     ]
    },
    {
     "name": "stderr",
     "output_type": "stream",
     "text": [
      "\n",
      "Processing Subject IDs:  62%|██████████████████████████████████▍                     | 309/502 [03:03<01:45,  1.83it/s]\u001b[A"
     ]
    },
    {
     "name": "stdout",
     "output_type": "stream",
     "text": [
      "NaN R-squared for subject_id 454. Check data quality and model configuration.\n"
     ]
    },
    {
     "name": "stderr",
     "output_type": "stream",
     "text": [
      "\n",
      "Processing Subject IDs:  62%|██████████████████████████████████▌                     | 310/502 [03:04<01:45,  1.82it/s]\u001b[A"
     ]
    },
    {
     "name": "stdout",
     "output_type": "stream",
     "text": [
      "NaN R-squared for subject_id 423. Check data quality and model configuration.\n"
     ]
    },
    {
     "name": "stderr",
     "output_type": "stream",
     "text": [
      "\n",
      "Processing Subject IDs:  62%|██████████████████████████████████▋                     | 311/502 [03:04<01:45,  1.81it/s]\u001b[A"
     ]
    },
    {
     "name": "stdout",
     "output_type": "stream",
     "text": [
      "NaN R-squared for subject_id 277. Check data quality and model configuration.\n"
     ]
    },
    {
     "name": "stderr",
     "output_type": "stream",
     "text": [
      "\n",
      "Processing Subject IDs:  62%|██████████████████████████████████▊                     | 312/502 [03:05<01:45,  1.81it/s]\u001b[A"
     ]
    },
    {
     "name": "stdout",
     "output_type": "stream",
     "text": [
      "NaN R-squared for subject_id 287. Check data quality and model configuration.\n"
     ]
    },
    {
     "name": "stderr",
     "output_type": "stream",
     "text": [
      "\n",
      "Processing Subject IDs:  62%|██████████████████████████████████▉                     | 313/502 [03:05<01:44,  1.80it/s]\u001b[A"
     ]
    },
    {
     "name": "stdout",
     "output_type": "stream",
     "text": [
      "NaN R-squared for subject_id 240. Check data quality and model configuration.\n"
     ]
    },
    {
     "name": "stderr",
     "output_type": "stream",
     "text": [
      "\n",
      "Processing Subject IDs:  63%|███████████████████████████████████                     | 314/502 [03:06<01:44,  1.80it/s]\u001b[A"
     ]
    },
    {
     "name": "stdout",
     "output_type": "stream",
     "text": [
      "NaN R-squared for subject_id 367. Check data quality and model configuration.\n"
     ]
    },
    {
     "name": "stderr",
     "output_type": "stream",
     "text": [
      "\n",
      "Processing Subject IDs:  63%|███████████████████████████████████▏                    | 315/502 [03:07<01:46,  1.76it/s]\u001b[A"
     ]
    },
    {
     "name": "stdout",
     "output_type": "stream",
     "text": [
      "NaN R-squared for subject_id 262. Check data quality and model configuration.\n"
     ]
    },
    {
     "name": "stderr",
     "output_type": "stream",
     "text": [
      "\n",
      "Processing Subject IDs:  63%|███████████████████████████████████▎                    | 316/502 [03:07<01:46,  1.75it/s]\u001b[A"
     ]
    },
    {
     "name": "stdout",
     "output_type": "stream",
     "text": [
      "NaN R-squared for subject_id 499. Check data quality and model configuration.\n"
     ]
    },
    {
     "name": "stderr",
     "output_type": "stream",
     "text": [
      "\n",
      "Processing Subject IDs:  63%|███████████████████████████████████▎                    | 317/502 [03:08<01:44,  1.76it/s]\u001b[A"
     ]
    },
    {
     "name": "stdout",
     "output_type": "stream",
     "text": [
      "NaN R-squared for subject_id 218. Check data quality and model configuration.\n"
     ]
    },
    {
     "name": "stderr",
     "output_type": "stream",
     "text": [
      "\n",
      "Processing Subject IDs:  63%|███████████████████████████████████▍                    | 318/502 [03:08<01:42,  1.80it/s]\u001b[A"
     ]
    },
    {
     "name": "stdout",
     "output_type": "stream",
     "text": [
      "NaN R-squared for subject_id 385. Check data quality and model configuration.\n"
     ]
    },
    {
     "name": "stderr",
     "output_type": "stream",
     "text": [
      "\n",
      "Processing Subject IDs:  64%|███████████████████████████████████▌                    | 319/502 [03:09<01:35,  1.91it/s]\u001b[A"
     ]
    },
    {
     "name": "stdout",
     "output_type": "stream",
     "text": [
      "NaN R-squared for subject_id 345. Check data quality and model configuration.\n"
     ]
    },
    {
     "name": "stderr",
     "output_type": "stream",
     "text": [
      "\n",
      "Processing Subject IDs:  64%|███████████████████████████████████▋                    | 320/502 [03:09<01:30,  2.01it/s]\u001b[A"
     ]
    },
    {
     "name": "stdout",
     "output_type": "stream",
     "text": [
      "NaN R-squared for subject_id 494. Check data quality and model configuration.\n"
     ]
    },
    {
     "name": "stderr",
     "output_type": "stream",
     "text": [
      "\n",
      "Processing Subject IDs:  64%|███████████████████████████████████▊                    | 321/502 [03:09<01:26,  2.10it/s]\u001b[A"
     ]
    },
    {
     "name": "stdout",
     "output_type": "stream",
     "text": [
      "NaN R-squared for subject_id 406. Check data quality and model configuration.\n"
     ]
    },
    {
     "name": "stderr",
     "output_type": "stream",
     "text": [
      "\n",
      "Processing Subject IDs:  64%|███████████████████████████████████▉                    | 322/502 [03:10<01:23,  2.15it/s]\u001b[A"
     ]
    },
    {
     "name": "stdout",
     "output_type": "stream",
     "text": [
      "NaN R-squared for subject_id 376. Check data quality and model configuration.\n"
     ]
    },
    {
     "name": "stderr",
     "output_type": "stream",
     "text": [
      "\n",
      "Processing Subject IDs:  64%|████████████████████████████████████                    | 323/502 [03:10<01:21,  2.19it/s]\u001b[A"
     ]
    },
    {
     "name": "stdout",
     "output_type": "stream",
     "text": [
      "NaN R-squared for subject_id 447. Check data quality and model configuration.\n"
     ]
    },
    {
     "name": "stderr",
     "output_type": "stream",
     "text": [
      "\n",
      "Processing Subject IDs:  65%|████████████████████████████████████▏                   | 324/502 [03:11<01:19,  2.24it/s]\u001b[A"
     ]
    },
    {
     "name": "stdout",
     "output_type": "stream",
     "text": [
      "NaN R-squared for subject_id 246. Check data quality and model configuration.\n"
     ]
    },
    {
     "name": "stderr",
     "output_type": "stream",
     "text": [
      "\n",
      "Processing Subject IDs:  65%|████████████████████████████████████▎                   | 325/502 [03:11<01:22,  2.14it/s]\u001b[A"
     ]
    },
    {
     "name": "stdout",
     "output_type": "stream",
     "text": [
      "NaN R-squared for subject_id 9. Check data quality and model configuration.\n"
     ]
    },
    {
     "name": "stderr",
     "output_type": "stream",
     "text": [
      "\n",
      "Processing Subject IDs:  65%|████████████████████████████████████▎                   | 326/502 [03:12<01:25,  2.06it/s]\u001b[A"
     ]
    },
    {
     "name": "stdout",
     "output_type": "stream",
     "text": [
      "NaN R-squared for subject_id 382. Check data quality and model configuration.\n"
     ]
    },
    {
     "name": "stderr",
     "output_type": "stream",
     "text": [
      "\n",
      "Processing Subject IDs:  65%|████████████████████████████████████▍                   | 327/502 [03:12<01:26,  2.02it/s]\u001b[A"
     ]
    },
    {
     "name": "stdout",
     "output_type": "stream",
     "text": [
      "NaN R-squared for subject_id 167. Check data quality and model configuration.\n"
     ]
    },
    {
     "name": "stderr",
     "output_type": "stream",
     "text": [
      "\n",
      "Processing Subject IDs:  65%|████████████████████████████████████▌                   | 328/502 [03:13<01:29,  1.94it/s]\u001b[A"
     ]
    },
    {
     "name": "stdout",
     "output_type": "stream",
     "text": [
      "NaN R-squared for subject_id 40. Check data quality and model configuration.\n"
     ]
    },
    {
     "name": "stderr",
     "output_type": "stream",
     "text": [
      "\n",
      "Processing Subject IDs:  66%|████████████████████████████████████▋                   | 329/502 [03:13<01:31,  1.89it/s]\u001b[A"
     ]
    },
    {
     "name": "stdout",
     "output_type": "stream",
     "text": [
      "NaN R-squared for subject_id 115. Check data quality and model configuration.\n"
     ]
    },
    {
     "name": "stderr",
     "output_type": "stream",
     "text": [
      "\n",
      "Processing Subject IDs:  66%|████████████████████████████████████▊                   | 330/502 [03:14<01:32,  1.87it/s]\u001b[A"
     ]
    },
    {
     "name": "stdout",
     "output_type": "stream",
     "text": [
      "NaN R-squared for subject_id 37. Check data quality and model configuration.\n"
     ]
    },
    {
     "name": "stderr",
     "output_type": "stream",
     "text": [
      "\n",
      "Processing Subject IDs:  66%|████████████████████████████████████▉                   | 331/502 [03:15<01:30,  1.89it/s]\u001b[A"
     ]
    },
    {
     "name": "stdout",
     "output_type": "stream",
     "text": [
      "NaN R-squared for subject_id 93. Check data quality and model configuration.\n"
     ]
    },
    {
     "name": "stderr",
     "output_type": "stream",
     "text": [
      "\n",
      "Processing Subject IDs:  66%|█████████████████████████████████████                   | 332/502 [03:15<01:30,  1.87it/s]\u001b[A"
     ]
    },
    {
     "name": "stdout",
     "output_type": "stream",
     "text": [
      "NaN R-squared for subject_id 203. Check data quality and model configuration.\n"
     ]
    },
    {
     "name": "stderr",
     "output_type": "stream",
     "text": [
      "\n",
      "Processing Subject IDs:  66%|█████████████████████████████████████▏                  | 333/502 [03:16<01:32,  1.83it/s]\u001b[A"
     ]
    },
    {
     "name": "stdout",
     "output_type": "stream",
     "text": [
      "NaN R-squared for subject_id 252. Check data quality and model configuration.\n"
     ]
    },
    {
     "name": "stderr",
     "output_type": "stream",
     "text": [
      "\n",
      "Processing Subject IDs:  67%|█████████████████████████████████████▎                  | 334/502 [03:16<01:33,  1.80it/s]\u001b[A"
     ]
    },
    {
     "name": "stdout",
     "output_type": "stream",
     "text": [
      "NaN R-squared for subject_id 319. Check data quality and model configuration.\n"
     ]
    },
    {
     "name": "stderr",
     "output_type": "stream",
     "text": [
      "\n",
      "Processing Subject IDs:  67%|█████████████████████████████████████▎                  | 335/502 [03:17<01:32,  1.81it/s]\u001b[A"
     ]
    },
    {
     "name": "stdout",
     "output_type": "stream",
     "text": [
      "NaN R-squared for subject_id 467. Check data quality and model configuration.\n"
     ]
    },
    {
     "name": "stderr",
     "output_type": "stream",
     "text": [
      "\n",
      "Processing Subject IDs:  67%|█████████████████████████████████████▍                  | 336/502 [03:17<01:31,  1.82it/s]\u001b[A"
     ]
    },
    {
     "name": "stdout",
     "output_type": "stream",
     "text": [
      "NaN R-squared for subject_id 239. Check data quality and model configuration.\n"
     ]
    },
    {
     "name": "stderr",
     "output_type": "stream",
     "text": [
      "\n",
      "Processing Subject IDs:  67%|█████████████████████████████████████▌                  | 337/502 [03:18<01:31,  1.81it/s]\u001b[A"
     ]
    },
    {
     "name": "stdout",
     "output_type": "stream",
     "text": [
      "NaN R-squared for subject_id 190. Check data quality and model configuration.\n"
     ]
    },
    {
     "name": "stderr",
     "output_type": "stream",
     "text": [
      "\n",
      "Processing Subject IDs:  67%|█████████████████████████████████████▋                  | 338/502 [03:18<01:32,  1.78it/s]\u001b[A"
     ]
    },
    {
     "name": "stdout",
     "output_type": "stream",
     "text": [
      "NaN R-squared for subject_id 224. Check data quality and model configuration.\n"
     ]
    },
    {
     "name": "stderr",
     "output_type": "stream",
     "text": [
      "\n",
      "Processing Subject IDs:  68%|█████████████████████████████████████▊                  | 339/502 [03:19<01:27,  1.87it/s]\u001b[A"
     ]
    },
    {
     "name": "stdout",
     "output_type": "stream",
     "text": [
      "NaN R-squared for subject_id 464. Check data quality and model configuration.\n"
     ]
    },
    {
     "name": "stderr",
     "output_type": "stream",
     "text": [
      "\n",
      "Processing Subject IDs:  68%|█████████████████████████████████████▉                  | 340/502 [03:19<01:21,  1.98it/s]\u001b[A"
     ]
    },
    {
     "name": "stdout",
     "output_type": "stream",
     "text": [
      "NaN R-squared for subject_id 306. Check data quality and model configuration.\n"
     ]
    },
    {
     "name": "stderr",
     "output_type": "stream",
     "text": [
      "\n",
      "Processing Subject IDs:  68%|██████████████████████████████████████                  | 341/502 [03:20<01:18,  2.04it/s]\u001b[A"
     ]
    },
    {
     "name": "stdout",
     "output_type": "stream",
     "text": [
      "NaN R-squared for subject_id 391. Check data quality and model configuration.\n"
     ]
    },
    {
     "name": "stderr",
     "output_type": "stream",
     "text": [
      "\n",
      "Processing Subject IDs:  68%|██████████████████████████████████████▏                 | 342/502 [03:20<01:16,  2.10it/s]\u001b[A"
     ]
    },
    {
     "name": "stdout",
     "output_type": "stream",
     "text": [
      "NaN R-squared for subject_id 466. Check data quality and model configuration.\n"
     ]
    },
    {
     "name": "stderr",
     "output_type": "stream",
     "text": [
      "\n",
      "Processing Subject IDs:  68%|██████████████████████████████████████▎                 | 343/502 [03:21<01:13,  2.17it/s]\u001b[A"
     ]
    },
    {
     "name": "stdout",
     "output_type": "stream",
     "text": [
      "NaN R-squared for subject_id 301. Check data quality and model configuration.\n"
     ]
    },
    {
     "name": "stderr",
     "output_type": "stream",
     "text": [
      "\n",
      "Processing Subject IDs:  69%|██████████████████████████████████████▎                 | 344/502 [03:21<01:11,  2.20it/s]\u001b[A"
     ]
    },
    {
     "name": "stdout",
     "output_type": "stream",
     "text": [
      "NaN R-squared for subject_id 341. Check data quality and model configuration.\n"
     ]
    },
    {
     "name": "stderr",
     "output_type": "stream",
     "text": [
      "\n",
      "Processing Subject IDs:  69%|██████████████████████████████████████▍                 | 345/502 [03:22<01:14,  2.12it/s]\u001b[A"
     ]
    },
    {
     "name": "stdout",
     "output_type": "stream",
     "text": [
      "NaN R-squared for subject_id 85. Check data quality and model configuration.\n"
     ]
    },
    {
     "name": "stderr",
     "output_type": "stream",
     "text": [
      "\n",
      "Processing Subject IDs:  69%|██████████████████████████████████████▌                 | 346/502 [03:22<01:18,  1.99it/s]\u001b[A"
     ]
    },
    {
     "name": "stdout",
     "output_type": "stream",
     "text": [
      "NaN R-squared for subject_id 273. Check data quality and model configuration.\n"
     ]
    },
    {
     "name": "stderr",
     "output_type": "stream",
     "text": [
      "\n",
      "Processing Subject IDs:  69%|██████████████████████████████████████▋                 | 347/502 [03:23<01:18,  1.98it/s]\u001b[A"
     ]
    },
    {
     "name": "stdout",
     "output_type": "stream",
     "text": [
      "NaN R-squared for subject_id 80. Check data quality and model configuration.\n"
     ]
    },
    {
     "name": "stderr",
     "output_type": "stream",
     "text": [
      "\n",
      "Processing Subject IDs:  69%|██████████████████████████████████████▊                 | 348/502 [03:23<01:22,  1.87it/s]\u001b[A"
     ]
    },
    {
     "name": "stdout",
     "output_type": "stream",
     "text": [
      "NaN R-squared for subject_id 110. Check data quality and model configuration.\n"
     ]
    },
    {
     "name": "stderr",
     "output_type": "stream",
     "text": [
      "\n",
      "Processing Subject IDs:  70%|██████████████████████████████████████▉                 | 349/502 [03:24<01:21,  1.87it/s]\u001b[A"
     ]
    },
    {
     "name": "stdout",
     "output_type": "stream",
     "text": [
      "NaN R-squared for subject_id 283. Check data quality and model configuration.\n"
     ]
    },
    {
     "name": "stderr",
     "output_type": "stream",
     "text": [
      "\n",
      "Processing Subject IDs:  70%|███████████████████████████████████████                 | 350/502 [03:24<01:20,  1.90it/s]\u001b[A"
     ]
    },
    {
     "name": "stdout",
     "output_type": "stream",
     "text": [
      "NaN R-squared for subject_id 6. Check data quality and model configuration.\n"
     ]
    },
    {
     "name": "stderr",
     "output_type": "stream",
     "text": [
      "\n",
      "Processing Subject IDs:  70%|███████████████████████████████████████▏                | 351/502 [03:25<01:19,  1.91it/s]\u001b[A"
     ]
    },
    {
     "name": "stdout",
     "output_type": "stream",
     "text": [
      "NaN R-squared for subject_id 272. Check data quality and model configuration.\n"
     ]
    },
    {
     "name": "stderr",
     "output_type": "stream",
     "text": [
      "\n",
      "Processing Subject IDs:  70%|███████████████████████████████████████▎                | 352/502 [03:25<01:17,  1.94it/s]\u001b[A"
     ]
    },
    {
     "name": "stdout",
     "output_type": "stream",
     "text": [
      "NaN R-squared for subject_id 208. Check data quality and model configuration.\n"
     ]
    },
    {
     "name": "stderr",
     "output_type": "stream",
     "text": [
      "\n",
      "Processing Subject IDs:  70%|███████████████████████████████████████▍                | 353/502 [03:26<01:18,  1.91it/s]\u001b[A"
     ]
    },
    {
     "name": "stdout",
     "output_type": "stream",
     "text": [
      "NaN R-squared for subject_id 176. Check data quality and model configuration.\n"
     ]
    },
    {
     "name": "stderr",
     "output_type": "stream",
     "text": [
      "\n",
      "Processing Subject IDs:  71%|███████████████████████████████████████▍                | 354/502 [03:26<01:19,  1.86it/s]\u001b[A"
     ]
    },
    {
     "name": "stdout",
     "output_type": "stream",
     "text": [
      "NaN R-squared for subject_id 17. Check data quality and model configuration.\n"
     ]
    },
    {
     "name": "stderr",
     "output_type": "stream",
     "text": [
      "\n",
      "Processing Subject IDs:  71%|███████████████████████████████████████▌                | 355/502 [03:27<01:19,  1.85it/s]\u001b[A"
     ]
    },
    {
     "name": "stdout",
     "output_type": "stream",
     "text": [
      "NaN R-squared for subject_id 64. Check data quality and model configuration.\n"
     ]
    },
    {
     "name": "stderr",
     "output_type": "stream",
     "text": [
      "\n",
      "Processing Subject IDs:  71%|███████████████████████████████████████▋                | 356/502 [03:28<01:15,  1.93it/s]\u001b[A"
     ]
    },
    {
     "name": "stdout",
     "output_type": "stream",
     "text": [
      "NaN R-squared for subject_id 429. Check data quality and model configuration.\n"
     ]
    },
    {
     "name": "stderr",
     "output_type": "stream",
     "text": [
      "\n",
      "Processing Subject IDs:  71%|███████████████████████████████████████▊                | 357/502 [03:28<01:10,  2.05it/s]\u001b[A"
     ]
    },
    {
     "name": "stdout",
     "output_type": "stream",
     "text": [
      "NaN R-squared for subject_id 59. Check data quality and model configuration.\n"
     ]
    },
    {
     "name": "stderr",
     "output_type": "stream",
     "text": [
      "\n",
      "Processing Subject IDs:  71%|███████████████████████████████████████▉                | 358/502 [03:28<01:07,  2.13it/s]\u001b[A"
     ]
    },
    {
     "name": "stdout",
     "output_type": "stream",
     "text": [
      "NaN R-squared for subject_id 83. Check data quality and model configuration.\n"
     ]
    },
    {
     "name": "stderr",
     "output_type": "stream",
     "text": [
      "\n",
      "Processing Subject IDs:  72%|████████████████████████████████████████                | 359/502 [03:29<01:09,  2.05it/s]\u001b[A"
     ]
    },
    {
     "name": "stdout",
     "output_type": "stream",
     "text": [
      "NaN R-squared for subject_id 142. Check data quality and model configuration.\n"
     ]
    },
    {
     "name": "stderr",
     "output_type": "stream",
     "text": [
      "\n",
      "Processing Subject IDs:  72%|████████████████████████████████████████▏               | 360/502 [03:29<01:11,  1.97it/s]\u001b[A"
     ]
    },
    {
     "name": "stdout",
     "output_type": "stream",
     "text": [
      "NaN R-squared for subject_id 349. Check data quality and model configuration.\n"
     ]
    },
    {
     "name": "stderr",
     "output_type": "stream",
     "text": [
      "\n",
      "Processing Subject IDs:  72%|████████████████████████████████████████▎               | 361/502 [03:30<01:11,  1.96it/s]\u001b[A"
     ]
    },
    {
     "name": "stdout",
     "output_type": "stream",
     "text": [
      "NaN R-squared for subject_id 106. Check data quality and model configuration.\n"
     ]
    },
    {
     "name": "stderr",
     "output_type": "stream",
     "text": [
      "\n",
      "Processing Subject IDs:  72%|████████████████████████████████████████▍               | 362/502 [03:30<01:08,  2.03it/s]\u001b[A"
     ]
    },
    {
     "name": "stdout",
     "output_type": "stream",
     "text": [
      "NaN R-squared for subject_id 357. Check data quality and model configuration.\n"
     ]
    },
    {
     "name": "stderr",
     "output_type": "stream",
     "text": [
      "\n",
      "Processing Subject IDs:  72%|████████████████████████████████████████▍               | 363/502 [03:31<01:06,  2.10it/s]\u001b[A"
     ]
    },
    {
     "name": "stdout",
     "output_type": "stream",
     "text": [
      "NaN R-squared for subject_id 77. Check data quality and model configuration.\n"
     ]
    },
    {
     "name": "stderr",
     "output_type": "stream",
     "text": [
      "\n",
      "Processing Subject IDs:  73%|████████████████████████████████████████▌               | 364/502 [03:31<01:04,  2.13it/s]\u001b[A"
     ]
    },
    {
     "name": "stdout",
     "output_type": "stream",
     "text": [
      "NaN R-squared for subject_id 147. Check data quality and model configuration.\n"
     ]
    },
    {
     "name": "stderr",
     "output_type": "stream",
     "text": [
      "\n",
      "Processing Subject IDs:  73%|████████████████████████████████████████▋               | 365/502 [03:32<01:10,  1.94it/s]\u001b[A"
     ]
    },
    {
     "name": "stdout",
     "output_type": "stream",
     "text": [
      "NaN R-squared for subject_id 300. Check data quality and model configuration.\n"
     ]
    },
    {
     "name": "stderr",
     "output_type": "stream",
     "text": [
      "\n",
      "Processing Subject IDs:  73%|████████████████████████████████████████▊               | 366/502 [03:32<01:12,  1.87it/s]\u001b[A"
     ]
    },
    {
     "name": "stdout",
     "output_type": "stream",
     "text": [
      "NaN R-squared for subject_id 136. Check data quality and model configuration.\n"
     ]
    },
    {
     "name": "stderr",
     "output_type": "stream",
     "text": [
      "\n",
      "Processing Subject IDs:  73%|████████████████████████████████████████▉               | 367/502 [03:33<01:13,  1.84it/s]\u001b[A"
     ]
    },
    {
     "name": "stdout",
     "output_type": "stream",
     "text": [
      "NaN R-squared for subject_id 500. Check data quality and model configuration.\n"
     ]
    },
    {
     "name": "stderr",
     "output_type": "stream",
     "text": [
      "\n",
      "Processing Subject IDs:  73%|█████████████████████████████████████████               | 368/502 [03:34<01:18,  1.70it/s]\u001b[A"
     ]
    },
    {
     "name": "stdout",
     "output_type": "stream",
     "text": [
      "NaN R-squared for subject_id 188. Check data quality and model configuration.\n"
     ]
    },
    {
     "name": "stderr",
     "output_type": "stream",
     "text": [
      "\n",
      "Processing Subject IDs:  74%|█████████████████████████████████████████▏              | 369/502 [03:34<01:16,  1.73it/s]\u001b[A"
     ]
    },
    {
     "name": "stdout",
     "output_type": "stream",
     "text": [
      "NaN R-squared for subject_id 35. Check data quality and model configuration.\n"
     ]
    },
    {
     "name": "stderr",
     "output_type": "stream",
     "text": [
      "\n",
      "Processing Subject IDs:  74%|█████████████████████████████████████████▎              | 370/502 [03:35<01:22,  1.59it/s]\u001b[A"
     ]
    },
    {
     "name": "stdout",
     "output_type": "stream",
     "text": [
      "NaN R-squared for subject_id 221. Check data quality and model configuration.\n"
     ]
    },
    {
     "name": "stderr",
     "output_type": "stream",
     "text": [
      "\n",
      "Processing Subject IDs:  74%|█████████████████████████████████████████▍              | 371/502 [03:36<01:23,  1.57it/s]\u001b[A"
     ]
    },
    {
     "name": "stdout",
     "output_type": "stream",
     "text": [
      "NaN R-squared for subject_id 70. Check data quality and model configuration.\n"
     ]
    },
    {
     "name": "stderr",
     "output_type": "stream",
     "text": [
      "\n",
      "Processing Subject IDs:  74%|█████████████████████████████████████████▍              | 372/502 [03:36<01:25,  1.52it/s]\u001b[A"
     ]
    },
    {
     "name": "stdout",
     "output_type": "stream",
     "text": [
      "NaN R-squared for subject_id 418. Check data quality and model configuration.\n"
     ]
    },
    {
     "name": "stderr",
     "output_type": "stream",
     "text": [
      "\n",
      "Processing Subject IDs:  74%|█████████████████████████████████████████▌              | 373/502 [03:37<01:23,  1.54it/s]\u001b[A"
     ]
    },
    {
     "name": "stdout",
     "output_type": "stream",
     "text": [
      "NaN R-squared for subject_id 87. Check data quality and model configuration.\n"
     ]
    },
    {
     "name": "stderr",
     "output_type": "stream",
     "text": [
      "\n",
      "Processing Subject IDs:  75%|█████████████████████████████████████████▋              | 374/502 [03:38<01:20,  1.59it/s]\u001b[A"
     ]
    },
    {
     "name": "stdout",
     "output_type": "stream",
     "text": [
      "NaN R-squared for subject_id 259. Check data quality and model configuration.\n"
     ]
    },
    {
     "name": "stderr",
     "output_type": "stream",
     "text": [
      "\n",
      "Processing Subject IDs:  75%|█████████████████████████████████████████▊              | 375/502 [03:38<01:13,  1.73it/s]\u001b[A"
     ]
    },
    {
     "name": "stdout",
     "output_type": "stream",
     "text": [
      "NaN R-squared for subject_id 21. Check data quality and model configuration.\n"
     ]
    },
    {
     "name": "stderr",
     "output_type": "stream",
     "text": [
      "\n",
      "Processing Subject IDs:  75%|█████████████████████████████████████████▉              | 376/502 [03:39<01:07,  1.86it/s]\u001b[A"
     ]
    },
    {
     "name": "stdout",
     "output_type": "stream",
     "text": [
      "NaN R-squared for subject_id 222. Check data quality and model configuration.\n"
     ]
    },
    {
     "name": "stderr",
     "output_type": "stream",
     "text": [
      "\n",
      "Processing Subject IDs:  75%|██████████████████████████████████████████              | 377/502 [03:39<01:10,  1.77it/s]\u001b[A"
     ]
    },
    {
     "name": "stdout",
     "output_type": "stream",
     "text": [
      "NaN R-squared for subject_id 2. Check data quality and model configuration.\n"
     ]
    },
    {
     "name": "stderr",
     "output_type": "stream",
     "text": [
      "\n",
      "Processing Subject IDs:  75%|██████████████████████████████████████████▏             | 378/502 [03:40<01:08,  1.80it/s]\u001b[A"
     ]
    },
    {
     "name": "stdout",
     "output_type": "stream",
     "text": [
      "NaN R-squared for subject_id 47. Check data quality and model configuration.\n"
     ]
    },
    {
     "name": "stderr",
     "output_type": "stream",
     "text": [
      "\n",
      "Processing Subject IDs:  75%|██████████████████████████████████████████▎             | 379/502 [03:40<01:13,  1.66it/s]\u001b[A"
     ]
    },
    {
     "name": "stdout",
     "output_type": "stream",
     "text": [
      "NaN R-squared for subject_id 404. Check data quality and model configuration.\n"
     ]
    },
    {
     "name": "stderr",
     "output_type": "stream",
     "text": [
      "\n",
      "Processing Subject IDs:  76%|██████████████████████████████████████████▍             | 380/502 [03:41<01:18,  1.56it/s]\u001b[A"
     ]
    },
    {
     "name": "stdout",
     "output_type": "stream",
     "text": [
      "NaN R-squared for subject_id 234. Check data quality and model configuration.\n"
     ]
    },
    {
     "name": "stderr",
     "output_type": "stream",
     "text": [
      "\n",
      "Processing Subject IDs:  76%|██████████████████████████████████████████▌             | 381/502 [03:42<01:22,  1.47it/s]\u001b[A"
     ]
    },
    {
     "name": "stdout",
     "output_type": "stream",
     "text": [
      "NaN R-squared for subject_id 344. Check data quality and model configuration.\n"
     ]
    },
    {
     "name": "stderr",
     "output_type": "stream",
     "text": [
      "\n",
      "Processing Subject IDs:  76%|██████████████████████████████████████████▌             | 382/502 [03:43<01:21,  1.47it/s]\u001b[A"
     ]
    },
    {
     "name": "stdout",
     "output_type": "stream",
     "text": [
      "NaN R-squared for subject_id 343. Check data quality and model configuration.\n"
     ]
    },
    {
     "name": "stderr",
     "output_type": "stream",
     "text": [
      "\n",
      "Processing Subject IDs:  76%|██████████████████████████████████████████▋             | 383/502 [03:43<01:26,  1.37it/s]\u001b[A"
     ]
    },
    {
     "name": "stdout",
     "output_type": "stream",
     "text": [
      "NaN R-squared for subject_id 117. Check data quality and model configuration.\n"
     ]
    },
    {
     "name": "stderr",
     "output_type": "stream",
     "text": [
      "\n",
      "Processing Subject IDs:  76%|██████████████████████████████████████████▊             | 384/502 [03:44<01:27,  1.35it/s]\u001b[A"
     ]
    },
    {
     "name": "stdout",
     "output_type": "stream",
     "text": [
      "NaN R-squared for subject_id 364. Check data quality and model configuration.\n"
     ]
    },
    {
     "name": "stderr",
     "output_type": "stream",
     "text": [
      "\n",
      "Processing Subject IDs:  77%|██████████████████████████████████████████▉             | 385/502 [03:45<01:24,  1.39it/s]\u001b[A"
     ]
    },
    {
     "name": "stdout",
     "output_type": "stream",
     "text": [
      "NaN R-squared for subject_id 97. Check data quality and model configuration.\n"
     ]
    },
    {
     "name": "stderr",
     "output_type": "stream",
     "text": [
      "\n",
      "Processing Subject IDs:  77%|███████████████████████████████████████████             | 386/502 [03:46<01:21,  1.43it/s]\u001b[A"
     ]
    },
    {
     "name": "stdout",
     "output_type": "stream",
     "text": [
      "NaN R-squared for subject_id 476. Check data quality and model configuration.\n"
     ]
    },
    {
     "name": "stderr",
     "output_type": "stream",
     "text": [
      "\n",
      "Processing Subject IDs:  77%|███████████████████████████████████████████▏            | 387/502 [03:46<01:20,  1.43it/s]\u001b[A"
     ]
    },
    {
     "name": "stdout",
     "output_type": "stream",
     "text": [
      "NaN R-squared for subject_id 409. Check data quality and model configuration.\n"
     ]
    },
    {
     "name": "stderr",
     "output_type": "stream",
     "text": [
      "\n",
      "Processing Subject IDs:  77%|███████████████████████████████████████████▎            | 388/502 [03:47<01:15,  1.51it/s]\u001b[A"
     ]
    },
    {
     "name": "stdout",
     "output_type": "stream",
     "text": [
      "NaN R-squared for subject_id 170. Check data quality and model configuration.\n"
     ]
    },
    {
     "name": "stderr",
     "output_type": "stream",
     "text": [
      "\n",
      "Processing Subject IDs:  77%|███████████████████████████████████████████▍            | 389/502 [03:47<01:09,  1.61it/s]\u001b[A"
     ]
    },
    {
     "name": "stdout",
     "output_type": "stream",
     "text": [
      "NaN R-squared for subject_id 88. Check data quality and model configuration.\n"
     ]
    },
    {
     "name": "stderr",
     "output_type": "stream",
     "text": [
      "\n",
      "Processing Subject IDs:  78%|███████████████████████████████████████████▌            | 390/502 [03:48<01:09,  1.61it/s]\u001b[A"
     ]
    },
    {
     "name": "stdout",
     "output_type": "stream",
     "text": [
      "NaN R-squared for subject_id 45. Check data quality and model configuration.\n"
     ]
    },
    {
     "name": "stderr",
     "output_type": "stream",
     "text": [
      "\n",
      "Processing Subject IDs:  78%|███████████████████████████████████████████▌            | 391/502 [03:48<01:05,  1.71it/s]\u001b[A"
     ]
    },
    {
     "name": "stdout",
     "output_type": "stream",
     "text": [
      "NaN R-squared for subject_id 482. Check data quality and model configuration.\n"
     ]
    },
    {
     "name": "stderr",
     "output_type": "stream",
     "text": [
      "\n",
      "Processing Subject IDs:  78%|███████████████████████████████████████████▋            | 392/502 [03:49<01:08,  1.60it/s]\u001b[A"
     ]
    },
    {
     "name": "stdout",
     "output_type": "stream",
     "text": [
      "NaN R-squared for subject_id 439. Check data quality and model configuration.\n"
     ]
    },
    {
     "name": "stderr",
     "output_type": "stream",
     "text": [
      "\n",
      "Processing Subject IDs:  78%|███████████████████████████████████████████▊            | 393/502 [03:50<01:07,  1.62it/s]\u001b[A"
     ]
    },
    {
     "name": "stdout",
     "output_type": "stream",
     "text": [
      "NaN R-squared for subject_id 166. Check data quality and model configuration.\n"
     ]
    },
    {
     "name": "stderr",
     "output_type": "stream",
     "text": [
      "\n",
      "Processing Subject IDs:  78%|███████████████████████████████████████████▉            | 394/502 [03:50<01:07,  1.59it/s]\u001b[A"
     ]
    },
    {
     "name": "stdout",
     "output_type": "stream",
     "text": [
      "NaN R-squared for subject_id 318. Check data quality and model configuration.\n"
     ]
    },
    {
     "name": "stderr",
     "output_type": "stream",
     "text": [
      "\n",
      "Processing Subject IDs:  79%|████████████████████████████████████████████            | 395/502 [03:51<01:07,  1.59it/s]\u001b[A"
     ]
    },
    {
     "name": "stdout",
     "output_type": "stream",
     "text": [
      "NaN R-squared for subject_id 432. Check data quality and model configuration.\n"
     ]
    },
    {
     "name": "stderr",
     "output_type": "stream",
     "text": [
      "\n",
      "Processing Subject IDs:  79%|████████████████████████████████████████████▏           | 396/502 [03:52<01:04,  1.63it/s]\u001b[A"
     ]
    },
    {
     "name": "stdout",
     "output_type": "stream",
     "text": [
      "NaN R-squared for subject_id 261. Check data quality and model configuration.\n"
     ]
    },
    {
     "name": "stderr",
     "output_type": "stream",
     "text": [
      "\n",
      "Processing Subject IDs:  79%|████████████████████████████████████████████▎           | 397/502 [03:52<01:07,  1.56it/s]\u001b[A"
     ]
    },
    {
     "name": "stdout",
     "output_type": "stream",
     "text": [
      "NaN R-squared for subject_id 258. Check data quality and model configuration.\n"
     ]
    },
    {
     "name": "stderr",
     "output_type": "stream",
     "text": [
      "\n",
      "Processing Subject IDs:  79%|████████████████████████████████████████████▍           | 398/502 [03:53<01:09,  1.49it/s]\u001b[A"
     ]
    },
    {
     "name": "stdout",
     "output_type": "stream",
     "text": [
      "NaN R-squared for subject_id 248. Check data quality and model configuration.\n"
     ]
    },
    {
     "name": "stderr",
     "output_type": "stream",
     "text": [
      "\n",
      "Processing Subject IDs:  79%|████████████████████████████████████████████▌           | 399/502 [03:54<01:10,  1.45it/s]\u001b[A"
     ]
    },
    {
     "name": "stdout",
     "output_type": "stream",
     "text": [
      "NaN R-squared for subject_id 342. Check data quality and model configuration.\n"
     ]
    },
    {
     "name": "stderr",
     "output_type": "stream",
     "text": [
      "\n",
      "Processing Subject IDs:  80%|████████████████████████████████████████████▌           | 400/502 [03:55<01:14,  1.36it/s]\u001b[A"
     ]
    },
    {
     "name": "stdout",
     "output_type": "stream",
     "text": [
      "NaN R-squared for subject_id 186. Check data quality and model configuration.\n"
     ]
    },
    {
     "name": "stderr",
     "output_type": "stream",
     "text": [
      "\n",
      "Processing Subject IDs:  80%|████████████████████████████████████████████▋           | 401/502 [03:55<01:12,  1.40it/s]\u001b[A"
     ]
    },
    {
     "name": "stdout",
     "output_type": "stream",
     "text": [
      "NaN R-squared for subject_id 69. Check data quality and model configuration.\n"
     ]
    },
    {
     "name": "stderr",
     "output_type": "stream",
     "text": [
      "\n",
      "Processing Subject IDs:  80%|████████████████████████████████████████████▊           | 402/502 [03:56<01:04,  1.54it/s]\u001b[A"
     ]
    },
    {
     "name": "stdout",
     "output_type": "stream",
     "text": [
      "NaN R-squared for subject_id 8. Check data quality and model configuration.\n"
     ]
    },
    {
     "name": "stderr",
     "output_type": "stream",
     "text": [
      "\n",
      "Processing Subject IDs:  80%|████████████████████████████████████████████▉           | 403/502 [03:56<00:59,  1.65it/s]\u001b[A"
     ]
    },
    {
     "name": "stdout",
     "output_type": "stream",
     "text": [
      "NaN R-squared for subject_id 7. Check data quality and model configuration.\n"
     ]
    },
    {
     "name": "stderr",
     "output_type": "stream",
     "text": [
      "\n",
      "Processing Subject IDs:  80%|█████████████████████████████████████████████           | 404/502 [03:57<00:56,  1.74it/s]\u001b[A"
     ]
    },
    {
     "name": "stdout",
     "output_type": "stream",
     "text": [
      "NaN R-squared for subject_id 472. Check data quality and model configuration.\n"
     ]
    },
    {
     "name": "stderr",
     "output_type": "stream",
     "text": [
      "\n",
      "Processing Subject IDs:  81%|█████████████████████████████████████████████▏          | 405/502 [03:57<00:54,  1.79it/s]\u001b[A"
     ]
    },
    {
     "name": "stdout",
     "output_type": "stream",
     "text": [
      "NaN R-squared for subject_id 230. Check data quality and model configuration.\n"
     ]
    },
    {
     "name": "stderr",
     "output_type": "stream",
     "text": [
      "\n",
      "Processing Subject IDs:  81%|█████████████████████████████████████████████▎          | 406/502 [03:58<00:53,  1.78it/s]\u001b[A"
     ]
    },
    {
     "name": "stdout",
     "output_type": "stream",
     "text": [
      "NaN R-squared for subject_id 448. Check data quality and model configuration.\n"
     ]
    },
    {
     "name": "stderr",
     "output_type": "stream",
     "text": [
      "\n",
      "Processing Subject IDs:  81%|█████████████████████████████████████████████▍          | 407/502 [03:59<00:58,  1.61it/s]\u001b[A"
     ]
    },
    {
     "name": "stdout",
     "output_type": "stream",
     "text": [
      "NaN R-squared for subject_id 270. Check data quality and model configuration.\n"
     ]
    },
    {
     "name": "stderr",
     "output_type": "stream",
     "text": [
      "\n",
      "Processing Subject IDs:  81%|█████████████████████████████████████████████▌          | 408/502 [03:59<01:01,  1.54it/s]\u001b[A"
     ]
    },
    {
     "name": "stdout",
     "output_type": "stream",
     "text": [
      "NaN R-squared for subject_id 189. Check data quality and model configuration.\n"
     ]
    },
    {
     "name": "stderr",
     "output_type": "stream",
     "text": [
      "\n",
      "Processing Subject IDs:  81%|█████████████████████████████████████████████▋          | 409/502 [04:00<01:00,  1.54it/s]\u001b[A"
     ]
    },
    {
     "name": "stdout",
     "output_type": "stream",
     "text": [
      "NaN R-squared for subject_id 109. Check data quality and model configuration.\n"
     ]
    },
    {
     "name": "stderr",
     "output_type": "stream",
     "text": [
      "\n",
      "Processing Subject IDs:  82%|█████████████████████████████████████████████▋          | 410/502 [04:01<00:59,  1.55it/s]\u001b[A"
     ]
    },
    {
     "name": "stdout",
     "output_type": "stream",
     "text": [
      "NaN R-squared for subject_id 180. Check data quality and model configuration.\n"
     ]
    },
    {
     "name": "stderr",
     "output_type": "stream",
     "text": [
      "\n",
      "Processing Subject IDs:  82%|█████████████████████████████████████████████▊          | 411/502 [04:01<00:59,  1.53it/s]\u001b[A"
     ]
    },
    {
     "name": "stdout",
     "output_type": "stream",
     "text": [
      "NaN R-squared for subject_id 356. Check data quality and model configuration.\n"
     ]
    },
    {
     "name": "stderr",
     "output_type": "stream",
     "text": [
      "\n",
      "Processing Subject IDs:  82%|█████████████████████████████████████████████▉          | 412/502 [04:02<00:58,  1.53it/s]\u001b[A"
     ]
    },
    {
     "name": "stdout",
     "output_type": "stream",
     "text": [
      "NaN R-squared for subject_id 145. Check data quality and model configuration.\n"
     ]
    },
    {
     "name": "stderr",
     "output_type": "stream",
     "text": [
      "\n",
      "Processing Subject IDs:  82%|██████████████████████████████████████████████          | 413/502 [04:03<00:56,  1.59it/s]\u001b[A"
     ]
    },
    {
     "name": "stdout",
     "output_type": "stream",
     "text": [
      "NaN R-squared for subject_id 48. Check data quality and model configuration.\n"
     ]
    },
    {
     "name": "stderr",
     "output_type": "stream",
     "text": [
      "\n",
      "Processing Subject IDs:  82%|██████████████████████████████████████████████▏         | 414/502 [04:03<00:53,  1.64it/s]\u001b[A"
     ]
    },
    {
     "name": "stdout",
     "output_type": "stream",
     "text": [
      "NaN R-squared for subject_id 459. Check data quality and model configuration.\n"
     ]
    },
    {
     "name": "stderr",
     "output_type": "stream",
     "text": [
      "\n",
      "Processing Subject IDs:  83%|██████████████████████████████████████████████▎         | 415/502 [04:04<00:50,  1.71it/s]\u001b[A"
     ]
    },
    {
     "name": "stdout",
     "output_type": "stream",
     "text": [
      "NaN R-squared for subject_id 250. Check data quality and model configuration.\n"
     ]
    },
    {
     "name": "stderr",
     "output_type": "stream",
     "text": [
      "\n",
      "Processing Subject IDs:  83%|██████████████████████████████████████████████▍         | 416/502 [04:04<00:47,  1.81it/s]\u001b[A"
     ]
    },
    {
     "name": "stdout",
     "output_type": "stream",
     "text": [
      "NaN R-squared for subject_id 78. Check data quality and model configuration.\n"
     ]
    },
    {
     "name": "stderr",
     "output_type": "stream",
     "text": [
      "\n",
      "Processing Subject IDs:  83%|██████████████████████████████████████████████▌         | 417/502 [04:05<00:44,  1.91it/s]\u001b[A"
     ]
    },
    {
     "name": "stdout",
     "output_type": "stream",
     "text": [
      "NaN R-squared for subject_id 330. Check data quality and model configuration.\n"
     ]
    },
    {
     "name": "stderr",
     "output_type": "stream",
     "text": [
      "\n",
      "Processing Subject IDs:  83%|██████████████████████████████████████████████▋         | 418/502 [04:05<00:42,  1.98it/s]\u001b[A"
     ]
    },
    {
     "name": "stdout",
     "output_type": "stream",
     "text": [
      "NaN R-squared for subject_id 395. Check data quality and model configuration.\n"
     ]
    },
    {
     "name": "stderr",
     "output_type": "stream",
     "text": [
      "\n",
      "Processing Subject IDs:  83%|██████████████████████████████████████████████▋         | 419/502 [04:06<00:42,  1.96it/s]\u001b[A"
     ]
    },
    {
     "name": "stdout",
     "output_type": "stream",
     "text": [
      "NaN R-squared for subject_id 441. Check data quality and model configuration.\n"
     ]
    },
    {
     "name": "stderr",
     "output_type": "stream",
     "text": [
      "\n",
      "Processing Subject IDs:  84%|██████████████████████████████████████████████▊         | 420/502 [04:06<00:41,  1.95it/s]\u001b[A"
     ]
    },
    {
     "name": "stdout",
     "output_type": "stream",
     "text": [
      "NaN R-squared for subject_id 282. Check data quality and model configuration.\n"
     ]
    },
    {
     "name": "stderr",
     "output_type": "stream",
     "text": [
      "\n",
      "Processing Subject IDs:  84%|██████████████████████████████████████████████▉         | 421/502 [04:07<00:43,  1.88it/s]\u001b[A"
     ]
    },
    {
     "name": "stdout",
     "output_type": "stream",
     "text": [
      "NaN R-squared for subject_id 99. Check data quality and model configuration.\n"
     ]
    },
    {
     "name": "stderr",
     "output_type": "stream",
     "text": [
      "\n",
      "Processing Subject IDs:  84%|███████████████████████████████████████████████         | 422/502 [04:07<00:43,  1.82it/s]\u001b[A"
     ]
    },
    {
     "name": "stdout",
     "output_type": "stream",
     "text": [
      "NaN R-squared for subject_id 0. Check data quality and model configuration.\n"
     ]
    },
    {
     "name": "stderr",
     "output_type": "stream",
     "text": [
      "\n",
      "Processing Subject IDs:  84%|███████████████████████████████████████████████▏        | 423/502 [04:08<00:43,  1.83it/s]\u001b[A"
     ]
    },
    {
     "name": "stdout",
     "output_type": "stream",
     "text": [
      "NaN R-squared for subject_id 427. Check data quality and model configuration.\n"
     ]
    },
    {
     "name": "stderr",
     "output_type": "stream",
     "text": [
      "\n",
      "Processing Subject IDs:  84%|███████████████████████████████████████████████▎        | 424/502 [04:08<00:43,  1.79it/s]\u001b[A"
     ]
    },
    {
     "name": "stdout",
     "output_type": "stream",
     "text": [
      "NaN R-squared for subject_id 437. Check data quality and model configuration.\n"
     ]
    },
    {
     "name": "stderr",
     "output_type": "stream",
     "text": [
      "\n",
      "Processing Subject IDs:  85%|███████████████████████████████████████████████▍        | 425/502 [04:09<00:43,  1.76it/s]\u001b[A"
     ]
    },
    {
     "name": "stdout",
     "output_type": "stream",
     "text": [
      "NaN R-squared for subject_id 111. Check data quality and model configuration.\n"
     ]
    },
    {
     "name": "stderr",
     "output_type": "stream",
     "text": [
      "\n",
      "Processing Subject IDs:  85%|███████████████████████████████████████████████▌        | 426/502 [04:10<00:43,  1.76it/s]\u001b[A"
     ]
    },
    {
     "name": "stdout",
     "output_type": "stream",
     "text": [
      "NaN R-squared for subject_id 214. Check data quality and model configuration.\n"
     ]
    },
    {
     "name": "stderr",
     "output_type": "stream",
     "text": [
      "\n",
      "Processing Subject IDs:  85%|███████████████████████████████████████████████▋        | 427/502 [04:10<00:43,  1.71it/s]\u001b[A"
     ]
    },
    {
     "name": "stdout",
     "output_type": "stream",
     "text": [
      "NaN R-squared for subject_id 269. Check data quality and model configuration.\n"
     ]
    },
    {
     "name": "stderr",
     "output_type": "stream",
     "text": [
      "\n",
      "Processing Subject IDs:  85%|███████████████████████████████████████████████▋        | 428/502 [04:11<00:43,  1.72it/s]\u001b[A"
     ]
    },
    {
     "name": "stdout",
     "output_type": "stream",
     "text": [
      "NaN R-squared for subject_id 43. Check data quality and model configuration.\n"
     ]
    },
    {
     "name": "stderr",
     "output_type": "stream",
     "text": [
      "\n",
      "Processing Subject IDs:  85%|███████████████████████████████████████████████▊        | 429/502 [04:11<00:43,  1.69it/s]\u001b[A"
     ]
    },
    {
     "name": "stdout",
     "output_type": "stream",
     "text": [
      "NaN R-squared for subject_id 156. Check data quality and model configuration.\n"
     ]
    },
    {
     "name": "stderr",
     "output_type": "stream",
     "text": [
      "\n",
      "Processing Subject IDs:  86%|███████████████████████████████████████████████▉        | 430/502 [04:12<00:40,  1.78it/s]\u001b[A"
     ]
    },
    {
     "name": "stdout",
     "output_type": "stream",
     "text": [
      "NaN R-squared for subject_id 32. Check data quality and model configuration.\n"
     ]
    },
    {
     "name": "stderr",
     "output_type": "stream",
     "text": [
      "\n",
      "Processing Subject IDs:  86%|████████████████████████████████████████████████        | 431/502 [04:12<00:39,  1.81it/s]\u001b[A"
     ]
    },
    {
     "name": "stdout",
     "output_type": "stream",
     "text": [
      "NaN R-squared for subject_id 66. Check data quality and model configuration.\n"
     ]
    },
    {
     "name": "stderr",
     "output_type": "stream",
     "text": [
      "\n",
      "Processing Subject IDs:  86%|████████████████████████████████████████████████▏       | 432/502 [04:13<00:36,  1.89it/s]\u001b[A"
     ]
    },
    {
     "name": "stdout",
     "output_type": "stream",
     "text": [
      "NaN R-squared for subject_id 73. Check data quality and model configuration.\n"
     ]
    },
    {
     "name": "stderr",
     "output_type": "stream",
     "text": [
      "\n",
      "Processing Subject IDs:  86%|████████████████████████████████████████████████▎       | 433/502 [04:13<00:36,  1.87it/s]\u001b[A"
     ]
    },
    {
     "name": "stdout",
     "output_type": "stream",
     "text": [
      "NaN R-squared for subject_id 322. Check data quality and model configuration.\n"
     ]
    },
    {
     "name": "stderr",
     "output_type": "stream",
     "text": [
      "\n",
      "Processing Subject IDs:  86%|████████████████████████████████████████████████▍       | 434/502 [04:14<00:38,  1.77it/s]\u001b[A"
     ]
    },
    {
     "name": "stdout",
     "output_type": "stream",
     "text": [
      "NaN R-squared for subject_id 144. Check data quality and model configuration.\n"
     ]
    },
    {
     "name": "stderr",
     "output_type": "stream",
     "text": [
      "\n",
      "Processing Subject IDs:  87%|████████████████████████████████████████████████▌       | 435/502 [04:15<00:38,  1.76it/s]\u001b[A"
     ]
    },
    {
     "name": "stdout",
     "output_type": "stream",
     "text": [
      "NaN R-squared for subject_id 338. Check data quality and model configuration.\n"
     ]
    },
    {
     "name": "stderr",
     "output_type": "stream",
     "text": [
      "\n",
      "Processing Subject IDs:  87%|████████████████████████████████████████████████▋       | 436/502 [04:15<00:37,  1.75it/s]\u001b[A"
     ]
    },
    {
     "name": "stdout",
     "output_type": "stream",
     "text": [
      "NaN R-squared for subject_id 131. Check data quality and model configuration.\n"
     ]
    },
    {
     "name": "stderr",
     "output_type": "stream",
     "text": [
      "\n",
      "Processing Subject IDs:  87%|████████████████████████████████████████████████▋       | 437/502 [04:16<00:37,  1.72it/s]\u001b[A"
     ]
    },
    {
     "name": "stdout",
     "output_type": "stream",
     "text": [
      "NaN R-squared for subject_id 475. Check data quality and model configuration.\n"
     ]
    },
    {
     "name": "stderr",
     "output_type": "stream",
     "text": [
      "\n",
      "Processing Subject IDs:  87%|████████████████████████████████████████████████▊       | 438/502 [04:16<00:38,  1.67it/s]\u001b[A"
     ]
    },
    {
     "name": "stdout",
     "output_type": "stream",
     "text": [
      "NaN R-squared for subject_id 417. Check data quality and model configuration.\n"
     ]
    },
    {
     "name": "stderr",
     "output_type": "stream",
     "text": [
      "\n",
      "Processing Subject IDs:  87%|████████████████████████████████████████████████▉       | 439/502 [04:17<00:38,  1.63it/s]\u001b[A"
     ]
    },
    {
     "name": "stdout",
     "output_type": "stream",
     "text": [
      "NaN R-squared for subject_id 231. Check data quality and model configuration.\n"
     ]
    },
    {
     "name": "stderr",
     "output_type": "stream",
     "text": [
      "\n",
      "Processing Subject IDs:  88%|█████████████████████████████████████████████████       | 440/502 [04:18<00:39,  1.55it/s]\u001b[A"
     ]
    },
    {
     "name": "stdout",
     "output_type": "stream",
     "text": [
      "NaN R-squared for subject_id 346. Check data quality and model configuration.\n"
     ]
    },
    {
     "name": "stderr",
     "output_type": "stream",
     "text": [
      "\n",
      "Processing Subject IDs:  88%|█████████████████████████████████████████████████▏      | 441/502 [04:18<00:37,  1.61it/s]\u001b[A"
     ]
    },
    {
     "name": "stdout",
     "output_type": "stream",
     "text": [
      "NaN R-squared for subject_id 202. Check data quality and model configuration.\n"
     ]
    },
    {
     "name": "stderr",
     "output_type": "stream",
     "text": [
      "\n",
      "Processing Subject IDs:  88%|█████████████████████████████████████████████████▎      | 442/502 [04:19<00:36,  1.63it/s]\u001b[A"
     ]
    },
    {
     "name": "stdout",
     "output_type": "stream",
     "text": [
      "NaN R-squared for subject_id 497. Check data quality and model configuration.\n"
     ]
    },
    {
     "name": "stderr",
     "output_type": "stream",
     "text": [
      "\n",
      "Processing Subject IDs:  88%|█████████████████████████████████████████████████▍      | 443/502 [04:20<00:35,  1.66it/s]\u001b[A"
     ]
    },
    {
     "name": "stdout",
     "output_type": "stream",
     "text": [
      "NaN R-squared for subject_id 191. Check data quality and model configuration.\n"
     ]
    },
    {
     "name": "stderr",
     "output_type": "stream",
     "text": [
      "\n",
      "Processing Subject IDs:  88%|█████████████████████████████████████████████████▌      | 444/502 [04:20<00:33,  1.75it/s]\u001b[A"
     ]
    },
    {
     "name": "stdout",
     "output_type": "stream",
     "text": [
      "NaN R-squared for subject_id 316. Check data quality and model configuration.\n"
     ]
    },
    {
     "name": "stderr",
     "output_type": "stream",
     "text": [
      "\n",
      "Processing Subject IDs:  89%|█████████████████████████████████████████████████▋      | 445/502 [04:20<00:30,  1.87it/s]\u001b[A"
     ]
    },
    {
     "name": "stdout",
     "output_type": "stream",
     "text": [
      "NaN R-squared for subject_id 378. Check data quality and model configuration.\n"
     ]
    },
    {
     "name": "stderr",
     "output_type": "stream",
     "text": [
      "\n",
      "Processing Subject IDs:  89%|█████████████████████████████████████████████████▊      | 446/502 [04:21<00:29,  1.91it/s]\u001b[A"
     ]
    },
    {
     "name": "stdout",
     "output_type": "stream",
     "text": [
      "NaN R-squared for subject_id 478. Check data quality and model configuration.\n"
     ]
    },
    {
     "name": "stderr",
     "output_type": "stream",
     "text": [
      "\n",
      "Processing Subject IDs:  89%|█████████████████████████████████████████████████▊      | 447/502 [04:21<00:28,  1.95it/s]\u001b[A"
     ]
    },
    {
     "name": "stdout",
     "output_type": "stream",
     "text": [
      "NaN R-squared for subject_id 197. Check data quality and model configuration.\n"
     ]
    },
    {
     "name": "stderr",
     "output_type": "stream",
     "text": [
      "\n",
      "Processing Subject IDs:  89%|█████████████████████████████████████████████████▉      | 448/502 [04:22<00:28,  1.89it/s]\u001b[A"
     ]
    },
    {
     "name": "stdout",
     "output_type": "stream",
     "text": [
      "NaN R-squared for subject_id 212. Check data quality and model configuration.\n"
     ]
    },
    {
     "name": "stderr",
     "output_type": "stream",
     "text": [
      "\n",
      "Processing Subject IDs:  89%|██████████████████████████████████████████████████      | 449/502 [04:23<00:28,  1.84it/s]\u001b[A"
     ]
    },
    {
     "name": "stdout",
     "output_type": "stream",
     "text": [
      "NaN R-squared for subject_id 453. Check data quality and model configuration.\n"
     ]
    },
    {
     "name": "stderr",
     "output_type": "stream",
     "text": [
      "\n",
      "Processing Subject IDs:  90%|██████████████████████████████████████████████████▏     | 450/502 [04:23<00:29,  1.78it/s]\u001b[A"
     ]
    },
    {
     "name": "stdout",
     "output_type": "stream",
     "text": [
      "NaN R-squared for subject_id 271. Check data quality and model configuration.\n"
     ]
    },
    {
     "name": "stderr",
     "output_type": "stream",
     "text": [
      "\n",
      "Processing Subject IDs:  90%|██████████████████████████████████████████████████▎     | 451/502 [04:24<00:28,  1.78it/s]\u001b[A"
     ]
    },
    {
     "name": "stdout",
     "output_type": "stream",
     "text": [
      "NaN R-squared for subject_id 68. Check data quality and model configuration.\n"
     ]
    },
    {
     "name": "stderr",
     "output_type": "stream",
     "text": [
      "\n",
      "Processing Subject IDs:  90%|██████████████████████████████████████████████████▍     | 452/502 [04:24<00:28,  1.77it/s]\u001b[A"
     ]
    },
    {
     "name": "stdout",
     "output_type": "stream",
     "text": [
      "NaN R-squared for subject_id 363. Check data quality and model configuration.\n"
     ]
    },
    {
     "name": "stderr",
     "output_type": "stream",
     "text": [
      "\n",
      "Processing Subject IDs:  90%|██████████████████████████████████████████████████▌     | 453/502 [04:25<00:28,  1.70it/s]\u001b[A"
     ]
    },
    {
     "name": "stdout",
     "output_type": "stream",
     "text": [
      "NaN R-squared for subject_id 86. Check data quality and model configuration.\n"
     ]
    },
    {
     "name": "stderr",
     "output_type": "stream",
     "text": [
      "\n",
      "Processing Subject IDs:  90%|██████████████████████████████████████████████████▋     | 454/502 [04:26<00:30,  1.57it/s]\u001b[A"
     ]
    },
    {
     "name": "stdout",
     "output_type": "stream",
     "text": [
      "NaN R-squared for subject_id 65. Check data quality and model configuration.\n"
     ]
    },
    {
     "name": "stderr",
     "output_type": "stream",
     "text": [
      "\n",
      "Processing Subject IDs:  91%|██████████████████████████████████████████████████▊     | 455/502 [04:26<00:30,  1.53it/s]\u001b[A"
     ]
    },
    {
     "name": "stdout",
     "output_type": "stream",
     "text": [
      "NaN R-squared for subject_id 29. Check data quality and model configuration.\n"
     ]
    },
    {
     "name": "stderr",
     "output_type": "stream",
     "text": [
      "\n",
      "Processing Subject IDs:  91%|██████████████████████████████████████████████████▊     | 456/502 [04:27<00:29,  1.55it/s]\u001b[A"
     ]
    },
    {
     "name": "stdout",
     "output_type": "stream",
     "text": [
      "NaN R-squared for subject_id 126. Check data quality and model configuration.\n"
     ]
    },
    {
     "name": "stderr",
     "output_type": "stream",
     "text": [
      "\n",
      "Processing Subject IDs:  91%|██████████████████████████████████████████████████▉     | 457/502 [04:28<00:28,  1.60it/s]\u001b[A"
     ]
    },
    {
     "name": "stdout",
     "output_type": "stream",
     "text": [
      "NaN R-squared for subject_id 442. Check data quality and model configuration.\n"
     ]
    },
    {
     "name": "stderr",
     "output_type": "stream",
     "text": [
      "\n",
      "Processing Subject IDs:  91%|███████████████████████████████████████████████████     | 458/502 [04:28<00:25,  1.70it/s]\u001b[A"
     ]
    },
    {
     "name": "stdout",
     "output_type": "stream",
     "text": [
      "NaN R-squared for subject_id 369. Check data quality and model configuration.\n"
     ]
    },
    {
     "name": "stderr",
     "output_type": "stream",
     "text": [
      "\n",
      "Processing Subject IDs:  91%|███████████████████████████████████████████████████▏    | 459/502 [04:29<00:23,  1.84it/s]\u001b[A"
     ]
    },
    {
     "name": "stdout",
     "output_type": "stream",
     "text": [
      "NaN R-squared for subject_id 172. Check data quality and model configuration.\n"
     ]
    },
    {
     "name": "stderr",
     "output_type": "stream",
     "text": [
      "\n",
      "Processing Subject IDs:  92%|███████████████████████████████████████████████████▎    | 460/502 [04:29<00:22,  1.90it/s]\u001b[A"
     ]
    },
    {
     "name": "stdout",
     "output_type": "stream",
     "text": [
      "NaN R-squared for subject_id 493. Check data quality and model configuration.\n"
     ]
    },
    {
     "name": "stderr",
     "output_type": "stream",
     "text": [
      "\n",
      "Processing Subject IDs:  92%|███████████████████████████████████████████████████▍    | 461/502 [04:30<00:21,  1.88it/s]\u001b[A"
     ]
    },
    {
     "name": "stdout",
     "output_type": "stream",
     "text": [
      "NaN R-squared for subject_id 434. Check data quality and model configuration.\n"
     ]
    },
    {
     "name": "stderr",
     "output_type": "stream",
     "text": [
      "\n",
      "Processing Subject IDs:  92%|███████████████████████████████████████████████████▌    | 462/502 [04:30<00:20,  1.91it/s]\u001b[A"
     ]
    },
    {
     "name": "stdout",
     "output_type": "stream",
     "text": [
      "NaN R-squared for subject_id 470. Check data quality and model configuration.\n"
     ]
    },
    {
     "name": "stderr",
     "output_type": "stream",
     "text": [
      "\n",
      "Processing Subject IDs:  92%|███████████████████████████████████████████████████▋    | 463/502 [04:31<00:21,  1.85it/s]\u001b[A"
     ]
    },
    {
     "name": "stdout",
     "output_type": "stream",
     "text": [
      "NaN R-squared for subject_id 413. Check data quality and model configuration.\n"
     ]
    },
    {
     "name": "stderr",
     "output_type": "stream",
     "text": [
      "\n",
      "Processing Subject IDs:  92%|███████████████████████████████████████████████████▊    | 464/502 [04:31<00:21,  1.77it/s]\u001b[A"
     ]
    },
    {
     "name": "stdout",
     "output_type": "stream",
     "text": [
      "NaN R-squared for subject_id 440. Check data quality and model configuration.\n"
     ]
    },
    {
     "name": "stderr",
     "output_type": "stream",
     "text": [
      "\n",
      "Processing Subject IDs:  93%|███████████████████████████████████████████████████▊    | 465/502 [04:32<00:22,  1.68it/s]\u001b[A"
     ]
    },
    {
     "name": "stdout",
     "output_type": "stream",
     "text": [
      "NaN R-squared for subject_id 278. Check data quality and model configuration.\n"
     ]
    },
    {
     "name": "stderr",
     "output_type": "stream",
     "text": [
      "\n",
      "Processing Subject IDs:  93%|███████████████████████████████████████████████████▉    | 466/502 [04:33<00:22,  1.61it/s]\u001b[A"
     ]
    },
    {
     "name": "stdout",
     "output_type": "stream",
     "text": [
      "NaN R-squared for subject_id 82. Check data quality and model configuration.\n"
     ]
    },
    {
     "name": "stderr",
     "output_type": "stream",
     "text": [
      "\n",
      "Processing Subject IDs:  93%|████████████████████████████████████████████████████    | 467/502 [04:33<00:23,  1.51it/s]\u001b[A"
     ]
    },
    {
     "name": "stdout",
     "output_type": "stream",
     "text": [
      "NaN R-squared for subject_id 113. Check data quality and model configuration.\n"
     ]
    },
    {
     "name": "stderr",
     "output_type": "stream",
     "text": [
      "\n",
      "Processing Subject IDs:  93%|████████████████████████████████████████████████████▏   | 468/502 [04:34<00:22,  1.49it/s]\u001b[A"
     ]
    },
    {
     "name": "stdout",
     "output_type": "stream",
     "text": [
      "NaN R-squared for subject_id 178. Check data quality and model configuration.\n"
     ]
    },
    {
     "name": "stderr",
     "output_type": "stream",
     "text": [
      "\n",
      "Processing Subject IDs:  93%|████████████████████████████████████████████████████▎   | 469/502 [04:35<00:21,  1.54it/s]\u001b[A"
     ]
    },
    {
     "name": "stdout",
     "output_type": "stream",
     "text": [
      "NaN R-squared for subject_id 361. Check data quality and model configuration.\n"
     ]
    },
    {
     "name": "stderr",
     "output_type": "stream",
     "text": [
      "\n",
      "Processing Subject IDs:  94%|████████████████████████████████████████████████████▍   | 470/502 [04:35<00:20,  1.59it/s]\u001b[A"
     ]
    },
    {
     "name": "stdout",
     "output_type": "stream",
     "text": [
      "NaN R-squared for subject_id 216. Check data quality and model configuration.\n"
     ]
    },
    {
     "name": "stderr",
     "output_type": "stream",
     "text": [
      "\n",
      "Processing Subject IDs:  94%|████████████████████████████████████████████████████▌   | 471/502 [04:36<00:18,  1.70it/s]\u001b[A"
     ]
    },
    {
     "name": "stdout",
     "output_type": "stream",
     "text": [
      "NaN R-squared for subject_id 491. Check data quality and model configuration.\n"
     ]
    },
    {
     "name": "stderr",
     "output_type": "stream",
     "text": [
      "\n",
      "Processing Subject IDs:  94%|████████████████████████████████████████████████████▋   | 472/502 [04:36<00:16,  1.84it/s]\u001b[A"
     ]
    },
    {
     "name": "stdout",
     "output_type": "stream",
     "text": [
      "NaN R-squared for subject_id 317. Check data quality and model configuration.\n"
     ]
    },
    {
     "name": "stderr",
     "output_type": "stream",
     "text": [
      "\n",
      "Processing Subject IDs:  94%|████████████████████████████████████████████████████▊   | 473/502 [04:37<00:16,  1.77it/s]\u001b[A"
     ]
    },
    {
     "name": "stdout",
     "output_type": "stream",
     "text": [
      "NaN R-squared for subject_id 444. Check data quality and model configuration.\n"
     ]
    },
    {
     "name": "stderr",
     "output_type": "stream",
     "text": [
      "\n",
      "Processing Subject IDs:  94%|████████████████████████████████████████████████████▉   | 474/502 [04:37<00:14,  1.89it/s]\u001b[A"
     ]
    },
    {
     "name": "stdout",
     "output_type": "stream",
     "text": [
      "NaN R-squared for subject_id 486. Check data quality and model configuration.\n"
     ]
    },
    {
     "name": "stderr",
     "output_type": "stream",
     "text": [
      "\n",
      "Processing Subject IDs:  95%|████████████████████████████████████████████████████▉   | 475/502 [04:38<00:14,  1.89it/s]\u001b[A"
     ]
    },
    {
     "name": "stdout",
     "output_type": "stream",
     "text": [
      "NaN R-squared for subject_id 386. Check data quality and model configuration.\n"
     ]
    },
    {
     "name": "stderr",
     "output_type": "stream",
     "text": [
      "\n",
      "Processing Subject IDs:  95%|█████████████████████████████████████████████████████   | 476/502 [04:38<00:13,  1.91it/s]\u001b[A"
     ]
    },
    {
     "name": "stdout",
     "output_type": "stream",
     "text": [
      "NaN R-squared for subject_id 436. Check data quality and model configuration.\n"
     ]
    },
    {
     "name": "stderr",
     "output_type": "stream",
     "text": [
      "\n",
      "Processing Subject IDs:  95%|█████████████████████████████████████████████████████▏  | 477/502 [04:39<00:13,  1.87it/s]\u001b[A"
     ]
    },
    {
     "name": "stdout",
     "output_type": "stream",
     "text": [
      "NaN R-squared for subject_id 485. Check data quality and model configuration.\n"
     ]
    },
    {
     "name": "stderr",
     "output_type": "stream",
     "text": [
      "\n",
      "Processing Subject IDs:  95%|█████████████████████████████████████████████████████▎  | 478/502 [04:39<00:13,  1.82it/s]\u001b[A"
     ]
    },
    {
     "name": "stdout",
     "output_type": "stream",
     "text": [
      "NaN R-squared for subject_id 195. Check data quality and model configuration.\n"
     ]
    },
    {
     "name": "stderr",
     "output_type": "stream",
     "text": [
      "\n",
      "Processing Subject IDs:  95%|█████████████████████████████████████████████████████▍  | 479/502 [04:40<00:12,  1.84it/s]\u001b[A"
     ]
    },
    {
     "name": "stdout",
     "output_type": "stream",
     "text": [
      "NaN R-squared for subject_id 480. Check data quality and model configuration.\n"
     ]
    },
    {
     "name": "stderr",
     "output_type": "stream",
     "text": [
      "\n",
      "Processing Subject IDs:  96%|█████████████████████████████████████████████████████▌  | 480/502 [04:41<00:12,  1.76it/s]\u001b[A"
     ]
    },
    {
     "name": "stdout",
     "output_type": "stream",
     "text": [
      "NaN R-squared for subject_id 433. Check data quality and model configuration.\n"
     ]
    },
    {
     "name": "stderr",
     "output_type": "stream",
     "text": [
      "\n",
      "Processing Subject IDs:  96%|█████████████████████████████████████████████████████▋  | 481/502 [04:41<00:12,  1.74it/s]\u001b[A"
     ]
    },
    {
     "name": "stdout",
     "output_type": "stream",
     "text": [
      "NaN R-squared for subject_id 46. Check data quality and model configuration.\n"
     ]
    },
    {
     "name": "stderr",
     "output_type": "stream",
     "text": [
      "\n",
      "Processing Subject IDs:  96%|█████████████████████████████████████████████████████▊  | 482/502 [04:42<00:11,  1.73it/s]\u001b[A"
     ]
    },
    {
     "name": "stdout",
     "output_type": "stream",
     "text": [
      "NaN R-squared for subject_id 31. Check data quality and model configuration.\n"
     ]
    },
    {
     "name": "stderr",
     "output_type": "stream",
     "text": [
      "\n",
      "Processing Subject IDs:  96%|█████████████████████████████████████████████████████▉  | 483/502 [04:42<00:11,  1.70it/s]\u001b[A"
     ]
    },
    {
     "name": "stdout",
     "output_type": "stream",
     "text": [
      "NaN R-squared for subject_id 458. Check data quality and model configuration.\n"
     ]
    },
    {
     "name": "stderr",
     "output_type": "stream",
     "text": [
      "\n",
      "Processing Subject IDs:  96%|█████████████████████████████████████████████████████▉  | 484/502 [04:43<00:10,  1.69it/s]\u001b[A"
     ]
    },
    {
     "name": "stdout",
     "output_type": "stream",
     "text": [
      "NaN R-squared for subject_id 451. Check data quality and model configuration.\n"
     ]
    },
    {
     "name": "stderr",
     "output_type": "stream",
     "text": [
      "\n",
      "Processing Subject IDs:  97%|██████████████████████████████████████████████████████  | 485/502 [04:44<00:09,  1.75it/s]\u001b[A"
     ]
    },
    {
     "name": "stdout",
     "output_type": "stream",
     "text": [
      "NaN R-squared for subject_id 159. Check data quality and model configuration.\n"
     ]
    },
    {
     "name": "stderr",
     "output_type": "stream",
     "text": [
      "\n",
      "Processing Subject IDs:  97%|██████████████████████████████████████████████████████▏ | 486/502 [04:44<00:08,  1.82it/s]\u001b[A"
     ]
    },
    {
     "name": "stdout",
     "output_type": "stream",
     "text": [
      "NaN R-squared for subject_id 55. Check data quality and model configuration.\n"
     ]
    },
    {
     "name": "stderr",
     "output_type": "stream",
     "text": [
      "\n",
      "Processing Subject IDs:  97%|██████████████████████████████████████████████████████▎ | 487/502 [04:45<00:07,  1.90it/s]\u001b[A"
     ]
    },
    {
     "name": "stdout",
     "output_type": "stream",
     "text": [
      "NaN R-squared for subject_id 129. Check data quality and model configuration.\n"
     ]
    },
    {
     "name": "stderr",
     "output_type": "stream",
     "text": [
      "\n",
      "Processing Subject IDs:  97%|██████████████████████████████████████████████████████▍ | 488/502 [04:45<00:07,  1.89it/s]\u001b[A"
     ]
    },
    {
     "name": "stdout",
     "output_type": "stream",
     "text": [
      "NaN R-squared for subject_id 446. Check data quality and model configuration.\n"
     ]
    },
    {
     "name": "stderr",
     "output_type": "stream",
     "text": [
      "\n",
      "Processing Subject IDs:  97%|██████████████████████████████████████████████████████▌ | 489/502 [04:46<00:07,  1.77it/s]\u001b[A"
     ]
    },
    {
     "name": "stdout",
     "output_type": "stream",
     "text": [
      "NaN R-squared for subject_id 57. Check data quality and model configuration.\n"
     ]
    },
    {
     "name": "stderr",
     "output_type": "stream",
     "text": [
      "\n",
      "Processing Subject IDs:  98%|██████████████████████████████████████████████████████▋ | 490/502 [04:46<00:07,  1.65it/s]\u001b[A"
     ]
    },
    {
     "name": "stdout",
     "output_type": "stream",
     "text": [
      "NaN R-squared for subject_id 484. Check data quality and model configuration.\n"
     ]
    },
    {
     "name": "stderr",
     "output_type": "stream",
     "text": [
      "\n",
      "Processing Subject IDs:  98%|██████████████████████████████████████████████████████▊ | 491/502 [04:47<00:06,  1.58it/s]\u001b[A"
     ]
    },
    {
     "name": "stdout",
     "output_type": "stream",
     "text": [
      "NaN R-squared for subject_id 135. Check data quality and model configuration.\n"
     ]
    },
    {
     "name": "stderr",
     "output_type": "stream",
     "text": [
      "\n",
      "Processing Subject IDs:  98%|██████████████████████████████████████████████████████▉ | 492/502 [04:48<00:06,  1.58it/s]\u001b[A"
     ]
    },
    {
     "name": "stdout",
     "output_type": "stream",
     "text": [
      "NaN R-squared for subject_id 177. Check data quality and model configuration.\n"
     ]
    },
    {
     "name": "stderr",
     "output_type": "stream",
     "text": [
      "\n",
      "Processing Subject IDs:  98%|██████████████████████████████████████████████████████▉ | 493/502 [04:48<00:05,  1.53it/s]\u001b[A"
     ]
    },
    {
     "name": "stdout",
     "output_type": "stream",
     "text": [
      "NaN R-squared for subject_id 445. Check data quality and model configuration.\n"
     ]
    },
    {
     "name": "stderr",
     "output_type": "stream",
     "text": [
      "\n",
      "Processing Subject IDs:  98%|███████████████████████████████████████████████████████ | 494/502 [04:49<00:05,  1.51it/s]\u001b[A"
     ]
    },
    {
     "name": "stdout",
     "output_type": "stream",
     "text": [
      "NaN R-squared for subject_id 380. Check data quality and model configuration.\n"
     ]
    },
    {
     "name": "stderr",
     "output_type": "stream",
     "text": [
      "\n",
      "Processing Subject IDs:  99%|███████████████████████████████████████████████████████▏| 495/502 [04:50<00:04,  1.56it/s]\u001b[A"
     ]
    },
    {
     "name": "stdout",
     "output_type": "stream",
     "text": [
      "NaN R-squared for subject_id 112. Check data quality and model configuration.\n"
     ]
    },
    {
     "name": "stderr",
     "output_type": "stream",
     "text": [
      "\n",
      "Processing Subject IDs:  99%|███████████████████████████████████████████████████████▎| 496/502 [04:50<00:03,  1.59it/s]\u001b[A"
     ]
    },
    {
     "name": "stdout",
     "output_type": "stream",
     "text": [
      "NaN R-squared for subject_id 490. Check data quality and model configuration.\n"
     ]
    },
    {
     "name": "stderr",
     "output_type": "stream",
     "text": [
      "\n",
      "Processing Subject IDs:  99%|███████████████████████████████████████████████████████▍| 497/502 [04:51<00:03,  1.62it/s]\u001b[A"
     ]
    },
    {
     "name": "stdout",
     "output_type": "stream",
     "text": [
      "NaN R-squared for subject_id 401. Check data quality and model configuration.\n"
     ]
    },
    {
     "name": "stderr",
     "output_type": "stream",
     "text": [
      "\n",
      "Processing Subject IDs:  99%|███████████████████████████████████████████████████████▌| 498/502 [04:51<00:02,  1.71it/s]\u001b[A"
     ]
    },
    {
     "name": "stdout",
     "output_type": "stream",
     "text": [
      "NaN R-squared for subject_id 468. Check data quality and model configuration.\n"
     ]
    },
    {
     "name": "stderr",
     "output_type": "stream",
     "text": [
      "\n",
      "Processing Subject IDs:  99%|███████████████████████████████████████████████████████▋| 499/502 [04:52<00:01,  1.79it/s]\u001b[A"
     ]
    },
    {
     "name": "stdout",
     "output_type": "stream",
     "text": [
      "NaN R-squared for subject_id 5. Check data quality and model configuration.\n"
     ]
    },
    {
     "name": "stderr",
     "output_type": "stream",
     "text": [
      "\n",
      "Processing Subject IDs: 100%|███████████████████████████████████████████████████████▊| 500/502 [04:52<00:01,  1.90it/s]\u001b[A"
     ]
    },
    {
     "name": "stdout",
     "output_type": "stream",
     "text": [
      "NaN R-squared for subject_id 443. Check data quality and model configuration.\n"
     ]
    },
    {
     "name": "stderr",
     "output_type": "stream",
     "text": [
      "\n",
      "Processing Subject IDs: 100%|███████████████████████████████████████████████████████▉| 501/502 [04:53<00:00,  1.97it/s]\u001b[A"
     ]
    },
    {
     "name": "stdout",
     "output_type": "stream",
     "text": [
      "NaN R-squared for subject_id 294. Check data quality and model configuration.\n"
     ]
    },
    {
     "name": "stderr",
     "output_type": "stream",
     "text": [
      "\n",
      "Processing Subject IDs: 100%|████████████████████████████████████████████████████████| 502/502 [04:53<00:00,  1.94it/s]\u001b[A\n",
      "Overall LOO Repeats:  50%|███████████████████████████████                               | 1/2 [04:53<04:53, 293.88s/it]\u001b[A"
     ]
    },
    {
     "name": "stdout",
     "output_type": "stream",
     "text": [
      "NaN R-squared for subject_id 164. Check data quality and model configuration.\n"
     ]
    },
    {
     "name": "stderr",
     "output_type": "stream",
     "text": [
      "\n",
      "Processing Subject IDs:   0%|                                                                  | 0/502 [00:00<?, ?it/s]\u001b[A\n",
      "Processing Subject IDs:   0%|                                                          | 1/502 [00:00<05:08,  1.62it/s]\u001b[A"
     ]
    },
    {
     "name": "stdout",
     "output_type": "stream",
     "text": [
      "NaN R-squared for subject_id 185. Check data quality and model configuration.\n"
     ]
    },
    {
     "name": "stderr",
     "output_type": "stream",
     "text": [
      "\n",
      "Processing Subject IDs:   0%|▏                                                         | 2/502 [00:01<04:52,  1.71it/s]\u001b[A"
     ]
    },
    {
     "name": "stdout",
     "output_type": "stream",
     "text": [
      "NaN R-squared for subject_id 461. Check data quality and model configuration.\n"
     ]
    },
    {
     "name": "stderr",
     "output_type": "stream",
     "text": [
      "\n",
      "Processing Subject IDs:   1%|▎                                                         | 3/502 [00:01<04:47,  1.74it/s]\u001b[A"
     ]
    },
    {
     "name": "stdout",
     "output_type": "stream",
     "text": [
      "NaN R-squared for subject_id 438. Check data quality and model configuration.\n"
     ]
    },
    {
     "name": "stderr",
     "output_type": "stream",
     "text": [
      "\n",
      "Processing Subject IDs:   1%|▍                                                         | 4/502 [00:02<04:40,  1.77it/s]\u001b[A"
     ]
    },
    {
     "name": "stdout",
     "output_type": "stream",
     "text": [
      "NaN R-squared for subject_id 307. Check data quality and model configuration.\n"
     ]
    },
    {
     "name": "stderr",
     "output_type": "stream",
     "text": [
      "\n",
      "Processing Subject IDs:   1%|▌                                                         | 5/502 [00:02<04:55,  1.68it/s]\u001b[A"
     ]
    },
    {
     "name": "stdout",
     "output_type": "stream",
     "text": [
      "NaN R-squared for subject_id 183. Check data quality and model configuration.\n"
     ]
    },
    {
     "name": "stderr",
     "output_type": "stream",
     "text": [
      "\n",
      "Processing Subject IDs:   1%|▋                                                         | 6/502 [00:03<04:56,  1.67it/s]\u001b[A"
     ]
    },
    {
     "name": "stdout",
     "output_type": "stream",
     "text": [
      "NaN R-squared for subject_id 419. Check data quality and model configuration.\n"
     ]
    },
    {
     "name": "stderr",
     "output_type": "stream",
     "text": [
      "\n",
      "Processing Subject IDs:   1%|▊                                                         | 7/502 [00:04<05:01,  1.64it/s]\u001b[A"
     ]
    },
    {
     "name": "stdout",
     "output_type": "stream",
     "text": [
      "NaN R-squared for subject_id 403. Check data quality and model configuration.\n"
     ]
    },
    {
     "name": "stderr",
     "output_type": "stream",
     "text": [
      "\n",
      "Processing Subject IDs:   2%|▉                                                         | 8/502 [00:04<04:51,  1.70it/s]\u001b[A"
     ]
    },
    {
     "name": "stdout",
     "output_type": "stream",
     "text": [
      "NaN R-squared for subject_id 67. Check data quality and model configuration.\n"
     ]
    },
    {
     "name": "stderr",
     "output_type": "stream",
     "text": [
      "\n",
      "Processing Subject IDs:   2%|█                                                         | 9/502 [00:05<04:46,  1.72it/s]\u001b[A"
     ]
    },
    {
     "name": "stdout",
     "output_type": "stream",
     "text": [
      "NaN R-squared for subject_id 187. Check data quality and model configuration.\n"
     ]
    },
    {
     "name": "stderr",
     "output_type": "stream",
     "text": [
      "\n",
      "Processing Subject IDs:   2%|█▏                                                       | 10/502 [00:05<04:36,  1.78it/s]\u001b[A"
     ]
    },
    {
     "name": "stdout",
     "output_type": "stream",
     "text": [
      "NaN R-squared for subject_id 165. Check data quality and model configuration.\n"
     ]
    },
    {
     "name": "stderr",
     "output_type": "stream",
     "text": [
      "\n",
      "Processing Subject IDs:   2%|█▏                                                       | 11/502 [00:06<04:29,  1.82it/s]\u001b[A"
     ]
    },
    {
     "name": "stdout",
     "output_type": "stream",
     "text": [
      "NaN R-squared for subject_id 92. Check data quality and model configuration.\n"
     ]
    },
    {
     "name": "stderr",
     "output_type": "stream",
     "text": [
      "\n",
      "Processing Subject IDs:   2%|█▎                                                       | 12/502 [00:06<04:32,  1.80it/s]\u001b[A"
     ]
    },
    {
     "name": "stdout",
     "output_type": "stream",
     "text": [
      "NaN R-squared for subject_id 179. Check data quality and model configuration.\n"
     ]
    },
    {
     "name": "stderr",
     "output_type": "stream",
     "text": [
      "\n",
      "Processing Subject IDs:   3%|█▍                                                       | 13/502 [00:07<04:21,  1.87it/s]\u001b[A"
     ]
    },
    {
     "name": "stdout",
     "output_type": "stream",
     "text": [
      "NaN R-squared for subject_id 291. Check data quality and model configuration.\n"
     ]
    },
    {
     "name": "stderr",
     "output_type": "stream",
     "text": [
      "\n",
      "Processing Subject IDs:   3%|█▌                                                       | 14/502 [00:07<04:31,  1.80it/s]\u001b[A"
     ]
    },
    {
     "name": "stdout",
     "output_type": "stream",
     "text": [
      "NaN R-squared for subject_id 298. Check data quality and model configuration.\n"
     ]
    },
    {
     "name": "stderr",
     "output_type": "stream",
     "text": [
      "\n",
      "Processing Subject IDs:   3%|█▋                                                       | 15/502 [00:08<04:30,  1.80it/s]\u001b[A"
     ]
    },
    {
     "name": "stdout",
     "output_type": "stream",
     "text": [
      "NaN R-squared for subject_id 26. Check data quality and model configuration.\n"
     ]
    },
    {
     "name": "stderr",
     "output_type": "stream",
     "text": [
      "\n",
      "Processing Subject IDs:   3%|█▊                                                       | 16/502 [00:09<04:26,  1.82it/s]\u001b[A"
     ]
    },
    {
     "name": "stdout",
     "output_type": "stream",
     "text": [
      "NaN R-squared for subject_id 127. Check data quality and model configuration.\n"
     ]
    },
    {
     "name": "stderr",
     "output_type": "stream",
     "text": [
      "\n",
      "Processing Subject IDs:   3%|█▉                                                       | 17/502 [00:09<04:27,  1.81it/s]\u001b[A"
     ]
    },
    {
     "name": "stdout",
     "output_type": "stream",
     "text": [
      "NaN R-squared for subject_id 132. Check data quality and model configuration.\n"
     ]
    },
    {
     "name": "stderr",
     "output_type": "stream",
     "text": [
      "\n",
      "Processing Subject IDs:   4%|██                                                       | 18/502 [00:10<04:26,  1.82it/s]\u001b[A"
     ]
    },
    {
     "name": "stdout",
     "output_type": "stream",
     "text": [
      "NaN R-squared for subject_id 107. Check data quality and model configuration.\n"
     ]
    },
    {
     "name": "stderr",
     "output_type": "stream",
     "text": [
      "\n",
      "Processing Subject IDs:   4%|██▏                                                      | 19/502 [00:10<04:31,  1.78it/s]\u001b[A"
     ]
    },
    {
     "name": "stdout",
     "output_type": "stream",
     "text": [
      "NaN R-squared for subject_id 60. Check data quality and model configuration.\n"
     ]
    },
    {
     "name": "stderr",
     "output_type": "stream",
     "text": [
      "\n",
      "Processing Subject IDs:   4%|██▎                                                      | 20/502 [00:11<04:39,  1.73it/s]\u001b[A"
     ]
    },
    {
     "name": "stdout",
     "output_type": "stream",
     "text": [
      "NaN R-squared for subject_id 34. Check data quality and model configuration.\n"
     ]
    },
    {
     "name": "stderr",
     "output_type": "stream",
     "text": [
      "\n",
      "Processing Subject IDs:   4%|██▍                                                      | 21/502 [00:12<04:49,  1.66it/s]\u001b[A"
     ]
    },
    {
     "name": "stdout",
     "output_type": "stream",
     "text": [
      "NaN R-squared for subject_id 463. Check data quality and model configuration.\n"
     ]
    },
    {
     "name": "stderr",
     "output_type": "stream",
     "text": [
      "\n",
      "Processing Subject IDs:   4%|██▍                                                      | 22/502 [00:12<04:36,  1.74it/s]\u001b[A"
     ]
    },
    {
     "name": "stdout",
     "output_type": "stream",
     "text": [
      "NaN R-squared for subject_id 119. Check data quality and model configuration.\n"
     ]
    },
    {
     "name": "stderr",
     "output_type": "stream",
     "text": [
      "\n",
      "Processing Subject IDs:   5%|██▌                                                      | 23/502 [00:13<04:45,  1.68it/s]\u001b[A"
     ]
    },
    {
     "name": "stdout",
     "output_type": "stream",
     "text": [
      "NaN R-squared for subject_id 421. Check data quality and model configuration.\n"
     ]
    },
    {
     "name": "stderr",
     "output_type": "stream",
     "text": [
      "\n",
      "Processing Subject IDs:   5%|██▋                                                      | 24/502 [00:13<04:51,  1.64it/s]\u001b[A"
     ]
    },
    {
     "name": "stdout",
     "output_type": "stream",
     "text": [
      "NaN R-squared for subject_id 498. Check data quality and model configuration.\n"
     ]
    },
    {
     "name": "stderr",
     "output_type": "stream",
     "text": [
      "\n",
      "Processing Subject IDs:   5%|██▊                                                      | 25/502 [00:14<05:03,  1.57it/s]\u001b[A"
     ]
    },
    {
     "name": "stdout",
     "output_type": "stream",
     "text": [
      "NaN R-squared for subject_id 293. Check data quality and model configuration.\n"
     ]
    },
    {
     "name": "stderr",
     "output_type": "stream",
     "text": [
      "\n",
      "Processing Subject IDs:   5%|██▉                                                      | 26/502 [00:15<04:43,  1.68it/s]\u001b[A"
     ]
    },
    {
     "name": "stdout",
     "output_type": "stream",
     "text": [
      "NaN R-squared for subject_id 348. Check data quality and model configuration.\n"
     ]
    },
    {
     "name": "stderr",
     "output_type": "stream",
     "text": [
      "\n",
      "Processing Subject IDs:   5%|███                                                      | 27/502 [00:15<04:22,  1.81it/s]\u001b[A"
     ]
    },
    {
     "name": "stdout",
     "output_type": "stream",
     "text": [
      "NaN R-squared for subject_id 229. Check data quality and model configuration.\n"
     ]
    },
    {
     "name": "stderr",
     "output_type": "stream",
     "text": [
      "\n",
      "Processing Subject IDs:   6%|███▏                                                     | 28/502 [00:15<04:08,  1.91it/s]\u001b[A"
     ]
    },
    {
     "name": "stdout",
     "output_type": "stream",
     "text": [
      "NaN R-squared for subject_id 50. Check data quality and model configuration.\n"
     ]
    },
    {
     "name": "stderr",
     "output_type": "stream",
     "text": [
      "\n",
      "Processing Subject IDs:   6%|███▎                                                     | 29/502 [00:16<04:02,  1.95it/s]\u001b[A"
     ]
    },
    {
     "name": "stdout",
     "output_type": "stream",
     "text": [
      "NaN R-squared for subject_id 326. Check data quality and model configuration.\n"
     ]
    },
    {
     "name": "stderr",
     "output_type": "stream",
     "text": [
      "\n",
      "Processing Subject IDs:   6%|███▍                                                     | 30/502 [00:17<04:13,  1.86it/s]\u001b[A"
     ]
    },
    {
     "name": "stdout",
     "output_type": "stream",
     "text": [
      "NaN R-squared for subject_id 495. Check data quality and model configuration.\n"
     ]
    },
    {
     "name": "stderr",
     "output_type": "stream",
     "text": [
      "\n",
      "Processing Subject IDs:   6%|███▌                                                     | 31/502 [00:17<04:19,  1.81it/s]\u001b[A"
     ]
    },
    {
     "name": "stdout",
     "output_type": "stream",
     "text": [
      "NaN R-squared for subject_id 108. Check data quality and model configuration.\n"
     ]
    },
    {
     "name": "stderr",
     "output_type": "stream",
     "text": [
      "\n",
      "Processing Subject IDs:   6%|███▋                                                     | 32/502 [00:18<04:55,  1.59it/s]\u001b[A"
     ]
    },
    {
     "name": "stdout",
     "output_type": "stream",
     "text": [
      "NaN R-squared for subject_id 249. Check data quality and model configuration.\n"
     ]
    },
    {
     "name": "stderr",
     "output_type": "stream",
     "text": [
      "\n",
      "Processing Subject IDs:   7%|███▋                                                     | 33/502 [00:19<05:06,  1.53it/s]\u001b[A"
     ]
    },
    {
     "name": "stdout",
     "output_type": "stream",
     "text": [
      "NaN R-squared for subject_id 456. Check data quality and model configuration.\n"
     ]
    },
    {
     "name": "stderr",
     "output_type": "stream",
     "text": [
      "\n",
      "Processing Subject IDs:   7%|███▊                                                     | 34/502 [00:19<05:22,  1.45it/s]\u001b[A"
     ]
    },
    {
     "name": "stdout",
     "output_type": "stream",
     "text": [
      "NaN R-squared for subject_id 420. Check data quality and model configuration.\n"
     ]
    },
    {
     "name": "stderr",
     "output_type": "stream",
     "text": [
      "\n",
      "Processing Subject IDs:   7%|███▉                                                     | 35/502 [00:20<05:17,  1.47it/s]\u001b[A"
     ]
    },
    {
     "name": "stdout",
     "output_type": "stream",
     "text": [
      "NaN R-squared for subject_id 397. Check data quality and model configuration.\n"
     ]
    },
    {
     "name": "stderr",
     "output_type": "stream",
     "text": [
      "\n",
      "Processing Subject IDs:   7%|████                                                     | 36/502 [00:21<05:04,  1.53it/s]\u001b[A"
     ]
    },
    {
     "name": "stdout",
     "output_type": "stream",
     "text": [
      "NaN R-squared for subject_id 414. Check data quality and model configuration.\n"
     ]
    },
    {
     "name": "stderr",
     "output_type": "stream",
     "text": [
      "\n",
      "Processing Subject IDs:   7%|████▏                                                    | 37/502 [00:21<05:07,  1.51it/s]\u001b[A"
     ]
    },
    {
     "name": "stdout",
     "output_type": "stream",
     "text": [
      "NaN R-squared for subject_id 329. Check data quality and model configuration.\n"
     ]
    },
    {
     "name": "stderr",
     "output_type": "stream",
     "text": [
      "\n",
      "Processing Subject IDs:   8%|████▎                                                    | 38/502 [00:22<05:07,  1.51it/s]\u001b[A"
     ]
    },
    {
     "name": "stdout",
     "output_type": "stream",
     "text": [
      "NaN R-squared for subject_id 288. Check data quality and model configuration.\n"
     ]
    },
    {
     "name": "stderr",
     "output_type": "stream",
     "text": [
      "\n",
      "Processing Subject IDs:   8%|████▍                                                    | 39/502 [00:23<04:54,  1.57it/s]\u001b[A"
     ]
    },
    {
     "name": "stdout",
     "output_type": "stream",
     "text": [
      "NaN R-squared for subject_id 12. Check data quality and model configuration.\n"
     ]
    },
    {
     "name": "stderr",
     "output_type": "stream",
     "text": [
      "\n",
      "Processing Subject IDs:   8%|████▌                                                    | 40/502 [00:23<04:31,  1.70it/s]\u001b[A"
     ]
    },
    {
     "name": "stdout",
     "output_type": "stream",
     "text": [
      "NaN R-squared for subject_id 192. Check data quality and model configuration.\n"
     ]
    },
    {
     "name": "stderr",
     "output_type": "stream",
     "text": [
      "\n",
      "Processing Subject IDs:   8%|████▋                                                    | 41/502 [00:24<04:12,  1.83it/s]\u001b[A"
     ]
    },
    {
     "name": "stdout",
     "output_type": "stream",
     "text": [
      "NaN R-squared for subject_id 264. Check data quality and model configuration.\n"
     ]
    },
    {
     "name": "stderr",
     "output_type": "stream",
     "text": [
      "\n",
      "Processing Subject IDs:   8%|████▊                                                    | 42/502 [00:24<04:03,  1.89it/s]\u001b[A"
     ]
    },
    {
     "name": "stdout",
     "output_type": "stream",
     "text": [
      "NaN R-squared for subject_id 407. Check data quality and model configuration.\n"
     ]
    },
    {
     "name": "stderr",
     "output_type": "stream",
     "text": [
      "\n",
      "Processing Subject IDs:   9%|████▉                                                    | 43/502 [00:25<04:06,  1.87it/s]\u001b[A"
     ]
    },
    {
     "name": "stdout",
     "output_type": "stream",
     "text": [
      "NaN R-squared for subject_id 487. Check data quality and model configuration.\n"
     ]
    },
    {
     "name": "stderr",
     "output_type": "stream",
     "text": [
      "\n",
      "Processing Subject IDs:   9%|████▉                                                    | 44/502 [00:25<04:11,  1.82it/s]\u001b[A"
     ]
    },
    {
     "name": "stdout",
     "output_type": "stream",
     "text": [
      "NaN R-squared for subject_id 350. Check data quality and model configuration.\n"
     ]
    },
    {
     "name": "stderr",
     "output_type": "stream",
     "text": [
      "\n",
      "Processing Subject IDs:   9%|█████                                                    | 45/502 [00:26<04:07,  1.85it/s]\u001b[A"
     ]
    },
    {
     "name": "stdout",
     "output_type": "stream",
     "text": [
      "NaN R-squared for subject_id 398. Check data quality and model configuration.\n"
     ]
    },
    {
     "name": "stderr",
     "output_type": "stream",
     "text": [
      "\n",
      "Processing Subject IDs:   9%|█████▏                                                   | 46/502 [00:26<04:10,  1.82it/s]\u001b[A"
     ]
    },
    {
     "name": "stdout",
     "output_type": "stream",
     "text": [
      "NaN R-squared for subject_id 370. Check data quality and model configuration.\n"
     ]
    },
    {
     "name": "stderr",
     "output_type": "stream",
     "text": [
      "\n",
      "Processing Subject IDs:   9%|█████▎                                                   | 47/502 [00:27<04:11,  1.81it/s]\u001b[A"
     ]
    },
    {
     "name": "stdout",
     "output_type": "stream",
     "text": [
      "NaN R-squared for subject_id 315. Check data quality and model configuration.\n"
     ]
    },
    {
     "name": "stderr",
     "output_type": "stream",
     "text": [
      "\n",
      "Processing Subject IDs:  10%|█████▍                                                   | 48/502 [00:27<04:18,  1.76it/s]\u001b[A"
     ]
    },
    {
     "name": "stdout",
     "output_type": "stream",
     "text": [
      "NaN R-squared for subject_id 124. Check data quality and model configuration.\n"
     ]
    },
    {
     "name": "stderr",
     "output_type": "stream",
     "text": [
      "\n",
      "Processing Subject IDs:  10%|█████▌                                                   | 49/502 [00:28<04:15,  1.78it/s]\u001b[A"
     ]
    },
    {
     "name": "stdout",
     "output_type": "stream",
     "text": [
      "NaN R-squared for subject_id 371. Check data quality and model configuration.\n"
     ]
    },
    {
     "name": "stderr",
     "output_type": "stream",
     "text": [
      "\n",
      "Processing Subject IDs:  10%|█████▋                                                   | 50/502 [00:28<04:08,  1.82it/s]\u001b[A"
     ]
    },
    {
     "name": "stdout",
     "output_type": "stream",
     "text": [
      "NaN R-squared for subject_id 489. Check data quality and model configuration.\n"
     ]
    },
    {
     "name": "stderr",
     "output_type": "stream",
     "text": [
      "\n",
      "Processing Subject IDs:  10%|█████▊                                                   | 51/502 [00:29<04:02,  1.86it/s]\u001b[A"
     ]
    },
    {
     "name": "stdout",
     "output_type": "stream",
     "text": [
      "NaN R-squared for subject_id 16. Check data quality and model configuration.\n"
     ]
    },
    {
     "name": "stderr",
     "output_type": "stream",
     "text": [
      "\n",
      "Processing Subject IDs:  10%|█████▉                                                   | 52/502 [00:29<03:58,  1.88it/s]\u001b[A"
     ]
    },
    {
     "name": "stdout",
     "output_type": "stream",
     "text": [
      "NaN R-squared for subject_id 381. Check data quality and model configuration.\n"
     ]
    },
    {
     "name": "stderr",
     "output_type": "stream",
     "text": [
      "\n",
      "Processing Subject IDs:  11%|██████                                                   | 53/502 [00:30<03:47,  1.97it/s]\u001b[A"
     ]
    },
    {
     "name": "stdout",
     "output_type": "stream",
     "text": [
      "NaN R-squared for subject_id 235. Check data quality and model configuration.\n"
     ]
    },
    {
     "name": "stderr",
     "output_type": "stream",
     "text": [
      "\n",
      "Processing Subject IDs:  11%|██████▏                                                  | 54/502 [00:30<03:35,  2.08it/s]\u001b[A"
     ]
    },
    {
     "name": "stdout",
     "output_type": "stream",
     "text": [
      "NaN R-squared for subject_id 128. Check data quality and model configuration.\n"
     ]
    },
    {
     "name": "stderr",
     "output_type": "stream",
     "text": [
      "\n",
      "Processing Subject IDs:  11%|██████▏                                                  | 55/502 [00:31<03:27,  2.16it/s]\u001b[A"
     ]
    },
    {
     "name": "stdout",
     "output_type": "stream",
     "text": [
      "NaN R-squared for subject_id 362. Check data quality and model configuration.\n"
     ]
    },
    {
     "name": "stderr",
     "output_type": "stream",
     "text": [
      "\n",
      "Processing Subject IDs:  11%|██████▎                                                  | 56/502 [00:31<03:22,  2.20it/s]\u001b[A"
     ]
    },
    {
     "name": "stdout",
     "output_type": "stream",
     "text": [
      "NaN R-squared for subject_id 405. Check data quality and model configuration.\n"
     ]
    },
    {
     "name": "stderr",
     "output_type": "stream",
     "text": [
      "\n",
      "Processing Subject IDs:  11%|██████▍                                                  | 57/502 [00:32<03:27,  2.14it/s]\u001b[A"
     ]
    },
    {
     "name": "stdout",
     "output_type": "stream",
     "text": [
      "NaN R-squared for subject_id 1. Check data quality and model configuration.\n"
     ]
    },
    {
     "name": "stderr",
     "output_type": "stream",
     "text": [
      "\n",
      "Processing Subject IDs:  12%|██████▌                                                  | 58/502 [00:32<03:32,  2.09it/s]\u001b[A"
     ]
    },
    {
     "name": "stdout",
     "output_type": "stream",
     "text": [
      "NaN R-squared for subject_id 89. Check data quality and model configuration.\n"
     ]
    },
    {
     "name": "stderr",
     "output_type": "stream",
     "text": [
      "\n",
      "Processing Subject IDs:  12%|██████▋                                                  | 59/502 [00:33<03:42,  2.00it/s]\u001b[A"
     ]
    },
    {
     "name": "stdout",
     "output_type": "stream",
     "text": [
      "NaN R-squared for subject_id 196. Check data quality and model configuration.\n"
     ]
    },
    {
     "name": "stderr",
     "output_type": "stream",
     "text": [
      "\n",
      "Processing Subject IDs:  12%|██████▊                                                  | 60/502 [00:33<04:06,  1.79it/s]\u001b[A"
     ]
    },
    {
     "name": "stdout",
     "output_type": "stream",
     "text": [
      "NaN R-squared for subject_id 496. Check data quality and model configuration.\n"
     ]
    },
    {
     "name": "stderr",
     "output_type": "stream",
     "text": [
      "\n",
      "Processing Subject IDs:  12%|██████▉                                                  | 61/502 [00:34<04:10,  1.76it/s]\u001b[A"
     ]
    },
    {
     "name": "stdout",
     "output_type": "stream",
     "text": [
      "NaN R-squared for subject_id 102. Check data quality and model configuration.\n"
     ]
    },
    {
     "name": "stderr",
     "output_type": "stream",
     "text": [
      "\n",
      "Processing Subject IDs:  12%|███████                                                  | 62/502 [00:35<04:18,  1.70it/s]\u001b[A"
     ]
    },
    {
     "name": "stdout",
     "output_type": "stream",
     "text": [
      "NaN R-squared for subject_id 311. Check data quality and model configuration.\n"
     ]
    },
    {
     "name": "stderr",
     "output_type": "stream",
     "text": [
      "\n",
      "Processing Subject IDs:  13%|███████▏                                                 | 63/502 [00:35<04:15,  1.72it/s]\u001b[A"
     ]
    },
    {
     "name": "stdout",
     "output_type": "stream",
     "text": [
      "NaN R-squared for subject_id 233. Check data quality and model configuration.\n"
     ]
    },
    {
     "name": "stderr",
     "output_type": "stream",
     "text": [
      "\n",
      "Processing Subject IDs:  13%|███████▎                                                 | 64/502 [00:36<04:07,  1.77it/s]\u001b[A"
     ]
    },
    {
     "name": "stdout",
     "output_type": "stream",
     "text": [
      "NaN R-squared for subject_id 141. Check data quality and model configuration.\n"
     ]
    },
    {
     "name": "stderr",
     "output_type": "stream",
     "text": [
      "\n",
      "Processing Subject IDs:  13%|███████▍                                                 | 65/502 [00:36<04:05,  1.78it/s]\u001b[A"
     ]
    },
    {
     "name": "stdout",
     "output_type": "stream",
     "text": [
      "NaN R-squared for subject_id 96. Check data quality and model configuration.\n"
     ]
    },
    {
     "name": "stderr",
     "output_type": "stream",
     "text": [
      "\n",
      "Processing Subject IDs:  13%|███████▍                                                 | 66/502 [00:37<04:02,  1.80it/s]\u001b[A"
     ]
    },
    {
     "name": "stdout",
     "output_type": "stream",
     "text": [
      "NaN R-squared for subject_id 154. Check data quality and model configuration.\n"
     ]
    },
    {
     "name": "stderr",
     "output_type": "stream",
     "text": [
      "\n",
      "Processing Subject IDs:  13%|███████▌                                                 | 67/502 [00:37<03:49,  1.90it/s]\u001b[A"
     ]
    },
    {
     "name": "stdout",
     "output_type": "stream",
     "text": [
      "NaN R-squared for subject_id 312. Check data quality and model configuration.\n"
     ]
    },
    {
     "name": "stderr",
     "output_type": "stream",
     "text": [
      "\n",
      "Processing Subject IDs:  14%|███████▋                                                 | 68/502 [00:38<03:42,  1.95it/s]\u001b[A"
     ]
    },
    {
     "name": "stdout",
     "output_type": "stream",
     "text": [
      "NaN R-squared for subject_id 325. Check data quality and model configuration.\n"
     ]
    },
    {
     "name": "stderr",
     "output_type": "stream",
     "text": [
      "\n",
      "Processing Subject IDs:  14%|███████▊                                                 | 69/502 [00:38<03:35,  2.01it/s]\u001b[A"
     ]
    },
    {
     "name": "stdout",
     "output_type": "stream",
     "text": [
      "NaN R-squared for subject_id 90. Check data quality and model configuration.\n"
     ]
    },
    {
     "name": "stderr",
     "output_type": "stream",
     "text": [
      "\n",
      "Processing Subject IDs:  14%|███████▉                                                 | 70/502 [00:39<03:33,  2.03it/s]\u001b[A"
     ]
    },
    {
     "name": "stdout",
     "output_type": "stream",
     "text": [
      "NaN R-squared for subject_id 247. Check data quality and model configuration.\n"
     ]
    },
    {
     "name": "stderr",
     "output_type": "stream",
     "text": [
      "\n",
      "Processing Subject IDs:  14%|████████                                                 | 71/502 [00:39<03:35,  2.00it/s]\u001b[A"
     ]
    },
    {
     "name": "stdout",
     "output_type": "stream",
     "text": [
      "NaN R-squared for subject_id 219. Check data quality and model configuration.\n"
     ]
    },
    {
     "name": "stderr",
     "output_type": "stream",
     "text": [
      "\n",
      "Processing Subject IDs:  14%|████████▏                                                | 72/502 [00:40<03:43,  1.92it/s]\u001b[A"
     ]
    },
    {
     "name": "stdout",
     "output_type": "stream",
     "text": [
      "NaN R-squared for subject_id 157. Check data quality and model configuration.\n"
     ]
    },
    {
     "name": "stderr",
     "output_type": "stream",
     "text": [
      "\n",
      "Processing Subject IDs:  15%|████████▎                                                | 73/502 [00:40<03:47,  1.89it/s]\u001b[A"
     ]
    },
    {
     "name": "stdout",
     "output_type": "stream",
     "text": [
      "NaN R-squared for subject_id 155. Check data quality and model configuration.\n"
     ]
    },
    {
     "name": "stderr",
     "output_type": "stream",
     "text": [
      "\n",
      "Processing Subject IDs:  15%|████████▍                                                | 74/502 [00:41<03:49,  1.86it/s]\u001b[A"
     ]
    },
    {
     "name": "stdout",
     "output_type": "stream",
     "text": [
      "NaN R-squared for subject_id 123. Check data quality and model configuration.\n"
     ]
    },
    {
     "name": "stderr",
     "output_type": "stream",
     "text": [
      "\n",
      "Processing Subject IDs:  15%|████████▌                                                | 75/502 [00:41<03:47,  1.87it/s]\u001b[A"
     ]
    },
    {
     "name": "stdout",
     "output_type": "stream",
     "text": [
      "NaN R-squared for subject_id 236. Check data quality and model configuration.\n"
     ]
    },
    {
     "name": "stderr",
     "output_type": "stream",
     "text": [
      "\n",
      "Processing Subject IDs:  15%|████████▋                                                | 76/502 [00:42<03:53,  1.82it/s]\u001b[A"
     ]
    },
    {
     "name": "stdout",
     "output_type": "stream",
     "text": [
      "NaN R-squared for subject_id 449. Check data quality and model configuration.\n"
     ]
    },
    {
     "name": "stderr",
     "output_type": "stream",
     "text": [
      "\n",
      "Processing Subject IDs:  15%|████████▋                                                | 77/502 [00:43<03:56,  1.80it/s]\u001b[A"
     ]
    },
    {
     "name": "stdout",
     "output_type": "stream",
     "text": [
      "NaN R-squared for subject_id 49. Check data quality and model configuration.\n"
     ]
    },
    {
     "name": "stderr",
     "output_type": "stream",
     "text": [
      "\n",
      "Processing Subject IDs:  16%|████████▊                                                | 78/502 [00:43<03:51,  1.83it/s]\u001b[A"
     ]
    },
    {
     "name": "stdout",
     "output_type": "stream",
     "text": [
      "NaN R-squared for subject_id 15. Check data quality and model configuration.\n"
     ]
    },
    {
     "name": "stderr",
     "output_type": "stream",
     "text": [
      "\n",
      "Processing Subject IDs:  16%|████████▉                                                | 79/502 [00:44<03:45,  1.87it/s]\u001b[A"
     ]
    },
    {
     "name": "stdout",
     "output_type": "stream",
     "text": [
      "NaN R-squared for subject_id 430. Check data quality and model configuration.\n"
     ]
    },
    {
     "name": "stderr",
     "output_type": "stream",
     "text": [
      "\n",
      "Processing Subject IDs:  16%|█████████                                                | 80/502 [00:44<03:42,  1.90it/s]\u001b[A"
     ]
    },
    {
     "name": "stdout",
     "output_type": "stream",
     "text": [
      "NaN R-squared for subject_id 150. Check data quality and model configuration.\n"
     ]
    },
    {
     "name": "stderr",
     "output_type": "stream",
     "text": [
      "\n",
      "Processing Subject IDs:  16%|█████████▏                                               | 81/502 [00:45<03:30,  2.00it/s]\u001b[A"
     ]
    },
    {
     "name": "stdout",
     "output_type": "stream",
     "text": [
      "NaN R-squared for subject_id 408. Check data quality and model configuration.\n"
     ]
    },
    {
     "name": "stderr",
     "output_type": "stream",
     "text": [
      "\n",
      "Processing Subject IDs:  16%|█████████▎                                               | 82/502 [00:45<03:30,  1.99it/s]\u001b[A"
     ]
    },
    {
     "name": "stdout",
     "output_type": "stream",
     "text": [
      "NaN R-squared for subject_id 353. Check data quality and model configuration.\n"
     ]
    },
    {
     "name": "stderr",
     "output_type": "stream",
     "text": [
      "\n",
      "Processing Subject IDs:  17%|█████████▍                                               | 83/502 [00:46<03:31,  1.98it/s]\u001b[A"
     ]
    },
    {
     "name": "stdout",
     "output_type": "stream",
     "text": [
      "NaN R-squared for subject_id 44. Check data quality and model configuration.\n"
     ]
    },
    {
     "name": "stderr",
     "output_type": "stream",
     "text": [
      "\n",
      "Processing Subject IDs:  17%|█████████▌                                               | 84/502 [00:46<03:30,  1.98it/s]\u001b[A"
     ]
    },
    {
     "name": "stdout",
     "output_type": "stream",
     "text": [
      "NaN R-squared for subject_id 279. Check data quality and model configuration.\n"
     ]
    },
    {
     "name": "stderr",
     "output_type": "stream",
     "text": [
      "\n",
      "Processing Subject IDs:  17%|█████████▋                                               | 85/502 [00:47<03:30,  1.99it/s]\u001b[A"
     ]
    },
    {
     "name": "stdout",
     "output_type": "stream",
     "text": [
      "NaN R-squared for subject_id 41. Check data quality and model configuration.\n"
     ]
    },
    {
     "name": "stderr",
     "output_type": "stream",
     "text": [
      "\n",
      "Processing Subject IDs:  17%|█████████▊                                               | 86/502 [00:47<03:30,  1.98it/s]\u001b[A"
     ]
    },
    {
     "name": "stdout",
     "output_type": "stream",
     "text": [
      "NaN R-squared for subject_id 289. Check data quality and model configuration.\n"
     ]
    },
    {
     "name": "stderr",
     "output_type": "stream",
     "text": [
      "\n",
      "Processing Subject IDs:  17%|█████████▉                                               | 87/502 [00:48<03:37,  1.91it/s]\u001b[A"
     ]
    },
    {
     "name": "stdout",
     "output_type": "stream",
     "text": [
      "NaN R-squared for subject_id 76. Check data quality and model configuration.\n"
     ]
    },
    {
     "name": "stderr",
     "output_type": "stream",
     "text": [
      "\n",
      "Processing Subject IDs:  18%|█████████▉                                               | 88/502 [00:48<03:40,  1.88it/s]\u001b[A"
     ]
    },
    {
     "name": "stdout",
     "output_type": "stream",
     "text": [
      "NaN R-squared for subject_id 63. Check data quality and model configuration.\n"
     ]
    },
    {
     "name": "stderr",
     "output_type": "stream",
     "text": [
      "\n",
      "Processing Subject IDs:  18%|██████████                                               | 89/502 [00:49<03:36,  1.91it/s]\u001b[A"
     ]
    },
    {
     "name": "stdout",
     "output_type": "stream",
     "text": [
      "NaN R-squared for subject_id 256. Check data quality and model configuration.\n"
     ]
    },
    {
     "name": "stderr",
     "output_type": "stream",
     "text": [
      "\n",
      "Processing Subject IDs:  18%|██████████▏                                              | 90/502 [00:49<03:36,  1.90it/s]\u001b[A"
     ]
    },
    {
     "name": "stdout",
     "output_type": "stream",
     "text": [
      "NaN R-squared for subject_id 130. Check data quality and model configuration.\n"
     ]
    },
    {
     "name": "stderr",
     "output_type": "stream",
     "text": [
      "\n",
      "Processing Subject IDs:  18%|██████████▎                                              | 91/502 [00:50<03:40,  1.86it/s]\u001b[A"
     ]
    },
    {
     "name": "stdout",
     "output_type": "stream",
     "text": [
      "NaN R-squared for subject_id 181. Check data quality and model configuration.\n"
     ]
    },
    {
     "name": "stderr",
     "output_type": "stream",
     "text": [
      "\n",
      "Processing Subject IDs:  18%|██████████▍                                              | 92/502 [00:50<03:39,  1.87it/s]\u001b[A"
     ]
    },
    {
     "name": "stdout",
     "output_type": "stream",
     "text": [
      "NaN R-squared for subject_id 292. Check data quality and model configuration.\n"
     ]
    },
    {
     "name": "stderr",
     "output_type": "stream",
     "text": [
      "\n",
      "Processing Subject IDs:  19%|██████████▌                                              | 93/502 [00:51<03:42,  1.84it/s]\u001b[A"
     ]
    },
    {
     "name": "stdout",
     "output_type": "stream",
     "text": [
      "NaN R-squared for subject_id 334. Check data quality and model configuration.\n"
     ]
    },
    {
     "name": "stderr",
     "output_type": "stream",
     "text": [
      "\n",
      "Processing Subject IDs:  19%|██████████▋                                              | 94/502 [00:51<03:39,  1.86it/s]\u001b[A"
     ]
    },
    {
     "name": "stdout",
     "output_type": "stream",
     "text": [
      "NaN R-squared for subject_id 120. Check data quality and model configuration.\n"
     ]
    },
    {
     "name": "stderr",
     "output_type": "stream",
     "text": [
      "\n",
      "Processing Subject IDs:  19%|██████████▊                                              | 95/502 [00:52<03:28,  1.95it/s]\u001b[A"
     ]
    },
    {
     "name": "stdout",
     "output_type": "stream",
     "text": [
      "NaN R-squared for subject_id 390. Check data quality and model configuration.\n"
     ]
    },
    {
     "name": "stderr",
     "output_type": "stream",
     "text": [
      "\n",
      "Processing Subject IDs:  19%|██████████▉                                              | 96/502 [00:52<03:18,  2.04it/s]\u001b[A"
     ]
    },
    {
     "name": "stdout",
     "output_type": "stream",
     "text": [
      "NaN R-squared for subject_id 375. Check data quality and model configuration.\n"
     ]
    },
    {
     "name": "stderr",
     "output_type": "stream",
     "text": [
      "\n",
      "Processing Subject IDs:  19%|███████████                                              | 97/502 [00:53<03:10,  2.12it/s]\u001b[A"
     ]
    },
    {
     "name": "stdout",
     "output_type": "stream",
     "text": [
      "NaN R-squared for subject_id 327. Check data quality and model configuration.\n"
     ]
    },
    {
     "name": "stderr",
     "output_type": "stream",
     "text": [
      "\n",
      "Processing Subject IDs:  20%|███████████▏                                             | 98/502 [00:53<03:09,  2.14it/s]\u001b[A"
     ]
    },
    {
     "name": "stdout",
     "output_type": "stream",
     "text": [
      "NaN R-squared for subject_id 225. Check data quality and model configuration.\n"
     ]
    },
    {
     "name": "stderr",
     "output_type": "stream",
     "text": [
      "\n",
      "Processing Subject IDs:  20%|███████████▏                                             | 99/502 [00:54<03:15,  2.06it/s]\u001b[A"
     ]
    },
    {
     "name": "stdout",
     "output_type": "stream",
     "text": [
      "NaN R-squared for subject_id 100. Check data quality and model configuration.\n"
     ]
    },
    {
     "name": "stderr",
     "output_type": "stream",
     "text": [
      "\n",
      "Processing Subject IDs:  20%|███████████▏                                            | 100/502 [00:54<03:20,  2.01it/s]\u001b[A"
     ]
    },
    {
     "name": "stdout",
     "output_type": "stream",
     "text": [
      "NaN R-squared for subject_id 321. Check data quality and model configuration.\n"
     ]
    },
    {
     "name": "stderr",
     "output_type": "stream",
     "text": [
      "\n",
      "Processing Subject IDs:  20%|███████████▎                                            | 101/502 [00:55<03:27,  1.93it/s]\u001b[A"
     ]
    },
    {
     "name": "stdout",
     "output_type": "stream",
     "text": [
      "NaN R-squared for subject_id 30. Check data quality and model configuration.\n"
     ]
    },
    {
     "name": "stderr",
     "output_type": "stream",
     "text": [
      "\n",
      "Processing Subject IDs:  20%|███████████▍                                            | 102/502 [00:55<03:32,  1.88it/s]\u001b[A"
     ]
    },
    {
     "name": "stdout",
     "output_type": "stream",
     "text": [
      "NaN R-squared for subject_id 299. Check data quality and model configuration.\n"
     ]
    },
    {
     "name": "stderr",
     "output_type": "stream",
     "text": [
      "\n",
      "Processing Subject IDs:  21%|███████████▍                                            | 103/502 [00:56<03:30,  1.89it/s]\u001b[A"
     ]
    },
    {
     "name": "stdout",
     "output_type": "stream",
     "text": [
      "NaN R-squared for subject_id 389. Check data quality and model configuration.\n"
     ]
    },
    {
     "name": "stderr",
     "output_type": "stream",
     "text": [
      "\n",
      "Processing Subject IDs:  21%|███████████▌                                            | 104/502 [00:57<03:43,  1.78it/s]\u001b[A"
     ]
    },
    {
     "name": "stdout",
     "output_type": "stream",
     "text": [
      "NaN R-squared for subject_id 56. Check data quality and model configuration.\n"
     ]
    },
    {
     "name": "stderr",
     "output_type": "stream",
     "text": [
      "\n",
      "Processing Subject IDs:  21%|███████████▋                                            | 105/502 [00:57<03:50,  1.72it/s]\u001b[A"
     ]
    },
    {
     "name": "stdout",
     "output_type": "stream",
     "text": [
      "NaN R-squared for subject_id 333. Check data quality and model configuration.\n"
     ]
    },
    {
     "name": "stderr",
     "output_type": "stream",
     "text": [
      "\n",
      "Processing Subject IDs:  21%|███████████▊                                            | 106/502 [00:58<03:51,  1.71it/s]\u001b[A"
     ]
    },
    {
     "name": "stdout",
     "output_type": "stream",
     "text": [
      "NaN R-squared for subject_id 4. Check data quality and model configuration.\n"
     ]
    },
    {
     "name": "stderr",
     "output_type": "stream",
     "text": [
      "\n",
      "Processing Subject IDs:  21%|███████████▉                                            | 107/502 [00:58<03:55,  1.68it/s]\u001b[A"
     ]
    },
    {
     "name": "stdout",
     "output_type": "stream",
     "text": [
      "NaN R-squared for subject_id 62. Check data quality and model configuration.\n"
     ]
    },
    {
     "name": "stderr",
     "output_type": "stream",
     "text": [
      "\n",
      "Processing Subject IDs:  22%|████████████                                            | 108/502 [00:59<03:47,  1.73it/s]\u001b[A"
     ]
    },
    {
     "name": "stdout",
     "output_type": "stream",
     "text": [
      "NaN R-squared for subject_id 199. Check data quality and model configuration.\n"
     ]
    },
    {
     "name": "stderr",
     "output_type": "stream",
     "text": [
      "\n",
      "Processing Subject IDs:  22%|████████████▏                                           | 109/502 [00:59<03:30,  1.87it/s]\u001b[A"
     ]
    },
    {
     "name": "stdout",
     "output_type": "stream",
     "text": [
      "NaN R-squared for subject_id 452. Check data quality and model configuration.\n"
     ]
    },
    {
     "name": "stderr",
     "output_type": "stream",
     "text": [
      "\n",
      "Processing Subject IDs:  22%|████████████▎                                           | 110/502 [01:00<03:18,  1.98it/s]\u001b[A"
     ]
    },
    {
     "name": "stdout",
     "output_type": "stream",
     "text": [
      "NaN R-squared for subject_id 118. Check data quality and model configuration.\n"
     ]
    },
    {
     "name": "stderr",
     "output_type": "stream",
     "text": [
      "\n",
      "Processing Subject IDs:  22%|████████████▍                                           | 111/502 [01:00<03:09,  2.06it/s]\u001b[A"
     ]
    },
    {
     "name": "stdout",
     "output_type": "stream",
     "text": [
      "NaN R-squared for subject_id 153. Check data quality and model configuration.\n"
     ]
    },
    {
     "name": "stderr",
     "output_type": "stream",
     "text": [
      "\n",
      "Processing Subject IDs:  22%|████████████▍                                           | 112/502 [01:01<03:07,  2.08it/s]\u001b[A"
     ]
    },
    {
     "name": "stdout",
     "output_type": "stream",
     "text": [
      "NaN R-squared for subject_id 22. Check data quality and model configuration.\n"
     ]
    },
    {
     "name": "stderr",
     "output_type": "stream",
     "text": [
      "\n",
      "Processing Subject IDs:  23%|████████████▌                                           | 113/502 [01:01<03:12,  2.02it/s]\u001b[A"
     ]
    },
    {
     "name": "stdout",
     "output_type": "stream",
     "text": [
      "NaN R-squared for subject_id 116. Check data quality and model configuration.\n"
     ]
    },
    {
     "name": "stderr",
     "output_type": "stream",
     "text": [
      "\n",
      "Processing Subject IDs:  23%|████████████▋                                           | 114/502 [01:02<03:17,  1.96it/s]\u001b[A"
     ]
    },
    {
     "name": "stdout",
     "output_type": "stream",
     "text": [
      "NaN R-squared for subject_id 105. Check data quality and model configuration.\n"
     ]
    },
    {
     "name": "stderr",
     "output_type": "stream",
     "text": [
      "\n",
      "Processing Subject IDs:  23%|████████████▊                                           | 115/502 [01:02<03:25,  1.89it/s]\u001b[A"
     ]
    },
    {
     "name": "stdout",
     "output_type": "stream",
     "text": [
      "NaN R-squared for subject_id 121. Check data quality and model configuration.\n"
     ]
    },
    {
     "name": "stderr",
     "output_type": "stream",
     "text": [
      "\n",
      "Processing Subject IDs:  23%|████████████▉                                           | 116/502 [01:03<03:29,  1.85it/s]\u001b[A"
     ]
    },
    {
     "name": "stdout",
     "output_type": "stream",
     "text": [
      "NaN R-squared for subject_id 471. Check data quality and model configuration.\n"
     ]
    },
    {
     "name": "stderr",
     "output_type": "stream",
     "text": [
      "\n",
      "Processing Subject IDs:  23%|█████████████                                           | 117/502 [01:03<03:26,  1.87it/s]\u001b[A"
     ]
    },
    {
     "name": "stdout",
     "output_type": "stream",
     "text": [
      "NaN R-squared for subject_id 244. Check data quality and model configuration.\n"
     ]
    },
    {
     "name": "stderr",
     "output_type": "stream",
     "text": [
      "\n",
      "Processing Subject IDs:  24%|█████████████▏                                          | 118/502 [01:04<03:29,  1.84it/s]\u001b[A"
     ]
    },
    {
     "name": "stdout",
     "output_type": "stream",
     "text": [
      "NaN R-squared for subject_id 200. Check data quality and model configuration.\n"
     ]
    },
    {
     "name": "stderr",
     "output_type": "stream",
     "text": [
      "\n",
      "Processing Subject IDs:  24%|█████████████▎                                          | 119/502 [01:05<03:32,  1.80it/s]\u001b[A"
     ]
    },
    {
     "name": "stdout",
     "output_type": "stream",
     "text": [
      "NaN R-squared for subject_id 137. Check data quality and model configuration.\n"
     ]
    },
    {
     "name": "stderr",
     "output_type": "stream",
     "text": [
      "\n",
      "Processing Subject IDs:  24%|█████████████▍                                          | 120/502 [01:05<03:29,  1.82it/s]\u001b[A"
     ]
    },
    {
     "name": "stdout",
     "output_type": "stream",
     "text": [
      "NaN R-squared for subject_id 114. Check data quality and model configuration.\n"
     ]
    },
    {
     "name": "stderr",
     "output_type": "stream",
     "text": [
      "\n",
      "Processing Subject IDs:  24%|█████████████▍                                          | 121/502 [01:06<03:33,  1.78it/s]\u001b[A"
     ]
    },
    {
     "name": "stdout",
     "output_type": "stream",
     "text": [
      "NaN R-squared for subject_id 227. Check data quality and model configuration.\n"
     ]
    },
    {
     "name": "stderr",
     "output_type": "stream",
     "text": [
      "\n",
      "Processing Subject IDs:  24%|█████████████▌                                          | 122/502 [01:06<03:29,  1.81it/s]\u001b[A"
     ]
    },
    {
     "name": "stdout",
     "output_type": "stream",
     "text": [
      "NaN R-squared for subject_id 3. Check data quality and model configuration.\n"
     ]
    },
    {
     "name": "stderr",
     "output_type": "stream",
     "text": [
      "\n",
      "Processing Subject IDs:  25%|█████████████▋                                          | 123/502 [01:07<03:18,  1.91it/s]\u001b[A"
     ]
    },
    {
     "name": "stdout",
     "output_type": "stream",
     "text": [
      "NaN R-squared for subject_id 210. Check data quality and model configuration.\n"
     ]
    },
    {
     "name": "stderr",
     "output_type": "stream",
     "text": [
      "\n",
      "Processing Subject IDs:  25%|█████████████▊                                          | 124/502 [01:07<03:09,  2.00it/s]\u001b[A"
     ]
    },
    {
     "name": "stdout",
     "output_type": "stream",
     "text": [
      "NaN R-squared for subject_id 53. Check data quality and model configuration.\n"
     ]
    },
    {
     "name": "stderr",
     "output_type": "stream",
     "text": [
      "\n",
      "Processing Subject IDs:  25%|█████████████▉                                          | 125/502 [01:08<03:01,  2.08it/s]\u001b[A"
     ]
    },
    {
     "name": "stdout",
     "output_type": "stream",
     "text": [
      "NaN R-squared for subject_id 161. Check data quality and model configuration.\n"
     ]
    },
    {
     "name": "stderr",
     "output_type": "stream",
     "text": [
      "\n",
      "Processing Subject IDs:  25%|██████████████                                          | 126/502 [01:08<03:04,  2.04it/s]\u001b[A"
     ]
    },
    {
     "name": "stdout",
     "output_type": "stream",
     "text": [
      "NaN R-squared for subject_id 286. Check data quality and model configuration.\n"
     ]
    },
    {
     "name": "stderr",
     "output_type": "stream",
     "text": [
      "\n",
      "Processing Subject IDs:  25%|██████████████▏                                         | 127/502 [01:09<03:16,  1.91it/s]\u001b[A"
     ]
    },
    {
     "name": "stdout",
     "output_type": "stream",
     "text": [
      "NaN R-squared for subject_id 296. Check data quality and model configuration.\n"
     ]
    },
    {
     "name": "stderr",
     "output_type": "stream",
     "text": [
      "\n",
      "Processing Subject IDs:  25%|██████████████▎                                         | 128/502 [01:09<03:30,  1.78it/s]\u001b[A"
     ]
    },
    {
     "name": "stdout",
     "output_type": "stream",
     "text": [
      "NaN R-squared for subject_id 400. Check data quality and model configuration.\n"
     ]
    },
    {
     "name": "stderr",
     "output_type": "stream",
     "text": [
      "\n",
      "Processing Subject IDs:  26%|██████████████▍                                         | 129/502 [01:10<03:40,  1.69it/s]\u001b[A"
     ]
    },
    {
     "name": "stdout",
     "output_type": "stream",
     "text": [
      "NaN R-squared for subject_id 460. Check data quality and model configuration.\n"
     ]
    },
    {
     "name": "stderr",
     "output_type": "stream",
     "text": [
      "\n",
      "Processing Subject IDs:  26%|██████████████▌                                         | 130/502 [01:11<03:34,  1.74it/s]\u001b[A"
     ]
    },
    {
     "name": "stdout",
     "output_type": "stream",
     "text": [
      "NaN R-squared for subject_id 72. Check data quality and model configuration.\n"
     ]
    },
    {
     "name": "stderr",
     "output_type": "stream",
     "text": [
      "\n",
      "Processing Subject IDs:  26%|██████████████▌                                         | 131/502 [01:11<03:32,  1.75it/s]\u001b[A"
     ]
    },
    {
     "name": "stdout",
     "output_type": "stream",
     "text": [
      "NaN R-squared for subject_id 373. Check data quality and model configuration.\n"
     ]
    },
    {
     "name": "stderr",
     "output_type": "stream",
     "text": [
      "\n",
      "Processing Subject IDs:  26%|██████████████▋                                         | 132/502 [01:12<03:27,  1.78it/s]\u001b[A"
     ]
    },
    {
     "name": "stdout",
     "output_type": "stream",
     "text": [
      "NaN R-squared for subject_id 133. Check data quality and model configuration.\n"
     ]
    },
    {
     "name": "stderr",
     "output_type": "stream",
     "text": [
      "\n",
      "Processing Subject IDs:  26%|██████████████▊                                         | 133/502 [01:12<03:25,  1.80it/s]\u001b[A"
     ]
    },
    {
     "name": "stdout",
     "output_type": "stream",
     "text": [
      "NaN R-squared for subject_id 304. Check data quality and model configuration.\n"
     ]
    },
    {
     "name": "stderr",
     "output_type": "stream",
     "text": [
      "\n",
      "Processing Subject IDs:  27%|██████████████▉                                         | 134/502 [01:13<03:23,  1.81it/s]\u001b[A"
     ]
    },
    {
     "name": "stdout",
     "output_type": "stream",
     "text": [
      "NaN R-squared for subject_id 384. Check data quality and model configuration.\n"
     ]
    },
    {
     "name": "stderr",
     "output_type": "stream",
     "text": [
      "\n",
      "Processing Subject IDs:  27%|███████████████                                         | 135/502 [01:13<03:24,  1.80it/s]\u001b[A"
     ]
    },
    {
     "name": "stdout",
     "output_type": "stream",
     "text": [
      "NaN R-squared for subject_id 280. Check data quality and model configuration.\n"
     ]
    },
    {
     "name": "stderr",
     "output_type": "stream",
     "text": [
      "\n",
      "Processing Subject IDs:  27%|███████████████▏                                        | 136/502 [01:14<03:14,  1.88it/s]\u001b[A"
     ]
    },
    {
     "name": "stdout",
     "output_type": "stream",
     "text": [
      "NaN R-squared for subject_id 71. Check data quality and model configuration.\n"
     ]
    },
    {
     "name": "stderr",
     "output_type": "stream",
     "text": [
      "\n",
      "Processing Subject IDs:  27%|███████████████▎                                        | 137/502 [01:14<03:03,  1.99it/s]\u001b[A"
     ]
    },
    {
     "name": "stdout",
     "output_type": "stream",
     "text": [
      "NaN R-squared for subject_id 19. Check data quality and model configuration.\n"
     ]
    },
    {
     "name": "stderr",
     "output_type": "stream",
     "text": [
      "\n",
      "Processing Subject IDs:  27%|███████████████▍                                        | 138/502 [01:15<02:55,  2.08it/s]\u001b[A"
     ]
    },
    {
     "name": "stdout",
     "output_type": "stream",
     "text": [
      "NaN R-squared for subject_id 331. Check data quality and model configuration.\n"
     ]
    },
    {
     "name": "stderr",
     "output_type": "stream",
     "text": [
      "\n",
      "Processing Subject IDs:  28%|███████████████▌                                        | 139/502 [01:15<02:48,  2.15it/s]\u001b[A"
     ]
    },
    {
     "name": "stdout",
     "output_type": "stream",
     "text": [
      "NaN R-squared for subject_id 232. Check data quality and model configuration.\n"
     ]
    },
    {
     "name": "stderr",
     "output_type": "stream",
     "text": [
      "\n",
      "Processing Subject IDs:  28%|███████████████▌                                        | 140/502 [01:16<02:49,  2.14it/s]\u001b[A"
     ]
    },
    {
     "name": "stdout",
     "output_type": "stream",
     "text": [
      "NaN R-squared for subject_id 198. Check data quality and model configuration.\n"
     ]
    },
    {
     "name": "stderr",
     "output_type": "stream",
     "text": [
      "\n",
      "Processing Subject IDs:  28%|███████████████▋                                        | 141/502 [01:16<02:47,  2.15it/s]\u001b[A"
     ]
    },
    {
     "name": "stdout",
     "output_type": "stream",
     "text": [
      "NaN R-squared for subject_id 173. Check data quality and model configuration.\n"
     ]
    },
    {
     "name": "stderr",
     "output_type": "stream",
     "text": [
      "\n",
      "Processing Subject IDs:  28%|███████████████▊                                        | 142/502 [01:17<02:56,  2.04it/s]\u001b[A"
     ]
    },
    {
     "name": "stdout",
     "output_type": "stream",
     "text": [
      "NaN R-squared for subject_id 351. Check data quality and model configuration.\n"
     ]
    },
    {
     "name": "stderr",
     "output_type": "stream",
     "text": [
      "\n",
      "Processing Subject IDs:  28%|███████████████▉                                        | 143/502 [01:17<03:03,  1.95it/s]\u001b[A"
     ]
    },
    {
     "name": "stdout",
     "output_type": "stream",
     "text": [
      "NaN R-squared for subject_id 392. Check data quality and model configuration.\n"
     ]
    },
    {
     "name": "stderr",
     "output_type": "stream",
     "text": [
      "\n",
      "Processing Subject IDs:  29%|████████████████                                        | 144/502 [01:18<03:06,  1.92it/s]\u001b[A"
     ]
    },
    {
     "name": "stdout",
     "output_type": "stream",
     "text": [
      "NaN R-squared for subject_id 23. Check data quality and model configuration.\n"
     ]
    },
    {
     "name": "stderr",
     "output_type": "stream",
     "text": [
      "\n",
      "Processing Subject IDs:  29%|████████████████▏                                       | 145/502 [01:18<03:11,  1.86it/s]\u001b[A"
     ]
    },
    {
     "name": "stdout",
     "output_type": "stream",
     "text": [
      "NaN R-squared for subject_id 158. Check data quality and model configuration.\n"
     ]
    },
    {
     "name": "stderr",
     "output_type": "stream",
     "text": [
      "\n",
      "Processing Subject IDs:  29%|████████████████▎                                       | 146/502 [01:19<03:14,  1.83it/s]\u001b[A"
     ]
    },
    {
     "name": "stdout",
     "output_type": "stream",
     "text": [
      "NaN R-squared for subject_id 206. Check data quality and model configuration.\n"
     ]
    },
    {
     "name": "stderr",
     "output_type": "stream",
     "text": [
      "\n",
      "Processing Subject IDs:  29%|████████████████▍                                       | 147/502 [01:19<03:14,  1.82it/s]\u001b[A"
     ]
    },
    {
     "name": "stdout",
     "output_type": "stream",
     "text": [
      "NaN R-squared for subject_id 95. Check data quality and model configuration.\n"
     ]
    },
    {
     "name": "stderr",
     "output_type": "stream",
     "text": [
      "\n",
      "Processing Subject IDs:  29%|████████████████▌                                       | 148/502 [01:20<03:13,  1.83it/s]\u001b[A"
     ]
    },
    {
     "name": "stdout",
     "output_type": "stream",
     "text": [
      "NaN R-squared for subject_id 383. Check data quality and model configuration.\n"
     ]
    },
    {
     "name": "stderr",
     "output_type": "stream",
     "text": [
      "\n",
      "Processing Subject IDs:  30%|████████████████▌                                       | 149/502 [01:21<03:22,  1.74it/s]\u001b[A"
     ]
    },
    {
     "name": "stdout",
     "output_type": "stream",
     "text": [
      "NaN R-squared for subject_id 163. Check data quality and model configuration.\n"
     ]
    },
    {
     "name": "stderr",
     "output_type": "stream",
     "text": [
      "\n",
      "Processing Subject IDs:  30%|████████████████▋                                       | 150/502 [01:21<03:19,  1.77it/s]\u001b[A"
     ]
    },
    {
     "name": "stdout",
     "output_type": "stream",
     "text": [
      "NaN R-squared for subject_id 365. Check data quality and model configuration.\n"
     ]
    },
    {
     "name": "stderr",
     "output_type": "stream",
     "text": [
      "\n",
      "Processing Subject IDs:  30%|████████████████▊                                       | 151/502 [01:22<03:07,  1.87it/s]\u001b[A"
     ]
    },
    {
     "name": "stdout",
     "output_type": "stream",
     "text": [
      "NaN R-squared for subject_id 149. Check data quality and model configuration.\n"
     ]
    },
    {
     "name": "stderr",
     "output_type": "stream",
     "text": [
      "\n",
      "Processing Subject IDs:  30%|████████████████▉                                       | 152/502 [01:22<02:57,  1.97it/s]\u001b[A"
     ]
    },
    {
     "name": "stdout",
     "output_type": "stream",
     "text": [
      "NaN R-squared for subject_id 324. Check data quality and model configuration.\n"
     ]
    },
    {
     "name": "stderr",
     "output_type": "stream",
     "text": [
      "\n",
      "Processing Subject IDs:  30%|█████████████████                                       | 153/502 [01:22<02:52,  2.03it/s]\u001b[A"
     ]
    },
    {
     "name": "stdout",
     "output_type": "stream",
     "text": [
      "NaN R-squared for subject_id 140. Check data quality and model configuration.\n"
     ]
    },
    {
     "name": "stderr",
     "output_type": "stream",
     "text": [
      "\n",
      "Processing Subject IDs:  31%|█████████████████▏                                      | 154/502 [01:23<02:53,  2.00it/s]\u001b[A"
     ]
    },
    {
     "name": "stdout",
     "output_type": "stream",
     "text": [
      "NaN R-squared for subject_id 228. Check data quality and model configuration.\n"
     ]
    },
    {
     "name": "stderr",
     "output_type": "stream",
     "text": [
      "\n",
      "Processing Subject IDs:  31%|█████████████████▎                                      | 155/502 [01:24<02:55,  1.98it/s]\u001b[A"
     ]
    },
    {
     "name": "stdout",
     "output_type": "stream",
     "text": [
      "NaN R-squared for subject_id 10. Check data quality and model configuration.\n"
     ]
    },
    {
     "name": "stderr",
     "output_type": "stream",
     "text": [
      "\n",
      "Processing Subject IDs:  31%|█████████████████▍                                      | 156/502 [01:24<03:00,  1.91it/s]\u001b[A"
     ]
    },
    {
     "name": "stdout",
     "output_type": "stream",
     "text": [
      "NaN R-squared for subject_id 305. Check data quality and model configuration.\n"
     ]
    },
    {
     "name": "stderr",
     "output_type": "stream",
     "text": [
      "\n",
      "Processing Subject IDs:  31%|█████████████████▌                                      | 157/502 [01:25<03:07,  1.84it/s]\u001b[A"
     ]
    },
    {
     "name": "stdout",
     "output_type": "stream",
     "text": [
      "NaN R-squared for subject_id 310. Check data quality and model configuration.\n"
     ]
    },
    {
     "name": "stderr",
     "output_type": "stream",
     "text": [
      "\n",
      "Processing Subject IDs:  31%|█████████████████▋                                      | 158/502 [01:25<03:05,  1.85it/s]\u001b[A"
     ]
    },
    {
     "name": "stdout",
     "output_type": "stream",
     "text": [
      "NaN R-squared for subject_id 75. Check data quality and model configuration.\n"
     ]
    },
    {
     "name": "stderr",
     "output_type": "stream",
     "text": [
      "\n",
      "Processing Subject IDs:  32%|█████████████████▋                                      | 159/502 [01:26<03:08,  1.82it/s]\u001b[A"
     ]
    },
    {
     "name": "stdout",
     "output_type": "stream",
     "text": [
      "NaN R-squared for subject_id 339. Check data quality and model configuration.\n"
     ]
    },
    {
     "name": "stderr",
     "output_type": "stream",
     "text": [
      "\n",
      "Processing Subject IDs:  32%|█████████████████▊                                      | 160/502 [01:26<03:10,  1.80it/s]\u001b[A"
     ]
    },
    {
     "name": "stdout",
     "output_type": "stream",
     "text": [
      "NaN R-squared for subject_id 374. Check data quality and model configuration.\n"
     ]
    },
    {
     "name": "stderr",
     "output_type": "stream",
     "text": [
      "\n",
      "Processing Subject IDs:  32%|█████████████████▉                                      | 161/502 [01:27<03:11,  1.78it/s]\u001b[A"
     ]
    },
    {
     "name": "stdout",
     "output_type": "stream",
     "text": [
      "NaN R-squared for subject_id 402. Check data quality and model configuration.\n"
     ]
    },
    {
     "name": "stderr",
     "output_type": "stream",
     "text": [
      "\n",
      "Processing Subject IDs:  32%|██████████████████                                      | 162/502 [01:27<03:12,  1.77it/s]\u001b[A"
     ]
    },
    {
     "name": "stdout",
     "output_type": "stream",
     "text": [
      "NaN R-squared for subject_id 84. Check data quality and model configuration.\n"
     ]
    },
    {
     "name": "stderr",
     "output_type": "stream",
     "text": [
      "\n",
      "Processing Subject IDs:  32%|██████████████████▏                                     | 163/502 [01:28<03:14,  1.74it/s]\u001b[A"
     ]
    },
    {
     "name": "stdout",
     "output_type": "stream",
     "text": [
      "NaN R-squared for subject_id 24. Check data quality and model configuration.\n"
     ]
    },
    {
     "name": "stderr",
     "output_type": "stream",
     "text": [
      "\n",
      "Processing Subject IDs:  33%|██████████████████▎                                     | 164/502 [01:29<03:04,  1.83it/s]\u001b[A"
     ]
    },
    {
     "name": "stdout",
     "output_type": "stream",
     "text": [
      "NaN R-squared for subject_id 355. Check data quality and model configuration.\n"
     ]
    },
    {
     "name": "stderr",
     "output_type": "stream",
     "text": [
      "\n",
      "Processing Subject IDs:  33%|██████████████████▍                                     | 165/502 [01:29<02:54,  1.93it/s]\u001b[A"
     ]
    },
    {
     "name": "stdout",
     "output_type": "stream",
     "text": [
      "NaN R-squared for subject_id 394. Check data quality and model configuration.\n"
     ]
    },
    {
     "name": "stderr",
     "output_type": "stream",
     "text": [
      "\n",
      "Processing Subject IDs:  33%|██████████████████▌                                     | 166/502 [01:30<02:56,  1.90it/s]\u001b[A"
     ]
    },
    {
     "name": "stdout",
     "output_type": "stream",
     "text": [
      "NaN R-squared for subject_id 162. Check data quality and model configuration.\n"
     ]
    },
    {
     "name": "stderr",
     "output_type": "stream",
     "text": [
      "\n",
      "Processing Subject IDs:  33%|██████████████████▋                                     | 167/502 [01:30<02:48,  1.98it/s]\u001b[A"
     ]
    },
    {
     "name": "stdout",
     "output_type": "stream",
     "text": [
      "NaN R-squared for subject_id 473. Check data quality and model configuration.\n"
     ]
    },
    {
     "name": "stderr",
     "output_type": "stream",
     "text": [
      "\n",
      "Processing Subject IDs:  33%|██████████████████▋                                     | 168/502 [01:31<02:50,  1.96it/s]\u001b[A"
     ]
    },
    {
     "name": "stdout",
     "output_type": "stream",
     "text": [
      "NaN R-squared for subject_id 223. Check data quality and model configuration.\n"
     ]
    },
    {
     "name": "stderr",
     "output_type": "stream",
     "text": [
      "\n",
      "Processing Subject IDs:  34%|██████████████████▊                                     | 169/502 [01:31<03:04,  1.81it/s]\u001b[A"
     ]
    },
    {
     "name": "stdout",
     "output_type": "stream",
     "text": [
      "NaN R-squared for subject_id 263. Check data quality and model configuration.\n"
     ]
    },
    {
     "name": "stderr",
     "output_type": "stream",
     "text": [
      "\n",
      "Processing Subject IDs:  34%|██████████████████▉                                     | 170/502 [01:32<03:13,  1.72it/s]\u001b[A"
     ]
    },
    {
     "name": "stdout",
     "output_type": "stream",
     "text": [
      "NaN R-squared for subject_id 182. Check data quality and model configuration.\n"
     ]
    },
    {
     "name": "stderr",
     "output_type": "stream",
     "text": [
      "\n",
      "Processing Subject IDs:  34%|███████████████████                                     | 171/502 [01:32<03:16,  1.68it/s]\u001b[A"
     ]
    },
    {
     "name": "stdout",
     "output_type": "stream",
     "text": [
      "NaN R-squared for subject_id 184. Check data quality and model configuration.\n"
     ]
    },
    {
     "name": "stderr",
     "output_type": "stream",
     "text": [
      "\n",
      "Processing Subject IDs:  34%|███████████████████▏                                    | 172/502 [01:33<03:10,  1.74it/s]\u001b[A"
     ]
    },
    {
     "name": "stdout",
     "output_type": "stream",
     "text": [
      "NaN R-squared for subject_id 435. Check data quality and model configuration.\n"
     ]
    },
    {
     "name": "stderr",
     "output_type": "stream",
     "text": [
      "\n",
      "Processing Subject IDs:  34%|███████████████████▎                                    | 173/502 [01:34<03:04,  1.78it/s]\u001b[A"
     ]
    },
    {
     "name": "stdout",
     "output_type": "stream",
     "text": [
      "NaN R-squared for subject_id 204. Check data quality and model configuration.\n"
     ]
    },
    {
     "name": "stderr",
     "output_type": "stream",
     "text": [
      "\n",
      "Processing Subject IDs:  35%|███████████████████▍                                    | 174/502 [01:34<03:01,  1.81it/s]\u001b[A"
     ]
    },
    {
     "name": "stdout",
     "output_type": "stream",
     "text": [
      "NaN R-squared for subject_id 194. Check data quality and model configuration.\n"
     ]
    },
    {
     "name": "stderr",
     "output_type": "stream",
     "text": [
      "\n",
      "Processing Subject IDs:  35%|███████████████████▌                                    | 175/502 [01:35<02:57,  1.85it/s]\u001b[A"
     ]
    },
    {
     "name": "stdout",
     "output_type": "stream",
     "text": [
      "NaN R-squared for subject_id 455. Check data quality and model configuration.\n"
     ]
    },
    {
     "name": "stderr",
     "output_type": "stream",
     "text": [
      "\n",
      "Processing Subject IDs:  35%|███████████████████▋                                    | 176/502 [01:35<02:56,  1.85it/s]\u001b[A"
     ]
    },
    {
     "name": "stdout",
     "output_type": "stream",
     "text": [
      "NaN R-squared for subject_id 213. Check data quality and model configuration.\n"
     ]
    },
    {
     "name": "stderr",
     "output_type": "stream",
     "text": [
      "\n",
      "Processing Subject IDs:  35%|███████████████████▋                                    | 177/502 [01:36<02:55,  1.85it/s]\u001b[A"
     ]
    },
    {
     "name": "stdout",
     "output_type": "stream",
     "text": [
      "NaN R-squared for subject_id 220. Check data quality and model configuration.\n"
     ]
    },
    {
     "name": "stderr",
     "output_type": "stream",
     "text": [
      "\n",
      "Processing Subject IDs:  35%|███████████████████▊                                    | 178/502 [01:36<02:45,  1.96it/s]\u001b[A"
     ]
    },
    {
     "name": "stdout",
     "output_type": "stream",
     "text": [
      "NaN R-squared for subject_id 61. Check data quality and model configuration.\n"
     ]
    },
    {
     "name": "stderr",
     "output_type": "stream",
     "text": [
      "\n",
      "Processing Subject IDs:  36%|███████████████████▉                                    | 179/502 [01:37<02:37,  2.04it/s]\u001b[A"
     ]
    },
    {
     "name": "stdout",
     "output_type": "stream",
     "text": [
      "NaN R-squared for subject_id 340. Check data quality and model configuration.\n"
     ]
    },
    {
     "name": "stderr",
     "output_type": "stream",
     "text": [
      "\n",
      "Processing Subject IDs:  36%|████████████████████                                    | 180/502 [01:37<02:30,  2.14it/s]\u001b[A"
     ]
    },
    {
     "name": "stdout",
     "output_type": "stream",
     "text": [
      "NaN R-squared for subject_id 309. Check data quality and model configuration.\n"
     ]
    },
    {
     "name": "stderr",
     "output_type": "stream",
     "text": [
      "\n",
      "Processing Subject IDs:  36%|████████████████████▏                                   | 181/502 [01:37<02:27,  2.18it/s]\u001b[A"
     ]
    },
    {
     "name": "stdout",
     "output_type": "stream",
     "text": [
      "NaN R-squared for subject_id 51. Check data quality and model configuration.\n"
     ]
    },
    {
     "name": "stderr",
     "output_type": "stream",
     "text": [
      "\n",
      "Processing Subject IDs:  36%|████████████████████▎                                   | 182/502 [01:38<02:30,  2.13it/s]\u001b[A"
     ]
    },
    {
     "name": "stdout",
     "output_type": "stream",
     "text": [
      "NaN R-squared for subject_id 152. Check data quality and model configuration.\n"
     ]
    },
    {
     "name": "stderr",
     "output_type": "stream",
     "text": [
      "\n",
      "Processing Subject IDs:  36%|████████████████████▍                                   | 183/502 [01:38<02:38,  2.02it/s]\u001b[A"
     ]
    },
    {
     "name": "stdout",
     "output_type": "stream",
     "text": [
      "NaN R-squared for subject_id 396. Check data quality and model configuration.\n"
     ]
    },
    {
     "name": "stderr",
     "output_type": "stream",
     "text": [
      "\n",
      "Processing Subject IDs:  37%|████████████████████▌                                   | 184/502 [01:39<02:44,  1.94it/s]\u001b[A"
     ]
    },
    {
     "name": "stdout",
     "output_type": "stream",
     "text": [
      "NaN R-squared for subject_id 134. Check data quality and model configuration.\n"
     ]
    },
    {
     "name": "stderr",
     "output_type": "stream",
     "text": [
      "\n",
      "Processing Subject IDs:  37%|████████████████████▋                                   | 185/502 [01:40<02:47,  1.89it/s]\u001b[A"
     ]
    },
    {
     "name": "stdout",
     "output_type": "stream",
     "text": [
      "NaN R-squared for subject_id 352. Check data quality and model configuration.\n"
     ]
    },
    {
     "name": "stderr",
     "output_type": "stream",
     "text": [
      "\n",
      "Processing Subject IDs:  37%|████████████████████▋                                   | 186/502 [01:40<02:47,  1.89it/s]\u001b[A"
     ]
    },
    {
     "name": "stdout",
     "output_type": "stream",
     "text": [
      "NaN R-squared for subject_id 399. Check data quality and model configuration.\n"
     ]
    },
    {
     "name": "stderr",
     "output_type": "stream",
     "text": [
      "\n",
      "Processing Subject IDs:  37%|████████████████████▊                                   | 187/502 [01:41<02:48,  1.87it/s]\u001b[A"
     ]
    },
    {
     "name": "stdout",
     "output_type": "stream",
     "text": [
      "NaN R-squared for subject_id 281. Check data quality and model configuration.\n"
     ]
    },
    {
     "name": "stderr",
     "output_type": "stream",
     "text": [
      "\n",
      "Processing Subject IDs:  37%|████████████████████▉                                   | 188/502 [01:41<02:50,  1.84it/s]\u001b[A"
     ]
    },
    {
     "name": "stdout",
     "output_type": "stream",
     "text": [
      "NaN R-squared for subject_id 426. Check data quality and model configuration.\n"
     ]
    },
    {
     "name": "stderr",
     "output_type": "stream",
     "text": [
      "\n",
      "Processing Subject IDs:  38%|█████████████████████                                   | 189/502 [01:42<02:47,  1.86it/s]\u001b[A"
     ]
    },
    {
     "name": "stdout",
     "output_type": "stream",
     "text": [
      "NaN R-squared for subject_id 477. Check data quality and model configuration.\n"
     ]
    },
    {
     "name": "stderr",
     "output_type": "stream",
     "text": [
      "\n",
      "Processing Subject IDs:  38%|█████████████████████▏                                  | 190/502 [01:42<02:41,  1.93it/s]\u001b[A"
     ]
    },
    {
     "name": "stdout",
     "output_type": "stream",
     "text": [
      "NaN R-squared for subject_id 457. Check data quality and model configuration.\n"
     ]
    },
    {
     "name": "stderr",
     "output_type": "stream",
     "text": [
      "\n",
      "Processing Subject IDs:  38%|█████████████████████▎                                  | 191/502 [01:43<02:43,  1.90it/s]\u001b[A"
     ]
    },
    {
     "name": "stdout",
     "output_type": "stream",
     "text": [
      "NaN R-squared for subject_id 193. Check data quality and model configuration.\n"
     ]
    },
    {
     "name": "stderr",
     "output_type": "stream",
     "text": [
      "\n",
      "Processing Subject IDs:  38%|█████████████████████▍                                  | 192/502 [01:43<02:54,  1.77it/s]\u001b[A"
     ]
    },
    {
     "name": "stdout",
     "output_type": "stream",
     "text": [
      "NaN R-squared for subject_id 138. Check data quality and model configuration.\n"
     ]
    },
    {
     "name": "stderr",
     "output_type": "stream",
     "text": [
      "\n",
      "Processing Subject IDs:  38%|█████████████████████▌                                  | 193/502 [01:44<03:00,  1.71it/s]\u001b[A"
     ]
    },
    {
     "name": "stdout",
     "output_type": "stream",
     "text": [
      "NaN R-squared for subject_id 469. Check data quality and model configuration.\n"
     ]
    },
    {
     "name": "stderr",
     "output_type": "stream",
     "text": [
      "\n",
      "Processing Subject IDs:  39%|█████████████████████▋                                  | 194/502 [01:45<02:52,  1.79it/s]\u001b[A"
     ]
    },
    {
     "name": "stdout",
     "output_type": "stream",
     "text": [
      "NaN R-squared for subject_id 160. Check data quality and model configuration.\n"
     ]
    },
    {
     "name": "stderr",
     "output_type": "stream",
     "text": [
      "\n",
      "Processing Subject IDs:  39%|█████████████████████▊                                  | 195/502 [01:45<02:40,  1.91it/s]\u001b[A"
     ]
    },
    {
     "name": "stdout",
     "output_type": "stream",
     "text": [
      "NaN R-squared for subject_id 372. Check data quality and model configuration.\n"
     ]
    },
    {
     "name": "stderr",
     "output_type": "stream",
     "text": [
      "\n",
      "Processing Subject IDs:  39%|█████████████████████▊                                  | 196/502 [01:45<02:32,  2.00it/s]\u001b[A"
     ]
    },
    {
     "name": "stdout",
     "output_type": "stream",
     "text": [
      "NaN R-squared for subject_id 74. Check data quality and model configuration.\n"
     ]
    },
    {
     "name": "stderr",
     "output_type": "stream",
     "text": [
      "\n",
      "Processing Subject IDs:  39%|█████████████████████▉                                  | 197/502 [01:46<02:29,  2.04it/s]\u001b[A"
     ]
    },
    {
     "name": "stdout",
     "output_type": "stream",
     "text": [
      "NaN R-squared for subject_id 174. Check data quality and model configuration.\n"
     ]
    },
    {
     "name": "stderr",
     "output_type": "stream",
     "text": [
      "\n",
      "Processing Subject IDs:  39%|██████████████████████                                  | 198/502 [01:46<02:32,  1.99it/s]\u001b[A"
     ]
    },
    {
     "name": "stdout",
     "output_type": "stream",
     "text": [
      "NaN R-squared for subject_id 143. Check data quality and model configuration.\n"
     ]
    },
    {
     "name": "stderr",
     "output_type": "stream",
     "text": [
      "\n",
      "Processing Subject IDs:  40%|██████████████████████▏                                 | 199/502 [01:47<02:35,  1.95it/s]\u001b[A"
     ]
    },
    {
     "name": "stdout",
     "output_type": "stream",
     "text": [
      "NaN R-squared for subject_id 360. Check data quality and model configuration.\n"
     ]
    },
    {
     "name": "stderr",
     "output_type": "stream",
     "text": [
      "\n",
      "Processing Subject IDs:  40%|██████████████████████▎                                 | 200/502 [01:48<02:39,  1.89it/s]\u001b[A"
     ]
    },
    {
     "name": "stdout",
     "output_type": "stream",
     "text": [
      "NaN R-squared for subject_id 54. Check data quality and model configuration.\n"
     ]
    },
    {
     "name": "stderr",
     "output_type": "stream",
     "text": [
      "\n",
      "Processing Subject IDs:  40%|██████████████████████▍                                 | 201/502 [01:48<02:43,  1.84it/s]\u001b[A"
     ]
    },
    {
     "name": "stdout",
     "output_type": "stream",
     "text": [
      "NaN R-squared for subject_id 368. Check data quality and model configuration.\n"
     ]
    },
    {
     "name": "stderr",
     "output_type": "stream",
     "text": [
      "\n",
      "Processing Subject IDs:  40%|██████████████████████▌                                 | 202/502 [01:49<02:36,  1.92it/s]\u001b[A"
     ]
    },
    {
     "name": "stdout",
     "output_type": "stream",
     "text": [
      "NaN R-squared for subject_id 58. Check data quality and model configuration.\n"
     ]
    },
    {
     "name": "stderr",
     "output_type": "stream",
     "text": [
      "\n",
      "Processing Subject IDs:  40%|██████████████████████▋                                 | 203/502 [01:49<02:37,  1.90it/s]\u001b[A"
     ]
    },
    {
     "name": "stdout",
     "output_type": "stream",
     "text": [
      "NaN R-squared for subject_id 416. Check data quality and model configuration.\n"
     ]
    },
    {
     "name": "stderr",
     "output_type": "stream",
     "text": [
      "\n",
      "Processing Subject IDs:  41%|██████████████████████▊                                 | 204/502 [01:50<02:37,  1.89it/s]\u001b[A"
     ]
    },
    {
     "name": "stdout",
     "output_type": "stream",
     "text": [
      "NaN R-squared for subject_id 308. Check data quality and model configuration.\n"
     ]
    },
    {
     "name": "stderr",
     "output_type": "stream",
     "text": [
      "\n",
      "Processing Subject IDs:  41%|██████████████████████▊                                 | 205/502 [01:50<02:36,  1.90it/s]\u001b[A"
     ]
    },
    {
     "name": "stdout",
     "output_type": "stream",
     "text": [
      "NaN R-squared for subject_id 266. Check data quality and model configuration.\n"
     ]
    },
    {
     "name": "stderr",
     "output_type": "stream",
     "text": [
      "\n",
      "Processing Subject IDs:  41%|██████████████████████▉                                 | 206/502 [01:51<02:36,  1.89it/s]\u001b[A"
     ]
    },
    {
     "name": "stdout",
     "output_type": "stream",
     "text": [
      "NaN R-squared for subject_id 251. Check data quality and model configuration.\n"
     ]
    },
    {
     "name": "stderr",
     "output_type": "stream",
     "text": [
      "\n",
      "Processing Subject IDs:  41%|███████████████████████                                 | 207/502 [01:51<02:35,  1.89it/s]\u001b[A"
     ]
    },
    {
     "name": "stdout",
     "output_type": "stream",
     "text": [
      "NaN R-squared for subject_id 253. Check data quality and model configuration.\n"
     ]
    },
    {
     "name": "stderr",
     "output_type": "stream",
     "text": [
      "\n",
      "Processing Subject IDs:  41%|███████████████████████▏                                | 208/502 [01:52<02:34,  1.91it/s]\u001b[A"
     ]
    },
    {
     "name": "stdout",
     "output_type": "stream",
     "text": [
      "NaN R-squared for subject_id 290. Check data quality and model configuration.\n"
     ]
    },
    {
     "name": "stderr",
     "output_type": "stream",
     "text": [
      "\n",
      "Processing Subject IDs:  42%|███████████████████████▎                                | 209/502 [01:52<02:24,  2.03it/s]\u001b[A"
     ]
    },
    {
     "name": "stdout",
     "output_type": "stream",
     "text": [
      "NaN R-squared for subject_id 226. Check data quality and model configuration.\n"
     ]
    },
    {
     "name": "stderr",
     "output_type": "stream",
     "text": [
      "\n",
      "Processing Subject IDs:  42%|███████████████████████▍                                | 210/502 [01:53<02:19,  2.09it/s]\u001b[A"
     ]
    },
    {
     "name": "stdout",
     "output_type": "stream",
     "text": [
      "NaN R-squared for subject_id 25. Check data quality and model configuration.\n"
     ]
    },
    {
     "name": "stderr",
     "output_type": "stream",
     "text": [
      "\n",
      "Processing Subject IDs:  42%|███████████████████████▌                                | 211/502 [01:53<02:14,  2.16it/s]\u001b[A"
     ]
    },
    {
     "name": "stdout",
     "output_type": "stream",
     "text": [
      "NaN R-squared for subject_id 146. Check data quality and model configuration.\n"
     ]
    },
    {
     "name": "stderr",
     "output_type": "stream",
     "text": [
      "\n",
      "Processing Subject IDs:  42%|███████████████████████▋                                | 212/502 [01:53<02:12,  2.19it/s]\u001b[A"
     ]
    },
    {
     "name": "stdout",
     "output_type": "stream",
     "text": [
      "NaN R-squared for subject_id 18. Check data quality and model configuration.\n"
     ]
    },
    {
     "name": "stderr",
     "output_type": "stream",
     "text": [
      "\n",
      "Processing Subject IDs:  42%|███████████████████████▊                                | 213/502 [01:54<02:16,  2.12it/s]\u001b[A"
     ]
    },
    {
     "name": "stdout",
     "output_type": "stream",
     "text": [
      "NaN R-squared for subject_id 337. Check data quality and model configuration.\n"
     ]
    },
    {
     "name": "stderr",
     "output_type": "stream",
     "text": [
      "\n",
      "Processing Subject IDs:  43%|███████████████████████▊                                | 214/502 [01:55<02:20,  2.05it/s]\u001b[A"
     ]
    },
    {
     "name": "stdout",
     "output_type": "stream",
     "text": [
      "NaN R-squared for subject_id 285. Check data quality and model configuration.\n"
     ]
    },
    {
     "name": "stderr",
     "output_type": "stream",
     "text": [
      "\n",
      "Processing Subject IDs:  43%|███████████████████████▉                                | 215/502 [01:55<02:35,  1.85it/s]\u001b[A"
     ]
    },
    {
     "name": "stdout",
     "output_type": "stream",
     "text": [
      "NaN R-squared for subject_id 377. Check data quality and model configuration.\n"
     ]
    },
    {
     "name": "stderr",
     "output_type": "stream",
     "text": [
      "\n",
      "Processing Subject IDs:  43%|████████████████████████                                | 216/502 [01:56<02:42,  1.76it/s]\u001b[A"
     ]
    },
    {
     "name": "stdout",
     "output_type": "stream",
     "text": [
      "NaN R-squared for subject_id 424. Check data quality and model configuration.\n"
     ]
    },
    {
     "name": "stderr",
     "output_type": "stream",
     "text": [
      "\n",
      "Processing Subject IDs:  43%|████████████████████████▏                               | 217/502 [01:56<02:43,  1.74it/s]\u001b[A"
     ]
    },
    {
     "name": "stdout",
     "output_type": "stream",
     "text": [
      "NaN R-squared for subject_id 52. Check data quality and model configuration.\n"
     ]
    },
    {
     "name": "stderr",
     "output_type": "stream",
     "text": [
      "\n",
      "Processing Subject IDs:  43%|████████████████████████▎                               | 218/502 [01:57<02:45,  1.72it/s]\u001b[A"
     ]
    },
    {
     "name": "stdout",
     "output_type": "stream",
     "text": [
      "NaN R-squared for subject_id 169. Check data quality and model configuration.\n"
     ]
    },
    {
     "name": "stderr",
     "output_type": "stream",
     "text": [
      "\n",
      "Processing Subject IDs:  44%|████████████████████████▍                               | 219/502 [01:58<02:43,  1.73it/s]\u001b[A"
     ]
    },
    {
     "name": "stdout",
     "output_type": "stream",
     "text": [
      "NaN R-squared for subject_id 483. Check data quality and model configuration.\n"
     ]
    },
    {
     "name": "stderr",
     "output_type": "stream",
     "text": [
      "\n",
      "Processing Subject IDs:  44%|████████████████████████▌                               | 220/502 [01:58<02:38,  1.78it/s]\u001b[A"
     ]
    },
    {
     "name": "stdout",
     "output_type": "stream",
     "text": [
      "NaN R-squared for subject_id 411. Check data quality and model configuration.\n"
     ]
    },
    {
     "name": "stderr",
     "output_type": "stream",
     "text": [
      "\n",
      "Processing Subject IDs:  44%|████████████████████████▋                               | 221/502 [01:59<02:37,  1.79it/s]\u001b[A"
     ]
    },
    {
     "name": "stdout",
     "output_type": "stream",
     "text": [
      "NaN R-squared for subject_id 94. Check data quality and model configuration.\n"
     ]
    },
    {
     "name": "stderr",
     "output_type": "stream",
     "text": [
      "\n",
      "Processing Subject IDs:  44%|████████████████████████▊                               | 222/502 [01:59<02:36,  1.79it/s]\u001b[A"
     ]
    },
    {
     "name": "stdout",
     "output_type": "stream",
     "text": [
      "NaN R-squared for subject_id 211. Check data quality and model configuration.\n"
     ]
    },
    {
     "name": "stderr",
     "output_type": "stream",
     "text": [
      "\n",
      "Processing Subject IDs:  44%|████████████████████████▉                               | 223/502 [02:00<02:28,  1.88it/s]\u001b[A"
     ]
    },
    {
     "name": "stdout",
     "output_type": "stream",
     "text": [
      "NaN R-squared for subject_id 379. Check data quality and model configuration.\n"
     ]
    },
    {
     "name": "stderr",
     "output_type": "stream",
     "text": [
      "\n",
      "Processing Subject IDs:  45%|████████████████████████▉                               | 224/502 [02:00<02:20,  1.98it/s]\u001b[A"
     ]
    },
    {
     "name": "stdout",
     "output_type": "stream",
     "text": [
      "NaN R-squared for subject_id 393. Check data quality and model configuration.\n"
     ]
    },
    {
     "name": "stderr",
     "output_type": "stream",
     "text": [
      "\n",
      "Processing Subject IDs:  45%|█████████████████████████                               | 225/502 [02:01<02:14,  2.06it/s]\u001b[A"
     ]
    },
    {
     "name": "stdout",
     "output_type": "stream",
     "text": [
      "NaN R-squared for subject_id 139. Check data quality and model configuration.\n"
     ]
    },
    {
     "name": "stderr",
     "output_type": "stream",
     "text": [
      "\n",
      "Processing Subject IDs:  45%|█████████████████████████▏                              | 226/502 [02:01<02:09,  2.13it/s]\u001b[A"
     ]
    },
    {
     "name": "stdout",
     "output_type": "stream",
     "text": [
      "NaN R-squared for subject_id 255. Check data quality and model configuration.\n"
     ]
    },
    {
     "name": "stderr",
     "output_type": "stream",
     "text": [
      "\n",
      "Processing Subject IDs:  45%|█████████████████████████▎                              | 227/502 [02:01<02:11,  2.09it/s]\u001b[A"
     ]
    },
    {
     "name": "stdout",
     "output_type": "stream",
     "text": [
      "NaN R-squared for subject_id 412. Check data quality and model configuration.\n"
     ]
    },
    {
     "name": "stderr",
     "output_type": "stream",
     "text": [
      "\n",
      "Processing Subject IDs:  45%|█████████████████████████▍                              | 228/502 [02:02<02:14,  2.04it/s]\u001b[A"
     ]
    },
    {
     "name": "stdout",
     "output_type": "stream",
     "text": [
      "NaN R-squared for subject_id 284. Check data quality and model configuration.\n"
     ]
    },
    {
     "name": "stderr",
     "output_type": "stream",
     "text": [
      "\n",
      "Processing Subject IDs:  46%|█████████████████████████▌                              | 229/502 [02:03<02:18,  1.97it/s]\u001b[A"
     ]
    },
    {
     "name": "stdout",
     "output_type": "stream",
     "text": [
      "NaN R-squared for subject_id 481. Check data quality and model configuration.\n"
     ]
    },
    {
     "name": "stderr",
     "output_type": "stream",
     "text": [
      "\n",
      "Processing Subject IDs:  46%|█████████████████████████▋                              | 230/502 [02:03<02:22,  1.90it/s]\u001b[A"
     ]
    },
    {
     "name": "stdout",
     "output_type": "stream",
     "text": [
      "NaN R-squared for subject_id 237. Check data quality and model configuration.\n"
     ]
    },
    {
     "name": "stderr",
     "output_type": "stream",
     "text": [
      "\n",
      "Processing Subject IDs:  46%|█████████████████████████▊                              | 231/502 [02:04<02:23,  1.89it/s]\u001b[A"
     ]
    },
    {
     "name": "stdout",
     "output_type": "stream",
     "text": [
      "NaN R-squared for subject_id 242. Check data quality and model configuration.\n"
     ]
    },
    {
     "name": "stderr",
     "output_type": "stream",
     "text": [
      "\n",
      "Processing Subject IDs:  46%|█████████████████████████▉                              | 232/502 [02:04<02:23,  1.88it/s]\u001b[A"
     ]
    },
    {
     "name": "stdout",
     "output_type": "stream",
     "text": [
      "NaN R-squared for subject_id 28. Check data quality and model configuration.\n"
     ]
    },
    {
     "name": "stderr",
     "output_type": "stream",
     "text": [
      "\n",
      "Processing Subject IDs:  46%|█████████████████████████▉                              | 233/502 [02:05<02:25,  1.85it/s]\u001b[A"
     ]
    },
    {
     "name": "stdout",
     "output_type": "stream",
     "text": [
      "NaN R-squared for subject_id 465. Check data quality and model configuration.\n"
     ]
    },
    {
     "name": "stderr",
     "output_type": "stream",
     "text": [
      "\n",
      "Processing Subject IDs:  47%|██████████████████████████                              | 234/502 [02:05<02:27,  1.81it/s]\u001b[A"
     ]
    },
    {
     "name": "stdout",
     "output_type": "stream",
     "text": [
      "NaN R-squared for subject_id 358. Check data quality and model configuration.\n"
     ]
    },
    {
     "name": "stderr",
     "output_type": "stream",
     "text": [
      "\n",
      "Processing Subject IDs:  47%|██████████████████████████▏                             | 235/502 [02:06<02:25,  1.84it/s]\u001b[A"
     ]
    },
    {
     "name": "stdout",
     "output_type": "stream",
     "text": [
      "NaN R-squared for subject_id 238. Check data quality and model configuration.\n"
     ]
    },
    {
     "name": "stderr",
     "output_type": "stream",
     "text": [
      "\n",
      "Processing Subject IDs:  47%|██████████████████████████▎                             | 236/502 [02:06<02:27,  1.81it/s]\u001b[A"
     ]
    },
    {
     "name": "stdout",
     "output_type": "stream",
     "text": [
      "NaN R-squared for subject_id 171. Check data quality and model configuration.\n"
     ]
    },
    {
     "name": "stderr",
     "output_type": "stream",
     "text": [
      "\n",
      "Processing Subject IDs:  47%|██████████████████████████▍                             | 237/502 [02:07<02:37,  1.69it/s]\u001b[A"
     ]
    },
    {
     "name": "stdout",
     "output_type": "stream",
     "text": [
      "NaN R-squared for subject_id 201. Check data quality and model configuration.\n"
     ]
    },
    {
     "name": "stderr",
     "output_type": "stream",
     "text": [
      "\n",
      "Processing Subject IDs:  47%|██████████████████████████▌                             | 238/502 [02:08<02:29,  1.76it/s]\u001b[A"
     ]
    },
    {
     "name": "stdout",
     "output_type": "stream",
     "text": [
      "NaN R-squared for subject_id 410. Check data quality and model configuration.\n"
     ]
    },
    {
     "name": "stderr",
     "output_type": "stream",
     "text": [
      "\n",
      "Processing Subject IDs:  48%|██████████████████████████▋                             | 239/502 [02:08<02:23,  1.83it/s]\u001b[A"
     ]
    },
    {
     "name": "stdout",
     "output_type": "stream",
     "text": [
      "NaN R-squared for subject_id 13. Check data quality and model configuration.\n"
     ]
    },
    {
     "name": "stderr",
     "output_type": "stream",
     "text": [
      "\n",
      "Processing Subject IDs:  48%|██████████████████████████▊                             | 240/502 [02:09<02:15,  1.93it/s]\u001b[A"
     ]
    },
    {
     "name": "stdout",
     "output_type": "stream",
     "text": [
      "NaN R-squared for subject_id 33. Check data quality and model configuration.\n"
     ]
    },
    {
     "name": "stderr",
     "output_type": "stream",
     "text": [
      "\n",
      "Processing Subject IDs:  48%|██████████████████████████▉                             | 241/502 [02:09<02:09,  2.01it/s]\u001b[A"
     ]
    },
    {
     "name": "stdout",
     "output_type": "stream",
     "text": [
      "NaN R-squared for subject_id 215. Check data quality and model configuration.\n"
     ]
    },
    {
     "name": "stderr",
     "output_type": "stream",
     "text": [
      "\n",
      "Processing Subject IDs:  48%|██████████████████████████▉                             | 242/502 [02:10<02:11,  1.97it/s]\u001b[A"
     ]
    },
    {
     "name": "stdout",
     "output_type": "stream",
     "text": [
      "NaN R-squared for subject_id 14. Check data quality and model configuration.\n"
     ]
    },
    {
     "name": "stderr",
     "output_type": "stream",
     "text": [
      "\n",
      "Processing Subject IDs:  48%|███████████████████████████                             | 243/502 [02:10<02:11,  1.98it/s]\u001b[A"
     ]
    },
    {
     "name": "stdout",
     "output_type": "stream",
     "text": [
      "NaN R-squared for subject_id 268. Check data quality and model configuration.\n"
     ]
    },
    {
     "name": "stderr",
     "output_type": "stream",
     "text": [
      "\n",
      "Processing Subject IDs:  49%|███████████████████████████▏                            | 244/502 [02:11<02:14,  1.92it/s]\u001b[A"
     ]
    },
    {
     "name": "stdout",
     "output_type": "stream",
     "text": [
      "NaN R-squared for subject_id 91. Check data quality and model configuration.\n"
     ]
    },
    {
     "name": "stderr",
     "output_type": "stream",
     "text": [
      "\n",
      "Processing Subject IDs:  49%|███████████████████████████▎                            | 245/502 [02:11<02:17,  1.87it/s]\u001b[A"
     ]
    },
    {
     "name": "stdout",
     "output_type": "stream",
     "text": [
      "NaN R-squared for subject_id 450. Check data quality and model configuration.\n"
     ]
    },
    {
     "name": "stderr",
     "output_type": "stream",
     "text": [
      "\n",
      "Processing Subject IDs:  49%|███████████████████████████▍                            | 246/502 [02:12<02:16,  1.88it/s]\u001b[A"
     ]
    },
    {
     "name": "stdout",
     "output_type": "stream",
     "text": [
      "NaN R-squared for subject_id 79. Check data quality and model configuration.\n"
     ]
    },
    {
     "name": "stderr",
     "output_type": "stream",
     "text": [
      "\n",
      "Processing Subject IDs:  49%|███████████████████████████▌                            | 247/502 [02:12<02:16,  1.87it/s]\u001b[A"
     ]
    },
    {
     "name": "stdout",
     "output_type": "stream",
     "text": [
      "NaN R-squared for subject_id 488. Check data quality and model configuration.\n"
     ]
    },
    {
     "name": "stderr",
     "output_type": "stream",
     "text": [
      "\n",
      "Processing Subject IDs:  49%|███████████████████████████▋                            | 248/502 [02:13<02:19,  1.82it/s]\u001b[A"
     ]
    },
    {
     "name": "stdout",
     "output_type": "stream",
     "text": [
      "NaN R-squared for subject_id 303. Check data quality and model configuration.\n"
     ]
    },
    {
     "name": "stderr",
     "output_type": "stream",
     "text": [
      "\n",
      "Processing Subject IDs:  50%|███████████████████████████▊                            | 249/502 [02:13<02:19,  1.82it/s]\u001b[A"
     ]
    },
    {
     "name": "stdout",
     "output_type": "stream",
     "text": [
      "NaN R-squared for subject_id 217. Check data quality and model configuration.\n"
     ]
    },
    {
     "name": "stderr",
     "output_type": "stream",
     "text": [
      "\n",
      "Processing Subject IDs:  50%|███████████████████████████▉                            | 250/502 [02:14<02:16,  1.85it/s]\u001b[A"
     ]
    },
    {
     "name": "stdout",
     "output_type": "stream",
     "text": [
      "NaN R-squared for subject_id 359. Check data quality and model configuration.\n"
     ]
    },
    {
     "name": "stderr",
     "output_type": "stream",
     "text": [
      "\n",
      "Processing Subject IDs:  50%|████████████████████████████                            | 251/502 [02:15<02:21,  1.78it/s]\u001b[A"
     ]
    },
    {
     "name": "stdout",
     "output_type": "stream",
     "text": [
      "NaN R-squared for subject_id 388. Check data quality and model configuration.\n"
     ]
    },
    {
     "name": "stderr",
     "output_type": "stream",
     "text": [
      "\n",
      "Processing Subject IDs:  50%|████████████████████████████                            | 252/502 [02:15<02:20,  1.78it/s]\u001b[A"
     ]
    },
    {
     "name": "stdout",
     "output_type": "stream",
     "text": [
      "NaN R-squared for subject_id 354. Check data quality and model configuration.\n"
     ]
    },
    {
     "name": "stderr",
     "output_type": "stream",
     "text": [
      "\n",
      "Processing Subject IDs:  50%|████████████████████████████▏                           | 253/502 [02:16<02:11,  1.89it/s]\u001b[A"
     ]
    },
    {
     "name": "stdout",
     "output_type": "stream",
     "text": [
      "NaN R-squared for subject_id 104. Check data quality and model configuration.\n"
     ]
    },
    {
     "name": "stderr",
     "output_type": "stream",
     "text": [
      "\n",
      "Processing Subject IDs:  51%|████████████████████████████▎                           | 254/502 [02:16<02:04,  1.99it/s]\u001b[A"
     ]
    },
    {
     "name": "stdout",
     "output_type": "stream",
     "text": [
      "NaN R-squared for subject_id 415. Check data quality and model configuration.\n"
     ]
    },
    {
     "name": "stderr",
     "output_type": "stream",
     "text": [
      "\n",
      "Processing Subject IDs:  51%|████████████████████████████▍                           | 255/502 [02:16<01:59,  2.06it/s]\u001b[A"
     ]
    },
    {
     "name": "stdout",
     "output_type": "stream",
     "text": [
      "NaN R-squared for subject_id 501. Check data quality and model configuration.\n"
     ]
    },
    {
     "name": "stderr",
     "output_type": "stream",
     "text": [
      "\n",
      "Processing Subject IDs:  51%|████████████████████████████▌                           | 256/502 [02:17<01:55,  2.13it/s]\u001b[A"
     ]
    },
    {
     "name": "stdout",
     "output_type": "stream",
     "text": [
      "NaN R-squared for subject_id 101. Check data quality and model configuration.\n"
     ]
    },
    {
     "name": "stderr",
     "output_type": "stream",
     "text": [
      "\n",
      "Processing Subject IDs:  51%|████████████████████████████▋                           | 257/502 [02:17<01:58,  2.08it/s]\u001b[A"
     ]
    },
    {
     "name": "stdout",
     "output_type": "stream",
     "text": [
      "NaN R-squared for subject_id 243. Check data quality and model configuration.\n"
     ]
    },
    {
     "name": "stderr",
     "output_type": "stream",
     "text": [
      "\n",
      "Processing Subject IDs:  51%|████████████████████████████▊                           | 258/502 [02:18<01:58,  2.07it/s]\u001b[A"
     ]
    },
    {
     "name": "stdout",
     "output_type": "stream",
     "text": [
      "NaN R-squared for subject_id 205. Check data quality and model configuration.\n"
     ]
    },
    {
     "name": "stderr",
     "output_type": "stream",
     "text": [
      "\n",
      "Processing Subject IDs:  52%|████████████████████████████▉                           | 259/502 [02:18<02:07,  1.91it/s]\u001b[A"
     ]
    },
    {
     "name": "stdout",
     "output_type": "stream",
     "text": [
      "NaN R-squared for subject_id 479. Check data quality and model configuration.\n"
     ]
    },
    {
     "name": "stderr",
     "output_type": "stream",
     "text": [
      "\n",
      "Processing Subject IDs:  52%|█████████████████████████████                           | 260/502 [02:19<02:16,  1.77it/s]\u001b[A"
     ]
    },
    {
     "name": "stdout",
     "output_type": "stream",
     "text": [
      "NaN R-squared for subject_id 98. Check data quality and model configuration.\n"
     ]
    },
    {
     "name": "stderr",
     "output_type": "stream",
     "text": [
      "\n",
      "Processing Subject IDs:  52%|█████████████████████████████                           | 261/502 [02:20<02:18,  1.74it/s]\u001b[A"
     ]
    },
    {
     "name": "stdout",
     "output_type": "stream",
     "text": [
      "NaN R-squared for subject_id 42. Check data quality and model configuration.\n"
     ]
    },
    {
     "name": "stderr",
     "output_type": "stream",
     "text": [
      "\n",
      "Processing Subject IDs:  52%|█████████████████████████████▏                          | 262/502 [02:20<02:17,  1.74it/s]\u001b[A"
     ]
    },
    {
     "name": "stdout",
     "output_type": "stream",
     "text": [
      "NaN R-squared for subject_id 257. Check data quality and model configuration.\n"
     ]
    },
    {
     "name": "stderr",
     "output_type": "stream",
     "text": [
      "\n",
      "Processing Subject IDs:  52%|█████████████████████████████▎                          | 263/502 [02:21<02:14,  1.77it/s]\u001b[A"
     ]
    },
    {
     "name": "stdout",
     "output_type": "stream",
     "text": [
      "NaN R-squared for subject_id 314. Check data quality and model configuration.\n"
     ]
    },
    {
     "name": "stderr",
     "output_type": "stream",
     "text": [
      "\n",
      "Processing Subject IDs:  53%|█████████████████████████████▍                          | 264/502 [02:21<02:12,  1.79it/s]\u001b[A"
     ]
    },
    {
     "name": "stdout",
     "output_type": "stream",
     "text": [
      "NaN R-squared for subject_id 320. Check data quality and model configuration.\n"
     ]
    },
    {
     "name": "stderr",
     "output_type": "stream",
     "text": [
      "\n",
      "Processing Subject IDs:  53%|█████████████████████████████▌                          | 265/502 [02:22<02:08,  1.84it/s]\u001b[A"
     ]
    },
    {
     "name": "stdout",
     "output_type": "stream",
     "text": [
      "NaN R-squared for subject_id 336. Check data quality and model configuration.\n"
     ]
    },
    {
     "name": "stderr",
     "output_type": "stream",
     "text": [
      "\n",
      "Processing Subject IDs:  53%|█████████████████████████████▋                          | 266/502 [02:22<02:06,  1.86it/s]\u001b[A"
     ]
    },
    {
     "name": "stdout",
     "output_type": "stream",
     "text": [
      "NaN R-squared for subject_id 313. Check data quality and model configuration.\n"
     ]
    },
    {
     "name": "stderr",
     "output_type": "stream",
     "text": [
      "\n",
      "Processing Subject IDs:  53%|█████████████████████████████▊                          | 267/502 [02:23<02:04,  1.89it/s]\u001b[A"
     ]
    },
    {
     "name": "stdout",
     "output_type": "stream",
     "text": [
      "NaN R-squared for subject_id 265. Check data quality and model configuration.\n"
     ]
    },
    {
     "name": "stderr",
     "output_type": "stream",
     "text": [
      "\n",
      "Processing Subject IDs:  53%|█████████████████████████████▉                          | 268/502 [02:23<01:56,  2.01it/s]\u001b[A"
     ]
    },
    {
     "name": "stdout",
     "output_type": "stream",
     "text": [
      "NaN R-squared for subject_id 274. Check data quality and model configuration.\n"
     ]
    },
    {
     "name": "stderr",
     "output_type": "stream",
     "text": [
      "\n",
      "Processing Subject IDs:  54%|██████████████████████████████                          | 269/502 [02:24<01:52,  2.08it/s]\u001b[A"
     ]
    },
    {
     "name": "stdout",
     "output_type": "stream",
     "text": [
      "NaN R-squared for subject_id 462. Check data quality and model configuration.\n"
     ]
    },
    {
     "name": "stderr",
     "output_type": "stream",
     "text": [
      "\n",
      "Processing Subject IDs:  54%|██████████████████████████████                          | 270/502 [02:24<01:47,  2.16it/s]\u001b[A"
     ]
    },
    {
     "name": "stdout",
     "output_type": "stream",
     "text": [
      "NaN R-squared for subject_id 125. Check data quality and model configuration.\n"
     ]
    },
    {
     "name": "stderr",
     "output_type": "stream",
     "text": [
      "\n",
      "Processing Subject IDs:  54%|██████████████████████████████▏                         | 271/502 [02:25<01:46,  2.18it/s]\u001b[A"
     ]
    },
    {
     "name": "stdout",
     "output_type": "stream",
     "text": [
      "NaN R-squared for subject_id 295. Check data quality and model configuration.\n"
     ]
    },
    {
     "name": "stderr",
     "output_type": "stream",
     "text": [
      "\n",
      "Processing Subject IDs:  54%|██████████████████████████████▎                         | 272/502 [02:25<01:49,  2.10it/s]\u001b[A"
     ]
    },
    {
     "name": "stdout",
     "output_type": "stream",
     "text": [
      "NaN R-squared for subject_id 36. Check data quality and model configuration.\n"
     ]
    },
    {
     "name": "stderr",
     "output_type": "stream",
     "text": [
      "\n",
      "Processing Subject IDs:  54%|██████████████████████████████▍                         | 273/502 [02:26<01:50,  2.07it/s]\u001b[A"
     ]
    },
    {
     "name": "stdout",
     "output_type": "stream",
     "text": [
      "NaN R-squared for subject_id 492. Check data quality and model configuration.\n"
     ]
    },
    {
     "name": "stderr",
     "output_type": "stream",
     "text": [
      "\n",
      "Processing Subject IDs:  55%|██████████████████████████████▌                         | 274/502 [02:26<01:53,  2.00it/s]\u001b[A"
     ]
    },
    {
     "name": "stdout",
     "output_type": "stream",
     "text": [
      "NaN R-squared for subject_id 474. Check data quality and model configuration.\n"
     ]
    },
    {
     "name": "stderr",
     "output_type": "stream",
     "text": [
      "\n",
      "Processing Subject IDs:  55%|██████████████████████████████▋                         | 275/502 [02:27<01:56,  1.95it/s]\u001b[A"
     ]
    },
    {
     "name": "stdout",
     "output_type": "stream",
     "text": [
      "NaN R-squared for subject_id 260. Check data quality and model configuration.\n"
     ]
    },
    {
     "name": "stderr",
     "output_type": "stream",
     "text": [
      "\n",
      "Processing Subject IDs:  55%|██████████████████████████████▊                         | 276/502 [02:27<01:58,  1.90it/s]\u001b[A"
     ]
    },
    {
     "name": "stdout",
     "output_type": "stream",
     "text": [
      "NaN R-squared for subject_id 422. Check data quality and model configuration.\n"
     ]
    },
    {
     "name": "stderr",
     "output_type": "stream",
     "text": [
      "\n",
      "Processing Subject IDs:  55%|██████████████████████████████▉                         | 277/502 [02:28<01:59,  1.88it/s]\u001b[A"
     ]
    },
    {
     "name": "stdout",
     "output_type": "stream",
     "text": [
      "NaN R-squared for subject_id 27. Check data quality and model configuration.\n"
     ]
    },
    {
     "name": "stderr",
     "output_type": "stream",
     "text": [
      "\n",
      "Processing Subject IDs:  55%|███████████████████████████████                         | 278/502 [02:28<02:00,  1.85it/s]\u001b[A"
     ]
    },
    {
     "name": "stdout",
     "output_type": "stream",
     "text": [
      "NaN R-squared for subject_id 254. Check data quality and model configuration.\n"
     ]
    },
    {
     "name": "stderr",
     "output_type": "stream",
     "text": [
      "\n",
      "Processing Subject IDs:  56%|███████████████████████████████                         | 279/502 [02:29<02:01,  1.83it/s]\u001b[A"
     ]
    },
    {
     "name": "stdout",
     "output_type": "stream",
     "text": [
      "NaN R-squared for subject_id 428. Check data quality and model configuration.\n"
     ]
    },
    {
     "name": "stderr",
     "output_type": "stream",
     "text": [
      "\n",
      "Processing Subject IDs:  56%|███████████████████████████████▏                        | 280/502 [02:29<02:00,  1.85it/s]\u001b[A"
     ]
    },
    {
     "name": "stdout",
     "output_type": "stream",
     "text": [
      "NaN R-squared for subject_id 323. Check data quality and model configuration.\n"
     ]
    },
    {
     "name": "stderr",
     "output_type": "stream",
     "text": [
      "\n",
      "Processing Subject IDs:  56%|███████████████████████████████▎                        | 281/502 [02:30<02:00,  1.83it/s]\u001b[A"
     ]
    },
    {
     "name": "stdout",
     "output_type": "stream",
     "text": [
      "NaN R-squared for subject_id 207. Check data quality and model configuration.\n"
     ]
    },
    {
     "name": "stderr",
     "output_type": "stream",
     "text": [
      "\n",
      "Processing Subject IDs:  56%|███████████████████████████████▍                        | 282/502 [02:31<02:02,  1.80it/s]\u001b[A"
     ]
    },
    {
     "name": "stdout",
     "output_type": "stream",
     "text": [
      "NaN R-squared for subject_id 245. Check data quality and model configuration.\n"
     ]
    },
    {
     "name": "stderr",
     "output_type": "stream",
     "text": [
      "\n",
      "Processing Subject IDs:  56%|███████████████████████████████▌                        | 283/502 [02:31<01:58,  1.85it/s]\u001b[A"
     ]
    },
    {
     "name": "stdout",
     "output_type": "stream",
     "text": [
      "NaN R-squared for subject_id 387. Check data quality and model configuration.\n"
     ]
    },
    {
     "name": "stderr",
     "output_type": "stream",
     "text": [
      "\n",
      "Processing Subject IDs:  57%|███████████████████████████████▋                        | 284/502 [02:32<01:54,  1.90it/s]\u001b[A"
     ]
    },
    {
     "name": "stdout",
     "output_type": "stream",
     "text": [
      "NaN R-squared for subject_id 122. Check data quality and model configuration.\n"
     ]
    },
    {
     "name": "stderr",
     "output_type": "stream",
     "text": [
      "\n",
      "Processing Subject IDs:  57%|███████████████████████████████▊                        | 285/502 [02:32<01:48,  2.00it/s]\u001b[A"
     ]
    },
    {
     "name": "stdout",
     "output_type": "stream",
     "text": [
      "NaN R-squared for subject_id 297. Check data quality and model configuration.\n"
     ]
    },
    {
     "name": "stderr",
     "output_type": "stream",
     "text": [
      "\n",
      "Processing Subject IDs:  57%|███████████████████████████████▉                        | 286/502 [02:33<01:45,  2.05it/s]\u001b[A"
     ]
    },
    {
     "name": "stdout",
     "output_type": "stream",
     "text": [
      "NaN R-squared for subject_id 209. Check data quality and model configuration.\n"
     ]
    },
    {
     "name": "stderr",
     "output_type": "stream",
     "text": [
      "\n",
      "Processing Subject IDs:  57%|████████████████████████████████                        | 287/502 [02:33<01:47,  1.99it/s]\u001b[A"
     ]
    },
    {
     "name": "stdout",
     "output_type": "stream",
     "text": [
      "NaN R-squared for subject_id 276. Check data quality and model configuration.\n"
     ]
    },
    {
     "name": "stderr",
     "output_type": "stream",
     "text": [
      "\n",
      "Processing Subject IDs:  57%|████████████████████████████████▏                       | 288/502 [02:34<01:47,  1.99it/s]\u001b[A"
     ]
    },
    {
     "name": "stdout",
     "output_type": "stream",
     "text": [
      "NaN R-squared for subject_id 328. Check data quality and model configuration.\n"
     ]
    },
    {
     "name": "stderr",
     "output_type": "stream",
     "text": [
      "\n",
      "Processing Subject IDs:  58%|████████████████████████████████▏                       | 289/502 [02:34<01:50,  1.92it/s]\u001b[A"
     ]
    },
    {
     "name": "stdout",
     "output_type": "stream",
     "text": [
      "NaN R-squared for subject_id 151. Check data quality and model configuration.\n"
     ]
    },
    {
     "name": "stderr",
     "output_type": "stream",
     "text": [
      "\n",
      "Processing Subject IDs:  58%|████████████████████████████████▎                       | 290/502 [02:35<01:54,  1.85it/s]\u001b[A"
     ]
    },
    {
     "name": "stdout",
     "output_type": "stream",
     "text": [
      "NaN R-squared for subject_id 38. Check data quality and model configuration.\n"
     ]
    },
    {
     "name": "stderr",
     "output_type": "stream",
     "text": [
      "\n",
      "Processing Subject IDs:  58%|████████████████████████████████▍                       | 291/502 [02:35<01:53,  1.86it/s]\u001b[A"
     ]
    },
    {
     "name": "stdout",
     "output_type": "stream",
     "text": [
      "NaN R-squared for subject_id 81. Check data quality and model configuration.\n"
     ]
    },
    {
     "name": "stderr",
     "output_type": "stream",
     "text": [
      "\n",
      "Processing Subject IDs:  58%|████████████████████████████████▌                       | 292/502 [02:36<01:54,  1.84it/s]\u001b[A"
     ]
    },
    {
     "name": "stdout",
     "output_type": "stream",
     "text": [
      "NaN R-squared for subject_id 11. Check data quality and model configuration.\n"
     ]
    },
    {
     "name": "stderr",
     "output_type": "stream",
     "text": [
      "\n",
      "Processing Subject IDs:  58%|████████████████████████████████▋                       | 293/502 [02:36<01:55,  1.80it/s]\u001b[A"
     ]
    },
    {
     "name": "stdout",
     "output_type": "stream",
     "text": [
      "NaN R-squared for subject_id 39. Check data quality and model configuration.\n"
     ]
    },
    {
     "name": "stderr",
     "output_type": "stream",
     "text": [
      "\n",
      "Processing Subject IDs:  59%|████████████████████████████████▊                       | 294/502 [02:37<01:55,  1.80it/s]\u001b[A"
     ]
    },
    {
     "name": "stdout",
     "output_type": "stream",
     "text": [
      "NaN R-squared for subject_id 168. Check data quality and model configuration.\n"
     ]
    },
    {
     "name": "stderr",
     "output_type": "stream",
     "text": [
      "\n",
      "Processing Subject IDs:  59%|████████████████████████████████▉                       | 295/502 [02:37<01:53,  1.82it/s]\u001b[A"
     ]
    },
    {
     "name": "stdout",
     "output_type": "stream",
     "text": [
      "NaN R-squared for subject_id 347. Check data quality and model configuration.\n"
     ]
    },
    {
     "name": "stderr",
     "output_type": "stream",
     "text": [
      "\n",
      "Processing Subject IDs:  59%|█████████████████████████████████                       | 296/502 [02:38<01:54,  1.79it/s]\u001b[A"
     ]
    },
    {
     "name": "stdout",
     "output_type": "stream",
     "text": [
      "NaN R-squared for subject_id 302. Check data quality and model configuration.\n"
     ]
    },
    {
     "name": "stderr",
     "output_type": "stream",
     "text": [
      "\n",
      "Processing Subject IDs:  59%|█████████████████████████████████▏                      | 297/502 [02:39<01:53,  1.81it/s]\u001b[A"
     ]
    },
    {
     "name": "stdout",
     "output_type": "stream",
     "text": [
      "NaN R-squared for subject_id 332. Check data quality and model configuration.\n"
     ]
    },
    {
     "name": "stderr",
     "output_type": "stream",
     "text": [
      "\n",
      "Processing Subject IDs:  59%|█████████████████████████████████▏                      | 298/502 [02:39<01:47,  1.89it/s]\u001b[A"
     ]
    },
    {
     "name": "stdout",
     "output_type": "stream",
     "text": [
      "NaN R-squared for subject_id 103. Check data quality and model configuration.\n"
     ]
    },
    {
     "name": "stderr",
     "output_type": "stream",
     "text": [
      "\n",
      "Processing Subject IDs:  60%|█████████████████████████████████▎                      | 299/502 [02:40<01:41,  1.99it/s]\u001b[A"
     ]
    },
    {
     "name": "stdout",
     "output_type": "stream",
     "text": [
      "NaN R-squared for subject_id 366. Check data quality and model configuration.\n"
     ]
    },
    {
     "name": "stderr",
     "output_type": "stream",
     "text": [
      "\n",
      "Processing Subject IDs:  60%|█████████████████████████████████▍                      | 300/502 [02:40<01:37,  2.06it/s]\u001b[A"
     ]
    },
    {
     "name": "stdout",
     "output_type": "stream",
     "text": [
      "NaN R-squared for subject_id 148. Check data quality and model configuration.\n"
     ]
    },
    {
     "name": "stderr",
     "output_type": "stream",
     "text": [
      "\n",
      "Processing Subject IDs:  60%|█████████████████████████████████▌                      | 301/502 [02:40<01:35,  2.10it/s]\u001b[A"
     ]
    },
    {
     "name": "stdout",
     "output_type": "stream",
     "text": [
      "NaN R-squared for subject_id 275. Check data quality and model configuration.\n"
     ]
    },
    {
     "name": "stderr",
     "output_type": "stream",
     "text": [
      "\n",
      "Processing Subject IDs:  60%|█████████████████████████████████▋                      | 302/502 [02:41<01:39,  2.01it/s]\u001b[A"
     ]
    },
    {
     "name": "stdout",
     "output_type": "stream",
     "text": [
      "NaN R-squared for subject_id 425. Check data quality and model configuration.\n"
     ]
    },
    {
     "name": "stderr",
     "output_type": "stream",
     "text": [
      "\n",
      "Processing Subject IDs:  60%|█████████████████████████████████▊                      | 303/502 [02:41<01:41,  1.97it/s]\u001b[A"
     ]
    },
    {
     "name": "stdout",
     "output_type": "stream",
     "text": [
      "NaN R-squared for subject_id 335. Check data quality and model configuration.\n"
     ]
    },
    {
     "name": "stderr",
     "output_type": "stream",
     "text": [
      "\n",
      "Processing Subject IDs:  61%|█████████████████████████████████▉                      | 304/502 [02:42<01:46,  1.87it/s]\u001b[A"
     ]
    },
    {
     "name": "stdout",
     "output_type": "stream",
     "text": [
      "NaN R-squared for subject_id 431. Check data quality and model configuration.\n"
     ]
    },
    {
     "name": "stderr",
     "output_type": "stream",
     "text": [
      "\n",
      "Processing Subject IDs:  61%|██████████████████████████████████                      | 305/502 [02:43<02:00,  1.64it/s]\u001b[A"
     ]
    },
    {
     "name": "stdout",
     "output_type": "stream",
     "text": [
      "NaN R-squared for subject_id 241. Check data quality and model configuration.\n"
     ]
    },
    {
     "name": "stderr",
     "output_type": "stream",
     "text": [
      "\n",
      "Processing Subject IDs:  61%|██████████████████████████████████▏                     | 306/502 [02:44<02:04,  1.57it/s]\u001b[A"
     ]
    },
    {
     "name": "stdout",
     "output_type": "stream",
     "text": [
      "NaN R-squared for subject_id 20. Check data quality and model configuration.\n"
     ]
    },
    {
     "name": "stderr",
     "output_type": "stream",
     "text": [
      "\n",
      "Processing Subject IDs:  61%|██████████████████████████████████▏                     | 307/502 [02:44<02:01,  1.61it/s]\u001b[A"
     ]
    },
    {
     "name": "stdout",
     "output_type": "stream",
     "text": [
      "NaN R-squared for subject_id 267. Check data quality and model configuration.\n"
     ]
    },
    {
     "name": "stderr",
     "output_type": "stream",
     "text": [
      "\n",
      "Processing Subject IDs:  61%|██████████████████████████████████▎                     | 308/502 [02:45<01:58,  1.64it/s]\u001b[A"
     ]
    },
    {
     "name": "stdout",
     "output_type": "stream",
     "text": [
      "NaN R-squared for subject_id 175. Check data quality and model configuration.\n"
     ]
    },
    {
     "name": "stderr",
     "output_type": "stream",
     "text": [
      "\n",
      "Processing Subject IDs:  62%|██████████████████████████████████▍                     | 309/502 [02:45<01:54,  1.69it/s]\u001b[A"
     ]
    },
    {
     "name": "stdout",
     "output_type": "stream",
     "text": [
      "NaN R-squared for subject_id 454. Check data quality and model configuration.\n"
     ]
    },
    {
     "name": "stderr",
     "output_type": "stream",
     "text": [
      "\n",
      "Processing Subject IDs:  62%|██████████████████████████████████▌                     | 310/502 [02:46<01:51,  1.72it/s]\u001b[A"
     ]
    },
    {
     "name": "stdout",
     "output_type": "stream",
     "text": [
      "NaN R-squared for subject_id 423. Check data quality and model configuration.\n"
     ]
    },
    {
     "name": "stderr",
     "output_type": "stream",
     "text": [
      "\n",
      "Processing Subject IDs:  62%|██████████████████████████████████▋                     | 311/502 [02:46<01:50,  1.74it/s]\u001b[A"
     ]
    },
    {
     "name": "stdout",
     "output_type": "stream",
     "text": [
      "NaN R-squared for subject_id 277. Check data quality and model configuration.\n"
     ]
    },
    {
     "name": "stderr",
     "output_type": "stream",
     "text": [
      "\n",
      "Processing Subject IDs:  62%|██████████████████████████████████▊                     | 312/502 [02:47<01:45,  1.79it/s]\u001b[A"
     ]
    },
    {
     "name": "stdout",
     "output_type": "stream",
     "text": [
      "NaN R-squared for subject_id 287. Check data quality and model configuration.\n"
     ]
    },
    {
     "name": "stderr",
     "output_type": "stream",
     "text": [
      "\n",
      "Processing Subject IDs:  62%|██████████████████████████████████▉                     | 313/502 [02:47<01:38,  1.91it/s]\u001b[A"
     ]
    },
    {
     "name": "stdout",
     "output_type": "stream",
     "text": [
      "NaN R-squared for subject_id 240. Check data quality and model configuration.\n"
     ]
    },
    {
     "name": "stderr",
     "output_type": "stream",
     "text": [
      "\n",
      "Processing Subject IDs:  63%|███████████████████████████████████                     | 314/502 [02:48<01:33,  2.01it/s]\u001b[A"
     ]
    },
    {
     "name": "stdout",
     "output_type": "stream",
     "text": [
      "NaN R-squared for subject_id 367. Check data quality and model configuration.\n"
     ]
    },
    {
     "name": "stderr",
     "output_type": "stream",
     "text": [
      "\n",
      "Processing Subject IDs:  63%|███████████████████████████████████▏                    | 315/502 [02:48<01:30,  2.07it/s]\u001b[A"
     ]
    },
    {
     "name": "stdout",
     "output_type": "stream",
     "text": [
      "NaN R-squared for subject_id 262. Check data quality and model configuration.\n"
     ]
    },
    {
     "name": "stderr",
     "output_type": "stream",
     "text": [
      "\n",
      "Processing Subject IDs:  63%|███████████████████████████████████▎                    | 316/502 [02:49<01:29,  2.07it/s]\u001b[A"
     ]
    },
    {
     "name": "stdout",
     "output_type": "stream",
     "text": [
      "NaN R-squared for subject_id 499. Check data quality and model configuration.\n"
     ]
    },
    {
     "name": "stderr",
     "output_type": "stream",
     "text": [
      "\n",
      "Processing Subject IDs:  63%|███████████████████████████████████▎                    | 317/502 [02:49<01:31,  2.03it/s]\u001b[A"
     ]
    },
    {
     "name": "stdout",
     "output_type": "stream",
     "text": [
      "NaN R-squared for subject_id 218. Check data quality and model configuration.\n"
     ]
    },
    {
     "name": "stderr",
     "output_type": "stream",
     "text": [
      "\n",
      "Processing Subject IDs:  63%|███████████████████████████████████▍                    | 318/502 [02:50<01:32,  1.98it/s]\u001b[A"
     ]
    },
    {
     "name": "stdout",
     "output_type": "stream",
     "text": [
      "NaN R-squared for subject_id 385. Check data quality and model configuration.\n"
     ]
    },
    {
     "name": "stderr",
     "output_type": "stream",
     "text": [
      "\n",
      "Processing Subject IDs:  64%|███████████████████████████████████▌                    | 319/502 [02:50<01:36,  1.90it/s]\u001b[A"
     ]
    },
    {
     "name": "stdout",
     "output_type": "stream",
     "text": [
      "NaN R-squared for subject_id 345. Check data quality and model configuration.\n"
     ]
    },
    {
     "name": "stderr",
     "output_type": "stream",
     "text": [
      "\n",
      "Processing Subject IDs:  64%|███████████████████████████████████▋                    | 320/502 [02:51<01:37,  1.88it/s]\u001b[A"
     ]
    },
    {
     "name": "stdout",
     "output_type": "stream",
     "text": [
      "NaN R-squared for subject_id 494. Check data quality and model configuration.\n"
     ]
    },
    {
     "name": "stderr",
     "output_type": "stream",
     "text": [
      "\n",
      "Processing Subject IDs:  64%|███████████████████████████████████▊                    | 321/502 [02:51<01:35,  1.89it/s]\u001b[A"
     ]
    },
    {
     "name": "stdout",
     "output_type": "stream",
     "text": [
      "NaN R-squared for subject_id 406. Check data quality and model configuration.\n"
     ]
    },
    {
     "name": "stderr",
     "output_type": "stream",
     "text": [
      "\n",
      "Processing Subject IDs:  64%|███████████████████████████████████▉                    | 322/502 [02:52<01:37,  1.84it/s]\u001b[A"
     ]
    },
    {
     "name": "stdout",
     "output_type": "stream",
     "text": [
      "NaN R-squared for subject_id 376. Check data quality and model configuration.\n"
     ]
    },
    {
     "name": "stderr",
     "output_type": "stream",
     "text": [
      "\n",
      "Processing Subject IDs:  64%|████████████████████████████████████                    | 323/502 [02:53<01:38,  1.82it/s]\u001b[A"
     ]
    },
    {
     "name": "stdout",
     "output_type": "stream",
     "text": [
      "NaN R-squared for subject_id 447. Check data quality and model configuration.\n"
     ]
    },
    {
     "name": "stderr",
     "output_type": "stream",
     "text": [
      "\n",
      "Processing Subject IDs:  65%|████████████████████████████████████▏                   | 324/502 [02:53<01:37,  1.82it/s]\u001b[A"
     ]
    },
    {
     "name": "stdout",
     "output_type": "stream",
     "text": [
      "NaN R-squared for subject_id 246. Check data quality and model configuration.\n"
     ]
    },
    {
     "name": "stderr",
     "output_type": "stream",
     "text": [
      "\n",
      "Processing Subject IDs:  65%|████████████████████████████████████▎                   | 325/502 [02:54<01:38,  1.79it/s]\u001b[A"
     ]
    },
    {
     "name": "stdout",
     "output_type": "stream",
     "text": [
      "NaN R-squared for subject_id 9. Check data quality and model configuration.\n"
     ]
    },
    {
     "name": "stderr",
     "output_type": "stream",
     "text": [
      "\n",
      "Processing Subject IDs:  65%|████████████████████████████████████▎                   | 326/502 [02:54<01:42,  1.72it/s]\u001b[A"
     ]
    },
    {
     "name": "stdout",
     "output_type": "stream",
     "text": [
      "NaN R-squared for subject_id 382. Check data quality and model configuration.\n"
     ]
    },
    {
     "name": "stderr",
     "output_type": "stream",
     "text": [
      "\n",
      "Processing Subject IDs:  65%|████████████████████████████████████▍                   | 327/502 [02:55<01:39,  1.77it/s]\u001b[A"
     ]
    },
    {
     "name": "stdout",
     "output_type": "stream",
     "text": [
      "NaN R-squared for subject_id 167. Check data quality and model configuration.\n"
     ]
    },
    {
     "name": "stderr",
     "output_type": "stream",
     "text": [
      "\n",
      "Processing Subject IDs:  65%|████████████████████████████████████▌                   | 328/502 [02:55<01:36,  1.81it/s]\u001b[A"
     ]
    },
    {
     "name": "stdout",
     "output_type": "stream",
     "text": [
      "NaN R-squared for subject_id 40. Check data quality and model configuration.\n"
     ]
    },
    {
     "name": "stderr",
     "output_type": "stream",
     "text": [
      "\n",
      "Processing Subject IDs:  66%|████████████████████████████████████▋                   | 329/502 [02:56<01:29,  1.93it/s]\u001b[A"
     ]
    },
    {
     "name": "stdout",
     "output_type": "stream",
     "text": [
      "NaN R-squared for subject_id 115. Check data quality and model configuration.\n"
     ]
    },
    {
     "name": "stderr",
     "output_type": "stream",
     "text": [
      "\n",
      "Processing Subject IDs:  66%|████████████████████████████████████▊                   | 330/502 [02:56<01:25,  2.02it/s]\u001b[A"
     ]
    },
    {
     "name": "stdout",
     "output_type": "stream",
     "text": [
      "NaN R-squared for subject_id 37. Check data quality and model configuration.\n"
     ]
    },
    {
     "name": "stderr",
     "output_type": "stream",
     "text": [
      "\n",
      "Processing Subject IDs:  66%|████████████████████████████████████▉                   | 331/502 [02:57<01:23,  2.05it/s]\u001b[A"
     ]
    },
    {
     "name": "stdout",
     "output_type": "stream",
     "text": [
      "NaN R-squared for subject_id 93. Check data quality and model configuration.\n"
     ]
    },
    {
     "name": "stderr",
     "output_type": "stream",
     "text": [
      "\n",
      "Processing Subject IDs:  66%|█████████████████████████████████████                   | 332/502 [02:57<01:23,  2.05it/s]\u001b[A"
     ]
    },
    {
     "name": "stdout",
     "output_type": "stream",
     "text": [
      "NaN R-squared for subject_id 203. Check data quality and model configuration.\n"
     ]
    },
    {
     "name": "stderr",
     "output_type": "stream",
     "text": [
      "\n",
      "Processing Subject IDs:  66%|█████████████████████████████████████▏                  | 333/502 [02:58<01:24,  2.01it/s]\u001b[A"
     ]
    },
    {
     "name": "stdout",
     "output_type": "stream",
     "text": [
      "NaN R-squared for subject_id 252. Check data quality and model configuration.\n"
     ]
    },
    {
     "name": "stderr",
     "output_type": "stream",
     "text": [
      "\n",
      "Processing Subject IDs:  67%|█████████████████████████████████████▎                  | 334/502 [02:58<01:28,  1.89it/s]\u001b[A"
     ]
    },
    {
     "name": "stdout",
     "output_type": "stream",
     "text": [
      "NaN R-squared for subject_id 319. Check data quality and model configuration.\n"
     ]
    },
    {
     "name": "stderr",
     "output_type": "stream",
     "text": [
      "\n",
      "Processing Subject IDs:  67%|█████████████████████████████████████▎                  | 335/502 [02:59<01:28,  1.89it/s]\u001b[A"
     ]
    },
    {
     "name": "stdout",
     "output_type": "stream",
     "text": [
      "NaN R-squared for subject_id 467. Check data quality and model configuration.\n"
     ]
    },
    {
     "name": "stderr",
     "output_type": "stream",
     "text": [
      "\n",
      "Processing Subject IDs:  67%|█████████████████████████████████████▍                  | 336/502 [02:59<01:26,  1.92it/s]\u001b[A"
     ]
    },
    {
     "name": "stdout",
     "output_type": "stream",
     "text": [
      "NaN R-squared for subject_id 239. Check data quality and model configuration.\n"
     ]
    },
    {
     "name": "stderr",
     "output_type": "stream",
     "text": [
      "\n",
      "Processing Subject IDs:  67%|█████████████████████████████████████▌                  | 337/502 [03:00<01:27,  1.88it/s]\u001b[A"
     ]
    },
    {
     "name": "stdout",
     "output_type": "stream",
     "text": [
      "NaN R-squared for subject_id 190. Check data quality and model configuration.\n"
     ]
    },
    {
     "name": "stderr",
     "output_type": "stream",
     "text": [
      "\n",
      "Processing Subject IDs:  67%|█████████████████████████████████████▋                  | 338/502 [03:00<01:28,  1.84it/s]\u001b[A"
     ]
    },
    {
     "name": "stdout",
     "output_type": "stream",
     "text": [
      "NaN R-squared for subject_id 224. Check data quality and model configuration.\n"
     ]
    },
    {
     "name": "stderr",
     "output_type": "stream",
     "text": [
      "\n",
      "Processing Subject IDs:  68%|█████████████████████████████████████▊                  | 339/502 [03:01<01:26,  1.88it/s]\u001b[A"
     ]
    },
    {
     "name": "stdout",
     "output_type": "stream",
     "text": [
      "NaN R-squared for subject_id 464. Check data quality and model configuration.\n"
     ]
    },
    {
     "name": "stderr",
     "output_type": "stream",
     "text": [
      "\n",
      "Processing Subject IDs:  68%|█████████████████████████████████████▉                  | 340/502 [03:02<01:25,  1.89it/s]\u001b[A"
     ]
    },
    {
     "name": "stdout",
     "output_type": "stream",
     "text": [
      "NaN R-squared for subject_id 306. Check data quality and model configuration.\n"
     ]
    },
    {
     "name": "stderr",
     "output_type": "stream",
     "text": [
      "\n",
      "Processing Subject IDs:  68%|██████████████████████████████████████                  | 341/502 [03:02<01:26,  1.86it/s]\u001b[A"
     ]
    },
    {
     "name": "stdout",
     "output_type": "stream",
     "text": [
      "NaN R-squared for subject_id 391. Check data quality and model configuration.\n"
     ]
    },
    {
     "name": "stderr",
     "output_type": "stream",
     "text": [
      "\n",
      "Processing Subject IDs:  68%|██████████████████████████████████████▏                 | 342/502 [03:03<01:22,  1.94it/s]\u001b[A"
     ]
    },
    {
     "name": "stdout",
     "output_type": "stream",
     "text": [
      "NaN R-squared for subject_id 466. Check data quality and model configuration.\n"
     ]
    },
    {
     "name": "stderr",
     "output_type": "stream",
     "text": [
      "\n",
      "Processing Subject IDs:  68%|██████████████████████████████████████▎                 | 343/502 [03:03<01:17,  2.04it/s]\u001b[A"
     ]
    },
    {
     "name": "stdout",
     "output_type": "stream",
     "text": [
      "NaN R-squared for subject_id 301. Check data quality and model configuration.\n"
     ]
    },
    {
     "name": "stderr",
     "output_type": "stream",
     "text": [
      "\n",
      "Processing Subject IDs:  69%|██████████████████████████████████████▎                 | 344/502 [03:03<01:15,  2.11it/s]\u001b[A"
     ]
    },
    {
     "name": "stdout",
     "output_type": "stream",
     "text": [
      "NaN R-squared for subject_id 341. Check data quality and model configuration.\n"
     ]
    },
    {
     "name": "stderr",
     "output_type": "stream",
     "text": [
      "\n",
      "Processing Subject IDs:  69%|██████████████████████████████████████▍                 | 345/502 [03:04<01:12,  2.16it/s]\u001b[A"
     ]
    },
    {
     "name": "stdout",
     "output_type": "stream",
     "text": [
      "NaN R-squared for subject_id 85. Check data quality and model configuration.\n"
     ]
    },
    {
     "name": "stderr",
     "output_type": "stream",
     "text": [
      "\n",
      "Processing Subject IDs:  69%|██████████████████████████████████████▌                 | 346/502 [03:04<01:12,  2.14it/s]\u001b[A"
     ]
    },
    {
     "name": "stdout",
     "output_type": "stream",
     "text": [
      "NaN R-squared for subject_id 273. Check data quality and model configuration.\n"
     ]
    },
    {
     "name": "stderr",
     "output_type": "stream",
     "text": [
      "\n",
      "Processing Subject IDs:  69%|██████████████████████████████████████▋                 | 347/502 [03:05<01:13,  2.10it/s]\u001b[A"
     ]
    },
    {
     "name": "stdout",
     "output_type": "stream",
     "text": [
      "NaN R-squared for subject_id 80. Check data quality and model configuration.\n"
     ]
    },
    {
     "name": "stderr",
     "output_type": "stream",
     "text": [
      "\n",
      "Processing Subject IDs:  69%|██████████████████████████████████████▊                 | 348/502 [03:05<01:17,  1.99it/s]\u001b[A"
     ]
    },
    {
     "name": "stdout",
     "output_type": "stream",
     "text": [
      "NaN R-squared for subject_id 110. Check data quality and model configuration.\n"
     ]
    },
    {
     "name": "stderr",
     "output_type": "stream",
     "text": [
      "\n",
      "Processing Subject IDs:  70%|██████████████████████████████████████▉                 | 349/502 [03:06<01:22,  1.85it/s]\u001b[A"
     ]
    },
    {
     "name": "stdout",
     "output_type": "stream",
     "text": [
      "NaN R-squared for subject_id 283. Check data quality and model configuration.\n"
     ]
    },
    {
     "name": "stderr",
     "output_type": "stream",
     "text": [
      "\n",
      "Processing Subject IDs:  70%|███████████████████████████████████████                 | 350/502 [03:07<01:24,  1.80it/s]\u001b[A"
     ]
    },
    {
     "name": "stdout",
     "output_type": "stream",
     "text": [
      "NaN R-squared for subject_id 6. Check data quality and model configuration.\n"
     ]
    },
    {
     "name": "stderr",
     "output_type": "stream",
     "text": [
      "\n",
      "Processing Subject IDs:  70%|███████████████████████████████████████▏                | 351/502 [03:07<01:26,  1.76it/s]\u001b[A"
     ]
    },
    {
     "name": "stdout",
     "output_type": "stream",
     "text": [
      "NaN R-squared for subject_id 272. Check data quality and model configuration.\n"
     ]
    },
    {
     "name": "stderr",
     "output_type": "stream",
     "text": [
      "\n",
      "Processing Subject IDs:  70%|███████████████████████████████████████▎                | 352/502 [03:08<01:25,  1.76it/s]\u001b[A"
     ]
    },
    {
     "name": "stdout",
     "output_type": "stream",
     "text": [
      "NaN R-squared for subject_id 208. Check data quality and model configuration.\n"
     ]
    },
    {
     "name": "stderr",
     "output_type": "stream",
     "text": [
      "\n",
      "Processing Subject IDs:  70%|███████████████████████████████████████▍                | 353/502 [03:08<01:24,  1.76it/s]\u001b[A"
     ]
    },
    {
     "name": "stdout",
     "output_type": "stream",
     "text": [
      "NaN R-squared for subject_id 176. Check data quality and model configuration.\n"
     ]
    },
    {
     "name": "stderr",
     "output_type": "stream",
     "text": [
      "\n",
      "Processing Subject IDs:  71%|███████████████████████████████████████▍                | 354/502 [03:09<01:22,  1.78it/s]\u001b[A"
     ]
    },
    {
     "name": "stdout",
     "output_type": "stream",
     "text": [
      "NaN R-squared for subject_id 17. Check data quality and model configuration.\n"
     ]
    },
    {
     "name": "stderr",
     "output_type": "stream",
     "text": [
      "\n",
      "Processing Subject IDs:  71%|███████████████████████████████████████▌                | 355/502 [03:09<01:21,  1.80it/s]\u001b[A"
     ]
    },
    {
     "name": "stdout",
     "output_type": "stream",
     "text": [
      "NaN R-squared for subject_id 64. Check data quality and model configuration.\n"
     ]
    },
    {
     "name": "stderr",
     "output_type": "stream",
     "text": [
      "\n",
      "Processing Subject IDs:  71%|███████████████████████████████████████▋                | 356/502 [03:10<01:20,  1.81it/s]\u001b[A"
     ]
    },
    {
     "name": "stdout",
     "output_type": "stream",
     "text": [
      "NaN R-squared for subject_id 429. Check data quality and model configuration.\n"
     ]
    },
    {
     "name": "stderr",
     "output_type": "stream",
     "text": [
      "\n",
      "Processing Subject IDs:  71%|███████████████████████████████████████▊                | 357/502 [03:10<01:16,  1.90it/s]\u001b[A"
     ]
    },
    {
     "name": "stdout",
     "output_type": "stream",
     "text": [
      "NaN R-squared for subject_id 59. Check data quality and model configuration.\n"
     ]
    },
    {
     "name": "stderr",
     "output_type": "stream",
     "text": [
      "\n",
      "Processing Subject IDs:  71%|███████████████████████████████████████▉                | 358/502 [03:11<01:12,  1.99it/s]\u001b[A"
     ]
    },
    {
     "name": "stdout",
     "output_type": "stream",
     "text": [
      "NaN R-squared for subject_id 83. Check data quality and model configuration.\n"
     ]
    },
    {
     "name": "stderr",
     "output_type": "stream",
     "text": [
      "\n",
      "Processing Subject IDs:  72%|████████████████████████████████████████                | 359/502 [03:11<01:08,  2.08it/s]\u001b[A"
     ]
    },
    {
     "name": "stdout",
     "output_type": "stream",
     "text": [
      "NaN R-squared for subject_id 142. Check data quality and model configuration.\n"
     ]
    },
    {
     "name": "stderr",
     "output_type": "stream",
     "text": [
      "\n",
      "Processing Subject IDs:  72%|████████████████████████████████████████▏               | 360/502 [03:12<01:06,  2.14it/s]\u001b[A"
     ]
    },
    {
     "name": "stdout",
     "output_type": "stream",
     "text": [
      "NaN R-squared for subject_id 349. Check data quality and model configuration.\n"
     ]
    },
    {
     "name": "stderr",
     "output_type": "stream",
     "text": [
      "\n",
      "Processing Subject IDs:  72%|████████████████████████████████████████▎               | 361/502 [03:12<01:07,  2.08it/s]\u001b[A"
     ]
    },
    {
     "name": "stdout",
     "output_type": "stream",
     "text": [
      "NaN R-squared for subject_id 106. Check data quality and model configuration.\n"
     ]
    },
    {
     "name": "stderr",
     "output_type": "stream",
     "text": [
      "\n",
      "Processing Subject IDs:  72%|████████████████████████████████████████▍               | 362/502 [03:13<01:09,  2.03it/s]\u001b[A"
     ]
    },
    {
     "name": "stdout",
     "output_type": "stream",
     "text": [
      "NaN R-squared for subject_id 357. Check data quality and model configuration.\n"
     ]
    },
    {
     "name": "stderr",
     "output_type": "stream",
     "text": [
      "\n",
      "Processing Subject IDs:  72%|████████████████████████████████████████▍               | 363/502 [03:13<01:10,  1.96it/s]\u001b[A"
     ]
    },
    {
     "name": "stdout",
     "output_type": "stream",
     "text": [
      "NaN R-squared for subject_id 77. Check data quality and model configuration.\n"
     ]
    },
    {
     "name": "stderr",
     "output_type": "stream",
     "text": [
      "\n",
      "Processing Subject IDs:  73%|████████████████████████████████████████▌               | 364/502 [03:14<01:12,  1.92it/s]\u001b[A"
     ]
    },
    {
     "name": "stdout",
     "output_type": "stream",
     "text": [
      "NaN R-squared for subject_id 147. Check data quality and model configuration.\n"
     ]
    },
    {
     "name": "stderr",
     "output_type": "stream",
     "text": [
      "\n",
      "Processing Subject IDs:  73%|████████████████████████████████████████▋               | 365/502 [03:14<01:11,  1.91it/s]\u001b[A"
     ]
    },
    {
     "name": "stdout",
     "output_type": "stream",
     "text": [
      "NaN R-squared for subject_id 300. Check data quality and model configuration.\n"
     ]
    },
    {
     "name": "stderr",
     "output_type": "stream",
     "text": [
      "\n",
      "Processing Subject IDs:  73%|████████████████████████████████████████▊               | 366/502 [03:15<01:12,  1.88it/s]\u001b[A"
     ]
    },
    {
     "name": "stdout",
     "output_type": "stream",
     "text": [
      "NaN R-squared for subject_id 136. Check data quality and model configuration.\n"
     ]
    },
    {
     "name": "stderr",
     "output_type": "stream",
     "text": [
      "\n",
      "Processing Subject IDs:  73%|████████████████████████████████████████▉               | 367/502 [03:16<01:13,  1.84it/s]\u001b[A"
     ]
    },
    {
     "name": "stdout",
     "output_type": "stream",
     "text": [
      "NaN R-squared for subject_id 500. Check data quality and model configuration.\n"
     ]
    },
    {
     "name": "stderr",
     "output_type": "stream",
     "text": [
      "\n",
      "Processing Subject IDs:  73%|█████████████████████████████████████████               | 368/502 [03:16<01:13,  1.82it/s]\u001b[A"
     ]
    },
    {
     "name": "stdout",
     "output_type": "stream",
     "text": [
      "NaN R-squared for subject_id 188. Check data quality and model configuration.\n"
     ]
    },
    {
     "name": "stderr",
     "output_type": "stream",
     "text": [
      "\n",
      "Processing Subject IDs:  74%|█████████████████████████████████████████▏              | 369/502 [03:17<01:12,  1.85it/s]\u001b[A"
     ]
    },
    {
     "name": "stdout",
     "output_type": "stream",
     "text": [
      "NaN R-squared for subject_id 35. Check data quality and model configuration.\n"
     ]
    },
    {
     "name": "stderr",
     "output_type": "stream",
     "text": [
      "\n",
      "Processing Subject IDs:  74%|█████████████████████████████████████████▎              | 370/502 [03:17<01:10,  1.88it/s]\u001b[A"
     ]
    },
    {
     "name": "stdout",
     "output_type": "stream",
     "text": [
      "NaN R-squared for subject_id 221. Check data quality and model configuration.\n"
     ]
    },
    {
     "name": "stderr",
     "output_type": "stream",
     "text": [
      "\n",
      "Processing Subject IDs:  74%|█████████████████████████████████████████▍              | 371/502 [03:18<01:12,  1.81it/s]\u001b[A"
     ]
    },
    {
     "name": "stdout",
     "output_type": "stream",
     "text": [
      "NaN R-squared for subject_id 70. Check data quality and model configuration.\n"
     ]
    },
    {
     "name": "stderr",
     "output_type": "stream",
     "text": [
      "\n",
      "Processing Subject IDs:  74%|█████████████████████████████████████████▍              | 372/502 [03:18<01:12,  1.79it/s]\u001b[A"
     ]
    },
    {
     "name": "stdout",
     "output_type": "stream",
     "text": [
      "NaN R-squared for subject_id 418. Check data quality and model configuration.\n"
     ]
    },
    {
     "name": "stderr",
     "output_type": "stream",
     "text": [
      "\n",
      "Processing Subject IDs:  74%|█████████████████████████████████████████▌              | 373/502 [03:19<01:11,  1.80it/s]\u001b[A"
     ]
    },
    {
     "name": "stdout",
     "output_type": "stream",
     "text": [
      "NaN R-squared for subject_id 87. Check data quality and model configuration.\n"
     ]
    },
    {
     "name": "stderr",
     "output_type": "stream",
     "text": [
      "\n",
      "Processing Subject IDs:  75%|█████████████████████████████████████████▋              | 374/502 [03:19<01:07,  1.89it/s]\u001b[A"
     ]
    },
    {
     "name": "stdout",
     "output_type": "stream",
     "text": [
      "NaN R-squared for subject_id 259. Check data quality and model configuration.\n"
     ]
    },
    {
     "name": "stderr",
     "output_type": "stream",
     "text": [
      "\n",
      "Processing Subject IDs:  75%|█████████████████████████████████████████▊              | 375/502 [03:20<01:06,  1.92it/s]\u001b[A"
     ]
    },
    {
     "name": "stdout",
     "output_type": "stream",
     "text": [
      "NaN R-squared for subject_id 21. Check data quality and model configuration.\n"
     ]
    },
    {
     "name": "stderr",
     "output_type": "stream",
     "text": [
      "\n",
      "Processing Subject IDs:  75%|█████████████████████████████████████████▉              | 376/502 [03:20<01:08,  1.83it/s]\u001b[A"
     ]
    },
    {
     "name": "stdout",
     "output_type": "stream",
     "text": [
      "NaN R-squared for subject_id 222. Check data quality and model configuration.\n"
     ]
    },
    {
     "name": "stderr",
     "output_type": "stream",
     "text": [
      "\n",
      "Processing Subject IDs:  75%|██████████████████████████████████████████              | 377/502 [03:21<01:08,  1.82it/s]\u001b[A"
     ]
    },
    {
     "name": "stdout",
     "output_type": "stream",
     "text": [
      "NaN R-squared for subject_id 2. Check data quality and model configuration.\n"
     ]
    },
    {
     "name": "stderr",
     "output_type": "stream",
     "text": [
      "\n",
      "Processing Subject IDs:  75%|██████████████████████████████████████████▏             | 378/502 [03:22<01:08,  1.81it/s]\u001b[A"
     ]
    },
    {
     "name": "stdout",
     "output_type": "stream",
     "text": [
      "NaN R-squared for subject_id 47. Check data quality and model configuration.\n"
     ]
    },
    {
     "name": "stderr",
     "output_type": "stream",
     "text": [
      "\n",
      "Processing Subject IDs:  75%|██████████████████████████████████████████▎             | 379/502 [03:22<01:07,  1.82it/s]\u001b[A"
     ]
    },
    {
     "name": "stdout",
     "output_type": "stream",
     "text": [
      "NaN R-squared for subject_id 404. Check data quality and model configuration.\n"
     ]
    },
    {
     "name": "stderr",
     "output_type": "stream",
     "text": [
      "\n",
      "Processing Subject IDs:  76%|██████████████████████████████████████████▍             | 380/502 [03:23<01:07,  1.79it/s]\u001b[A"
     ]
    },
    {
     "name": "stdout",
     "output_type": "stream",
     "text": [
      "NaN R-squared for subject_id 234. Check data quality and model configuration.\n"
     ]
    },
    {
     "name": "stderr",
     "output_type": "stream",
     "text": [
      "\n",
      "Processing Subject IDs:  76%|██████████████████████████████████████████▌             | 381/502 [03:23<01:06,  1.82it/s]\u001b[A"
     ]
    },
    {
     "name": "stdout",
     "output_type": "stream",
     "text": [
      "NaN R-squared for subject_id 344. Check data quality and model configuration.\n"
     ]
    },
    {
     "name": "stderr",
     "output_type": "stream",
     "text": [
      "\n",
      "Processing Subject IDs:  76%|██████████████████████████████████████████▌             | 382/502 [03:24<01:02,  1.91it/s]\u001b[A"
     ]
    },
    {
     "name": "stdout",
     "output_type": "stream",
     "text": [
      "NaN R-squared for subject_id 343. Check data quality and model configuration.\n"
     ]
    },
    {
     "name": "stderr",
     "output_type": "stream",
     "text": [
      "\n",
      "Processing Subject IDs:  76%|██████████████████████████████████████████▋             | 383/502 [03:24<01:00,  1.98it/s]\u001b[A"
     ]
    },
    {
     "name": "stdout",
     "output_type": "stream",
     "text": [
      "NaN R-squared for subject_id 117. Check data quality and model configuration.\n"
     ]
    },
    {
     "name": "stderr",
     "output_type": "stream",
     "text": [
      "\n",
      "Processing Subject IDs:  76%|██████████████████████████████████████████▊             | 384/502 [03:25<00:57,  2.05it/s]\u001b[A"
     ]
    },
    {
     "name": "stdout",
     "output_type": "stream",
     "text": [
      "NaN R-squared for subject_id 364. Check data quality and model configuration.\n"
     ]
    },
    {
     "name": "stderr",
     "output_type": "stream",
     "text": [
      "\n",
      "Processing Subject IDs:  77%|██████████████████████████████████████████▉             | 385/502 [03:25<00:58,  2.01it/s]\u001b[A"
     ]
    },
    {
     "name": "stdout",
     "output_type": "stream",
     "text": [
      "NaN R-squared for subject_id 97. Check data quality and model configuration.\n"
     ]
    },
    {
     "name": "stderr",
     "output_type": "stream",
     "text": [
      "\n",
      "Processing Subject IDs:  77%|███████████████████████████████████████████             | 386/502 [03:26<00:59,  1.95it/s]\u001b[A"
     ]
    },
    {
     "name": "stdout",
     "output_type": "stream",
     "text": [
      "NaN R-squared for subject_id 476. Check data quality and model configuration.\n"
     ]
    },
    {
     "name": "stderr",
     "output_type": "stream",
     "text": [
      "\n",
      "Processing Subject IDs:  77%|███████████████████████████████████████████▏            | 387/502 [03:26<01:00,  1.91it/s]\u001b[A"
     ]
    },
    {
     "name": "stdout",
     "output_type": "stream",
     "text": [
      "NaN R-squared for subject_id 409. Check data quality and model configuration.\n"
     ]
    },
    {
     "name": "stderr",
     "output_type": "stream",
     "text": [
      "\n",
      "Processing Subject IDs:  77%|███████████████████████████████████████████▎            | 388/502 [03:27<01:01,  1.85it/s]\u001b[A"
     ]
    },
    {
     "name": "stdout",
     "output_type": "stream",
     "text": [
      "NaN R-squared for subject_id 170. Check data quality and model configuration.\n"
     ]
    },
    {
     "name": "stderr",
     "output_type": "stream",
     "text": [
      "\n",
      "Processing Subject IDs:  77%|███████████████████████████████████████████▍            | 389/502 [03:27<01:02,  1.82it/s]\u001b[A"
     ]
    },
    {
     "name": "stdout",
     "output_type": "stream",
     "text": [
      "NaN R-squared for subject_id 88. Check data quality and model configuration.\n"
     ]
    },
    {
     "name": "stderr",
     "output_type": "stream",
     "text": [
      "\n",
      "Processing Subject IDs:  78%|███████████████████████████████████████████▌            | 390/502 [03:28<01:02,  1.80it/s]\u001b[A"
     ]
    },
    {
     "name": "stdout",
     "output_type": "stream",
     "text": [
      "NaN R-squared for subject_id 45. Check data quality and model configuration.\n"
     ]
    },
    {
     "name": "stderr",
     "output_type": "stream",
     "text": [
      "\n",
      "Processing Subject IDs:  78%|███████████████████████████████████████████▌            | 391/502 [03:28<00:59,  1.88it/s]\u001b[A"
     ]
    },
    {
     "name": "stdout",
     "output_type": "stream",
     "text": [
      "NaN R-squared for subject_id 482. Check data quality and model configuration.\n"
     ]
    },
    {
     "name": "stderr",
     "output_type": "stream",
     "text": [
      "\n",
      "Processing Subject IDs:  78%|███████████████████████████████████████████▋            | 392/502 [03:29<00:55,  1.99it/s]\u001b[A"
     ]
    },
    {
     "name": "stdout",
     "output_type": "stream",
     "text": [
      "NaN R-squared for subject_id 439. Check data quality and model configuration.\n"
     ]
    },
    {
     "name": "stderr",
     "output_type": "stream",
     "text": [
      "\n",
      "Processing Subject IDs:  78%|███████████████████████████████████████████▊            | 393/502 [03:29<00:53,  2.03it/s]\u001b[A"
     ]
    },
    {
     "name": "stdout",
     "output_type": "stream",
     "text": [
      "NaN R-squared for subject_id 166. Check data quality and model configuration.\n"
     ]
    },
    {
     "name": "stderr",
     "output_type": "stream",
     "text": [
      "\n",
      "Processing Subject IDs:  78%|███████████████████████████████████████████▉            | 394/502 [03:30<00:54,  1.98it/s]\u001b[A"
     ]
    },
    {
     "name": "stdout",
     "output_type": "stream",
     "text": [
      "NaN R-squared for subject_id 318. Check data quality and model configuration.\n"
     ]
    },
    {
     "name": "stderr",
     "output_type": "stream",
     "text": [
      "\n",
      "Processing Subject IDs:  79%|████████████████████████████████████████████            | 395/502 [03:30<00:58,  1.83it/s]\u001b[A"
     ]
    },
    {
     "name": "stdout",
     "output_type": "stream",
     "text": [
      "NaN R-squared for subject_id 432. Check data quality and model configuration.\n"
     ]
    },
    {
     "name": "stderr",
     "output_type": "stream",
     "text": [
      "\n",
      "Processing Subject IDs:  79%|████████████████████████████████████████████▏           | 396/502 [03:31<01:07,  1.57it/s]\u001b[A"
     ]
    },
    {
     "name": "stdout",
     "output_type": "stream",
     "text": [
      "NaN R-squared for subject_id 261. Check data quality and model configuration.\n"
     ]
    },
    {
     "name": "stderr",
     "output_type": "stream",
     "text": [
      "\n",
      "Processing Subject IDs:  79%|████████████████████████████████████████████▎           | 397/502 [03:32<01:12,  1.44it/s]\u001b[A"
     ]
    },
    {
     "name": "stdout",
     "output_type": "stream",
     "text": [
      "NaN R-squared for subject_id 258. Check data quality and model configuration.\n"
     ]
    },
    {
     "name": "stderr",
     "output_type": "stream",
     "text": [
      "\n",
      "Processing Subject IDs:  79%|████████████████████████████████████████████▍           | 398/502 [03:33<01:16,  1.36it/s]\u001b[A"
     ]
    },
    {
     "name": "stdout",
     "output_type": "stream",
     "text": [
      "NaN R-squared for subject_id 248. Check data quality and model configuration.\n"
     ]
    },
    {
     "name": "stderr",
     "output_type": "stream",
     "text": [
      "\n",
      "Processing Subject IDs:  79%|████████████████████████████████████████████▌           | 399/502 [03:34<01:12,  1.41it/s]\u001b[A"
     ]
    },
    {
     "name": "stdout",
     "output_type": "stream",
     "text": [
      "NaN R-squared for subject_id 342. Check data quality and model configuration.\n"
     ]
    },
    {
     "name": "stderr",
     "output_type": "stream",
     "text": [
      "\n",
      "Processing Subject IDs:  80%|████████████████████████████████████████████▌           | 400/502 [03:34<01:07,  1.50it/s]\u001b[A"
     ]
    },
    {
     "name": "stdout",
     "output_type": "stream",
     "text": [
      "NaN R-squared for subject_id 186. Check data quality and model configuration.\n"
     ]
    },
    {
     "name": "stderr",
     "output_type": "stream",
     "text": [
      "\n",
      "Processing Subject IDs:  80%|████████████████████████████████████████████▋           | 401/502 [03:35<01:01,  1.64it/s]\u001b[A"
     ]
    },
    {
     "name": "stdout",
     "output_type": "stream",
     "text": [
      "NaN R-squared for subject_id 69. Check data quality and model configuration.\n"
     ]
    },
    {
     "name": "stderr",
     "output_type": "stream",
     "text": [
      "\n",
      "Processing Subject IDs:  80%|████████████████████████████████████████████▊           | 402/502 [03:35<00:59,  1.67it/s]\u001b[A"
     ]
    },
    {
     "name": "stdout",
     "output_type": "stream",
     "text": [
      "NaN R-squared for subject_id 8. Check data quality and model configuration.\n"
     ]
    },
    {
     "name": "stderr",
     "output_type": "stream",
     "text": [
      "\n",
      "Processing Subject IDs:  80%|████████████████████████████████████████████▉           | 403/502 [03:36<00:55,  1.77it/s]\u001b[A"
     ]
    },
    {
     "name": "stdout",
     "output_type": "stream",
     "text": [
      "NaN R-squared for subject_id 7. Check data quality and model configuration.\n"
     ]
    },
    {
     "name": "stderr",
     "output_type": "stream",
     "text": [
      "\n",
      "Processing Subject IDs:  80%|█████████████████████████████████████████████           | 404/502 [03:36<00:57,  1.71it/s]\u001b[A"
     ]
    },
    {
     "name": "stdout",
     "output_type": "stream",
     "text": [
      "NaN R-squared for subject_id 472. Check data quality and model configuration.\n"
     ]
    },
    {
     "name": "stderr",
     "output_type": "stream",
     "text": [
      "\n",
      "Processing Subject IDs:  81%|█████████████████████████████████████████████▏          | 405/502 [03:37<00:57,  1.68it/s]\u001b[A"
     ]
    },
    {
     "name": "stdout",
     "output_type": "stream",
     "text": [
      "NaN R-squared for subject_id 230. Check data quality and model configuration.\n"
     ]
    },
    {
     "name": "stderr",
     "output_type": "stream",
     "text": [
      "\n",
      "Processing Subject IDs:  81%|█████████████████████████████████████████████▎          | 406/502 [03:38<01:00,  1.59it/s]\u001b[A"
     ]
    },
    {
     "name": "stdout",
     "output_type": "stream",
     "text": [
      "NaN R-squared for subject_id 448. Check data quality and model configuration.\n"
     ]
    },
    {
     "name": "stderr",
     "output_type": "stream",
     "text": [
      "\n",
      "Processing Subject IDs:  81%|█████████████████████████████████████████████▍          | 407/502 [03:38<01:00,  1.56it/s]\u001b[A"
     ]
    },
    {
     "name": "stdout",
     "output_type": "stream",
     "text": [
      "NaN R-squared for subject_id 270. Check data quality and model configuration.\n"
     ]
    },
    {
     "name": "stderr",
     "output_type": "stream",
     "text": [
      "\n",
      "Processing Subject IDs:  81%|█████████████████████████████████████████████▌          | 408/502 [03:39<00:58,  1.61it/s]\u001b[A"
     ]
    },
    {
     "name": "stdout",
     "output_type": "stream",
     "text": [
      "NaN R-squared for subject_id 189. Check data quality and model configuration.\n"
     ]
    },
    {
     "name": "stderr",
     "output_type": "stream",
     "text": [
      "\n",
      "Processing Subject IDs:  81%|█████████████████████████████████████████████▋          | 409/502 [03:40<00:56,  1.65it/s]\u001b[A"
     ]
    },
    {
     "name": "stdout",
     "output_type": "stream",
     "text": [
      "NaN R-squared for subject_id 109. Check data quality and model configuration.\n"
     ]
    },
    {
     "name": "stderr",
     "output_type": "stream",
     "text": [
      "\n",
      "Processing Subject IDs:  82%|█████████████████████████████████████████████▋          | 410/502 [03:40<00:52,  1.77it/s]\u001b[A"
     ]
    },
    {
     "name": "stdout",
     "output_type": "stream",
     "text": [
      "NaN R-squared for subject_id 180. Check data quality and model configuration.\n"
     ]
    },
    {
     "name": "stderr",
     "output_type": "stream",
     "text": [
      "\n",
      "Processing Subject IDs:  82%|█████████████████████████████████████████████▊          | 411/502 [03:40<00:48,  1.89it/s]\u001b[A"
     ]
    },
    {
     "name": "stdout",
     "output_type": "stream",
     "text": [
      "NaN R-squared for subject_id 356. Check data quality and model configuration.\n"
     ]
    },
    {
     "name": "stderr",
     "output_type": "stream",
     "text": [
      "\n",
      "Processing Subject IDs:  82%|█████████████████████████████████████████████▉          | 412/502 [03:41<00:45,  1.97it/s]\u001b[A"
     ]
    },
    {
     "name": "stdout",
     "output_type": "stream",
     "text": [
      "NaN R-squared for subject_id 145. Check data quality and model configuration.\n"
     ]
    },
    {
     "name": "stderr",
     "output_type": "stream",
     "text": [
      "\n",
      "Processing Subject IDs:  82%|██████████████████████████████████████████████          | 413/502 [03:41<00:46,  1.89it/s]\u001b[A"
     ]
    },
    {
     "name": "stdout",
     "output_type": "stream",
     "text": [
      "NaN R-squared for subject_id 48. Check data quality and model configuration.\n"
     ]
    },
    {
     "name": "stderr",
     "output_type": "stream",
     "text": [
      "\n",
      "Processing Subject IDs:  82%|██████████████████████████████████████████████▏         | 414/502 [03:42<00:46,  1.88it/s]\u001b[A"
     ]
    },
    {
     "name": "stdout",
     "output_type": "stream",
     "text": [
      "NaN R-squared for subject_id 459. Check data quality and model configuration.\n"
     ]
    },
    {
     "name": "stderr",
     "output_type": "stream",
     "text": [
      "\n",
      "Processing Subject IDs:  83%|██████████████████████████████████████████████▎         | 415/502 [03:43<00:51,  1.70it/s]\u001b[A"
     ]
    },
    {
     "name": "stdout",
     "output_type": "stream",
     "text": [
      "NaN R-squared for subject_id 250. Check data quality and model configuration.\n"
     ]
    },
    {
     "name": "stderr",
     "output_type": "stream",
     "text": [
      "\n",
      "Processing Subject IDs:  83%|██████████████████████████████████████████████▍         | 416/502 [03:43<00:52,  1.64it/s]\u001b[A"
     ]
    },
    {
     "name": "stdout",
     "output_type": "stream",
     "text": [
      "NaN R-squared for subject_id 78. Check data quality and model configuration.\n"
     ]
    },
    {
     "name": "stderr",
     "output_type": "stream",
     "text": [
      "\n",
      "Processing Subject IDs:  83%|██████████████████████████████████████████████▌         | 417/502 [03:44<00:53,  1.58it/s]\u001b[A"
     ]
    },
    {
     "name": "stdout",
     "output_type": "stream",
     "text": [
      "NaN R-squared for subject_id 330. Check data quality and model configuration.\n"
     ]
    },
    {
     "name": "stderr",
     "output_type": "stream",
     "text": [
      "\n",
      "Processing Subject IDs:  83%|██████████████████████████████████████████████▋         | 418/502 [03:45<00:58,  1.45it/s]\u001b[A"
     ]
    },
    {
     "name": "stdout",
     "output_type": "stream",
     "text": [
      "NaN R-squared for subject_id 395. Check data quality and model configuration.\n"
     ]
    },
    {
     "name": "stderr",
     "output_type": "stream",
     "text": [
      "\n",
      "Processing Subject IDs:  83%|██████████████████████████████████████████████▋         | 419/502 [03:45<00:53,  1.54it/s]\u001b[A"
     ]
    },
    {
     "name": "stdout",
     "output_type": "stream",
     "text": [
      "NaN R-squared for subject_id 441. Check data quality and model configuration.\n"
     ]
    },
    {
     "name": "stderr",
     "output_type": "stream",
     "text": [
      "\n",
      "Processing Subject IDs:  84%|██████████████████████████████████████████████▊         | 420/502 [03:46<00:48,  1.70it/s]\u001b[A"
     ]
    },
    {
     "name": "stdout",
     "output_type": "stream",
     "text": [
      "NaN R-squared for subject_id 282. Check data quality and model configuration.\n"
     ]
    },
    {
     "name": "stderr",
     "output_type": "stream",
     "text": [
      "\n",
      "Processing Subject IDs:  84%|██████████████████████████████████████████████▉         | 421/502 [03:46<00:45,  1.76it/s]\u001b[A"
     ]
    },
    {
     "name": "stdout",
     "output_type": "stream",
     "text": [
      "NaN R-squared for subject_id 99. Check data quality and model configuration.\n"
     ]
    },
    {
     "name": "stderr",
     "output_type": "stream",
     "text": [
      "\n",
      "Processing Subject IDs:  84%|███████████████████████████████████████████████         | 422/502 [03:47<00:43,  1.85it/s]\u001b[A"
     ]
    },
    {
     "name": "stdout",
     "output_type": "stream",
     "text": [
      "NaN R-squared for subject_id 0. Check data quality and model configuration.\n"
     ]
    },
    {
     "name": "stderr",
     "output_type": "stream",
     "text": [
      "\n",
      "Processing Subject IDs:  84%|███████████████████████████████████████████████▏        | 423/502 [03:47<00:43,  1.80it/s]\u001b[A"
     ]
    },
    {
     "name": "stdout",
     "output_type": "stream",
     "text": [
      "NaN R-squared for subject_id 427. Check data quality and model configuration.\n"
     ]
    },
    {
     "name": "stderr",
     "output_type": "stream",
     "text": [
      "\n",
      "Processing Subject IDs:  84%|███████████████████████████████████████████████▎        | 424/502 [03:48<00:46,  1.69it/s]\u001b[A"
     ]
    },
    {
     "name": "stdout",
     "output_type": "stream",
     "text": [
      "NaN R-squared for subject_id 437. Check data quality and model configuration.\n"
     ]
    },
    {
     "name": "stderr",
     "output_type": "stream",
     "text": [
      "\n",
      "Processing Subject IDs:  85%|███████████████████████████████████████████████▍        | 425/502 [03:49<00:43,  1.75it/s]\u001b[A"
     ]
    },
    {
     "name": "stdout",
     "output_type": "stream",
     "text": [
      "NaN R-squared for subject_id 111. Check data quality and model configuration.\n"
     ]
    },
    {
     "name": "stderr",
     "output_type": "stream",
     "text": [
      "\n",
      "Processing Subject IDs:  85%|███████████████████████████████████████████████▌        | 426/502 [03:49<00:43,  1.76it/s]\u001b[A"
     ]
    },
    {
     "name": "stdout",
     "output_type": "stream",
     "text": [
      "NaN R-squared for subject_id 214. Check data quality and model configuration.\n"
     ]
    },
    {
     "name": "stderr",
     "output_type": "stream",
     "text": [
      "\n",
      "Processing Subject IDs:  85%|███████████████████████████████████████████████▋        | 427/502 [03:50<00:42,  1.79it/s]\u001b[A"
     ]
    },
    {
     "name": "stdout",
     "output_type": "stream",
     "text": [
      "NaN R-squared for subject_id 269. Check data quality and model configuration.\n"
     ]
    },
    {
     "name": "stderr",
     "output_type": "stream",
     "text": [
      "\n",
      "Processing Subject IDs:  85%|███████████████████████████████████████████████▋        | 428/502 [03:50<00:40,  1.82it/s]\u001b[A"
     ]
    },
    {
     "name": "stdout",
     "output_type": "stream",
     "text": [
      "NaN R-squared for subject_id 43. Check data quality and model configuration.\n"
     ]
    },
    {
     "name": "stderr",
     "output_type": "stream",
     "text": [
      "\n",
      "Processing Subject IDs:  85%|███████████████████████████████████████████████▊        | 429/502 [03:51<00:39,  1.85it/s]\u001b[A"
     ]
    },
    {
     "name": "stdout",
     "output_type": "stream",
     "text": [
      "NaN R-squared for subject_id 156. Check data quality and model configuration.\n"
     ]
    },
    {
     "name": "stderr",
     "output_type": "stream",
     "text": [
      "\n",
      "Processing Subject IDs:  86%|███████████████████████████████████████████████▉        | 430/502 [03:51<00:37,  1.92it/s]\u001b[A"
     ]
    },
    {
     "name": "stdout",
     "output_type": "stream",
     "text": [
      "NaN R-squared for subject_id 32. Check data quality and model configuration.\n"
     ]
    },
    {
     "name": "stderr",
     "output_type": "stream",
     "text": [
      "\n",
      "Processing Subject IDs:  86%|████████████████████████████████████████████████        | 431/502 [03:52<00:35,  2.00it/s]\u001b[A"
     ]
    },
    {
     "name": "stdout",
     "output_type": "stream",
     "text": [
      "NaN R-squared for subject_id 66. Check data quality and model configuration.\n"
     ]
    },
    {
     "name": "stderr",
     "output_type": "stream",
     "text": [
      "\n",
      "Processing Subject IDs:  86%|████████████████████████████████████████████████▏       | 432/502 [03:52<00:34,  2.06it/s]\u001b[A"
     ]
    },
    {
     "name": "stdout",
     "output_type": "stream",
     "text": [
      "NaN R-squared for subject_id 73. Check data quality and model configuration.\n"
     ]
    },
    {
     "name": "stderr",
     "output_type": "stream",
     "text": [
      "\n",
      "Processing Subject IDs:  86%|████████████████████████████████████████████████▎       | 433/502 [03:53<00:34,  2.03it/s]\u001b[A"
     ]
    },
    {
     "name": "stdout",
     "output_type": "stream",
     "text": [
      "NaN R-squared for subject_id 322. Check data quality and model configuration.\n"
     ]
    },
    {
     "name": "stderr",
     "output_type": "stream",
     "text": [
      "\n",
      "Processing Subject IDs:  86%|████████████████████████████████████████████████▍       | 434/502 [03:53<00:35,  1.90it/s]\u001b[A"
     ]
    },
    {
     "name": "stdout",
     "output_type": "stream",
     "text": [
      "NaN R-squared for subject_id 144. Check data quality and model configuration.\n"
     ]
    },
    {
     "name": "stderr",
     "output_type": "stream",
     "text": [
      "\n",
      "Processing Subject IDs:  87%|████████████████████████████████████████████████▌       | 435/502 [03:54<00:35,  1.88it/s]\u001b[A"
     ]
    },
    {
     "name": "stdout",
     "output_type": "stream",
     "text": [
      "NaN R-squared for subject_id 338. Check data quality and model configuration.\n"
     ]
    },
    {
     "name": "stderr",
     "output_type": "stream",
     "text": [
      "\n",
      "Processing Subject IDs:  87%|████████████████████████████████████████████████▋       | 436/502 [03:54<00:35,  1.85it/s]\u001b[A"
     ]
    },
    {
     "name": "stdout",
     "output_type": "stream",
     "text": [
      "NaN R-squared for subject_id 131. Check data quality and model configuration.\n"
     ]
    },
    {
     "name": "stderr",
     "output_type": "stream",
     "text": [
      "\n",
      "Processing Subject IDs:  87%|████████████████████████████████████████████████▋       | 437/502 [03:55<00:34,  1.86it/s]\u001b[A"
     ]
    },
    {
     "name": "stdout",
     "output_type": "stream",
     "text": [
      "NaN R-squared for subject_id 475. Check data quality and model configuration.\n"
     ]
    },
    {
     "name": "stderr",
     "output_type": "stream",
     "text": [
      "\n",
      "Processing Subject IDs:  87%|████████████████████████████████████████████████▊       | 438/502 [03:55<00:34,  1.85it/s]\u001b[A"
     ]
    },
    {
     "name": "stdout",
     "output_type": "stream",
     "text": [
      "NaN R-squared for subject_id 417. Check data quality and model configuration.\n"
     ]
    },
    {
     "name": "stderr",
     "output_type": "stream",
     "text": [
      "\n",
      "Processing Subject IDs:  87%|████████████████████████████████████████████████▉       | 439/502 [03:56<00:32,  1.96it/s]\u001b[A"
     ]
    },
    {
     "name": "stdout",
     "output_type": "stream",
     "text": [
      "NaN R-squared for subject_id 231. Check data quality and model configuration.\n"
     ]
    },
    {
     "name": "stderr",
     "output_type": "stream",
     "text": [
      "\n",
      "Processing Subject IDs:  88%|█████████████████████████████████████████████████       | 440/502 [03:56<00:30,  2.04it/s]\u001b[A"
     ]
    },
    {
     "name": "stdout",
     "output_type": "stream",
     "text": [
      "NaN R-squared for subject_id 346. Check data quality and model configuration.\n"
     ]
    },
    {
     "name": "stderr",
     "output_type": "stream",
     "text": [
      "\n",
      "Processing Subject IDs:  88%|█████████████████████████████████████████████████▏      | 441/502 [03:57<00:28,  2.12it/s]\u001b[A"
     ]
    },
    {
     "name": "stdout",
     "output_type": "stream",
     "text": [
      "NaN R-squared for subject_id 202. Check data quality and model configuration.\n"
     ]
    },
    {
     "name": "stderr",
     "output_type": "stream",
     "text": [
      "\n",
      "Processing Subject IDs:  88%|█████████████████████████████████████████████████▎      | 442/502 [03:57<00:28,  2.13it/s]\u001b[A"
     ]
    },
    {
     "name": "stdout",
     "output_type": "stream",
     "text": [
      "NaN R-squared for subject_id 497. Check data quality and model configuration.\n"
     ]
    },
    {
     "name": "stderr",
     "output_type": "stream",
     "text": [
      "\n",
      "Processing Subject IDs:  88%|█████████████████████████████████████████████████▍      | 443/502 [03:58<00:28,  2.07it/s]\u001b[A"
     ]
    },
    {
     "name": "stdout",
     "output_type": "stream",
     "text": [
      "NaN R-squared for subject_id 191. Check data quality and model configuration.\n"
     ]
    },
    {
     "name": "stderr",
     "output_type": "stream",
     "text": [
      "\n",
      "Processing Subject IDs:  88%|█████████████████████████████████████████████████▌      | 444/502 [03:58<00:29,  1.96it/s]\u001b[A"
     ]
    },
    {
     "name": "stdout",
     "output_type": "stream",
     "text": [
      "NaN R-squared for subject_id 316. Check data quality and model configuration.\n"
     ]
    },
    {
     "name": "stderr",
     "output_type": "stream",
     "text": [
      "\n",
      "Processing Subject IDs:  89%|█████████████████████████████████████████████████▋      | 445/502 [03:59<00:29,  1.93it/s]\u001b[A"
     ]
    },
    {
     "name": "stdout",
     "output_type": "stream",
     "text": [
      "NaN R-squared for subject_id 378. Check data quality and model configuration.\n"
     ]
    },
    {
     "name": "stderr",
     "output_type": "stream",
     "text": [
      "\n",
      "Processing Subject IDs:  89%|█████████████████████████████████████████████████▊      | 446/502 [03:59<00:29,  1.87it/s]\u001b[A"
     ]
    },
    {
     "name": "stdout",
     "output_type": "stream",
     "text": [
      "NaN R-squared for subject_id 478. Check data quality and model configuration.\n"
     ]
    },
    {
     "name": "stderr",
     "output_type": "stream",
     "text": [
      "\n",
      "Processing Subject IDs:  89%|█████████████████████████████████████████████████▊      | 447/502 [04:00<00:29,  1.86it/s]\u001b[A"
     ]
    },
    {
     "name": "stdout",
     "output_type": "stream",
     "text": [
      "NaN R-squared for subject_id 197. Check data quality and model configuration.\n"
     ]
    },
    {
     "name": "stderr",
     "output_type": "stream",
     "text": [
      "\n",
      "Processing Subject IDs:  89%|█████████████████████████████████████████████████▉      | 448/502 [04:01<00:29,  1.85it/s]\u001b[A"
     ]
    },
    {
     "name": "stdout",
     "output_type": "stream",
     "text": [
      "NaN R-squared for subject_id 212. Check data quality and model configuration.\n"
     ]
    },
    {
     "name": "stderr",
     "output_type": "stream",
     "text": [
      "\n",
      "Processing Subject IDs:  89%|██████████████████████████████████████████████████      | 449/502 [04:01<00:27,  1.94it/s]\u001b[A"
     ]
    },
    {
     "name": "stdout",
     "output_type": "stream",
     "text": [
      "NaN R-squared for subject_id 453. Check data quality and model configuration.\n"
     ]
    },
    {
     "name": "stderr",
     "output_type": "stream",
     "text": [
      "\n",
      "Processing Subject IDs:  90%|██████████████████████████████████████████████████▏     | 450/502 [04:01<00:25,  2.01it/s]\u001b[A"
     ]
    },
    {
     "name": "stdout",
     "output_type": "stream",
     "text": [
      "NaN R-squared for subject_id 271. Check data quality and model configuration.\n"
     ]
    },
    {
     "name": "stderr",
     "output_type": "stream",
     "text": [
      "\n",
      "Processing Subject IDs:  90%|██████████████████████████████████████████████████▎     | 451/502 [04:02<00:24,  2.08it/s]\u001b[A"
     ]
    },
    {
     "name": "stdout",
     "output_type": "stream",
     "text": [
      "NaN R-squared for subject_id 68. Check data quality and model configuration.\n"
     ]
    },
    {
     "name": "stderr",
     "output_type": "stream",
     "text": [
      "\n",
      "Processing Subject IDs:  90%|██████████████████████████████████████████████████▍     | 452/502 [04:02<00:24,  2.06it/s]\u001b[A"
     ]
    },
    {
     "name": "stdout",
     "output_type": "stream",
     "text": [
      "NaN R-squared for subject_id 363. Check data quality and model configuration.\n"
     ]
    },
    {
     "name": "stderr",
     "output_type": "stream",
     "text": [
      "\n",
      "Processing Subject IDs:  90%|██████████████████████████████████████████████████▌     | 453/502 [04:03<00:24,  1.98it/s]\u001b[A"
     ]
    },
    {
     "name": "stdout",
     "output_type": "stream",
     "text": [
      "NaN R-squared for subject_id 86. Check data quality and model configuration.\n"
     ]
    },
    {
     "name": "stderr",
     "output_type": "stream",
     "text": [
      "\n",
      "Processing Subject IDs:  90%|██████████████████████████████████████████████████▋     | 454/502 [04:04<00:25,  1.91it/s]\u001b[A"
     ]
    },
    {
     "name": "stdout",
     "output_type": "stream",
     "text": [
      "NaN R-squared for subject_id 65. Check data quality and model configuration.\n"
     ]
    },
    {
     "name": "stderr",
     "output_type": "stream",
     "text": [
      "\n",
      "Processing Subject IDs:  91%|██████████████████████████████████████████████████▊     | 455/502 [04:04<00:24,  1.90it/s]\u001b[A"
     ]
    },
    {
     "name": "stdout",
     "output_type": "stream",
     "text": [
      "NaN R-squared for subject_id 29. Check data quality and model configuration.\n"
     ]
    },
    {
     "name": "stderr",
     "output_type": "stream",
     "text": [
      "\n",
      "Processing Subject IDs:  91%|██████████████████████████████████████████████████▊     | 456/502 [04:05<00:24,  1.87it/s]\u001b[A"
     ]
    },
    {
     "name": "stdout",
     "output_type": "stream",
     "text": [
      "NaN R-squared for subject_id 126. Check data quality and model configuration.\n"
     ]
    },
    {
     "name": "stderr",
     "output_type": "stream",
     "text": [
      "\n",
      "Processing Subject IDs:  91%|██████████████████████████████████████████████████▉     | 457/502 [04:05<00:24,  1.87it/s]\u001b[A"
     ]
    },
    {
     "name": "stdout",
     "output_type": "stream",
     "text": [
      "NaN R-squared for subject_id 442. Check data quality and model configuration.\n"
     ]
    },
    {
     "name": "stderr",
     "output_type": "stream",
     "text": [
      "\n",
      "Processing Subject IDs:  91%|███████████████████████████████████████████████████     | 458/502 [04:06<00:23,  1.84it/s]\u001b[A"
     ]
    },
    {
     "name": "stdout",
     "output_type": "stream",
     "text": [
      "NaN R-squared for subject_id 369. Check data quality and model configuration.\n"
     ]
    },
    {
     "name": "stderr",
     "output_type": "stream",
     "text": [
      "\n",
      "Processing Subject IDs:  91%|███████████████████████████████████████████████████▏    | 459/502 [04:06<00:22,  1.95it/s]\u001b[A"
     ]
    },
    {
     "name": "stdout",
     "output_type": "stream",
     "text": [
      "NaN R-squared for subject_id 172. Check data quality and model configuration.\n"
     ]
    },
    {
     "name": "stderr",
     "output_type": "stream",
     "text": [
      "\n",
      "Processing Subject IDs:  92%|███████████████████████████████████████████████████▎    | 460/502 [04:07<00:20,  2.03it/s]\u001b[A"
     ]
    },
    {
     "name": "stdout",
     "output_type": "stream",
     "text": [
      "NaN R-squared for subject_id 493. Check data quality and model configuration.\n"
     ]
    },
    {
     "name": "stderr",
     "output_type": "stream",
     "text": [
      "\n",
      "Processing Subject IDs:  92%|███████████████████████████████████████████████████▍    | 461/502 [04:07<00:19,  2.08it/s]\u001b[A"
     ]
    },
    {
     "name": "stdout",
     "output_type": "stream",
     "text": [
      "NaN R-squared for subject_id 434. Check data quality and model configuration.\n"
     ]
    },
    {
     "name": "stderr",
     "output_type": "stream",
     "text": [
      "\n",
      "Processing Subject IDs:  92%|███████████████████████████████████████████████████▌    | 462/502 [04:08<00:19,  2.01it/s]\u001b[A"
     ]
    },
    {
     "name": "stdout",
     "output_type": "stream",
     "text": [
      "NaN R-squared for subject_id 470. Check data quality and model configuration.\n"
     ]
    },
    {
     "name": "stderr",
     "output_type": "stream",
     "text": [
      "\n",
      "Processing Subject IDs:  92%|███████████████████████████████████████████████████▋    | 463/502 [04:08<00:19,  1.95it/s]\u001b[A"
     ]
    },
    {
     "name": "stdout",
     "output_type": "stream",
     "text": [
      "NaN R-squared for subject_id 413. Check data quality and model configuration.\n"
     ]
    },
    {
     "name": "stderr",
     "output_type": "stream",
     "text": [
      "\n",
      "Processing Subject IDs:  92%|███████████████████████████████████████████████████▊    | 464/502 [04:09<00:20,  1.88it/s]\u001b[A"
     ]
    },
    {
     "name": "stdout",
     "output_type": "stream",
     "text": [
      "NaN R-squared for subject_id 440. Check data quality and model configuration.\n"
     ]
    },
    {
     "name": "stderr",
     "output_type": "stream",
     "text": [
      "\n",
      "Processing Subject IDs:  93%|███████████████████████████████████████████████████▊    | 465/502 [04:09<00:19,  1.88it/s]\u001b[A"
     ]
    },
    {
     "name": "stdout",
     "output_type": "stream",
     "text": [
      "NaN R-squared for subject_id 278. Check data quality and model configuration.\n"
     ]
    },
    {
     "name": "stderr",
     "output_type": "stream",
     "text": [
      "\n",
      "Processing Subject IDs:  93%|███████████████████████████████████████████████████▉    | 466/502 [04:10<00:19,  1.85it/s]\u001b[A"
     ]
    },
    {
     "name": "stdout",
     "output_type": "stream",
     "text": [
      "NaN R-squared for subject_id 82. Check data quality and model configuration.\n"
     ]
    },
    {
     "name": "stderr",
     "output_type": "stream",
     "text": [
      "\n",
      "Processing Subject IDs:  93%|████████████████████████████████████████████████████    | 467/502 [04:10<00:18,  1.85it/s]\u001b[A"
     ]
    },
    {
     "name": "stdout",
     "output_type": "stream",
     "text": [
      "NaN R-squared for subject_id 113. Check data quality and model configuration.\n"
     ]
    },
    {
     "name": "stderr",
     "output_type": "stream",
     "text": [
      "\n",
      "Processing Subject IDs:  93%|████████████████████████████████████████████████████▏   | 468/502 [04:11<00:18,  1.87it/s]\u001b[A"
     ]
    },
    {
     "name": "stdout",
     "output_type": "stream",
     "text": [
      "NaN R-squared for subject_id 178. Check data quality and model configuration.\n"
     ]
    },
    {
     "name": "stderr",
     "output_type": "stream",
     "text": [
      "\n",
      "Processing Subject IDs:  93%|████████████████████████████████████████████████████▎   | 469/502 [04:11<00:16,  1.99it/s]\u001b[A"
     ]
    },
    {
     "name": "stdout",
     "output_type": "stream",
     "text": [
      "NaN R-squared for subject_id 361. Check data quality and model configuration.\n"
     ]
    },
    {
     "name": "stderr",
     "output_type": "stream",
     "text": [
      "\n",
      "Processing Subject IDs:  94%|████████████████████████████████████████████████████▍   | 470/502 [04:12<00:15,  2.07it/s]\u001b[A"
     ]
    },
    {
     "name": "stdout",
     "output_type": "stream",
     "text": [
      "NaN R-squared for subject_id 216. Check data quality and model configuration.\n"
     ]
    },
    {
     "name": "stderr",
     "output_type": "stream",
     "text": [
      "\n",
      "Processing Subject IDs:  94%|████████████████████████████████████████████████████▌   | 471/502 [04:12<00:14,  2.11it/s]\u001b[A"
     ]
    },
    {
     "name": "stdout",
     "output_type": "stream",
     "text": [
      "NaN R-squared for subject_id 491. Check data quality and model configuration.\n"
     ]
    },
    {
     "name": "stderr",
     "output_type": "stream",
     "text": [
      "\n",
      "Processing Subject IDs:  94%|████████████████████████████████████████████████████▋   | 472/502 [04:13<00:14,  2.05it/s]\u001b[A"
     ]
    },
    {
     "name": "stdout",
     "output_type": "stream",
     "text": [
      "NaN R-squared for subject_id 317. Check data quality and model configuration.\n"
     ]
    },
    {
     "name": "stderr",
     "output_type": "stream",
     "text": [
      "\n",
      "Processing Subject IDs:  94%|████████████████████████████████████████████████████▊   | 473/502 [04:13<00:14,  2.01it/s]\u001b[A"
     ]
    },
    {
     "name": "stdout",
     "output_type": "stream",
     "text": [
      "NaN R-squared for subject_id 444. Check data quality and model configuration.\n"
     ]
    },
    {
     "name": "stderr",
     "output_type": "stream",
     "text": [
      "\n",
      "Processing Subject IDs:  94%|████████████████████████████████████████████████████▉   | 474/502 [04:14<00:14,  1.95it/s]\u001b[A"
     ]
    },
    {
     "name": "stdout",
     "output_type": "stream",
     "text": [
      "NaN R-squared for subject_id 486. Check data quality and model configuration.\n"
     ]
    },
    {
     "name": "stderr",
     "output_type": "stream",
     "text": [
      "\n",
      "Processing Subject IDs:  95%|████████████████████████████████████████████████████▉   | 475/502 [04:14<00:14,  1.90it/s]\u001b[A"
     ]
    },
    {
     "name": "stdout",
     "output_type": "stream",
     "text": [
      "NaN R-squared for subject_id 386. Check data quality and model configuration.\n"
     ]
    },
    {
     "name": "stderr",
     "output_type": "stream",
     "text": [
      "\n",
      "Processing Subject IDs:  95%|█████████████████████████████████████████████████████   | 476/502 [04:15<00:13,  1.88it/s]\u001b[A"
     ]
    },
    {
     "name": "stdout",
     "output_type": "stream",
     "text": [
      "NaN R-squared for subject_id 436. Check data quality and model configuration.\n"
     ]
    },
    {
     "name": "stderr",
     "output_type": "stream",
     "text": [
      "\n",
      "Processing Subject IDs:  95%|█████████████████████████████████████████████████████▏  | 477/502 [04:15<00:13,  1.85it/s]\u001b[A"
     ]
    },
    {
     "name": "stdout",
     "output_type": "stream",
     "text": [
      "NaN R-squared for subject_id 485. Check data quality and model configuration.\n"
     ]
    },
    {
     "name": "stderr",
     "output_type": "stream",
     "text": [
      "\n",
      "Processing Subject IDs:  95%|█████████████████████████████████████████████████████▎  | 478/502 [04:16<00:12,  1.88it/s]\u001b[A"
     ]
    },
    {
     "name": "stdout",
     "output_type": "stream",
     "text": [
      "NaN R-squared for subject_id 195. Check data quality and model configuration.\n"
     ]
    },
    {
     "name": "stderr",
     "output_type": "stream",
     "text": [
      "\n",
      "Processing Subject IDs:  95%|█████████████████████████████████████████████████████▍  | 479/502 [04:16<00:11,  1.98it/s]\u001b[A"
     ]
    },
    {
     "name": "stdout",
     "output_type": "stream",
     "text": [
      "NaN R-squared for subject_id 480. Check data quality and model configuration.\n"
     ]
    },
    {
     "name": "stderr",
     "output_type": "stream",
     "text": [
      "\n",
      "Processing Subject IDs:  96%|█████████████████████████████████████████████████████▌  | 480/502 [04:17<00:10,  2.06it/s]\u001b[A"
     ]
    },
    {
     "name": "stdout",
     "output_type": "stream",
     "text": [
      "NaN R-squared for subject_id 433. Check data quality and model configuration.\n"
     ]
    },
    {
     "name": "stderr",
     "output_type": "stream",
     "text": [
      "\n",
      "Processing Subject IDs:  96%|█████████████████████████████████████████████████████▋  | 481/502 [04:17<00:10,  2.06it/s]\u001b[A"
     ]
    },
    {
     "name": "stdout",
     "output_type": "stream",
     "text": [
      "NaN R-squared for subject_id 46. Check data quality and model configuration.\n"
     ]
    },
    {
     "name": "stderr",
     "output_type": "stream",
     "text": [
      "\n",
      "Processing Subject IDs:  96%|█████████████████████████████████████████████████████▊  | 482/502 [04:18<00:09,  2.01it/s]\u001b[A"
     ]
    },
    {
     "name": "stdout",
     "output_type": "stream",
     "text": [
      "NaN R-squared for subject_id 31. Check data quality and model configuration.\n"
     ]
    },
    {
     "name": "stderr",
     "output_type": "stream",
     "text": [
      "\n",
      "Processing Subject IDs:  96%|█████████████████████████████████████████████████████▉  | 483/502 [04:18<00:09,  1.93it/s]\u001b[A"
     ]
    },
    {
     "name": "stdout",
     "output_type": "stream",
     "text": [
      "NaN R-squared for subject_id 458. Check data quality and model configuration.\n"
     ]
    },
    {
     "name": "stderr",
     "output_type": "stream",
     "text": [
      "\n",
      "Processing Subject IDs:  96%|█████████████████████████████████████████████████████▉  | 484/502 [04:19<00:09,  1.89it/s]\u001b[A"
     ]
    },
    {
     "name": "stdout",
     "output_type": "stream",
     "text": [
      "NaN R-squared for subject_id 451. Check data quality and model configuration.\n"
     ]
    },
    {
     "name": "stderr",
     "output_type": "stream",
     "text": [
      "\n",
      "Processing Subject IDs:  97%|██████████████████████████████████████████████████████  | 485/502 [04:20<00:09,  1.86it/s]\u001b[A"
     ]
    },
    {
     "name": "stdout",
     "output_type": "stream",
     "text": [
      "NaN R-squared for subject_id 159. Check data quality and model configuration.\n"
     ]
    },
    {
     "name": "stderr",
     "output_type": "stream",
     "text": [
      "\n",
      "Processing Subject IDs:  97%|██████████████████████████████████████████████████████▏ | 486/502 [04:20<00:08,  1.85it/s]\u001b[A"
     ]
    },
    {
     "name": "stdout",
     "output_type": "stream",
     "text": [
      "NaN R-squared for subject_id 55. Check data quality and model configuration.\n"
     ]
    },
    {
     "name": "stderr",
     "output_type": "stream",
     "text": [
      "\n",
      "Processing Subject IDs:  97%|██████████████████████████████████████████████████████▎ | 487/502 [04:21<00:07,  1.92it/s]\u001b[A"
     ]
    },
    {
     "name": "stdout",
     "output_type": "stream",
     "text": [
      "NaN R-squared for subject_id 129. Check data quality and model configuration.\n"
     ]
    },
    {
     "name": "stderr",
     "output_type": "stream",
     "text": [
      "\n",
      "Processing Subject IDs:  97%|██████████████████████████████████████████████████████▍ | 488/502 [04:21<00:07,  1.97it/s]\u001b[A"
     ]
    },
    {
     "name": "stdout",
     "output_type": "stream",
     "text": [
      "NaN R-squared for subject_id 446. Check data quality and model configuration.\n"
     ]
    },
    {
     "name": "stderr",
     "output_type": "stream",
     "text": [
      "\n",
      "Processing Subject IDs:  97%|██████████████████████████████████████████████████████▌ | 489/502 [04:21<00:06,  2.01it/s]\u001b[A"
     ]
    },
    {
     "name": "stdout",
     "output_type": "stream",
     "text": [
      "NaN R-squared for subject_id 57. Check data quality and model configuration.\n"
     ]
    },
    {
     "name": "stderr",
     "output_type": "stream",
     "text": [
      "\n",
      "Processing Subject IDs:  98%|██████████████████████████████████████████████████████▋ | 490/502 [04:22<00:05,  2.00it/s]\u001b[A"
     ]
    },
    {
     "name": "stdout",
     "output_type": "stream",
     "text": [
      "NaN R-squared for subject_id 484. Check data quality and model configuration.\n"
     ]
    },
    {
     "name": "stderr",
     "output_type": "stream",
     "text": [
      "\n",
      "Processing Subject IDs:  98%|██████████████████████████████████████████████████████▊ | 491/502 [04:23<00:05,  1.96it/s]\u001b[A"
     ]
    },
    {
     "name": "stdout",
     "output_type": "stream",
     "text": [
      "NaN R-squared for subject_id 135. Check data quality and model configuration.\n"
     ]
    },
    {
     "name": "stderr",
     "output_type": "stream",
     "text": [
      "\n",
      "Processing Subject IDs:  98%|██████████████████████████████████████████████████████▉ | 492/502 [04:23<00:05,  1.95it/s]\u001b[A"
     ]
    },
    {
     "name": "stdout",
     "output_type": "stream",
     "text": [
      "NaN R-squared for subject_id 177. Check data quality and model configuration.\n"
     ]
    },
    {
     "name": "stderr",
     "output_type": "stream",
     "text": [
      "\n",
      "Processing Subject IDs:  98%|██████████████████████████████████████████████████████▉ | 493/502 [04:24<00:04,  1.95it/s]\u001b[A"
     ]
    },
    {
     "name": "stdout",
     "output_type": "stream",
     "text": [
      "NaN R-squared for subject_id 445. Check data quality and model configuration.\n"
     ]
    },
    {
     "name": "stderr",
     "output_type": "stream",
     "text": [
      "\n",
      "Processing Subject IDs:  98%|███████████████████████████████████████████████████████ | 494/502 [04:24<00:04,  1.95it/s]\u001b[A"
     ]
    },
    {
     "name": "stdout",
     "output_type": "stream",
     "text": [
      "NaN R-squared for subject_id 380. Check data quality and model configuration.\n"
     ]
    },
    {
     "name": "stderr",
     "output_type": "stream",
     "text": [
      "\n",
      "Processing Subject IDs:  99%|███████████████████████████████████████████████████████▏| 495/502 [04:25<00:03,  1.94it/s]\u001b[A"
     ]
    },
    {
     "name": "stdout",
     "output_type": "stream",
     "text": [
      "NaN R-squared for subject_id 112. Check data quality and model configuration.\n"
     ]
    },
    {
     "name": "stderr",
     "output_type": "stream",
     "text": [
      "\n",
      "Processing Subject IDs:  99%|███████████████████████████████████████████████████████▎| 496/502 [04:25<00:03,  1.99it/s]\u001b[A"
     ]
    },
    {
     "name": "stdout",
     "output_type": "stream",
     "text": [
      "NaN R-squared for subject_id 490. Check data quality and model configuration.\n"
     ]
    },
    {
     "name": "stderr",
     "output_type": "stream",
     "text": [
      "\n",
      "Processing Subject IDs:  99%|███████████████████████████████████████████████████████▍| 497/502 [04:26<00:02,  2.03it/s]\u001b[A"
     ]
    },
    {
     "name": "stdout",
     "output_type": "stream",
     "text": [
      "NaN R-squared for subject_id 401. Check data quality and model configuration.\n"
     ]
    },
    {
     "name": "stderr",
     "output_type": "stream",
     "text": [
      "\n",
      "Processing Subject IDs:  99%|███████████████████████████████████████████████████████▌| 498/502 [04:26<00:02,  2.00it/s]\u001b[A"
     ]
    },
    {
     "name": "stdout",
     "output_type": "stream",
     "text": [
      "NaN R-squared for subject_id 468. Check data quality and model configuration.\n"
     ]
    },
    {
     "name": "stderr",
     "output_type": "stream",
     "text": [
      "\n",
      "Processing Subject IDs:  99%|███████████████████████████████████████████████████████▋| 499/502 [04:27<00:01,  1.94it/s]\u001b[A"
     ]
    },
    {
     "name": "stdout",
     "output_type": "stream",
     "text": [
      "NaN R-squared for subject_id 5. Check data quality and model configuration.\n"
     ]
    },
    {
     "name": "stderr",
     "output_type": "stream",
     "text": [
      "\n",
      "Processing Subject IDs: 100%|███████████████████████████████████████████████████████▊| 500/502 [04:27<00:01,  1.99it/s]\u001b[A"
     ]
    },
    {
     "name": "stdout",
     "output_type": "stream",
     "text": [
      "NaN R-squared for subject_id 443. Check data quality and model configuration.\n"
     ]
    },
    {
     "name": "stderr",
     "output_type": "stream",
     "text": [
      "\n",
      "Processing Subject IDs: 100%|███████████████████████████████████████████████████████▉| 501/502 [04:28<00:00,  1.98it/s]\u001b[A"
     ]
    },
    {
     "name": "stdout",
     "output_type": "stream",
     "text": [
      "NaN R-squared for subject_id 294. Check data quality and model configuration.\n"
     ]
    },
    {
     "name": "stderr",
     "output_type": "stream",
     "text": [
      "\n",
      "Processing Subject IDs: 100%|████████████████████████████████████████████████████████| 502/502 [04:28<00:00,  1.94it/s]\u001b[A\n",
      "Overall LOO Repeats: 100%|██████████████████████████████████████████████████████████████| 2/2 [09:22<00:00, 281.27s/it]\u001b[A"
     ]
    },
    {
     "name": "stdout",
     "output_type": "stream",
     "text": [
      "NaN R-squared for subject_id 164. Check data quality and model configuration.\n",
      "8-feature Lasso Mean Score: nan\n"
     ]
    },
    {
     "name": "stderr",
     "output_type": "stream",
     "text": [
      "\n"
     ]
    }
   ],
   "source": [
    "from tqdm import tqdm\n",
    "import numpy as np\n",
    "from sklearn.model_selection import train_test_split, LeaveOneOut, cross_val_score\n",
    "from sklearn.linear_model import LassoCV, Lasso\n",
    "from sklearn.preprocessing import StandardScaler\n",
    "from sklearn.metrics import r2_score\n",
    "\n",
    "def compute_lasso_loo(data, features, target):\n",
    "    subject_ids = data['subject_id_encoded'].unique()\n",
    "    overall_scores = []\n",
    "\n",
    "    for _ in tqdm(range(2), desc=\"Overall LOO Repeats\"):  # tqdm for visual progress on the 10 repetitions\n",
    "        scores = []\n",
    "        for subject_id in tqdm(subject_ids, desc=\"Processing Subject IDs\", leave=False):  # Nested tqdm for subjects\n",
    "            subject_data = data[data['subject_id_encoded'] == subject_id]\n",
    "            X = subject_data[features]\n",
    "            y = subject_data[target]\n",
    "            if X.empty:\n",
    "                print(f\"Warning: No data for subject_id {subject_id}. Skipping.\")\n",
    "                continue\n",
    "            \n",
    "            # Additional diagnostics\n",
    "            if X.isnull().any().any() or y.isnull().any():\n",
    "                print(f\"NaN values found in features or target for subject_id {subject_id}\")\n",
    "                continue\n",
    "            \n",
    "            X_train, X_test, y_train, y_test = train_test_split(X, y, test_size=0.20, random_state=42)\n",
    "            \n",
    "            if len(X_train) < 2:\n",
    "                print(f\"Not enough samples to train for subject_id {subject_id}\")\n",
    "                continue\n",
    "\n",
    "            scaler = StandardScaler()\n",
    "            X_train_scaled = scaler.fit_transform(X_train)\n",
    "            X_test_scaled = scaler.transform(X_test)\n",
    "\n",
    "            lasso_cv = LassoCV(cv=max(2, int(len(X_train) * 0.9)), random_state=42)\n",
    "            lasso_cv.fit(X_train_scaled, y_train)\n",
    "            \n",
    "            if lasso_cv.alpha_ == 0:\n",
    "                print(f\"Alpha value of zero encountered for subject_id {subject_id}. This can lead to a degenerate model.\")\n",
    "\n",
    "            lasso = Lasso(alpha=lasso_cv.alpha_)\n",
    "            lasso.fit(X_train_scaled, y_train)\n",
    "\n",
    "            loo_scores = cross_val_score(lasso, X_test_scaled, y_test, cv=LeaveOneOut(), scoring='r2')\n",
    "            if np.isnan(np.mean(loo_scores)):\n",
    "                print(f\"NaN R-squared for subject_id {subject_id}. Check data quality and model configuration.\")\n",
    "            scores.append(np.mean(loo_scores))\n",
    "        \n",
    "        overall_scores.append(np.mean(scores))\n",
    "    \n",
    "    mean_score = np.mean(overall_scores)\n",
    "    return mean_score\n",
    "\n",
    "# Example usage with diagnostic outputs\n",
    "features_base = ['graph_id', 'time', 'click', 'forecast', 'investment', 'gender_ind', 'employment_ind', 'education_ind', 'income_ind']\n",
    "mean_score_lasso_8 = compute_lasso_loo(data, features_base, 'risk')\n",
    "print(\"8-feature Lasso Mean Score:\", mean_score_lasso_8)\n"
   ]
  },
  {
   "cell_type": "markdown",
   "id": "7dc7ea10-dd6f-4fdc-a0b8-783e82950445",
   "metadata": {},
   "source": [
    "## Lasso"
   ]
  },
  {
   "cell_type": "code",
   "execution_count": 32,
   "id": "128b5b02-3770-4c41-b83f-0e518c8bfe67",
   "metadata": {},
   "outputs": [
    {
     "name": "stdout",
     "output_type": "stream",
     "text": [
      "Mean R-squared for Lasso with 10-Fold CV: 0.1180 ± 0.0092\n"
     ]
    }
   ],
   "source": [
    "def lasso_kfold_cv(data, features, target):\n",
    "    X = data[features]\n",
    "    y = data[target]\n",
    "\n",
    "    # Standardizing the data\n",
    "    scaler = StandardScaler()\n",
    "    X_scaled = scaler.fit_transform(X)\n",
    "\n",
    "    # Setting up 10-fold cross-validation\n",
    "    kf = KFold(n_splits=10, shuffle=True, random_state=42)\n",
    "    \n",
    "    # Using LassoCV to find the best alpha during cross-validation\n",
    "    lasso_cv = LassoCV(alphas=np.logspace(-6, 0, 100), cv=kf, random_state=42)\n",
    "    lasso_cv.fit(X_scaled, y)\n",
    "\n",
    "    # Evaluating the model using cross-validation\n",
    "    cv_scores = cross_val_score(lasso_cv, X_scaled, y, cv=kf, scoring='r2')\n",
    "    mean_r2 = np.mean(cv_scores)\n",
    "    std_r2 = np.std(cv_scores)\n",
    "\n",
    "    return mean_r2, std_r2\n",
    "\n",
    "# Using the model\n",
    "features_base = ['Obj_Std', 'Skewness', 'Kurtosis', 'time', 'click', 'order', 'subject_id_encoded', 'Recency_Factor', 'Rep_Factor', 'Sign_Factor', 'SH_Rep_Factor', 'SH_Sign_Factor', 'SH_Obj_Std', 'SH_Skewness', 'SH_Kurtosis']\n",
    "r2_8_feature_lasso, std_8_feature_lasso = lasso_kfold_cv(data, features_base, 'risk')\n",
    "print(f\"Mean R-squared for Lasso with 10-Fold CV: {r2_8_feature_lasso:.4f} ± {std_8_feature_lasso:.4f}\")"
   ]
  },
  {
   "cell_type": "code",
   "execution_count": 33,
   "id": "00b7b6a4-ecaa-4341-a161-d39bb02ccacd",
   "metadata": {},
   "outputs": [
    {
     "name": "stdout",
     "output_type": "stream",
     "text": [
      "Mean R-squared for Large Lasso with 10-Fold CV: 0.1525 ± 0.0085\n",
      "Mean R-squared for Huge Lasso with 10-Fold CV: 0.1522 ± 0.0083\n"
     ]
    }
   ],
   "source": [
    "# Extracting ret and price features\n",
    "ret_features = [col for col in data.columns if col.startswith('ret_') and 'diff' not in col]\n",
    "price_features = [col for col in data.columns if col.startswith('price_') and 'diff' not in col]\n",
    "\n",
    "# Large Lasso features include base features plus all ret_ and price_ values\n",
    "features_large = features_base + ret_features + price_features\n",
    "\n",
    "# Adding first and second differences for Huge Lasso features\n",
    "ret_diff_features = [col for col in data.columns if 'ret_' in col and 'diff' in col]\n",
    "price_diff_features = [col for col in data.columns if 'price_' in col and 'diff' in col]\n",
    "\n",
    "features_huge = features_large + ret_diff_features + price_diff_features\n",
    "\n",
    "# Calculate R-squared for Large Lasso\n",
    "r2_large_lasso, std_r2_large = lasso_kfold_cv(data, features_large, 'risk')\n",
    "print(f\"Mean R-squared for Large Lasso with 10-Fold CV: {r2_large_lasso:.4f} ± {std_r2_large:.4f}\")\n",
    "\n",
    "# Calculate R-squared for Huge Lasso\n",
    "r2_huge_lasso, std_r2_huge = lasso_kfold_cv(data, features_huge, 'risk')\n",
    "print(f\"Mean R-squared for Huge Lasso with 10-Fold CV: {r2_huge_lasso:.4f} ± {std_r2_huge:.4f}\")"
   ]
  },
  {
   "cell_type": "markdown",
   "id": "d140e52b-5127-4cbf-b4f6-da92307817bc",
   "metadata": {},
   "source": [
    "lasso within subjected_id"
   ]
  },
  {
   "cell_type": "code",
   "execution_count": 34,
   "id": "ec142358-78d7-4de0-b6f9-fa58abf201eb",
   "metadata": {},
   "outputs": [
    {
     "name": "stdout",
     "output_type": "stream",
     "text": [
      "Mean R-squared for Lasso with 10-Fold CV: 0.1155 ± 0.0463\n"
     ]
    }
   ],
   "source": [
    "from sklearn import set_config\n",
    "set_config(enable_metadata_routing=False)  # Explicitly disable metadata routing\n",
    "\n",
    "def lasso_group_kfold_cv(data, features, target):\n",
    "    X = data[features]\n",
    "    y = data[target]\n",
    "    groups = data['subject_id_encoded']  # This assumes subject_id_encoded is a column in the DataFrame\n",
    "\n",
    "    # Setting up 10-fold cross-validation that respects groups\n",
    "    gkf = GroupKFold(n_splits=10)\n",
    "\n",
    "    # Create a pipeline to scale data and apply Lasso\n",
    "    lasso_pipeline = Pipeline([\n",
    "        ('scaler', StandardScaler()),\n",
    "        ('lasso_cv', LassoCV(alphas=np.logspace(-6, 0, 100), max_iter=10000, random_state=42))\n",
    "    ])\n",
    "\n",
    "    # Compute cross-validated R^2 scores\n",
    "    cv_scores = cross_val_score(lasso_pipeline, X, y, groups=groups, cv=gkf, scoring='r2')\n",
    "    mean_r2 = np.mean(cv_scores)\n",
    "    std_r2 = np.std(cv_scores)\n",
    "\n",
    "    return mean_r2, std_r2\n",
    "\n",
    "# Usage example\n",
    "features_base = ['Obj_Std', 'Skewness', 'Kurtosis', 'time', 'click', 'order', 'subject_id_encoded', 'Recency_Factor', 'Rep_Factor', 'Sign_Factor', 'SH_Rep_Factor', 'SH_Sign_Factor', 'SH_Obj_Std', 'SH_Skewness', 'SH_Kurtosis']\n",
    "r2_8_feature_lasso, std_8_feature_lasso = lasso_group_kfold_cv(data, features_base, 'risk')\n",
    "print(f\"Mean R-squared for Lasso with 10-Fold CV: {r2_8_feature_lasso:.4f} ± {std_8_feature_lasso:.4f}\")"
   ]
  },
  {
   "cell_type": "code",
   "execution_count": 35,
   "id": "13964309-b477-44dd-8da1-f718cbb150ca",
   "metadata": {},
   "outputs": [
    {
     "name": "stdout",
     "output_type": "stream",
     "text": [
      "Mean R-squared for Large Lasso with 10-Fold CV: 0.1507 ± 0.0519\n",
      "Mean R-squared for Huge Lasso with 10-Fold CV: 0.1509 ± 0.0522\n"
     ]
    }
   ],
   "source": [
    "# Large Lasso\n",
    "r2_large_lasso, std_r2_large_lasso = lasso_group_kfold_cv(data, features_large, 'risk')\n",
    "print(f\"Mean R-squared for Large Lasso with 10-Fold CV: {r2_large_lasso:.4f} ± {std_r2_large_lasso:.4f}\")\n",
    "\n",
    "# Huge Lasso\n",
    "r2_huge_lasso, std_r2_huge_lasso = lasso_group_kfold_cv(data, features_huge, 'risk')\n",
    "print(f\"Mean R-squared for Huge Lasso with 10-Fold CV: {r2_huge_lasso:.4f} ± {std_r2_huge_lasso:.4f}\")"
   ]
  },
  {
   "cell_type": "markdown",
   "id": "883ce63b-f058-4062-8d5d-68a6e2d6e241",
   "metadata": {},
   "source": [
    "With control of subject_id_encoded FE"
   ]
  },
  {
   "cell_type": "code",
   "execution_count": 36,
   "id": "6fe420b1-7265-4d06-ba27-bbe52395eb29",
   "metadata": {},
   "outputs": [
    {
     "name": "stdout",
     "output_type": "stream",
     "text": [
      "Mean R-squared for Lasso with 10-Fold CV: 0.1180 ± 0.0092\n"
     ]
    }
   ],
   "source": [
    "r2_8_feature_lasso_fe, std_8_feature_lasso = lasso_kfold_cv(data_with_dummies, features_base, 'risk')\n",
    "print(f\"Mean R-squared for Lasso with 10-Fold CV: {r2_8_feature_lasso_fe:.4f} ± {std_8_feature_lasso:.4f}\")"
   ]
  },
  {
   "cell_type": "code",
   "execution_count": 37,
   "id": "f6408a39-9e4b-4768-84fe-0aaccef54c9b",
   "metadata": {},
   "outputs": [
    {
     "name": "stdout",
     "output_type": "stream",
     "text": [
      "Mean R-squared for Large Lasso with 10-Fold CV: 0.1507 ± 0.0519\n",
      "Mean R-squared for Huge Lasso with 10-Fold CV: 0.1509 ± 0.0522\n"
     ]
    }
   ],
   "source": [
    "r2_large_lasso_fe, std_r2_large_lasso = lasso_group_kfold_cv(data_with_dummies, features_large, 'risk')\n",
    "print(f\"Mean R-squared for Large Lasso with 10-Fold CV: {r2_large_lasso_fe:.4f} ± {std_r2_large_lasso:.4f}\")\n",
    "\n",
    "# Huge Lasso\n",
    "r2_huge_lasso_fe, std_r2_huge_lasso = lasso_group_kfold_cv(data_with_dummies, features_huge, 'risk')\n",
    "print(f\"Mean R-squared for Huge Lasso with 10-Fold CV: {r2_huge_lasso_fe:.4f} ± {std_r2_huge_lasso:.4f}\")"
   ]
  },
  {
   "cell_type": "code",
   "execution_count": null,
   "id": "659ed65c-c276-4df4-bd68-2716067f125a",
   "metadata": {},
   "outputs": [],
   "source": []
  },
  {
   "cell_type": "code",
   "execution_count": 54,
   "id": "5769af8d-a682-4163-a663-14b3361e2568",
   "metadata": {},
   "outputs": [
    {
     "data": {
      "text/html": [
       "<div>\n",
       "<style scoped>\n",
       "    .dataframe tbody tr th:only-of-type {\n",
       "        vertical-align: middle;\n",
       "    }\n",
       "\n",
       "    .dataframe tbody tr th {\n",
       "        vertical-align: top;\n",
       "    }\n",
       "\n",
       "    .dataframe thead th {\n",
       "        text-align: right;\n",
       "    }\n",
       "</style>\n",
       "<table border=\"1\" class=\"dataframe\">\n",
       "  <thead>\n",
       "    <tr style=\"text-align: right;\">\n",
       "      <th></th>\n",
       "      <th>Model((Risk))</th>\n",
       "      <th>R-squared (Without Subject ID FE)</th>\n",
       "      <th>R-squared (With Subject ID FE)</th>\n",
       "      <th>R-squared (Demeaned)</th>\n",
       "    </tr>\n",
       "  </thead>\n",
       "  <tbody>\n",
       "    <tr>\n",
       "      <th>0</th>\n",
       "      <td>Baseline Regression</td>\n",
       "      <td>0.033510</td>\n",
       "      <td>0.160245</td>\n",
       "      <td>1.064144e-02</td>\n",
       "    </tr>\n",
       "    <tr>\n",
       "      <th>1</th>\n",
       "      <td>3-feature Regression</td>\n",
       "      <td>0.108736</td>\n",
       "      <td>0.258378</td>\n",
       "      <td>1.762215e-02</td>\n",
       "    </tr>\n",
       "    <tr>\n",
       "      <th>2</th>\n",
       "      <td>8-feature Regression</td>\n",
       "      <td>0.113836</td>\n",
       "      <td>0.262852</td>\n",
       "      <td>1.477908e-02</td>\n",
       "    </tr>\n",
       "    <tr>\n",
       "      <th>3</th>\n",
       "      <td>8-feature Lasso</td>\n",
       "      <td>0.115514</td>\n",
       "      <td>0.117984</td>\n",
       "      <td>1.290238e-02</td>\n",
       "    </tr>\n",
       "    <tr>\n",
       "      <th>4</th>\n",
       "      <td>Large Lasso</td>\n",
       "      <td>0.150726</td>\n",
       "      <td>0.150726</td>\n",
       "      <td>1.285531e-02</td>\n",
       "    </tr>\n",
       "    <tr>\n",
       "      <th>5</th>\n",
       "      <td>Huge Lasso</td>\n",
       "      <td>0.150726</td>\n",
       "      <td>0.150726</td>\n",
       "      <td>1.285531e-02</td>\n",
       "    </tr>\n",
       "    <tr>\n",
       "      <th>6</th>\n",
       "      <td>Graph FE Regression</td>\n",
       "      <td>0.169643</td>\n",
       "      <td>0.310335</td>\n",
       "      <td>-3.257372e+20</td>\n",
       "    </tr>\n",
       "  </tbody>\n",
       "</table>\n",
       "</div>"
      ],
      "text/plain": [
       "          Model((Risk))  R-squared (Without Subject ID FE)  \\\n",
       "0   Baseline Regression                           0.033510   \n",
       "1  3-feature Regression                           0.108736   \n",
       "2  8-feature Regression                           0.113836   \n",
       "3       8-feature Lasso                           0.115514   \n",
       "4           Large Lasso                           0.150726   \n",
       "5            Huge Lasso                           0.150726   \n",
       "6   Graph FE Regression                           0.169643   \n",
       "\n",
       "   R-squared (With Subject ID FE)  R-squared (Demeaned)  \n",
       "0                        0.160245          1.064144e-02  \n",
       "1                        0.258378          1.762215e-02  \n",
       "2                        0.262852          1.477908e-02  \n",
       "3                        0.117984          1.290238e-02  \n",
       "4                        0.150726          1.285531e-02  \n",
       "5                        0.150726          1.285531e-02  \n",
       "6                        0.310335         -3.257372e+20  "
      ]
     },
     "execution_count": 54,
     "metadata": {},
     "output_type": "execute_result"
    }
   ],
   "source": [
    "# Creating the DataFrame\n",
    "dak = {\n",
    "    \"Model((Risk))\": [\n",
    "        \"Baseline Regression\", \"3-feature Regression\", \"8-feature Regression\",\n",
    "        \"8-feature Lasso\", \"Large Lasso\", \"Huge Lasso\", \"Graph FE Regression\"\n",
    "    ],\n",
    "    \"R-squared (Without Subject ID FE)\": [\n",
    "        r2_base, r2_3_feature, r2_8_feature,\n",
    "        r2_8_feature_lasso, r2_large_lasso, r2_large_lasso, r2_graph_id_fe\n",
    "    ],\n",
    "    \"R-squared (With Subject ID FE)\": [\n",
    "        r2_baseline_fe, r2_3_feature_fe, r2_8_feature_fe,\n",
    "        r2_8_feature_lasso_fe, r2_large_lasso_fe, r2_large_lasso_fe, r2_graph_fe\n",
    "    ],\n",
    "    \"R-squared (Demeaned)\": [\n",
    "        r2_base_demeaned, r2_3_feature_demeaned, r2_8_feature_demeaned,\n",
    "        r2_8_feature_lasso_demeaned, r2_large_lasso_demeaned, r2_large_lasso_demeaned, r2_graph_id_fe_demeaned\n",
    "    ]\n",
    "}\n",
    "\n",
    "df = pd.DataFrame(dak)\n",
    "\n",
    "df"
   ]
  },
  {
   "cell_type": "code",
   "execution_count": null,
   "id": "4f7a8c99-2c77-4fdf-9f79-26922004d159",
   "metadata": {},
   "outputs": [],
   "source": []
  },
  {
   "cell_type": "code",
   "execution_count": 40,
   "id": "515c8c27-de0e-4dff-b9c5-225fee0ff7e4",
   "metadata": {},
   "outputs": [],
   "source": [
    "import pandas as pd\n",
    "from sklearn.linear_model import LassoCV\n",
    "from sklearn.preprocessing import StandardScaler\n",
    "from sklearn.model_selection import train_test_split\n",
    "from sklearn.metrics import r2_score\n",
    "\n",
    "\n",
    "# Demean all variables except 'subject_id'\n",
    "grouped = data.groupby('subject_id')\n",
    "data_demeaned = grouped.transform(lambda x: x - x.mean())\n",
    "\n",
    "# 将 'risk' 也进行去均值化\n",
    "#data_demeaned['risk'] = data['risk'] - grouped['risk'].transform('mean')\n"
   ]
  },
  {
   "cell_type": "code",
   "execution_count": 48,
   "id": "f8e868ef-e938-4de6-9f25-1f9dfd13e4b5",
   "metadata": {},
   "outputs": [
    {
     "data": {
      "text/plain": [
       "0.01064144361972097"
      ]
     },
     "execution_count": 48,
     "metadata": {},
     "output_type": "execute_result"
    }
   ],
   "source": [
    "# Define independent variables for the baseline regression\n",
    "X_base = data_demeaned[['Obj_Std', 'Skewness', 'Kurtosis', 'time', 'click', 'order', 'subject_id_encoded']]\n",
    "y = data_demeaned['risk']\n",
    "# Split the data\n",
    "X_train_base, X_test_base, y_train, y_test = train_test_split(X_base, data_demeaned['confidence'], test_size=0.2, random_state=42)\n",
    "\n",
    "# Baseline regression\n",
    "model_base_demeaned = LinearRegression()\n",
    "model_base_demeaned.fit(X_train_base, y_train)\n",
    "y_pred_base_demeaned = model_base_demeaned.predict(X_test_base)\n",
    "r2_base_demeaned = r2_score(y_test, y_pred_base_demeaned)\n",
    "r2_base_demeaned"
   ]
  },
  {
   "cell_type": "code",
   "execution_count": 49,
   "id": "518724d9-d4df-4564-8705-61c892b284e2",
   "metadata": {},
   "outputs": [
    {
     "data": {
      "text/plain": [
       "0.017622149443554003"
      ]
     },
     "execution_count": 49,
     "metadata": {},
     "output_type": "execute_result"
    }
   ],
   "source": [
    "X_3_feature = data_demeaned[['Obj_Std', 'Skewness', 'Kurtosis', 'time', 'click', 'order', 'subject_id_encoded', 'Recency_Factor', 'Rep_Factor', 'Sign_Factor']]\n",
    "X_train_3, X_test_3 = train_test_split(X_3_feature, test_size=0.2, random_state=42)\n",
    "\n",
    "model_3_feature_demeaned = LinearRegression()\n",
    "model_3_feature_demeaned.fit(X_train_3, y_train)\n",
    "y_pred_3_demeaned = model_3_feature_demeaned.predict(X_test_3)\n",
    "r2_3_feature_demeaned = r2_score(y_test, y_pred_3_demeaned)\n",
    "r2_3_feature_demeaned"
   ]
  },
  {
   "cell_type": "code",
   "execution_count": 50,
   "id": "3b22ae0e-b1ed-4dae-bff5-20ac6019b731",
   "metadata": {},
   "outputs": [
    {
     "data": {
      "text/plain": [
       "0.014779082636650509"
      ]
     },
     "execution_count": 50,
     "metadata": {},
     "output_type": "execute_result"
    }
   ],
   "source": [
    "X_8_feature = data_demeaned[['Obj_Std', 'Skewness', 'Kurtosis', 'time', 'click', 'order', 'subject_id_encoded', 'Recency_Factor', 'Rep_Factor', 'Sign_Factor', 'SH_Rep_Factor', 'SH_Sign_Factor', 'SH_Obj_Std', 'SH_Skewness', 'SH_Kurtosis']]\n",
    "X_train_8, X_test_8 = train_test_split(X_8_feature, test_size=0.2, random_state=42)\n",
    "\n",
    "model_8_feature = LinearRegression()\n",
    "model_8_feature.fit(X_train_8, y_train)\n",
    "y_pred_8 = model_8_feature.predict(X_test_8)\n",
    "r2_8_feature_demeaned = r2_score(y_test, y_pred_8)\n",
    "r2_8_feature_demeaned"
   ]
  },
  {
   "cell_type": "code",
   "execution_count": 51,
   "id": "9694ad34-aeee-46f8-9a36-99fde81aed52",
   "metadata": {},
   "outputs": [
    {
     "name": "stdout",
     "output_type": "stream",
     "text": [
      "Mean R-squared for Lasso with 10-Fold CV: 0.0129 ± 0.0059\n"
     ]
    }
   ],
   "source": [
    "r2_8_feature_lasso_demeaned, std_8_feature_lasso_demeaned = lasso_kfold_cv(data_demeaned, features_base, 'confidence')\n",
    "print(f\"Mean R-squared for Lasso with 10-Fold CV: {r2_8_feature_lasso_demeaned:.4f} ± {std_8_feature_lasso_demeaned:.4f}\")"
   ]
  },
  {
   "cell_type": "code",
   "execution_count": 52,
   "id": "b197d705-630d-4994-814f-70efc7676a51",
   "metadata": {},
   "outputs": [
    {
     "name": "stdout",
     "output_type": "stream",
     "text": [
      "Mean R-squared for Large Lasso with 10-Fold CV: 0.0129 ± 0.0081\n",
      "Mean R-squared for Huge Lasso with 10-Fold CV: 0.0118 ± 0.0079\n"
     ]
    }
   ],
   "source": [
    "# Calculate R-squared for Large Lasso\n",
    "r2_large_lasso_demeaned, std_r2_large_demeaned = lasso_kfold_cv(data_demeaned, features_large, 'confidence')\n",
    "print(f\"Mean R-squared for Large Lasso with 10-Fold CV: {r2_large_lasso_demeaned:.4f} ± {std_r2_large_demeaned:.4f}\")\n",
    "\n",
    "# Calculate R-squared for Huge Lasso\n",
    "r2_huge_lasso_demeaned, std_r2_huge_demeaned = lasso_kfold_cv(data_demeaned, features_huge, 'confidence')\n",
    "print(f\"Mean R-squared for Huge Lasso with 10-Fold CV: {r2_huge_lasso_demeaned:.4f} ± {std_r2_huge_demeaned:.4f}\")"
   ]
  },
  {
   "cell_type": "code",
   "execution_count": 53,
   "id": "496d1b24-982a-462f-b513-82c513f09f3f",
   "metadata": {},
   "outputs": [
    {
     "data": {
      "text/plain": [
       "-3.257371509422882e+20"
      ]
     },
     "execution_count": 53,
     "metadata": {},
     "output_type": "execute_result"
    }
   ],
   "source": [
    "# Assuming 'data' is your DataFrame and 'graph_id' is the categorical variable\n",
    "graph_id_dummies = pd.get_dummies(data_demeaned['graph_id'], prefix='graph_id')\n",
    "data_with_fe = pd.concat([data_demeaned, graph_id_dummies], axis=1)\n",
    "\n",
    "# Create a list of features including the dummy variables\n",
    "features = ['time', 'click', 'order', 'subject_id_encoded'] + list(graph_id_dummies.columns)\n",
    "\n",
    "# Select these features for X\n",
    "X_graph_id_fe = data_with_fe[features]\n",
    "\n",
    "# Assuming y_train and y_test are defined or create them if not mentioned\n",
    "X_train_graph_id_fe, X_test_graph_id_fe = train_test_split(X_graph_id_fe, test_size=0.2, random_state=42)\n",
    "#X_train_graph_id_fe, X_test_graph_id_fe, y_train, y_test = train_test_split(X_graph_id_fe, data['confidence'], test_size=0.2, random_state=42)\n",
    "\n",
    "# Fit the baseline regression model\n",
    "model_graph_id_fe = LinearRegression()\n",
    "model_graph_id_fe.fit(X_train_graph_id_fe, y_train)\n",
    "\n",
    "# Predict and calculate the R-squared value\n",
    "y_pred_graph_id_fe = model_graph_id_fe.predict(X_test_graph_id_fe)\n",
    "r2_graph_id_fe_demeaned = r2_score(y_test, y_pred_graph_id_fe)\n",
    "\n",
    "r2_graph_id_fe_demeaned"
   ]
  },
  {
   "cell_type": "code",
   "execution_count": null,
   "id": "659b6527-c09a-4824-bf49-7dff6c6324cf",
   "metadata": {},
   "outputs": [],
   "source": []
  }
 ],
 "metadata": {
  "kernelspec": {
   "display_name": "Python 3 (ipykernel)",
   "language": "python",
   "name": "python3"
  },
  "language_info": {
   "codemirror_mode": {
    "name": "ipython",
    "version": 3
   },
   "file_extension": ".py",
   "mimetype": "text/x-python",
   "name": "python",
   "nbconvert_exporter": "python",
   "pygments_lexer": "ipython3",
   "version": "3.9.12"
  }
 },
 "nbformat": 4,
 "nbformat_minor": 5
}
